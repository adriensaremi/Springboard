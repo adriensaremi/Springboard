{
 "cells": [
  {
   "cell_type": "markdown",
   "metadata": {},
   "source": [
    "### Importing packages/libraries"
   ]
  },
  {
   "cell_type": "code",
   "execution_count": 1,
   "metadata": {
    "init_cell": true
   },
   "outputs": [],
   "source": [
    "import pandas as pd\n",
    "import numpy as np\n",
    "import seaborn as sns\n",
    "import matplotlib.pyplot as plt\n",
    "\n",
    "pd.set_option('display.max_rows', 100)\n",
    "pd.set_option('display.max_columns', 100)"
   ]
  },
  {
   "cell_type": "code",
   "execution_count": 3,
   "metadata": {},
   "outputs": [],
   "source": [
    "import statsmodels.api as sm\n",
    "from statsmodels.formula.api import ols\n",
    "\n",
    "from sklearn import preprocessing\n",
    "\n",
    "from sklearn.metrics import mean_squared_error\n",
    "from sklearn.metrics import classification_report, confusion_matrix\n",
    "from sklearn.metrics import roc_curve, roc_auc_score, log_loss, precision_recall_curve\n",
    "\n",
    "from sklearn.model_selection import train_test_split, cross_val_score, cross_validate, GridSearchCV\n",
    "from sklearn.neighbors import KNeighborsClassifier\n",
    "#from sklearn.svm import SVC\n",
    "from sklearn.linear_model import LinearRegression, Ridge, ElasticNet\n",
    "from sklearn.linear_model import LogisticRegression\n",
    "\n",
    "from sklearn.ensemble import RandomForestClassifier\n",
    "\n",
    "from sklearn.impute import SimpleImputer as Imputer\n",
    "\n",
    "from sklearn.pipeline import Pipeline"
   ]
  },
  {
   "cell_type": "code",
   "execution_count": 36,
   "metadata": {},
   "outputs": [],
   "source": [
    "from urllib.request import urlopen\n",
    "import webbrowser as wb\n",
    "from bs4 import BeautifulSoup\n",
    "from selenium import webdriver"
   ]
  },
  {
   "cell_type": "markdown",
   "metadata": {},
   "source": [
    "User-defined function"
   ]
  },
  {
   "cell_type": "code",
   "execution_count": 4,
   "metadata": {},
   "outputs": [],
   "source": [
    "def dropthenan(table):\n",
    "    cond1 = table[table.cfbconference == 'Other'].index.tolist()\n",
    "    cond2 = table[table.cfbtd.isna()].index.tolist()\n",
    "    cond3 = table[table.combineforty.isna()].index.tolist()\n",
    "#    cond = np.unique(cond1+cond2+cond3)\n",
    "    cond = np.intersect1d(np.intersect1d(cond1,cond2),cond3)\n",
    "    return table.drop(cond, axis = 0).reset_index(drop = True)\n",
    "\n",
    "def confclass(table):\n",
    "    table.loc[table.cfbconference == 'Other','cfbconference'] = np.nan\n",
    "    table.loc[table.cfbclass == 'Non Declared','cfbclass'] = np.nan\n",
    "    table = pd.get_dummies(table, prefix=['cfbconference','cfbclass'])\n",
    "    return table\n",
    "\n",
    "# def splitter(table, col, thresh):\n",
    "#     table['target'] = table[col].apply(lambda x: 1 if x > thresh else 0)\n",
    "#     return table.drop(col, axis = 1)\n",
    "\n",
    "def splitter(arr, thresh):\n",
    "    return arr.apply(lambda x: 1 if x > thresh else 0)\n",
    "\n",
    "def normalizeX(X, cols_list):\n",
    "    x = X[cols_list]\n",
    "    X_others = X.drop(cols_list, axis = 1)\n",
    "    trans = preprocessing.MinMaxScaler()\n",
    "    #trans = preprocessing.StandardScaler()\n",
    "    x_scaled = trans.fit_transform(x)\n",
    "    X_new = pd.DataFrame(x_scaled , columns = X[cols_list].columns.tolist())\n",
    "    return pd.concat([X_new, X_others], axis = 1) #pd.concat([X_new + X_others], axis = 1)"
   ]
  },
  {
   "cell_type": "code",
   "execution_count": 402,
   "metadata": {
    "init_cell": true
   },
   "outputs": [],
   "source": [
    "colsnum = ['cfbgames','cfbreceptions','cfbrecyards','cfbrecyardsperreception','cfbrectd',\n",
    "           'cfbrushattempts','cfbrushyards','cfbrushyardsperattempt','cfbrushtd','cfbscrimmages',\n",
    "           'cfbyards','cfbyardsfromscrimmage','cfbtd','combineht','combinewt','combineforty',\n",
    "           'combinevertical','combinebroadjump','combinecone','combineshuttle']\n",
    "\n",
    "wr = pd.read_csv('data_sets/wr.csv')\n",
    "wr = wr.rename(columns = {'yardsfirst5seasons': 'yffs'})\n",
    "wr = wr.drop('combinebenchreps', axis = 1)"
   ]
  },
  {
   "cell_type": "code",
   "execution_count": 14,
   "metadata": {},
   "outputs": [
    {
     "data": {
      "image/png": "[encoded data removed]",
      "text/plain": [
       "<Figure size 432x288 with 1 Axes>"
      ]
     },
     "metadata": {
      "needs_background": "light"
     },
     "output_type": "display_data"
    }
   ],
   "source": [
    "plt.hist(wr.yffs, bins = 30)\n",
    "plt.xlabel('Yards first 5 seasons')\n",
    "plt.ylabel('Distribution')\n",
    "plt.show()"
   ]
  },
  {
   "cell_type": "markdown",
   "metadata": {},
   "source": [
    "# Introduction\n",
    "\n",
    "This notebook picks up on its previous iteration, and attempts to build a more accurate, predictive model. The target is still **y = yards first 5 seasons (yffs)** and we have a total of **22 features variables X**, 2 of them non numerical. We dropped the combinebenchreps column since it was mostly missing data and has very little importance for WR.\n",
    "\n",
    "Because our data is heavily zero-inflated (as indicated in the plot above), our method shifts away from building a Regressor, to building a Classifier, one that aims to classify players between **flops**, those for which y is below a certain threshold (becaue they have little to no play time in the NFL) and the others, the **successes**. The target is then either $y = 0$ (flops) or $y = 1$ (successes).\n",
    "\n",
    "We discuss the importance of this _threshold_ in the later part of this notebook (Risk-Severity). The notebook is divided as follow:\n",
    "- Part I - Trying multiple classifiers manually having set the threshold at 100 yards.\n",
    "- Part II - Using the classifier, rank the elements of the 2011 draft.\n",
    "- Part III (incomplete for now) - Risk Severity approach: build a classifier and 2 linear regressors for varying threshold"
   ]
  },
  {
   "cell_type": "markdown",
   "metadata": {},
   "source": [
    "# Part I -  Classification at fixed threshold: _thresh_ = 100"
   ]
  },
  {
   "cell_type": "code",
   "execution_count": 369,
   "metadata": {},
   "outputs": [],
   "source": [
    "# Remove entries with both cfb and combine data missing\n",
    "wr1 = dropthenan(wr)\n",
    "\n",
    "# Convert the cfbconference and cfbclass features to numerical data using pandas' get_dummies\n",
    "wr1 = confclass(wr1)"
   ]
  },
  {
   "cell_type": "code",
   "execution_count": 370,
   "metadata": {
    "scrolled": false
   },
   "outputs": [],
   "source": [
    "# Set our featues X and target y\n",
    "X = wr1.drop('yffs', axis = 1)\n",
    "y = wr1.yffs\n",
    "\n",
    "# Impute missing values\n",
    "imp = Imputer(missing_values= np.nan, strategy = 'mean')\n",
    "imp.fit(X)\n",
    "X = imp.transform(X)\n",
    "X = pd.DataFrame(X, columns = wr1.drop('yffs', axis = 1).columns.tolist())\n",
    "\n",
    "# Normalize all feature numerical data (except the numerical columns associated with conference and class)\n",
    "X = normalizeX(X, colsnum)\n",
    "# Define our new target with respect to the threshold\n",
    "y = splitter(y, 100)"
   ]
  },
  {
   "cell_type": "markdown",
   "metadata": {},
   "source": [
    "### KNeighbors Classifier on a random train/test split data"
   ]
  },
  {
   "cell_type": "code",
   "execution_count": 16,
   "metadata": {
    "scrolled": true
   },
   "outputs": [
    {
     "name": "stdout",
     "output_type": "stream",
     "text": [
      "score 0.6160714285714286\n",
      "              precision    recall  f1-score   support\n",
      "\n",
      "           0       0.46      0.32      0.38        41\n",
      "           1       0.67      0.79      0.72        71\n",
      "\n",
      "    accuracy                           0.62       112\n",
      "   macro avg       0.57      0.55      0.55       112\n",
      "weighted avg       0.59      0.62      0.60       112\n",
      "\n"
     ]
    }
   ],
   "source": [
    "knn = KNeighborsClassifier(n_neighbors = 18)\n",
    "X_train, X_test, y_train, y_test = train_test_split(X, y, test_size = .30)\n",
    "\n",
    "knn.fit(X_train,y_train)\n",
    "y_pred = knn.predict(X_test)\n",
    "\n",
    "print('score',knn.score(X_test, y_test))\n",
    "# print(confusion_matrix(y_test, y_pred))\n",
    "print(classification_report(y_test, y_pred))"
   ]
  },
  {
   "cell_type": "markdown",
   "metadata": {},
   "source": [
    "### Logistic Regression on a random train/test split data"
   ]
  },
  {
   "cell_type": "code",
   "execution_count": 17,
   "metadata": {},
   "outputs": [
    {
     "name": "stdout",
     "output_type": "stream",
     "text": [
      "[[12 27]\n",
      " [11 62]]\n",
      "              precision    recall  f1-score   support\n",
      "\n",
      "           0       0.52      0.31      0.39        39\n",
      "           1       0.70      0.85      0.77        73\n",
      "\n",
      "    accuracy                           0.66       112\n",
      "   macro avg       0.61      0.58      0.58       112\n",
      "weighted avg       0.64      0.66      0.63       112\n",
      "\n"
     ]
    }
   ],
   "source": [
    "logreg = LogisticRegression()\n",
    "X_train, X_test, y_train, y_test = train_test_split(X, y, test_size = .30, stratify = y)\n",
    "\n",
    "logreg.fit(X_train,y_train)\n",
    "\n",
    "y_pred = logreg.predict(X_test)\n",
    "print(confusion_matrix(y_test, y_pred))\n",
    "print(classification_report(y_test, y_pred))"
   ]
  },
  {
   "cell_type": "markdown",
   "metadata": {},
   "source": [
    "### ROC Curve (varying threshold p) on a random train/test split data: TPR and FPR"
   ]
  },
  {
   "cell_type": "code",
   "execution_count": 19,
   "metadata": {},
   "outputs": [
    {
     "data": {
      "image/png": "[encoded data removed]",
      "text/plain": [
       "<Figure size 432x288 with 1 Axes>"
      ]
     },
     "metadata": {
      "needs_background": "light"
     },
     "output_type": "display_data"
    },
    {
     "name": "stdout",
     "output_type": "stream",
     "text": [
      "The AUC score is: 0.6949907235621522\n",
      "The Log Loss is: 0.5704160773246153\n"
     ]
    }
   ],
   "source": [
    "logreg = LogisticRegression()\n",
    "X_train, X_test, y_train, y_test = train_test_split(X, y, test_size = .30)\n",
    "\n",
    "logreg.fit(X_train,y_train)\n",
    "\n",
    "y_pred_prob = logreg.predict_proba(X_test)[:,1]\n",
    "\n",
    "fpr, tpr, thresholds = roc_curve(y_test, y_pred_prob)\n",
    "plt.plot([0, 1], [0, 1], 'k--')\n",
    "plt.plot(fpr, tpr)\n",
    "plt.xlabel('False Positive Rate')\n",
    "plt.ylabel('True Positive Rate')\n",
    "plt.title('ROC Curve')\n",
    "plt.show()\n",
    "\n",
    "print('The AUC score is:',roc_auc_score(y_test, y_pred_prob))\n",
    "print('The Log Loss is:',log_loss(y_test, y_pred_prob))"
   ]
  },
  {
   "cell_type": "markdown",
   "metadata": {},
   "source": [
    "For each value predicted, we return the tpr and fpr depending on the threshold. Those are defined in the two cells below."
   ]
  },
  {
   "cell_type": "code",
   "execution_count": 360,
   "metadata": {},
   "outputs": [
    {
     "data": {
      "text/plain": [
       "(0.02531645569620253, 0.030303030303030304, 0.9090571442909853)"
      ]
     },
     "execution_count": 360,
     "metadata": {},
     "output_type": "execute_result"
    }
   ],
   "source": [
    "j = 3 \n",
    "tpr[j], fpr[j], thresholds[j]"
   ]
  },
  {
   "cell_type": "code",
   "execution_count": 359,
   "metadata": {
    "scrolled": false
   },
   "outputs": [
    {
     "data": {
      "text/plain": [
       "(0.02531645569620253, 0.030303030303030304)"
      ]
     },
     "execution_count": 359,
     "metadata": {},
     "output_type": "execute_result"
    }
   ],
   "source": [
    "mat = np.transpose([y_pred_prob,y_pred,y_test])\n",
    "\n",
    "tp = [1 for i in range(len(mat)) if mat[i,0] >= thresholds[j] and mat[i,2] == 1]\n",
    "tn = [1 for i in range(len(mat)) if mat[i,0] < thresholds[j] and mat[i,2] == 0]\n",
    "fp = [1 for i in range(len(mat)) if mat[i,0] >= thresholds[j] and mat[i,2] == 0]\n",
    "fn = [1 for i in range(len(mat)) if mat[i,0] < thresholds[j] and mat[i,2] == 1]\n",
    "\n",
    "len(tp) / (len(tp) + len(fn)), len(fp) / (len(fp) + len(tn))"
   ]
  },
  {
   "cell_type": "markdown",
   "metadata": {},
   "source": [
    "# Part II - Testing on the Class of 2020"
   ]
  },
  {
   "cell_type": "markdown",
   "metadata": {},
   "source": [
    "We import the data for the class of 2020 and label it **X_test**. Everything is done so that the test data is formated identically to the training data. The first 6 columns wr_2020 contain additional draft information. It is very important to keep the row sorting of the test data so that it matches with those 6 columns"
   ]
  },
  {
   "cell_type": "code",
   "execution_count": 554,
   "metadata": {},
   "outputs": [],
   "source": [
    "import Machine_Learning_Model_2_Scraping\n",
    "import importlib\n",
    "importlib.reload(Machine_Learning_Model_2_Scraping)\n",
    "from Machine_Learning_Model_2_Scraping import *\n",
    "\n",
    "# url_wr_draft_2020 = 'https://www.pro-football-reference.com/play-index/draft-finder.cgi?request=1&year_min=2020&year_max=2020&draft_slot_min=1&draft_slot_max=500&pick_type=overall&pos%5B%5D=wr&conference=any&show=all&order_by=default'\n",
    "# table_draft_2020 = main(url_wr_draft_2020)"
   ]
  },
  {
   "cell_type": "code",
   "execution_count": 557,
   "metadata": {},
   "outputs": [],
   "source": [
    "wr_2020 = table_draft_2020.drop(drop_columns, axis = 1)\n",
    "wr_2020 = wr_2020[reorder_columns]\n",
    "wr_2020 = wr_2020.rename(columns=renaming_dict)\n",
    "wr_2020 = correct_switch(wr_2020, [13])\n",
    "wr_2020 = wr_2020.replace('',np.nan)\n",
    "for i in range(9,30):\n",
    "    wr_2020.iloc[:,i] = wr_2020.iloc[:,i].astype(float)\n",
    "    \n",
    "wr_2020.to_csv('data_sets/wr_2020.csv', index=False)"
   ]
  },
  {
   "cell_type": "markdown",
   "metadata": {},
   "source": [
    "Let's capture the testing data **X_test**"
   ]
  },
  {
   "cell_type": "code",
   "execution_count": 558,
   "metadata": {},
   "outputs": [],
   "source": [
    "wr_2020 = pd.read_csv('data_sets/wr_2020.csv')\n",
    "\n",
    "wr_2020 = wr_2020.drop('combinebenchreps', axis = 1)\n",
    "X_test = wr_2020.iloc[:,7:]"
   ]
  },
  {
   "cell_type": "markdown",
   "metadata": {},
   "source": [
    "Let's capture the training data **X_train**"
   ]
  },
  {
   "cell_type": "code",
   "execution_count": 559,
   "metadata": {},
   "outputs": [],
   "source": [
    "wro = dropthenan(wr)\n",
    "X_train = wro.drop('yffs', axis = 1)\n",
    "y_train = wro.yffs"
   ]
  },
  {
   "cell_type": "markdown",
   "metadata": {},
   "source": [
    "Let's split the conference, class label identically for the train and test data by merging the two and then splitting them apart once again."
   ]
  },
  {
   "cell_type": "code",
   "execution_count": 560,
   "metadata": {},
   "outputs": [],
   "source": [
    "X_conc = X_train.append(X_test, ignore_index = True, sort = False)\n",
    "#X_conc.loc[373:].reset_index(drop = True).equals(X_test)\n",
    "\n",
    "X_conc = confclass(X_conc)\n",
    "\n",
    "X_train = X_conc.loc[:372]\n",
    "X_test = X_conc.loc[373:].reset_index(drop = True)"
   ]
  },
  {
   "cell_type": "code",
   "execution_count": 561,
   "metadata": {
    "scrolled": true
   },
   "outputs": [],
   "source": [
    "# Verify that whether we merge the two fraims, the train data \n",
    "# isn't affect, despite for the creation of two conference columns\n",
    "\n",
    "# X_train.shape, X_test.shape, X_conc.shape\n",
    "# X_traino = wro.drop('yffs', axis = 1)\n",
    "# y_traino = wro.yffs\n",
    "# X_traino = confclass(X_traino)\n",
    "# X_trainm = X_train.drop(['cfbconference_American','cfbconference_Pac-12'], axis = 1)\n",
    "# X_trainm.equals(X_traino)\n",
    "\n",
    "# Same thing with the test data\n",
    "\n",
    "# X_testo = wr_2020.iloc[:,7:]\n",
    "# X_test.iloc[:,:20].equals(X_testo.iloc[:,2:22])"
   ]
  },
  {
   "cell_type": "markdown",
   "metadata": {},
   "source": [
    "Format the testing data: impute for missing values and normalize"
   ]
  },
  {
   "cell_type": "code",
   "execution_count": 562,
   "metadata": {},
   "outputs": [],
   "source": [
    "imp = Imputer(missing_values= np.nan, strategy = 'mean')\n",
    "imp.fit(X_test)\n",
    "X_test = imp.transform(X_test)\n",
    "X_test = pd.DataFrame(X_test, columns = X_train.columns.tolist())\n",
    "\n",
    "X_test = normalizeX(X_test, colsnum)"
   ]
  },
  {
   "cell_type": "markdown",
   "metadata": {},
   "source": [
    "Format the training data: impute for missing values and normalize"
   ]
  },
  {
   "cell_type": "code",
   "execution_count": 563,
   "metadata": {},
   "outputs": [],
   "source": [
    "imp = Imputer(missing_values= np.nan, strategy = 'mean')\n",
    "imp.fit(X_train)\n",
    "X_train = imp.transform(X_train)\n",
    "X_train = pd.DataFrame(X_train, columns = X_test.columns.tolist())\n",
    "\n",
    "X_train = normalizeX(X_train, colsnum)\n",
    "y_train = splitter(y_train, 100)"
   ]
  },
  {
   "cell_type": "markdown",
   "metadata": {},
   "source": [
    "### Building the model from 'train' and predict from 'test'"
   ]
  },
  {
   "cell_type": "code",
   "execution_count": 579,
   "metadata": {},
   "outputs": [],
   "source": [
    "logreg = LogisticRegression()\n",
    "logreg.fit(X_train,y_train)\n",
    "\n",
    "y_pred_prob = logreg.predict_proba(X_test)[:,1]\n",
    "\n",
    "wr_2020_pred = wr_2020[['player','nflteam','college','round','pick']]\n",
    "wr_2020_pred = wr_2020_pred.assign(chance_of_success = y_pred_prob)"
   ]
  },
  {
   "cell_type": "code",
   "execution_count": 580,
   "metadata": {},
   "outputs": [
    {
     "data": {
      "text/html": [
       "<div>\n",
       "<style scoped>\n",
       "    .dataframe tbody tr th:only-of-type {\n",
       "        vertical-align: middle;\n",
       "    }\n",
       "\n",
       "    .dataframe tbody tr th {\n",
       "        vertical-align: top;\n",
       "    }\n",
       "\n",
       "    .dataframe thead th {\n",
       "        text-align: right;\n",
       "    }\n",
       "</style>\n",
       "<table border=\"1\" class=\"dataframe\">\n",
       "  <thead>\n",
       "    <tr style=\"text-align: right;\">\n",
       "      <th></th>\n",
       "      <th>player</th>\n",
       "      <th>nflteam</th>\n",
       "      <th>college</th>\n",
       "      <th>round</th>\n",
       "      <th>pick</th>\n",
       "      <th>chance_of_success</th>\n",
       "    </tr>\n",
       "  </thead>\n",
       "  <tbody>\n",
       "    <tr>\n",
       "      <td>0</td>\n",
       "      <td>Henry Ruggs</td>\n",
       "      <td>VEG</td>\n",
       "      <td>Alabama</td>\n",
       "      <td>1</td>\n",
       "      <td>12</td>\n",
       "      <td>0.941627</td>\n",
       "    </tr>\n",
       "    <tr>\n",
       "      <td>1</td>\n",
       "      <td>Jerry Jeudy</td>\n",
       "      <td>DEN</td>\n",
       "      <td>Alabama</td>\n",
       "      <td>1</td>\n",
       "      <td>15</td>\n",
       "      <td>0.876993</td>\n",
       "    </tr>\n",
       "    <tr>\n",
       "      <td>2</td>\n",
       "      <td>CeeDee Lamb</td>\n",
       "      <td>DAL</td>\n",
       "      <td>Oklahoma</td>\n",
       "      <td>1</td>\n",
       "      <td>17</td>\n",
       "      <td>0.902489</td>\n",
       "    </tr>\n",
       "    <tr>\n",
       "      <td>3</td>\n",
       "      <td>Jalen Reagor</td>\n",
       "      <td>PHI</td>\n",
       "      <td>TCU</td>\n",
       "      <td>1</td>\n",
       "      <td>21</td>\n",
       "      <td>0.887495</td>\n",
       "    </tr>\n",
       "    <tr>\n",
       "      <td>4</td>\n",
       "      <td>Justin Jefferson</td>\n",
       "      <td>MIN</td>\n",
       "      <td>LSU</td>\n",
       "      <td>1</td>\n",
       "      <td>22</td>\n",
       "      <td>0.902911</td>\n",
       "    </tr>\n",
       "    <tr>\n",
       "      <td>5</td>\n",
       "      <td>Brandon Aiyuk</td>\n",
       "      <td>SFO</td>\n",
       "      <td>Arizona St.</td>\n",
       "      <td>1</td>\n",
       "      <td>25</td>\n",
       "      <td>0.534193</td>\n",
       "    </tr>\n",
       "    <tr>\n",
       "      <td>6</td>\n",
       "      <td>Tee Higgins</td>\n",
       "      <td>CIN</td>\n",
       "      <td>Clemson</td>\n",
       "      <td>2</td>\n",
       "      <td>33</td>\n",
       "      <td>0.960224</td>\n",
       "    </tr>\n",
       "    <tr>\n",
       "      <td>7</td>\n",
       "      <td>Michael Pittman</td>\n",
       "      <td>IND</td>\n",
       "      <td>USC</td>\n",
       "      <td>2</td>\n",
       "      <td>34</td>\n",
       "      <td>0.746665</td>\n",
       "    </tr>\n",
       "    <tr>\n",
       "      <td>8</td>\n",
       "      <td>Laviska Shenault</td>\n",
       "      <td>JAX</td>\n",
       "      <td>Colorado</td>\n",
       "      <td>2</td>\n",
       "      <td>42</td>\n",
       "      <td>0.746760</td>\n",
       "    </tr>\n",
       "    <tr>\n",
       "      <td>9</td>\n",
       "      <td>KJ Hamler</td>\n",
       "      <td>DEN</td>\n",
       "      <td>Penn St.</td>\n",
       "      <td>2</td>\n",
       "      <td>46</td>\n",
       "      <td>0.638380</td>\n",
       "    </tr>\n",
       "    <tr>\n",
       "      <td>10</td>\n",
       "      <td>Chase Claypool</td>\n",
       "      <td>PIT</td>\n",
       "      <td>Notre Dame</td>\n",
       "      <td>2</td>\n",
       "      <td>49</td>\n",
       "      <td>0.884979</td>\n",
       "    </tr>\n",
       "    <tr>\n",
       "      <td>11</td>\n",
       "      <td>Van Jefferson</td>\n",
       "      <td>LAR</td>\n",
       "      <td>Mississippi</td>\n",
       "      <td>2</td>\n",
       "      <td>57</td>\n",
       "      <td>0.433477</td>\n",
       "    </tr>\n",
       "    <tr>\n",
       "      <td>12</td>\n",
       "      <td>Denzel Mims</td>\n",
       "      <td>NYJ</td>\n",
       "      <td>Baylor</td>\n",
       "      <td>2</td>\n",
       "      <td>59</td>\n",
       "      <td>0.846732</td>\n",
       "    </tr>\n",
       "    <tr>\n",
       "      <td>13</td>\n",
       "      <td>Lynn Bowden</td>\n",
       "      <td>VEG</td>\n",
       "      <td>Kentucky</td>\n",
       "      <td>3</td>\n",
       "      <td>80</td>\n",
       "      <td>0.919781</td>\n",
       "    </tr>\n",
       "    <tr>\n",
       "      <td>14</td>\n",
       "      <td>Bryan Edwards</td>\n",
       "      <td>VEG</td>\n",
       "      <td>South Carolina</td>\n",
       "      <td>3</td>\n",
       "      <td>81</td>\n",
       "      <td>0.801736</td>\n",
       "    </tr>\n",
       "    <tr>\n",
       "      <td>15</td>\n",
       "      <td>Devin Duvernay</td>\n",
       "      <td>BAL</td>\n",
       "      <td>Texas</td>\n",
       "      <td>3</td>\n",
       "      <td>92</td>\n",
       "      <td>0.524089</td>\n",
       "    </tr>\n",
       "    <tr>\n",
       "      <td>16</td>\n",
       "      <td>Gabriel Davis</td>\n",
       "      <td>BUF</td>\n",
       "      <td>Central Florida</td>\n",
       "      <td>4</td>\n",
       "      <td>128</td>\n",
       "      <td>0.825596</td>\n",
       "    </tr>\n",
       "    <tr>\n",
       "      <td>17</td>\n",
       "      <td>Antonio Gandy-Golden</td>\n",
       "      <td>WAS</td>\n",
       "      <td>Liberty</td>\n",
       "      <td>4</td>\n",
       "      <td>142</td>\n",
       "      <td>0.711758</td>\n",
       "    </tr>\n",
       "    <tr>\n",
       "      <td>18</td>\n",
       "      <td>Joe Reed</td>\n",
       "      <td>LAC</td>\n",
       "      <td>Virginia</td>\n",
       "      <td>5</td>\n",
       "      <td>151</td>\n",
       "      <td>0.693600</td>\n",
       "    </tr>\n",
       "    <tr>\n",
       "      <td>19</td>\n",
       "      <td>Tyler Johnson</td>\n",
       "      <td>TAM</td>\n",
       "      <td>Minnesota</td>\n",
       "      <td>5</td>\n",
       "      <td>161</td>\n",
       "      <td>0.882362</td>\n",
       "    </tr>\n",
       "    <tr>\n",
       "      <td>20</td>\n",
       "      <td>Collin Johnson</td>\n",
       "      <td>JAX</td>\n",
       "      <td>Texas</td>\n",
       "      <td>5</td>\n",
       "      <td>165</td>\n",
       "      <td>0.593411</td>\n",
       "    </tr>\n",
       "    <tr>\n",
       "      <td>21</td>\n",
       "      <td>Quintez Cephus</td>\n",
       "      <td>DET</td>\n",
       "      <td>Wisconsin</td>\n",
       "      <td>5</td>\n",
       "      <td>166</td>\n",
       "      <td>0.514126</td>\n",
       "    </tr>\n",
       "    <tr>\n",
       "      <td>22</td>\n",
       "      <td>John Hightower</td>\n",
       "      <td>PHI</td>\n",
       "      <td>Boise St.</td>\n",
       "      <td>5</td>\n",
       "      <td>168</td>\n",
       "      <td>0.404419</td>\n",
       "    </tr>\n",
       "    <tr>\n",
       "      <td>23</td>\n",
       "      <td>Isaiah Coulter</td>\n",
       "      <td>HOU</td>\n",
       "      <td>Rhode Island</td>\n",
       "      <td>5</td>\n",
       "      <td>171</td>\n",
       "      <td>0.537312</td>\n",
       "    </tr>\n",
       "    <tr>\n",
       "      <td>24</td>\n",
       "      <td>Darnell Mooney</td>\n",
       "      <td>CHI</td>\n",
       "      <td>Tulane</td>\n",
       "      <td>5</td>\n",
       "      <td>173</td>\n",
       "      <td>0.555140</td>\n",
       "    </tr>\n",
       "    <tr>\n",
       "      <td>25</td>\n",
       "      <td>K.J. Osborn</td>\n",
       "      <td>MIN</td>\n",
       "      <td>Miami (FL)</td>\n",
       "      <td>5</td>\n",
       "      <td>176</td>\n",
       "      <td>0.260275</td>\n",
       "    </tr>\n",
       "    <tr>\n",
       "      <td>26</td>\n",
       "      <td>Donovan Peoples-Jones</td>\n",
       "      <td>CLE</td>\n",
       "      <td>Michigan</td>\n",
       "      <td>6</td>\n",
       "      <td>187</td>\n",
       "      <td>0.875465</td>\n",
       "    </tr>\n",
       "    <tr>\n",
       "      <td>27</td>\n",
       "      <td>Quez Watkins</td>\n",
       "      <td>PHI</td>\n",
       "      <td>Southern Miss</td>\n",
       "      <td>6</td>\n",
       "      <td>200</td>\n",
       "      <td>0.754533</td>\n",
       "    </tr>\n",
       "    <tr>\n",
       "      <td>28</td>\n",
       "      <td>James Proche</td>\n",
       "      <td>BAL</td>\n",
       "      <td>SMU</td>\n",
       "      <td>6</td>\n",
       "      <td>201</td>\n",
       "      <td>0.854756</td>\n",
       "    </tr>\n",
       "    <tr>\n",
       "      <td>29</td>\n",
       "      <td>Isaiah Hodgins</td>\n",
       "      <td>BUF</td>\n",
       "      <td>Oregon St.</td>\n",
       "      <td>6</td>\n",
       "      <td>207</td>\n",
       "      <td>0.818977</td>\n",
       "    </tr>\n",
       "    <tr>\n",
       "      <td>30</td>\n",
       "      <td>Dezmon Patmon</td>\n",
       "      <td>IND</td>\n",
       "      <td>Washington St.</td>\n",
       "      <td>6</td>\n",
       "      <td>212</td>\n",
       "      <td>0.514805</td>\n",
       "    </tr>\n",
       "    <tr>\n",
       "      <td>31</td>\n",
       "      <td>Freddie Swain</td>\n",
       "      <td>SEA</td>\n",
       "      <td>Florida</td>\n",
       "      <td>6</td>\n",
       "      <td>214</td>\n",
       "      <td>0.480258</td>\n",
       "    </tr>\n",
       "    <tr>\n",
       "      <td>32</td>\n",
       "      <td>Jauan Jennings</td>\n",
       "      <td>SFO</td>\n",
       "      <td>Tennessee</td>\n",
       "      <td>7</td>\n",
       "      <td>217</td>\n",
       "      <td>0.394587</td>\n",
       "    </tr>\n",
       "    <tr>\n",
       "      <td>33</td>\n",
       "      <td>K.J. Hill</td>\n",
       "      <td>LAC</td>\n",
       "      <td>Ohio St.</td>\n",
       "      <td>7</td>\n",
       "      <td>220</td>\n",
       "      <td>0.375493</td>\n",
       "    </tr>\n",
       "    <tr>\n",
       "      <td>34</td>\n",
       "      <td>Tyrie Cleveland</td>\n",
       "      <td>DEN</td>\n",
       "      <td>Florida</td>\n",
       "      <td>7</td>\n",
       "      <td>252</td>\n",
       "      <td>0.551255</td>\n",
       "    </tr>\n",
       "  </tbody>\n",
       "</table>\n",
       "</div>"
      ],
      "text/plain": [
       "                   player nflteam          college  round  pick  \\\n",
       "0             Henry Ruggs     VEG          Alabama      1    12   \n",
       "1             Jerry Jeudy     DEN          Alabama      1    15   \n",
       "2             CeeDee Lamb     DAL         Oklahoma      1    17   \n",
       "3            Jalen Reagor     PHI              TCU      1    21   \n",
       "4        Justin Jefferson     MIN              LSU      1    22   \n",
       "5           Brandon Aiyuk     SFO      Arizona St.      1    25   \n",
       "6             Tee Higgins     CIN          Clemson      2    33   \n",
       "7         Michael Pittman     IND              USC      2    34   \n",
       "8        Laviska Shenault     JAX         Colorado      2    42   \n",
       "9               KJ Hamler     DEN         Penn St.      2    46   \n",
       "10         Chase Claypool     PIT       Notre Dame      2    49   \n",
       "11          Van Jefferson     LAR      Mississippi      2    57   \n",
       "12            Denzel Mims     NYJ           Baylor      2    59   \n",
       "13            Lynn Bowden     VEG         Kentucky      3    80   \n",
       "14          Bryan Edwards     VEG   South Carolina      3    81   \n",
       "15         Devin Duvernay     BAL            Texas      3    92   \n",
       "16          Gabriel Davis     BUF  Central Florida      4   128   \n",
       "17   Antonio Gandy-Golden     WAS          Liberty      4   142   \n",
       "18               Joe Reed     LAC         Virginia      5   151   \n",
       "19          Tyler Johnson     TAM        Minnesota      5   161   \n",
       "20         Collin Johnson     JAX            Texas      5   165   \n",
       "21         Quintez Cephus     DET        Wisconsin      5   166   \n",
       "22         John Hightower     PHI        Boise St.      5   168   \n",
       "23         Isaiah Coulter     HOU     Rhode Island      5   171   \n",
       "24         Darnell Mooney     CHI           Tulane      5   173   \n",
       "25            K.J. Osborn     MIN       Miami (FL)      5   176   \n",
       "26  Donovan Peoples-Jones     CLE         Michigan      6   187   \n",
       "27           Quez Watkins     PHI    Southern Miss      6   200   \n",
       "28           James Proche     BAL              SMU      6   201   \n",
       "29         Isaiah Hodgins     BUF       Oregon St.      6   207   \n",
       "30          Dezmon Patmon     IND   Washington St.      6   212   \n",
       "31          Freddie Swain     SEA          Florida      6   214   \n",
       "32         Jauan Jennings     SFO        Tennessee      7   217   \n",
       "33              K.J. Hill     LAC         Ohio St.      7   220   \n",
       "34        Tyrie Cleveland     DEN          Florida      7   252   \n",
       "\n",
       "    chance_of_success  \n",
       "0            0.941627  \n",
       "1            0.876993  \n",
       "2            0.902489  \n",
       "3            0.887495  \n",
       "4            0.902911  \n",
       "5            0.534193  \n",
       "6            0.960224  \n",
       "7            0.746665  \n",
       "8            0.746760  \n",
       "9            0.638380  \n",
       "10           0.884979  \n",
       "11           0.433477  \n",
       "12           0.846732  \n",
       "13           0.919781  \n",
       "14           0.801736  \n",
       "15           0.524089  \n",
       "16           0.825596  \n",
       "17           0.711758  \n",
       "18           0.693600  \n",
       "19           0.882362  \n",
       "20           0.593411  \n",
       "21           0.514126  \n",
       "22           0.404419  \n",
       "23           0.537312  \n",
       "24           0.555140  \n",
       "25           0.260275  \n",
       "26           0.875465  \n",
       "27           0.754533  \n",
       "28           0.854756  \n",
       "29           0.818977  \n",
       "30           0.514805  \n",
       "31           0.480258  \n",
       "32           0.394587  \n",
       "33           0.375493  \n",
       "34           0.551255  "
      ]
     },
     "execution_count": 580,
     "metadata": {},
     "output_type": "execute_result"
    }
   ],
   "source": [
    "wr_2020_pred"
   ]
  },
  {
   "cell_type": "markdown",
   "metadata": {},
   "source": [
    "# Part III - Risk-Severity Approach\n",
    "\n",
    "Our original plan was to follow a \" _risk-severity strategy_ \": because our data is heavily zero-inflated, we would build a Regressor on the successes data only OR build two seperate Regressors, one for the flops and one for the successes. The building of the model would consist of:\n",
    "- setting a threshold value called: thresh\n",
    "- splitting the data between train/split\n",
    "- building the classifier with our train data\n",
    "- building a regressor (or two regressors) using all the successes (and the flops) from the train data \n",
    "\n",
    "Our predictive analysis would then include:\n",
    "- applying the classifier on a row of the split data\n",
    "- apply the regressor depending on the predicted outcome\n",
    "\n",
    "The main issue with the past classifier is that the performance of the model is based on the accuracy of prediction of the y = 1 target. But our goal is to have the classifier detect as many as possible as flops, i.e., to remove as many flops as possible from our regressor. To that end, we re-define temporarly what the target value means:\n",
    "- y_new = 1 -> flop\n",
    "- y_new = 0 -> success\n",
    " \n",
    "Similarly to the ROC curve of earlier, we now perform a Recall vs Precision plot. Why focus on Recall rather than Accuracy? Because we want our model to produce as least as possible as false negatives, those that are flops but that the model fails to capture and consider as successes."
   ]
  },
  {
   "cell_type": "code",
   "execution_count": 35,
   "metadata": {},
   "outputs": [],
   "source": [
    "# Let's start by setting the threshold to 100\n",
    "\n",
    "wr2 = dropthenan(wr)\n",
    "wr2 = confclass(wr2)\n",
    "X = wr2.drop('yffs', axis = 1)\n",
    "y = wr2.yffs\n",
    "\n",
    "\n",
    "imp = Imputer(missing_values= np.nan, strategy = 'mean')\n",
    "imp.fit(X)\n",
    "X = imp.transform(X)\n",
    "X = pd.DataFrame(X, columns = wr1.drop('yffs', axis = 1).columns.tolist())\n",
    "\n",
    "X = normalizeX(X, colsnum)\n",
    "y = splitter(y, 100)"
   ]
  },
  {
   "cell_type": "markdown",
   "metadata": {},
   "source": [
    "### Precision Recall Curve (varying threshold p) on a random train/test split data: Recall vs Precision"
   ]
  },
  {
   "cell_type": "code",
   "execution_count": 33,
   "metadata": {
    "scrolled": true
   },
   "outputs": [
    {
     "data": {
      "image/png": "[encoded data removed]",
      "text/plain": [
       "<Figure size 432x288 with 1 Axes>"
      ]
     },
     "metadata": {
      "needs_background": "light"
     },
     "output_type": "display_data"
    }
   ],
   "source": [
    "y_new = [(lambda u: 0 if u > 0 else 1)(u) for u in y]\n",
    "\n",
    "logreg = LogisticRegression()\n",
    "X_train, X_test, y_train, y_test = train_test_split(X, y_new, test_size = .30, random_state = 42)\n",
    "\n",
    "logreg.fit(X_train,y_train)\n",
    "y_pred_prob = logreg.predict_proba(X_test)[:,1]\n",
    "\n",
    "precision, recall, thresholds = precision_recall_curve(y_test, y_pred_prob)\n",
    "plt.xlim(0, 1)\n",
    "plt.ylim(0, 1)\n",
    "plt.plot(precision, recall)\n",
    "plt.xlabel('Precision')\n",
    "plt.ylabel('Recall')\n",
    "plt.title('Precision Recall Curve')\n",
    "plt.show()"
   ]
  },
  {
   "cell_type": "markdown",
   "metadata": {},
   "source": [
    "### Using a Pipeline for Hyperparameter Tuning\n",
    "\n",
    "Let's now use \"the big guns\", precisely a pipeline, which will allow us to pick the best fitting model with respect to the recall between the following models:\n",
    "- a Logisitic Regressor\n",
    "- a K-Neighbors Classifier\n",
    "- a Random Forest Classifier"
   ]
  },
  {
   "cell_type": "code",
   "execution_count": 458,
   "metadata": {},
   "outputs": [],
   "source": [
    "y_new = [(lambda u: 0 if u > 0 else 1)(u) for u in y]\n",
    "\n",
    "pipeline = Pipeline([ ('classifier' , RandomForestClassifier())\n",
    "                    ])\n",
    "\n",
    "param_grid = [\n",
    "    {'classifier': [LogisticRegression()],\n",
    "     'classifier__penalty' : ['l1', 'l2'],\n",
    "    'classifier__C' : np.logspace(-5, 8, 15),\n",
    "    'classifier__solver' : ['liblinear']},\n",
    "    {'classifier': [KNeighborsClassifier()],\n",
    "     'classifier__n_neighbors': np.arange(1,50)},\n",
    "    {'classifier' : [RandomForestClassifier()],\n",
    "    'classifier__n_estimators' : list(range(10,101,10)),\n",
    "    'classifier__max_features' : list(range(6,32,5))}\n",
    "    ]\n",
    "\n",
    "# param_grid =  {'classifier' : [RandomForestClassifier()],\n",
    "#     'classifier__class_weight': ['balanced'],\n",
    "#     'classifier__n_estimators' : list(range(10,101,10)),\n",
    "#     'classifier__max_features' : list(range(6,32,5))}\n",
    "\n",
    "clf = GridSearchCV(pipeline, param_grid = param_grid, scoring = 'recall', cv = 5)#, verbose=True, n_jobs=-1)\n",
    "\n",
    "best_clf = clf.fit(X, y_new)"
   ]
  },
  {
   "cell_type": "code",
   "execution_count": 459,
   "metadata": {},
   "outputs": [
    {
     "name": "stdout",
     "output_type": "stream",
     "text": [
      "Best params {'classifier': KNeighborsClassifier(algorithm='auto', leaf_size=30, metric='minkowski',\n",
      "                     metric_params=None, n_jobs=None, n_neighbors=1, p=2,\n",
      "                     weights='uniform'), 'classifier__n_neighbors': 1}\n",
      "Best score 0.439047619047619\n"
     ]
    }
   ],
   "source": [
    "#print(best_clf)\n",
    "print(\"Best params\", best_clf.best_params_)\n",
    "print(\"Best score\", best_clf.best_score_)\n",
    "#for param_name in sorted(param_grid[1].keys()):\n",
    "#    print(\"%s: %s\" %(param_name, best_clf.best_params_[param_name]))"
   ]
  },
  {
   "cell_type": "markdown",
   "metadata": {},
   "source": [
    "### Testing the best Classifier from the Pipeline on a train-test split"
   ]
  },
  {
   "cell_type": "code",
   "execution_count": 460,
   "metadata": {},
   "outputs": [],
   "source": [
    "#clf = RandomForestClassifier( max_features= 6, n_estimators= 100, class_weight= 'balanced', random_state= 32)\n",
    "#clf = LogisticRegression(C = 1e-05, penalty= 'l2', solver ='liblinear')\n",
    "clf = KNeighborsClassifier(n_neighbors=1)"
   ]
  },
  {
   "cell_type": "code",
   "execution_count": 468,
   "metadata": {},
   "outputs": [
    {
     "name": "stdout",
     "output_type": "stream",
     "text": [
      "[[14 18]\n",
      " [25 55]]\n",
      "              precision    recall  f1-score   support\n",
      "\n",
      "           0       0.36      0.44      0.39        32\n",
      "           1       0.75      0.69      0.72        80\n",
      "\n",
      "    accuracy                           0.62       112\n",
      "   macro avg       0.56      0.56      0.56       112\n",
      "weighted avg       0.64      0.62      0.63       112\n",
      "\n",
      "1    80\n",
      "0    32\n",
      "Name: yffs, dtype: int64 \n",
      " 1    73\n",
      "0    39\n",
      "Name: 0, dtype: int64\n"
     ]
    }
   ],
   "source": [
    "X_train, X_test, y_train, y_test = train_test_split(X, y, test_size = .30)\n",
    "\n",
    "clf.fit(X_train, y_train)\n",
    "y_pred = clf.predict(X_test)\n",
    "print(confusion_matrix(y_test, y_pred))\n",
    "print(classification_report(y_test, y_pred))\n",
    "\n",
    "print(y_test.value_counts(),'\\n', pd.DataFrame(y_pred)[0].value_counts())"
   ]
  },
  {
   "cell_type": "code",
   "execution_count": 34,
   "metadata": {},
   "outputs": [],
   "source": [
    "# GridSearchCV using Logistic Regressor (C - value) and Penalty\n",
    "\n",
    "# param_grid = {'C': np.logspace(-5, 8, 15),'penalty': ['l1', 'l2']}\n",
    "# logreg = LogisticRegression()\n",
    "# logreg_cv = GridSearchCV(logreg, param_grid, cv=5, verbose=0)\n",
    "# logreg_cv.fit(X, y)\n",
    "# print(\"Tuned Logistic Regression Parameters: {}\".format(logreg_cv.best_params_)) \n",
    "# print(\"Best score is {}\".format(logreg_cv.best_score_))\n",
    "# print('Best Penalty:', best_model.best_estimator_.get_params()['penalty'])\n",
    "# print('Best C:', best_model.best_estimator_.get_params()['C'])\n",
    "\n",
    "# GridSearchCV using KNeighbors (knn)\n",
    "\n",
    "# param_grid = {'n_neighbors':np.arange(1, 50)}\n",
    "# knn = KNeighborsClassifier()\n",
    "# knn_cv = GridSearchCV(knn, param_grid, cv = 10)\n",
    "# knn_cv.fit(X, y)\n",
    "# print(knn_cv.best_params_)\n",
    "# print(knn_cv.best_score_)\n",
    "\n",
    "\n",
    "# GridSearchCV using KNeighbors (knn) but for VARYING threshold\n",
    "\n",
    "# param_grid = {'n_neighbors':np.arange(1,30)}\n",
    "# knn = KNeighborsClassifier()\n",
    "# knn_cv = GridSearchCV(knn, param_grid, cv = 10)\n",
    "\n",
    "# bp_list=[]\n",
    "# bs_list=[]\n",
    "# for thresh in np.arange(1,100,5):\n",
    "#     y = wr2.yffs\n",
    "#     y = splitter(y, thresh)\n",
    "#     knn_cv.fit(X, y)\n",
    "#     bp_list.append(knn_cv.best_params_)\n",
    "#     bs_list.append(knn_cv.best_score_)"
   ]
  },
  {
   "cell_type": "markdown",
   "metadata": {},
   "source": [
    "## Building the two Regressors\n",
    "\n",
    "The idea now is to build for each threshold two Ridge regressors, one for the flops, one for the successes."
   ]
  },
  {
   "cell_type": "code",
   "execution_count": 496,
   "metadata": {},
   "outputs": [],
   "source": [
    "param_grid = {'alpha': np.logspace(-4, 0, 50)}\n",
    "ridge = Ridge(normalize = True)\n",
    "\n",
    "def ridgefit(wrtf, threshf, option):\n",
    "    if option == 'low':\n",
    "        wrtf = wrtf[wrtf.yffs<threshf]\n",
    "    elif option == 'high':\n",
    "        wrtf = wrtf[wrtf.yffs>threshf]\n",
    "    \n",
    "    X = wrtf.drop('yffs', axis = 1)\n",
    "    y = wrtf.yffs\n",
    "    \n",
    "    imp = Imputer(missing_values= np.nan, strategy = 'mean')\n",
    "    imp.fit(X)\n",
    "    X = imp.transform(X)\n",
    "    X = pd.DataFrame(X, columns = wrtf.drop('yffs', axis = 1).columns.tolist())\n",
    "    X = normalizeX(X, colsnum)\n",
    "\n",
    "    reg_cv = GridSearchCV(ridge, param_grid, cv=10, scoring= 'neg_root_mean_squared_error')\n",
    "    reg_cv = GridSearchCV(ridge, param_grid, cv=10)\n",
    "    reg_cv.fit(X, y)\n",
    "    \n",
    "    return reg_cv.best_params_, reg_cv.best_score_"
   ]
  },
  {
   "cell_type": "markdown",
   "metadata": {},
   "source": [
    "For thresholds varying between 1 and 200, we perform a GridSearch Cross Validation over 10 folds on the ridge regressor, which aims to return the best score of the predictive model and the best alpha parameter each time. The reason why we aim for 10 folds is because we want eventually test our model against a unique year in the draft, which we represent 10% of our data.\n",
    "\n",
    "We store the results for flop-data and success-data in two lists, which we display below"
   ]
  },
  {
   "cell_type": "code",
   "execution_count": 503,
   "metadata": {},
   "outputs": [],
   "source": [
    "wrt = dropthenan(wr)\n",
    "wrt = confclass(wrt)\n",
    "low_list = []\n",
    "high_list = []\n",
    "thresh_space = np.arange(1, 200, 10) \n",
    "\n",
    "for thresh in thresh_space:\n",
    "    low_list.append(ridgefit(wrt, thresh, 'low'))\n",
    "    high_list.append(ridgefit(wrt, thresh, 'high'))"
   ]
  },
  {
   "cell_type": "code",
   "execution_count": 526,
   "metadata": {},
   "outputs": [
    {
     "data": {
      "text/html": [
       "<div>\n",
       "<style scoped>\n",
       "    .dataframe tbody tr th:only-of-type {\n",
       "        vertical-align: middle;\n",
       "    }\n",
       "\n",
       "    .dataframe tbody tr th {\n",
       "        vertical-align: top;\n",
       "    }\n",
       "\n",
       "    .dataframe thead th {\n",
       "        text-align: right;\n",
       "    }\n",
       "</style>\n",
       "<table border=\"1\" class=\"dataframe\">\n",
       "  <thead>\n",
       "    <tr style=\"text-align: right;\">\n",
       "      <th></th>\n",
       "      <th>thresh</th>\n",
       "      <th>alpha_low</th>\n",
       "      <th>cv_score_low</th>\n",
       "      <th>alpha_high</th>\n",
       "      <th>cv_score_high</th>\n",
       "    </tr>\n",
       "  </thead>\n",
       "  <tbody>\n",
       "    <tr>\n",
       "      <td>0</td>\n",
       "      <td>1</td>\n",
       "      <td>0.0001</td>\n",
       "      <td>-0.016667</td>\n",
       "      <td>0.828643</td>\n",
       "      <td>0.125969</td>\n",
       "    </tr>\n",
       "    <tr>\n",
       "      <td>1</td>\n",
       "      <td>11</td>\n",
       "      <td>1.0000</td>\n",
       "      <td>-0.182560</td>\n",
       "      <td>0.828643</td>\n",
       "      <td>0.116178</td>\n",
       "    </tr>\n",
       "    <tr>\n",
       "      <td>2</td>\n",
       "      <td>21</td>\n",
       "      <td>1.0000</td>\n",
       "      <td>-0.164092</td>\n",
       "      <td>0.828643</td>\n",
       "      <td>0.112290</td>\n",
       "    </tr>\n",
       "    <tr>\n",
       "      <td>3</td>\n",
       "      <td>31</td>\n",
       "      <td>1.0000</td>\n",
       "      <td>-0.916822</td>\n",
       "      <td>1.000000</td>\n",
       "      <td>0.113091</td>\n",
       "    </tr>\n",
       "    <tr>\n",
       "      <td>4</td>\n",
       "      <td>41</td>\n",
       "      <td>1.0000</td>\n",
       "      <td>-0.190631</td>\n",
       "      <td>1.000000</td>\n",
       "      <td>0.094551</td>\n",
       "    </tr>\n",
       "    <tr>\n",
       "      <td>5</td>\n",
       "      <td>51</td>\n",
       "      <td>1.0000</td>\n",
       "      <td>-0.182715</td>\n",
       "      <td>1.000000</td>\n",
       "      <td>0.096321</td>\n",
       "    </tr>\n",
       "    <tr>\n",
       "      <td>6</td>\n",
       "      <td>61</td>\n",
       "      <td>1.0000</td>\n",
       "      <td>-0.403156</td>\n",
       "      <td>1.000000</td>\n",
       "      <td>0.072376</td>\n",
       "    </tr>\n",
       "    <tr>\n",
       "      <td>7</td>\n",
       "      <td>71</td>\n",
       "      <td>1.0000</td>\n",
       "      <td>-0.384613</td>\n",
       "      <td>1.000000</td>\n",
       "      <td>0.074265</td>\n",
       "    </tr>\n",
       "    <tr>\n",
       "      <td>8</td>\n",
       "      <td>81</td>\n",
       "      <td>1.0000</td>\n",
       "      <td>-0.285651</td>\n",
       "      <td>1.000000</td>\n",
       "      <td>0.073223</td>\n",
       "    </tr>\n",
       "    <tr>\n",
       "      <td>9</td>\n",
       "      <td>91</td>\n",
       "      <td>1.0000</td>\n",
       "      <td>-0.355385</td>\n",
       "      <td>0.828643</td>\n",
       "      <td>0.063739</td>\n",
       "    </tr>\n",
       "    <tr>\n",
       "      <td>10</td>\n",
       "      <td>101</td>\n",
       "      <td>1.0000</td>\n",
       "      <td>-0.273263</td>\n",
       "      <td>0.686649</td>\n",
       "      <td>0.070286</td>\n",
       "    </tr>\n",
       "    <tr>\n",
       "      <td>11</td>\n",
       "      <td>111</td>\n",
       "      <td>1.0000</td>\n",
       "      <td>-0.299704</td>\n",
       "      <td>0.686649</td>\n",
       "      <td>0.067867</td>\n",
       "    </tr>\n",
       "    <tr>\n",
       "      <td>12</td>\n",
       "      <td>121</td>\n",
       "      <td>1.0000</td>\n",
       "      <td>-0.364287</td>\n",
       "      <td>1.000000</td>\n",
       "      <td>0.033180</td>\n",
       "    </tr>\n",
       "    <tr>\n",
       "      <td>13</td>\n",
       "      <td>131</td>\n",
       "      <td>1.0000</td>\n",
       "      <td>-0.207591</td>\n",
       "      <td>1.000000</td>\n",
       "      <td>0.019207</td>\n",
       "    </tr>\n",
       "    <tr>\n",
       "      <td>14</td>\n",
       "      <td>141</td>\n",
       "      <td>1.0000</td>\n",
       "      <td>-0.221404</td>\n",
       "      <td>1.000000</td>\n",
       "      <td>0.012845</td>\n",
       "    </tr>\n",
       "    <tr>\n",
       "      <td>15</td>\n",
       "      <td>151</td>\n",
       "      <td>1.0000</td>\n",
       "      <td>-0.180243</td>\n",
       "      <td>1.000000</td>\n",
       "      <td>0.018578</td>\n",
       "    </tr>\n",
       "    <tr>\n",
       "      <td>16</td>\n",
       "      <td>161</td>\n",
       "      <td>1.0000</td>\n",
       "      <td>-0.165565</td>\n",
       "      <td>1.000000</td>\n",
       "      <td>0.013979</td>\n",
       "    </tr>\n",
       "    <tr>\n",
       "      <td>17</td>\n",
       "      <td>171</td>\n",
       "      <td>1.0000</td>\n",
       "      <td>-0.169444</td>\n",
       "      <td>1.000000</td>\n",
       "      <td>0.018544</td>\n",
       "    </tr>\n",
       "    <tr>\n",
       "      <td>18</td>\n",
       "      <td>181</td>\n",
       "      <td>1.0000</td>\n",
       "      <td>-0.169444</td>\n",
       "      <td>1.000000</td>\n",
       "      <td>0.022387</td>\n",
       "    </tr>\n",
       "    <tr>\n",
       "      <td>19</td>\n",
       "      <td>191</td>\n",
       "      <td>1.0000</td>\n",
       "      <td>-0.175836</td>\n",
       "      <td>1.000000</td>\n",
       "      <td>0.007554</td>\n",
       "    </tr>\n",
       "  </tbody>\n",
       "</table>\n",
       "</div>"
      ],
      "text/plain": [
       "    thresh  alpha_low  cv_score_low  alpha_high  cv_score_high\n",
       "0        1     0.0001     -0.016667    0.828643       0.125969\n",
       "1       11     1.0000     -0.182560    0.828643       0.116178\n",
       "2       21     1.0000     -0.164092    0.828643       0.112290\n",
       "3       31     1.0000     -0.916822    1.000000       0.113091\n",
       "4       41     1.0000     -0.190631    1.000000       0.094551\n",
       "5       51     1.0000     -0.182715    1.000000       0.096321\n",
       "6       61     1.0000     -0.403156    1.000000       0.072376\n",
       "7       71     1.0000     -0.384613    1.000000       0.074265\n",
       "8       81     1.0000     -0.285651    1.000000       0.073223\n",
       "9       91     1.0000     -0.355385    0.828643       0.063739\n",
       "10     101     1.0000     -0.273263    0.686649       0.070286\n",
       "11     111     1.0000     -0.299704    0.686649       0.067867\n",
       "12     121     1.0000     -0.364287    1.000000       0.033180\n",
       "13     131     1.0000     -0.207591    1.000000       0.019207\n",
       "14     141     1.0000     -0.221404    1.000000       0.012845\n",
       "15     151     1.0000     -0.180243    1.000000       0.018578\n",
       "16     161     1.0000     -0.165565    1.000000       0.013979\n",
       "17     171     1.0000     -0.169444    1.000000       0.018544\n",
       "18     181     1.0000     -0.169444    1.000000       0.022387\n",
       "19     191     1.0000     -0.175836    1.000000       0.007554"
      ]
     },
     "execution_count": 526,
     "metadata": {},
     "output_type": "execute_result"
    }
   ],
   "source": [
    "#rmse = np.sqrt(mean_squared_error(y_test, y_pred))\n",
    "\n",
    "pd.DataFrame({'thresh':thresh_space, \n",
    "              'alpha_low': [ low_list[i][0]['alpha'] for i in range(len(low_list)) ], \n",
    "              'cv_score_low': [ low_list[i][1] for i in range(len(low_list)) ],\n",
    "              'alpha_high': [ high_list[i][0]['alpha'] for i in range(len(high_list)) ], \n",
    "              'cv_score_high': [high_list[i][1] for i in range(len(high_list)) ]              \n",
    "             })"
   ]
  },
  {
   "cell_type": "code",
   "execution_count": null,
   "metadata": {},
   "outputs": [],
   "source": [
    "#ridge_rmse = []\n",
    "# for alpha in alpha_space:\n",
    "#     ridge.alpha = alpha   \n",
    "#     ridge_cv_scores = cross_validate(ridge, X, y, cv = 10, scoring=('r2', 'neg_root_mean_squared_error'))   \n",
    "#     ridge_rmse.append(-np.mean(ridge_cv_scores['test_neg_root_mean_squared_error']))\n",
    "    \n",
    "# plt.plot(alpha_space, ridge_rmse)\n",
    "# plt.xscale(\"log\")\n",
    "# plt.xlabel(\"Alpha\")\n",
    "# plt.ylabel('Root Mean Square Error')\n",
    "# plt.axvline(alpha_best, linestyle = '--')\n",
    "# plt.axhline(-reg_cv.best_score_, linestyle = '--')\n",
    "# plt.show()"
   ]
  }
 ],
 "metadata": {
  "kernelspec": {
   "display_name": "Python 3",
   "language": "python",
   "name": "python3"
  },
  "language_info": {
   "codemirror_mode": {
    "name": "ipython",
    "version": 3
   },
   "file_extension": ".py",
   "mimetype": "text/x-python",
   "name": "python",
   "nbconvert_exporter": "python",
   "pygments_lexer": "ipython3",
   "version": "3.7.3"
  }
 },
 "nbformat": 4,
 "nbformat_minor": 2
}
