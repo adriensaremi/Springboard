{
 "cells": [
  {
   "cell_type": "markdown",
   "metadata": {},
   "source": [
    "# Collecting Data last notebook: \n",
    "Merging draft and combine tables"
   ]
  },
  {
   "cell_type": "markdown",
   "metadata": {},
   "source": [
    "In this notebook, we import the draft tables we generated with Collecting_Dat_TableDraft and the combine table with Collecting_Data_CombineTable.\n",
    "\n",
    "### 1) Merging the draft tables together\n",
    "\n",
    "We merge the nfl tables and keep players satisfying our condition: WR and draftee between 2000 and 2011\n",
    "\n",
    "### 2) Add the combine data\n",
    "\n",
    "We add a set of columns corresponding to the combine numbers to each row.\n",
    "- Using the combine table, we add the columns by identification, either on the player's name/year OR the player's year/pick/round. If the program succeeds, it returns SUCCESS FROM MERGE on an additional column named 'combine method'. If not, it FAILS AFTER MERGE.\n",
    "- Given that a substantial amount of draftees have no combine data, we go back to the nfl page\n",
    "- And use the webdriver.Chrome to find hidden tables, particularly the combine one.\n",
    "- We extract the combine data and make sure it fits with the ordering of other players' combine.\n",
    "- If it succeeds, the program updates the column 'combine method' with SUCCESS FROM SEARCH.\n",
    "- Otherwise, it returns FAIL AFTER SEARCH (MISSING TABLE) if the table was absent of the nfl page, or FAIL AFTER SEARCH (BROKEN LINK) if the nfl url was missing in the first place.\n",
    "\n",
    "### 3) Cleaning\n",
    "\n",
    "We convert all data (except the obvious strings such as players names and teams) to floats.\n",
    "We also fill in missing data with zero's depending on the \"nfl method\" column value:\n",
    "- success from main, main1, main2, or main3: convert to floats\n",
    "- fail from main: there's no explicit nfl data (probably because url is missing)\n",
    "- fail from main1: player never had 'Receiving & Rushing' stats (he was used for something else)\n",
    "- fail from main2: player who have mismatch between 'receiving yards' and 'nfl yards'. Should be rare because those numbers are taken care of main3 manually. \n",
    "\n",
    "- Note: Even for players with missing data (e.g. fail) main2 filters 'points out' if there's a mismatch between 'receiving yards' and 'nfl yards' (= 0 in this case)."
   ]
  },
  {
   "cell_type": "code",
   "execution_count": 185,
   "metadata": {
    "init_cell": true
   },
   "outputs": [],
   "source": [
    "import Collecting_Data_Final_Functions\n",
    "import importlib\n",
    "importlib.reload(Collecting_Data_Final_Functions)\n",
    "from Collecting_Data_Final_Functions import *"
   ]
  },
  {
   "cell_type": "markdown",
   "metadata": {},
   "source": [
    "# 1) Merging draft tables"
   ]
  },
  {
   "cell_type": "code",
   "execution_count": 6,
   "metadata": {},
   "outputs": [],
   "source": [
    "td1 = pd.read_csv('data_sets/wr_draft_1_complete3.csv')\n",
    "td2 = pd.read_csv('data_sets/wr_draft_2_complete3.csv')\n",
    "td3 = pd.read_csv('data_sets/wr_draft_3_complete3.csv')\n",
    "\n",
    "td = pd.concat([td1, td2], ignore_index = True)\n",
    "td = pd.concat([td, td3], ignore_index = True)"
   ]
  },
  {
   "cell_type": "code",
   "execution_count": 7,
   "metadata": {},
   "outputs": [],
   "source": [
    "td = td[(td['year'] < 2012) & (td['year']>=2000)].reset_index(drop = True)"
   ]
  },
  {
   "cell_type": "code",
   "execution_count": 8,
   "metadata": {},
   "outputs": [],
   "source": [
    "td.to_csv(r'data_sets/wr_draft_complete.csv',index=False)"
   ]
  },
  {
   "cell_type": "markdown",
   "metadata": {},
   "source": [
    "# 2) Adding NFL combines"
   ]
  },
  {
   "cell_type": "code",
   "execution_count": 98,
   "metadata": {},
   "outputs": [],
   "source": [
    "td = pd.read_csv('data_sets/wr_draft_complete.csv')"
   ]
  },
  {
   "cell_type": "code",
   "execution_count": 99,
   "metadata": {},
   "outputs": [],
   "source": [
    "tc = pd.read_csv('data_sets/wr_combine.csv')"
   ]
  },
  {
   "cell_type": "markdown",
   "metadata": {},
   "source": [
    "## Matching by \n",
    "- year, round and pick: tdc1\n",
    "- year, name: tdc2"
   ]
  },
  {
   "cell_type": "code",
   "execution_count": 322,
   "metadata": {},
   "outputs": [
    {
     "name": "stdout",
     "output_type": "stream",
     "text": [
      "True     318\n",
      "False     75\n",
      "Name: combine method, dtype: int64\n"
     ]
    }
   ],
   "source": [
    "tdc1 = add_combine(td,tc)\n",
    "print((tdc1['combine method'] == 'success').value_counts())\n",
    "s1 = (tdc1['combine method'] == 'success').tolist()"
   ]
  },
  {
   "cell_type": "code",
   "execution_count": 325,
   "metadata": {},
   "outputs": [
    {
     "name": "stdout",
     "output_type": "stream",
     "text": [
      "True     325\n",
      "False     68\n",
      "Name: combine method, dtype: int64\n"
     ]
    }
   ],
   "source": [
    "tdc2 = add_combine(td,tc)\n",
    "print((tdc2['combine method'] == 'success').value_counts())\n",
    "s2 = (tdc2['combine method'] == 'success').tolist()"
   ]
  },
  {
   "cell_type": "code",
   "execution_count": 326,
   "metadata": {},
   "outputs": [],
   "source": [
    "s1not = [not i for i in s1]\n",
    "list_of_matches_using_names_only = []\n",
    "for i in range(len(s1)):\n",
    "    if s2[i] and s1not[i]:\n",
    "        list_of_matches_using_names_only.append(i)"
   ]
  },
  {
   "cell_type": "code",
   "execution_count": 100,
   "metadata": {},
   "outputs": [],
   "source": [
    "tdc = add_combine(td,tc)\n",
    "\n",
    "#tdc.loc[list_of_matches_using_names_only]\n",
    "# for i in list_of_matches_using_names_only:\n",
    "#     name = tdc.loc[i,'player']\n",
    "#     display(tc.loc[tc.loc[:,'Player'] == name])"
   ]
  },
  {
   "cell_type": "markdown",
   "metadata": {},
   "source": [
    "7 additional players were found by year + name\n",
    "The draft numbers or the team weren't reported in the combine table\n",
    "Also 6/7 simply didn't have any nfl careers but still had a team"
   ]
  },
  {
   "cell_type": "code",
   "execution_count": 14,
   "metadata": {},
   "outputs": [
    {
     "data": {
      "text/plain": [
       "211"
      ]
     },
     "execution_count": 14,
     "metadata": {},
     "output_type": "execute_result"
    }
   ],
   "source": [
    "list_of_combine_w_no_team = []\n",
    "for i, row in tc.iterrows():\n",
    "    try:\n",
    "        if np.isnan(tc.loc[i,'Team']):\n",
    "            list_of_combine_w_no_team.append(i)\n",
    "        else:\n",
    "            pass\n",
    "    except:\n",
    "        if tc.loc[i,'Team'] == '':\n",
    "            list_of_combine_w_no_team.append(i)\n",
    "        else:\n",
    "            pass\n",
    "len(list_of_combine_w_no_team)"
   ]
  },
  {
   "cell_type": "markdown",
   "metadata": {},
   "source": [
    "There is a LOT of combine players with no team, most are assumed to never be drafted but we showed that some were still drafted"
   ]
  },
  {
   "cell_type": "markdown",
   "metadata": {},
   "source": [
    "## Finding the missing combine numbers:\n",
    "\n",
    "There are *this many* many draftees without combine numbers"
   ]
  },
  {
   "cell_type": "code",
   "execution_count": 101,
   "metadata": {},
   "outputs": [
    {
     "data": {
      "text/plain": [
       "False    325\n",
       "True      68\n",
       "Name: combine method, dtype: int64"
      ]
     },
     "execution_count": 101,
     "metadata": {},
     "output_type": "execute_result"
    }
   ],
   "source": [
    "(tdc.loc[:,'combine method'] == 'fail after merge').value_counts()"
   ]
  },
  {
   "cell_type": "markdown",
   "metadata": {},
   "source": [
    "For those, let's try the same web.chrome method on the players with 'fail after merge' and search through all the tables of the nfl page. Example:"
   ]
  },
  {
   "cell_type": "code",
   "execution_count": 95,
   "metadata": {},
   "outputs": [
    {
     "data": {
      "text/html": [
       "<div>\n",
       "<style scoped>\n",
       "    .dataframe tbody tr th:only-of-type {\n",
       "        vertical-align: middle;\n",
       "    }\n",
       "\n",
       "    .dataframe tbody tr th {\n",
       "        vertical-align: top;\n",
       "    }\n",
       "\n",
       "    .dataframe thead th {\n",
       "        text-align: right;\n",
       "    }\n",
       "</style>\n",
       "<table border=\"1\" class=\"dataframe\">\n",
       "  <thead>\n",
       "    <tr style=\"text-align: right;\">\n",
       "      <th></th>\n",
       "      <th>year</th>\n",
       "      <th>pos</th>\n",
       "      <th>height</th>\n",
       "      <th>weight</th>\n",
       "      <th>40yd</th>\n",
       "      <th>bench</th>\n",
       "      <th>broad jump</th>\n",
       "      <th>shuttle</th>\n",
       "      <th>3 cone</th>\n",
       "      <th>vertical</th>\n",
       "    </tr>\n",
       "  </thead>\n",
       "  <tbody>\n",
       "    <tr>\n",
       "      <td>0</td>\n",
       "      <td>Year</td>\n",
       "      <td>Pos</td>\n",
       "      <td>Ht</td>\n",
       "      <td>Wt</td>\n",
       "      <td>40yd</td>\n",
       "      <td>Bench</td>\n",
       "      <td>Broad Jump</td>\n",
       "      <td>Shuttle</td>\n",
       "      <td>3Cone</td>\n",
       "      <td>Vertical</td>\n",
       "    </tr>\n",
       "    <tr>\n",
       "      <td>1</td>\n",
       "      <td>2011</td>\n",
       "      <td>WR</td>\n",
       "      <td>75</td>\n",
       "      <td>220</td>\n",
       "      <td>4.34</td>\n",
       "      <td>17</td>\n",
       "      <td>135</td>\n",
       "      <td>4.25</td>\n",
       "      <td>6.66</td>\n",
       "      <td>38.5</td>\n",
       "    </tr>\n",
       "  </tbody>\n",
       "</table>\n",
       "</div>"
      ],
      "text/plain": [
       "   year  pos height weight  40yd  bench  broad jump  shuttle 3 cone  vertical\n",
       "0  Year  Pos     Ht     Wt  40yd  Bench  Broad Jump  Shuttle  3Cone  Vertical\n",
       "1  2011   WR     75    220  4.34     17         135     4.25   6.66      38.5"
      ]
     },
     "metadata": {},
     "output_type": "display_data"
    },
    {
     "data": {
      "text/plain": [
       "(['WR', '75', '220', '4.34', '38.5', '17', '135', '6.66', '4.25', '2011'],\n",
       " 'success from search')"
      ]
     },
     "metadata": {},
     "output_type": "display_data"
    }
   ],
   "source": [
    "#Everything good\n",
    "html = 'https://www.pro-football-reference.com/players/J/JoneJu02.htm'\n",
    "\n",
    "#Table is missing (no combine)\n",
    "#html = 'https://www.pro-football-reference.com/players/D/DurhKr00.htm'\n",
    "\n",
    "table_list = generate_all_nfl_tables(html)\n",
    "table0 = find_combine_table(table_list)\n",
    "\n",
    "table = combine_nfl(table0)\n",
    "display(table)\n",
    "display(row_combine(table))"
   ]
  },
  {
   "cell_type": "code",
   "execution_count": 102,
   "metadata": {},
   "outputs": [],
   "source": [
    "missing_combine = tdc.index[tdc.loc[:,'combine method'] == 'fail after merge'].tolist()\n",
    "\n",
    "#[print(x) for x in tdc.loc[missing_combine[:10]],'nfl url']]"
   ]
  },
  {
   "cell_type": "markdown",
   "metadata": {},
   "source": [
    "For a lot of them, the nfl combine table is simply missing"
   ]
  },
  {
   "cell_type": "code",
   "execution_count": 73,
   "metadata": {},
   "outputs": [],
   "source": [
    "tdcp = search_combine(tdc)"
   ]
  },
  {
   "cell_type": "code",
   "execution_count": 93,
   "metadata": {},
   "outputs": [
    {
     "name": "stdout",
     "output_type": "stream",
     "text": [
      "393 \n",
      " True     325\n",
      "False     68\n",
      "Name: combine method, dtype: int64 \n",
      " False    389\n",
      "True       4\n",
      "Name: combine method, dtype: int64 \n",
      " False    349\n",
      "True      44\n",
      "Name: combine method, dtype: int64 \n",
      " False    373\n",
      "True      20\n",
      "Name: combine method, dtype: int64\n"
     ]
    }
   ],
   "source": [
    "print(len(tdcp), '\\n',\n",
    "(tdcp.loc[:,'combine method'] == 'success from merge').value_counts(), '\\n',\n",
    "(tdcp.loc[:,'combine method'] == 'success from search').value_counts(),'\\n',\n",
    "(tdcp.loc[:,'combine method'] == 'fail after search (missing table)').value_counts(),'\\n',\n",
    "(tdcp.loc[:,'combine method'] == 'fail after search (missing link)').value_counts())"
   ]
  },
  {
   "cell_type": "code",
   "execution_count": 123,
   "metadata": {},
   "outputs": [],
   "source": [
    "tdcp.to_csv('data_sets/wr_draft_combine.csv',index=False)"
   ]
  },
  {
   "cell_type": "markdown",
   "metadata": {},
   "source": [
    "# 3) Cleaning"
   ]
  },
  {
   "cell_type": "code",
   "execution_count": 124,
   "metadata": {},
   "outputs": [],
   "source": [
    "tdc = pd.read_csv('data_sets/wr_draft_combine.csv')"
   ]
  },
  {
   "cell_type": "code",
   "execution_count": 107,
   "metadata": {},
   "outputs": [
    {
     "name": "stdout",
     "output_type": "stream",
     "text": [
      "['success from main' 'success from main1' 'fail (eg link broken)'\n",
      " 'success from main2' 'success from main3' 'fail after main1'] \n",
      " ['success' 'fail (eg link broken)'] \n",
      " ['success from merge' 'fail after search (missing table)'\n",
      " 'success from search' 'fail after search (missing link)']\n"
     ]
    }
   ],
   "source": [
    "print(tdc['nfl method'].unique(), '\\n',\n",
    "tdc['cfb method'].unique(), '\\n',\n",
    "tdc['combine method'].unique())"
   ]
  },
  {
   "cell_type": "code",
   "execution_count": 189,
   "metadata": {},
   "outputs": [],
   "source": [
    "cfb_nfl_comb = []\n",
    "for i, row in tdc.iterrows():\n",
    "    if (row['cfb method'] == 'success') and (first_word(row['nfl method']) == 'success') and (first_word(row['combine method']) == 'success'):\n",
    "        cfb_nfl_comb.append(i)\n",
    "    \n",
    "nfl_comb = []\n",
    "for i, row in tdc.iterrows():\n",
    "    if (first_word(row['cfb method']) == 'fail') and (first_word(row['nfl method']) == 'success') and (first_word(row['combine method']) == 'success'):\n",
    "        nfl_comb.append(i)\n",
    "    \n",
    "cfb_nfl = []\n",
    "for i, row in tdc.iterrows():\n",
    "    if (row['cfb method'] == 'success') and (first_word(row['nfl method']) == 'success') and (first_word(row['combine method']) == 'fail'):\n",
    "        cfb_nfl.append(i)\n",
    "        \n",
    "cfb_comb = []\n",
    "for i, row in tdc.iterrows():\n",
    "    if (row['cfb method'] == 'success') and (first_word(row['nfl method']) == 'fail') and (first_word(row['combine method']) == 'success'):\n",
    "        cfb_comb.append(i)\n",
    "        \n",
    "cfb_only = []\n",
    "for i, row in tdc.iterrows():\n",
    "    if (row['cfb method'] == 'success') and (first_word(row['nfl method']) == 'fail') and (first_word(row['combine method']) == 'fail'):\n",
    "        cfb_only.append(i)\n",
    "        \n",
    "nfl_only = []\n",
    "for i, row in tdc.iterrows():\n",
    "    if (first_word(row['cfb method']) == 'fail') and (first_word(row['nfl method']) == 'success') and (first_word(row['combine method']) == 'fail'):\n",
    "        nfl_only.append(i)\n",
    "        \n",
    "comb_only = []\n",
    "for i, row in tdc.iterrows():\n",
    "    if (first_word(row['cfb method']) == 'fail') and (first_word(row['nfl method']) == 'fail') and (first_word(row['combine method']) == 'success'):\n",
    "        comb_only.append(i)\n",
    "        \n",
    "none_only = []\n",
    "for i, row in tdc.iterrows():\n",
    "    if (first_word(row['cfb method']) == 'fail') and (first_word(row['nfl method']) == 'fail') and (first_word(row['combine method']) == 'fail'):\n",
    "        none_only.append(i)\n",
    "        \n",
    "zerogames_nonfl = []\n",
    "for i, row in tdc.iterrows():\n",
    "    if (convert(tdc['games'])[i] == 0) and (first_word(row['nfl method']) == 'fail'):\n",
    "        zerogames_nonfl.append(i)\n",
    "\n",
    "nocomb = []\n",
    "for i, row in tdc.iterrows():\n",
    "    if (first_word(row['combine method']) == 'fail'):\n",
    "        nocomb.append(i)\n",
    "\n",
    "\n"
   ]
  },
  {
   "cell_type": "code",
   "execution_count": 190,
   "metadata": {},
   "outputs": [
    {
     "name": "stdout",
     "output_type": "stream",
     "text": [
      "393 \n",
      " 262 \n",
      " 25 26 36 \n",
      " 16 11 6 11 \n",
      " 49 64\n"
     ]
    }
   ],
   "source": [
    "print(len(tdc),'\\n',\n",
    "len(cfb_nfl_comb),'\\n',\n",
    "len(nfl_comb),\n",
    "len(cfb_nfl),\n",
    "len(cfb_comb), '\\n',\n",
    "len(cfb_only),\n",
    "len(nfl_only),\n",
    "len(comb_only),\n",
    "len(none_only), '\\n',\n",
    "len(zerogames_nonfl), len(nocomb))"
   ]
  },
  {
   "cell_type": "code",
   "execution_count": 177,
   "metadata": {},
   "outputs": [
    {
     "data": {
      "text/plain": [
       "393"
      ]
     },
     "execution_count": 177,
     "metadata": {},
     "output_type": "execute_result"
    }
   ],
   "source": [
    "262+25+26+36+16+11+6+11"
   ]
  },
  {
   "cell_type": "markdown",
   "metadata": {},
   "source": [
    "### Cleaning one row after the other"
   ]
  },
  {
   "cell_type": "code",
   "execution_count": null,
   "metadata": {},
   "outputs": [],
   "source": [
    "# issues = ['draft age' #reads float, should be int, can be NaN\n",
    "#           ,'entry age' #reads float, should be in, can be NaN\n",
    "#           ,'last year' #same\n",
    "#           ,'years as primary starter'] #same"
   ]
  },
  {
   "cell_type": "code",
   "execution_count": 155,
   "metadata": {},
   "outputs": [
    {
     "name": "stdout",
     "output_type": "stream",
     "text": [
      "13 years as primary starter float64\n"
     ]
    }
   ],
   "source": [
    "print(j, tdc.columns[j], tdc.iloc[:,j].dtype)\n",
    "j = j+1"
   ]
  }
 ],
 "metadata": {
  "kernelspec": {
   "display_name": "Python 3",
   "language": "python",
   "name": "python3"
  },
  "language_info": {
   "codemirror_mode": {
    "name": "ipython",
    "version": 3
   },
   "file_extension": ".py",
   "mimetype": "text/x-python",
   "name": "python",
   "nbconvert_exporter": "python",
   "pygments_lexer": "ipython3",
   "version": "3.7.3"
  }
 },
 "nbformat": 4,
 "nbformat_minor": 2
}
