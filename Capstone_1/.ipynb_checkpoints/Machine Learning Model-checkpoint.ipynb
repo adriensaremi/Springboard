{
 "cells": [
  {
   "cell_type": "code",
   "execution_count": 2,
   "metadata": {},
   "outputs": [],
   "source": [
    "import pandas as pd\n",
    "import numpy as np\n",
    "import seaborn as sns\n",
    "import matplotlib.pyplot as plt\n",
    "\n",
    "pd.set_option('display.max_rows', 100)\n",
    "pd.set_option('display.max_columns', 100)"
   ]
  },
  {
   "cell_type": "code",
   "execution_count": 263,
   "metadata": {},
   "outputs": [
    {
     "ename": "ImportError",
     "evalue": "cannot import name 'Imputer' from 'sklearn.preprocessing' (/Users/adriensaremi/anaconda3/lib/python3.7/site-packages/sklearn/preprocessing/__init__.py)",
     "output_type": "error",
     "traceback": [
      "\u001b[0;31m---------------------------------------------------------------------------\u001b[0m",
      "\u001b[0;31mImportError\u001b[0m                               Traceback (most recent call last)",
      "\u001b[0;32m<ipython-input-263-bcc9145ad996>\u001b[0m in \u001b[0;36m<module>\u001b[0;34m\u001b[0m\n\u001b[1;32m      8\u001b[0m \u001b[0;32mfrom\u001b[0m \u001b[0msklearn\u001b[0m\u001b[0;34m.\u001b[0m\u001b[0mlinear_model\u001b[0m \u001b[0;32mimport\u001b[0m \u001b[0mRidge\u001b[0m\u001b[0;34m\u001b[0m\u001b[0;34m\u001b[0m\u001b[0m\n\u001b[1;32m      9\u001b[0m \u001b[0;34m\u001b[0m\u001b[0m\n\u001b[0;32m---> 10\u001b[0;31m \u001b[0;32mfrom\u001b[0m \u001b[0msklearn\u001b[0m\u001b[0;34m.\u001b[0m\u001b[0mpreprocessing\u001b[0m \u001b[0;32mimport\u001b[0m \u001b[0mImputer\u001b[0m\u001b[0;34m\u001b[0m\u001b[0;34m\u001b[0m\u001b[0m\n\u001b[0m\u001b[1;32m     11\u001b[0m \u001b[0;32mfrom\u001b[0m \u001b[0msklearn\u001b[0m\u001b[0;34m.\u001b[0m\u001b[0msvm\u001b[0m \u001b[0;32mimport\u001b[0m \u001b[0mSVC\u001b[0m\u001b[0;34m\u001b[0m\u001b[0;34m\u001b[0m\u001b[0m\n",
      "\u001b[0;31mImportError\u001b[0m: cannot import name 'Imputer' from 'sklearn.preprocessing' (/Users/adriensaremi/anaconda3/lib/python3.7/site-packages/sklearn/preprocessing/__init__.py)"
     ]
    }
   ],
   "source": [
    "import statsmodels.api as sm\n",
    "from statsmodels.formula.api import ols\n",
    "\n",
    "from sklearn.linear_model import LinearRegression\n",
    "from sklearn.metrics import mean_squared_error\n",
    "from sklearn.model_selection import train_test_split\n",
    "from sklearn.model_selection import cross_val_score\n",
    "from sklearn.linear_model import Ridge\n",
    "\n",
    "from sklearn.preprocessing import Imputer\n",
    "from sklearn.svm import SVC"
   ]
  },
  {
   "cell_type": "code",
   "execution_count": 157,
   "metadata": {},
   "outputs": [],
   "source": [
    "tdc = pd.read_csv('data_sets/wr_tdc_new.csv')\n",
    "\n",
    "columns_floats = list(range(13,21)) +list(range(26,53)) +list(range(60,73)) +list(range(75,83)) + [85,92,93]\n",
    "columns_nonnum = ['cfb conference','cfb class']"
   ]
  },
  {
   "cell_type": "code",
   "execution_count": 159,
   "metadata": {},
   "outputs": [],
   "source": [
    "target = ['yards first 5 seasons']\n",
    "inputs = ['cfb conference','cfb class','cfb games','cfb receptions',\n",
    "          'cfb rec yards','cfb rec yards per reception','cfb rec td','cfb rush attempts',\n",
    "          'cfb rush yards','cfb rush yards per attempt','cfb rush td','cfb scrimmages',\n",
    "          'cfb yards','cfb yards from scrimmage','cfb td','combine ht','combine wt','combine forty',\n",
    "          'combine vertical','combine benchreps','combine broadjump','combine cone','combine shuttle']\n",
    "\n",
    "new_tdc = tdc[inputs+target]\n",
    "ntdc = new_tdc.rename(columns={\n",
    "    'cfb conference':'cfbconference',\n",
    "    'cfb class':'cfbclass',\n",
    "    'cfb games':'cfbgames',\n",
    "    'cfb receptions':'cfbreceptions',\n",
    "    'cfb rec yards':'cfbrecyards',\n",
    "    'cfb rec yards per reception':'cfbrecyardsperreception',\n",
    "    'cfb rec td':'cfbrectd',\n",
    "    'cfb rush attempts':'cfbrushattempts',\n",
    "    'cfb rush yards':'cfbrushyards',\n",
    "    'cfb rush yards per attempt':'cfbrushyardsperattempt',\n",
    "    'cfb rush td':'cfbrushtd',\n",
    "    'cfb scrimmages':'cfbscrimmages',\n",
    "    'cfb yards': 'cfbyards',\n",
    "    'cfb yards from scrimmage':'cfbyardsfromscrimmage',\n",
    "    'cfb td':'cfbtd',\n",
    "    'combine ht':'combineht',\n",
    "    'combine wt':'combinewt',\n",
    "    'combine forty':'combineforty',\n",
    "    'combine vertical':'combinevertical',\n",
    "    'combine benchreps':'combinebenchreps',\n",
    "    'combine broadjump':'combinebroadjump',\n",
    "    'combine cone':'combinecone',\n",
    "    'combine shuttle':'combineshuttle',\n",
    "    'yards first 5 seasons':'yardsfirst5seasons'})"
   ]
  },
  {
   "cell_type": "markdown",
   "metadata": {},
   "source": [
    "# 1st attempt\n",
    "Do not account for mostly missing, non-crucial combine data"
   ]
  },
  {
   "cell_type": "code",
   "execution_count": 160,
   "metadata": {},
   "outputs": [],
   "source": [
    "wr1=ntdc.drop(['combinevertical','combinebenchreps','combinebroadjump','combinecone','combineshuttle'],axis = 1)\n",
    "wr1d = attempt1.dropna()"
   ]
  },
  {
   "cell_type": "code",
   "execution_count": 111,
   "metadata": {
    "scrolled": true
   },
   "outputs": [
    {
     "name": "stdout",
     "output_type": "stream",
     "text": [
      "<class 'pandas.core.frame.DataFrame'>\n",
      "Int64Index: 300 entries, 0 to 392\n",
      "Data columns (total 19 columns):\n",
      "cfbconference              300 non-null object\n",
      "cfbclass                   300 non-null object\n",
      "cfbgames                   300 non-null float64\n",
      "cfbreceptions              300 non-null float64\n",
      "cfbrecyards                300 non-null float64\n",
      "cfbrecyardsperreception    300 non-null float64\n",
      "cfbrectd                   300 non-null float64\n",
      "cfbrushattempts            300 non-null float64\n",
      "cfbrushyards               300 non-null float64\n",
      "cfbrushyardsperattempt     300 non-null float64\n",
      "cfbrushtd                  300 non-null float64\n",
      "cfbscrimmages              300 non-null float64\n",
      "cfbyards                   300 non-null float64\n",
      "cfbyardsfromscrimmage      300 non-null float64\n",
      "cfbtd                      300 non-null float64\n",
      "combineht                  300 non-null float64\n",
      "combinewt                  300 non-null float64\n",
      "combineforty               300 non-null float64\n",
      "yardsfirst5seasons         300 non-null float64\n",
      "dtypes: float64(17), object(2)\n",
      "memory usage: 46.9+ KB\n"
     ]
    }
   ],
   "source": [
    "wr1d.info()"
   ]
  },
  {
   "cell_type": "markdown",
   "metadata": {},
   "source": [
    "### Linear regression model with one imput: CFB TD (using stats model)"
   ]
  },
  {
   "cell_type": "code",
   "execution_count": 112,
   "metadata": {
    "scrolled": true
   },
   "outputs": [
    {
     "data": {
      "text/plain": [
       "<matplotlib.axes._subplots.AxesSubplot at 0x1c25e8fbe0>"
      ]
     },
     "execution_count": 112,
     "metadata": {},
     "output_type": "execute_result"
    },
    {
     "data": {
      "image/png": "[encoded data removed]",
      "text/plain": [
       "<Figure size 432x288 with 1 Axes>"
      ]
     },
     "metadata": {
      "needs_background": "light"
     },
     "output_type": "display_data"
    }
   ],
   "source": [
    "sns.regplot(y=\"yardsfirst5seasons\", x=\"cfbtd\", data=wr1, fit_reg = True)"
   ]
  },
  {
   "cell_type": "code",
   "execution_count": 116,
   "metadata": {
    "scrolled": true
   },
   "outputs": [
    {
     "name": "stdout",
     "output_type": "stream",
     "text": [
      "                            OLS Regression Results                            \n",
      "==============================================================================\n",
      "Dep. Variable:     yardsfirst5seasons   R-squared:                       0.065\n",
      "Model:                            OLS   Adj. R-squared:                  0.062\n",
      "Method:                 Least Squares   F-statistic:                     20.60\n",
      "Date:                Mon, 20 Apr 2020   Prob (F-statistic):           8.22e-06\n",
      "Time:                        00:23:56   Log-Likelihood:                -2626.7\n",
      "No. Observations:                 300   AIC:                             5257.\n",
      "Df Residuals:                     298   BIC:                             5265.\n",
      "Df Model:                           1                                         \n",
      "Covariance Type:            nonrobust                                         \n",
      "==============================================================================\n",
      "                 coef    std err          t      P>|t|      [0.025      0.975]\n",
      "------------------------------------------------------------------------------\n",
      "Intercept    592.5307    196.765      3.011      0.003     205.305     979.756\n",
      "cfbtd         43.7115      9.631      4.539      0.000      24.758      62.665\n",
      "==============================================================================\n",
      "Omnibus:                       41.307   Durbin-Watson:                   1.599\n",
      "Prob(Omnibus):                  0.000   Jarque-Bera (JB):               54.299\n",
      "Skew:                           1.018   Prob(JB):                     1.62e-12\n",
      "Kurtosis:                       3.449   Cond. No.                         45.3\n",
      "==============================================================================\n",
      "\n",
      "Warnings:\n",
      "[1] Standard Errors assume that the covariance matrix of the errors is correctly specified.\n"
     ]
    }
   ],
   "source": [
    "m = ols('yardsfirst5seasons ~ cfbtd',wr1d).fit()\n",
    "print(m.summary())  "
   ]
  },
  {
   "cell_type": "code",
   "execution_count": 117,
   "metadata": {},
   "outputs": [
    {
     "data": {
      "image/png": "[encoded data removed]",
      "text/plain": [
       "<Figure size 432x288 with 1 Axes>"
      ]
     },
     "metadata": {
      "needs_background": "light"
     },
     "output_type": "display_data"
    }
   ],
   "source": [
    "plt.scatter(m.fittedvalues, wr1d.yardsfirst5seasons)\n",
    "plt.xlabel('Fitted Values')\n",
    "plt.ylabel('Original Values')\n",
    "plt.show()"
   ]
  },
  {
   "cell_type": "markdown",
   "metadata": {},
   "source": [
    "### Linear Regression: all variables (using sklearn)"
   ]
  },
  {
   "cell_type": "code",
   "execution_count": 161,
   "metadata": {},
   "outputs": [
    {
     "data": {
      "text/plain": [
       "LinearRegression(copy_X=True, fit_intercept=True, n_jobs=None, normalize=False)"
      ]
     },
     "execution_count": 161,
     "metadata": {},
     "output_type": "execute_result"
    }
   ],
   "source": [
    "X = wr1d.drop(['cfbconference','cfbclass','yardsfirst5seasons'], axis = 1)\n",
    "Y = wr1d['yardsfirst5seasons']\n",
    "\n",
    "lm = LinearRegression()\n",
    "lm.fit(X, Y)"
   ]
  },
  {
   "cell_type": "code",
   "execution_count": 162,
   "metadata": {},
   "outputs": [
    {
     "name": "stdout",
     "output_type": "stream",
     "text": [
      "Number of coefficients: 16\n"
     ]
    },
    {
     "data": {
      "text/html": [
       "<div>\n",
       "<style scoped>\n",
       "    .dataframe tbody tr th:only-of-type {\n",
       "        vertical-align: middle;\n",
       "    }\n",
       "\n",
       "    .dataframe tbody tr th {\n",
       "        vertical-align: top;\n",
       "    }\n",
       "\n",
       "    .dataframe thead th {\n",
       "        text-align: right;\n",
       "    }\n",
       "</style>\n",
       "<table border=\"1\" class=\"dataframe\">\n",
       "  <thead>\n",
       "    <tr style=\"text-align: right;\">\n",
       "      <th></th>\n",
       "      <th>features</th>\n",
       "      <th>estimatedCoefficients</th>\n",
       "    </tr>\n",
       "  </thead>\n",
       "  <tbody>\n",
       "    <tr>\n",
       "      <td>0</td>\n",
       "      <td>cfbgames</td>\n",
       "      <td>-2.570719e+01</td>\n",
       "    </tr>\n",
       "    <tr>\n",
       "      <td>1</td>\n",
       "      <td>cfbreceptions</td>\n",
       "      <td>2.113405e+13</td>\n",
       "    </tr>\n",
       "    <tr>\n",
       "      <td>2</td>\n",
       "      <td>cfbrecyards</td>\n",
       "      <td>4.825965e+14</td>\n",
       "    </tr>\n",
       "    <tr>\n",
       "      <td>3</td>\n",
       "      <td>cfbrecyardsperreception</td>\n",
       "      <td>1.100707e+01</td>\n",
       "    </tr>\n",
       "    <tr>\n",
       "      <td>4</td>\n",
       "      <td>cfbrectd</td>\n",
       "      <td>3.130635e+11</td>\n",
       "    </tr>\n",
       "    <tr>\n",
       "      <td>5</td>\n",
       "      <td>cfbrushattempts</td>\n",
       "      <td>2.113405e+13</td>\n",
       "    </tr>\n",
       "    <tr>\n",
       "      <td>6</td>\n",
       "      <td>cfbrushyards</td>\n",
       "      <td>4.825965e+14</td>\n",
       "    </tr>\n",
       "    <tr>\n",
       "      <td>7</td>\n",
       "      <td>cfbrushyardsperattempt</td>\n",
       "      <td>1.208796e+01</td>\n",
       "    </tr>\n",
       "    <tr>\n",
       "      <td>8</td>\n",
       "      <td>cfbrushtd</td>\n",
       "      <td>3.130635e+11</td>\n",
       "    </tr>\n",
       "    <tr>\n",
       "      <td>9</td>\n",
       "      <td>cfbscrimmages</td>\n",
       "      <td>-2.113405e+13</td>\n",
       "    </tr>\n",
       "    <tr>\n",
       "      <td>10</td>\n",
       "      <td>cfbyards</td>\n",
       "      <td>-4.825965e+14</td>\n",
       "    </tr>\n",
       "    <tr>\n",
       "      <td>11</td>\n",
       "      <td>cfbyardsfromscrimmage</td>\n",
       "      <td>1.035860e+01</td>\n",
       "    </tr>\n",
       "    <tr>\n",
       "      <td>12</td>\n",
       "      <td>cfbtd</td>\n",
       "      <td>-3.130635e+11</td>\n",
       "    </tr>\n",
       "    <tr>\n",
       "      <td>13</td>\n",
       "      <td>combineht</td>\n",
       "      <td>-1.087212e+02</td>\n",
       "    </tr>\n",
       "    <tr>\n",
       "      <td>14</td>\n",
       "      <td>combinewt</td>\n",
       "      <td>2.749484e+01</td>\n",
       "    </tr>\n",
       "    <tr>\n",
       "      <td>15</td>\n",
       "      <td>combineforty</td>\n",
       "      <td>-1.739544e+03</td>\n",
       "    </tr>\n",
       "  </tbody>\n",
       "</table>\n",
       "</div>"
      ],
      "text/plain": [
       "                   features  estimatedCoefficients\n",
       "0                  cfbgames          -2.570719e+01\n",
       "1             cfbreceptions           2.113405e+13\n",
       "2               cfbrecyards           4.825965e+14\n",
       "3   cfbrecyardsperreception           1.100707e+01\n",
       "4                  cfbrectd           3.130635e+11\n",
       "5           cfbrushattempts           2.113405e+13\n",
       "6              cfbrushyards           4.825965e+14\n",
       "7    cfbrushyardsperattempt           1.208796e+01\n",
       "8                 cfbrushtd           3.130635e+11\n",
       "9             cfbscrimmages          -2.113405e+13\n",
       "10                 cfbyards          -4.825965e+14\n",
       "11    cfbyardsfromscrimmage           1.035860e+01\n",
       "12                    cfbtd          -3.130635e+11\n",
       "13                combineht          -1.087212e+02\n",
       "14                combinewt           2.749484e+01\n",
       "15             combineforty          -1.739544e+03"
      ]
     },
     "execution_count": 162,
     "metadata": {},
     "output_type": "execute_result"
    }
   ],
   "source": [
    "print('Number of coefficients: {}'.format(len(lm.coef_)))\n",
    "\n",
    "pd.DataFrame({'features': X.columns, 'estimatedCoefficients': lm.coef_})[['features', 'estimatedCoefficients']]"
   ]
  },
  {
   "cell_type": "code",
   "execution_count": 163,
   "metadata": {
    "scrolled": true
   },
   "outputs": [
    {
     "data": {
      "text/plain": [
       "<matplotlib.collections.PathCollection at 0x1c260d02b0>"
      ]
     },
     "execution_count": 163,
     "metadata": {},
     "output_type": "execute_result"
    },
    {
     "data": {
      "image/png": "[encoded data removed]",
      "text/plain": [
       "<Figure size 432x288 with 1 Axes>"
      ]
     },
     "metadata": {
      "needs_background": "light"
     },
     "output_type": "display_data"
    }
   ],
   "source": [
    "Y_pred = lm.predict(X)\n",
    "\n",
    "plt.scatter(Y, Y_pred)"
   ]
  },
  {
   "cell_type": "markdown",
   "metadata": {},
   "source": [
    "# 2nd attempt:\n",
    "\n",
    "Only care for critical stats, those that correlate the most with our target"
   ]
  },
  {
   "cell_type": "code",
   "execution_count": 164,
   "metadata": {},
   "outputs": [
    {
     "data": {
      "text/plain": [
       "Index(['cfbrectd', 'cfbtd', 'cfbyards', 'cfbrecyards', 'cfbyardsfromscrimmage',\n",
       "       'cfbrecyardsperreception', 'combinewt', 'cfbreceptions',\n",
       "       'combinevertical', 'combinebenchreps', 'combineht', 'combinebroadjump',\n",
       "       'cfbscrimmages', 'cfbrushyardsperattempt', 'cfbrushyards', 'cfbrushtd',\n",
       "       'cfbrushattempts', 'combineshuttle', 'combinecone', 'combineforty',\n",
       "       'cfbgames'],\n",
       "      dtype='object')"
      ]
     },
     "execution_count": 164,
     "metadata": {},
     "output_type": "execute_result"
    }
   ],
   "source": [
    "ntdc.corr(method='pearson').iloc[-1,:-1].sort_values(ascending = False).index"
   ]
  },
  {
   "cell_type": "code",
   "execution_count": 215,
   "metadata": {},
   "outputs": [],
   "source": [
    "wr2 = ntdc[['cfbrectd', 'cfbtd', 'cfbyards', 'cfbrecyards','cfbyardsfromscrimmage','cfbgames','yardsfirst5seasons']]\n",
    "wr2d = wr2.dropna().reset_index(drop = True)"
   ]
  },
  {
   "cell_type": "markdown",
   "metadata": {},
   "source": [
    "### Linear Regression (Sklearn)"
   ]
  },
  {
   "cell_type": "code",
   "execution_count": 217,
   "metadata": {},
   "outputs": [
    {
     "data": {
      "text/html": [
       "<div>\n",
       "<style scoped>\n",
       "    .dataframe tbody tr th:only-of-type {\n",
       "        vertical-align: middle;\n",
       "    }\n",
       "\n",
       "    .dataframe tbody tr th {\n",
       "        vertical-align: top;\n",
       "    }\n",
       "\n",
       "    .dataframe thead th {\n",
       "        text-align: right;\n",
       "    }\n",
       "</style>\n",
       "<table border=\"1\" class=\"dataframe\">\n",
       "  <thead>\n",
       "    <tr style=\"text-align: right;\">\n",
       "      <th></th>\n",
       "      <th>features</th>\n",
       "      <th>estimatedCoefficients</th>\n",
       "    </tr>\n",
       "  </thead>\n",
       "  <tbody>\n",
       "    <tr>\n",
       "      <td>0</td>\n",
       "      <td>cfbrectd</td>\n",
       "      <td>87.640282</td>\n",
       "    </tr>\n",
       "    <tr>\n",
       "      <td>1</td>\n",
       "      <td>cfbtd</td>\n",
       "      <td>-36.140368</td>\n",
       "    </tr>\n",
       "    <tr>\n",
       "      <td>2</td>\n",
       "      <td>cfbyards</td>\n",
       "      <td>1.191827</td>\n",
       "    </tr>\n",
       "    <tr>\n",
       "      <td>3</td>\n",
       "      <td>cfbrecyards</td>\n",
       "      <td>-1.115314</td>\n",
       "    </tr>\n",
       "    <tr>\n",
       "      <td>4</td>\n",
       "      <td>cfbyardsfromscrimmage</td>\n",
       "      <td>95.587643</td>\n",
       "    </tr>\n",
       "    <tr>\n",
       "      <td>5</td>\n",
       "      <td>cfbgames</td>\n",
       "      <td>-33.174596</td>\n",
       "    </tr>\n",
       "  </tbody>\n",
       "</table>\n",
       "</div>"
      ],
      "text/plain": [
       "                features  estimatedCoefficients\n",
       "0               cfbrectd              87.640282\n",
       "1                  cfbtd             -36.140368\n",
       "2               cfbyards               1.191827\n",
       "3            cfbrecyards              -1.115314\n",
       "4  cfbyardsfromscrimmage              95.587643\n",
       "5               cfbgames             -33.174596"
      ]
     },
     "execution_count": 217,
     "metadata": {},
     "output_type": "execute_result"
    }
   ],
   "source": [
    "X = wr2d[['cfbrectd', 'cfbtd', 'cfbyards', 'cfbrecyards','cfbyardsfromscrimmage','cfbgames']]\n",
    "Y = wr2d['yardsfirst5seasons']\n",
    "\n",
    "lm = LinearRegression()\n",
    "lm.fit(X, Y)\n",
    "\n",
    "pd.DataFrame({'features': X.columns, 'estimatedCoefficients': lm.coef_})[['features', 'estimatedCoefficients']]"
   ]
  },
  {
   "cell_type": "code",
   "execution_count": 218,
   "metadata": {},
   "outputs": [
    {
     "data": {
      "text/plain": [
       "<matplotlib.collections.PathCollection at 0x1c26b576d8>"
      ]
     },
     "execution_count": 218,
     "metadata": {},
     "output_type": "execute_result"
    },
    {
     "data": {
      "image/png": "[encoded data removed]",
      "text/plain": [
       "<Figure size 432x288 with 1 Axes>"
      ]
     },
     "metadata": {
      "needs_background": "light"
     },
     "output_type": "display_data"
    }
   ],
   "source": [
    "Y_pred = lm.predict(X)\n",
    "\n",
    "plt.scatter(Y, Y_pred)"
   ]
  },
  {
   "cell_type": "markdown",
   "metadata": {},
   "source": [
    "### Stats models"
   ]
  },
  {
   "cell_type": "code",
   "execution_count": 219,
   "metadata": {},
   "outputs": [
    {
     "name": "stdout",
     "output_type": "stream",
     "text": [
      "                            OLS Regression Results                            \n",
      "==============================================================================\n",
      "Dep. Variable:     yardsfirst5seasons   R-squared:                       0.168\n",
      "Model:                            OLS   Adj. R-squared:                  0.153\n",
      "Method:                 Least Squares   F-statistic:                     11.18\n",
      "Date:                Mon, 20 Apr 2020   Prob (F-statistic):           2.23e-11\n",
      "Time:                        01:33:36   Log-Likelihood:                -2948.1\n",
      "No. Observations:                 340   AIC:                             5910.\n",
      "Df Residuals:                     333   BIC:                             5937.\n",
      "Df Model:                           6                                         \n",
      "Covariance Type:            nonrobust                                         \n",
      "=========================================================================================\n",
      "                            coef    std err          t      P>|t|      [0.025      0.975]\n",
      "-----------------------------------------------------------------------------------------\n",
      "Intercept               132.6073    585.050      0.227      0.821   -1018.252    1283.466\n",
      "cfbrectd                 87.6403     45.678      1.919      0.056      -2.213     177.493\n",
      "cfbtd                   -36.1404     42.017     -0.860      0.390    -118.794      46.513\n",
      "cfbyards                  1.1918      0.509      2.341      0.020       0.191       2.193\n",
      "cfbrecyards              -1.1153      0.537     -2.079      0.038      -2.171      -0.060\n",
      "cfbyardsfromscrimmage    95.5876     31.304      3.053      0.002      34.008     157.167\n",
      "cfbgames                -33.1746      8.964     -3.701      0.000     -50.807     -15.542\n",
      "==============================================================================\n",
      "Omnibus:                       43.405   Durbin-Watson:                   1.747\n",
      "Prob(Omnibus):                  0.000   Jarque-Bera (JB):               56.177\n",
      "Skew:                           0.957   Prob(JB):                     6.33e-13\n",
      "Kurtosis:                       3.552   Cond. No.                     2.42e+04\n",
      "==============================================================================\n",
      "\n",
      "Warnings:\n",
      "[1] Standard Errors assume that the covariance matrix of the errors is correctly specified.\n",
      "[2] The condition number is large, 2.42e+04. This might indicate that there are\n",
      "strong multicollinearity or other numerical problems.\n"
     ]
    }
   ],
   "source": [
    "m = ols('yardsfirst5seasons ~ cfbrectd + cfbtd + cfbyards + cfbrecyards + cfbyardsfromscrimmage + cfbgames',wr2d).fit()\n",
    "print(m.summary())\n"
   ]
  },
  {
   "cell_type": "code",
   "execution_count": 220,
   "metadata": {},
   "outputs": [
    {
     "data": {
      "text/plain": [
       "Text(0, 0.5, 'Error')"
      ]
     },
     "execution_count": 220,
     "metadata": {},
     "output_type": "execute_result"
    },
    {
     "data": {
      "image/png": "[encoded data removed]",
      "text/plain": [
       "<Figure size 432x288 with 1 Axes>"
      ]
     },
     "metadata": {
      "needs_background": "light"
     },
     "output_type": "display_data"
    }
   ],
   "source": [
    "Y_pred = m.fittedvalues\n",
    "Y = wr2d.yardsfirst5seasons\n",
    "\n",
    "plt.scatter(Y_pred, Y - Y_pred)\n",
    "plt.xlabel('Predicted values')\n",
    "plt.ylabel('Error')"
   ]
  },
  {
   "cell_type": "code",
   "execution_count": 221,
   "metadata": {},
   "outputs": [
    {
     "data": {
      "image/png": "[encoded data removed]",
      "text/plain": [
       "<Figure size 432x288 with 1 Axes>"
      ]
     },
     "metadata": {
      "needs_background": "light"
     },
     "output_type": "display_data"
    }
   ],
   "source": [
    "plt.hist(m.get_influence().resid_studentized_external)\n",
    "plt.xlabel('Errors')\n",
    "plt.ylabel('Frequency')\n",
    "plt.title('Before removing')\n",
    "plt.show()"
   ]
  },
  {
   "cell_type": "code",
   "execution_count": 223,
   "metadata": {
    "scrolled": true
   },
   "outputs": [
    {
     "data": {
      "text/plain": [
       "Text(0, 0.5, 'Error')"
      ]
     },
     "execution_count": 223,
     "metadata": {},
     "output_type": "execute_result"
    },
    {
     "data": {
      "image/png": "[encoded data removed]",
      "text/plain": [
       "<Figure size 432x288 with 1 Axes>"
      ]
     },
     "metadata": {
      "needs_background": "light"
     },
     "output_type": "display_data"
    }
   ],
   "source": [
    "high_resid = np.where(abs(m.resid) > 3000)\n",
    "high_studentized_resid = np.where(abs(m.get_influence().resid_studentized_external > 2.5))\n",
    "\n",
    "wr2d_new = wr2d.drop(high_resid[0], axis = 0)\n",
    "\n",
    "m = ols('yardsfirst5seasons ~ cfbrectd + cfbtd + cfbyards + cfbrecyards + cfbyardsfromscrimmage + cfbgames',wr2d_new).fit()\n",
    "\n",
    "\n",
    "Y_pred = m.fittedvalues\n",
    "Y = wr2d_new.yardsfirst5seasons\n",
    "\n",
    "plt.scatter(Y_pred, Y - Y_pred)\n",
    "plt.xlabel('Predicted values')\n",
    "plt.ylabel('Error')"
   ]
  },
  {
   "cell_type": "code",
   "execution_count": 224,
   "metadata": {
    "scrolled": true
   },
   "outputs": [
    {
     "data": {
      "image/png": "[encoded data removed]",
      "text/plain": [
       "<Figure size 432x288 with 1 Axes>"
      ]
     },
     "metadata": {
      "needs_background": "light"
     },
     "output_type": "display_data"
    }
   ],
   "source": [
    "plt.hist(m.get_influence().resid_studentized_external)\n",
    "plt.xlabel('Errors')\n",
    "plt.ylabel('Frequency')\n",
    "plt.title('Before removing')\n",
    "plt.show()"
   ]
  },
  {
   "cell_type": "markdown",
   "metadata": {},
   "source": [
    "# 3rd Attempt: \n",
    "Run a Train-Test Split Model on wr2 with the outliers found in 2) removed"
   ]
  },
  {
   "cell_type": "code",
   "execution_count": 255,
   "metadata": {},
   "outputs": [],
   "source": [
    "wr3 = wr2.drop(high_resid[0], axis = 0)\n",
    "wr3d = wr3.dropna().reset_index(drop = True)\n",
    "X = wr3d[['cfbrectd', 'cfbtd', 'cfbyards', 'cfbrecyards','cfbyardsfromscrimmage','cfbgames']]\n",
    "y = wr3d['yardsfirst5seasons']"
   ]
  },
  {
   "cell_type": "code",
   "execution_count": 258,
   "metadata": {},
   "outputs": [
    {
     "name": "stdout",
     "output_type": "stream",
     "text": [
      "R^2: 0.10332544624639717\n",
      "Root Mean Squared Error: 1296.9196390491363\n"
     ]
    }
   ],
   "source": [
    "X_train, X_test, y_train, y_test = train_test_split(X, y, test_size = .30, random_state=42)\n",
    "\n",
    "reg = LinearRegression()\n",
    "\n",
    "reg.fit(X_train, y_train)\n",
    "\n",
    "y_pred = reg.predict(X_test)\n",
    "\n",
    "# Compute and print R^2 and RMSE\n",
    "print(\"R^2: {}\".format(reg.score(X_test, y_test)))\n",
    "rmse = np.sqrt(mean_squared_error(y_test, y_pred))\n",
    "print(\"Root Mean Squared Error: {}\".format(rmse))"
   ]
  },
  {
   "cell_type": "code",
   "execution_count": 260,
   "metadata": {
    "scrolled": true
   },
   "outputs": [
    {
     "data": {
      "text/plain": [
       "array([ 0.11496935, -0.0621658 ,  0.20078699,  0.15277626,  0.07439852])"
      ]
     },
     "execution_count": 260,
     "metadata": {},
     "output_type": "execute_result"
    }
   ],
   "source": [
    "reg = LinearRegression()\n",
    "cv_scores = cross_val_score(reg, X, y, cv = 5)\n",
    "\n",
    "cv_scores"
   ]
  },
  {
   "cell_type": "markdown",
   "metadata": {},
   "source": [
    "# 4) Attempt: Regularization with Ridge"
   ]
  },
  {
   "cell_type": "code",
   "execution_count": 250,
   "metadata": {},
   "outputs": [],
   "source": [
    "X = wr1d.drop(['yardsfirst5seasons','cfbconference','cfbclass'],axis = 1)\n",
    "y = wr1d['yardsfirst5seasons']"
   ]
  },
  {
   "cell_type": "code",
   "execution_count": 256,
   "metadata": {},
   "outputs": [],
   "source": [
    "# Setup the array of alphas and lists to store scores\n",
    "alpha_space = np.logspace(-4, 0, 50)\n",
    "ridge_scores = []\n",
    "ridge_scores_std = []\n",
    "\n",
    "# Create a ridge regressor: ridge\n",
    "ridge = Ridge(normalize = True)\n",
    "\n",
    "# Compute scores over range of alphas\n",
    "for alpha in alpha_space:\n",
    "\n",
    "    # Specify the alpha value to use: ridge.alpha\n",
    "    ridge.alpha = alpha\n",
    "    \n",
    "    # Perform 10-fold CV: ridge_cv_scores\n",
    "    ridge_cv_scores = cross_val_score(ridge, X, y, cv = 5)\n",
    "    \n",
    "    # Append the mean of ridge_cv_scores to ridge_scores\n",
    "    ridge_scores.append(np.mean(ridge_cv_scores))\n",
    "    \n",
    "    # Append the std of ridge_cv_scores to ridge_scores_std\n",
    "    ridge_scores_std.append(np.std(ridge_cv_scores))"
   ]
  },
  {
   "cell_type": "code",
   "execution_count": 253,
   "metadata": {},
   "outputs": [],
   "source": [
    "def display_plot(cv_scores, cv_scores_std):\n",
    "    fig = plt.figure()\n",
    "    ax = fig.add_subplot(1,1,1)\n",
    "    ax.plot(alpha_space, cv_scores)\n",
    "\n",
    "    std_error = cv_scores_std / np.sqrt(10)\n",
    "\n",
    "    ax.fill_between(alpha_space, cv_scores + std_error, cv_scores - std_error, alpha=0.2)\n",
    "    ax.set_ylabel('CV Score +/- Std Error')\n",
    "    ax.set_xlabel('Alpha')\n",
    "    ax.axhline(np.max(cv_scores), linestyle='--', color='.5')\n",
    "    ax.set_xlim([alpha_space[0], alpha_space[-1]])\n",
    "    ax.set_xscale('log')\n",
    "    plt.show()"
   ]
  },
  {
   "cell_type": "code",
   "execution_count": 257,
   "metadata": {},
   "outputs": [
    {
     "data": {
      "image/png": "[encoded data removed]",
      "text/plain": [
       "<Figure size 432x288 with 1 Axes>"
      ]
     },
     "metadata": {
      "needs_background": "light"
     },
     "output_type": "display_data"
    }
   ],
   "source": [
    "display_plot(ridge_scores, ridge_scores_std)"
   ]
  },
  {
   "cell_type": "markdown",
   "metadata": {},
   "source": [
    "# 5) Handling Missing values\n",
    "Using a pipeline"
   ]
  },
  {
   "cell_type": "code",
   "execution_count": null,
   "metadata": {},
   "outputs": [],
   "source": [
    "wr1"
   ]
  }
 ],
 "metadata": {
  "kernelspec": {
   "display_name": "Python 3",
   "language": "python",
   "name": "python3"
  },
  "language_info": {
   "codemirror_mode": {
    "name": "ipython",
    "version": 3
   },
   "file_extension": ".py",
   "mimetype": "text/x-python",
   "name": "python",
   "nbconvert_exporter": "python",
   "pygments_lexer": "ipython3",
   "version": "3.7.3"
  }
 },
 "nbformat": 4,
 "nbformat_minor": 2
}
