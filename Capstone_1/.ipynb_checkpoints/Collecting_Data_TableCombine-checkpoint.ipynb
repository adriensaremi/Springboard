{
 "cells": [
  {
   "cell_type": "markdown",
   "metadata": {},
   "source": [
    "### Combine Notebook:\n",
    "The notebook filters out WR between 2000 and 2011. Still, the file we use to merge with the draft table might be the original, as we need to account for players who are not WR by the time of the combine, and yet get drafted such as"
   ]
  },
  {
   "cell_type": "code",
   "execution_count": 1,
   "metadata": {},
   "outputs": [],
   "source": [
    "import pandas as pd"
   ]
  },
  {
   "cell_type": "code",
   "execution_count": 3,
   "metadata": {},
   "outputs": [],
   "source": [
    "#import table\n",
    "table0 = pd.read_csv('data_sets/combine_data_since_2000.csv')"
   ]
  },
  {
   "cell_type": "code",
   "execution_count": 4,
   "metadata": {},
   "outputs": [
    {
     "name": "stdout",
     "output_type": "stream",
     "text": [
      "[2000 2001 2002 2003 2004 2005 2006 2007 2008 2009 2010 2011 2012 2013\n",
      " 2014 2015 2016 2017 2018]\n",
      "['OLB' 'RB' 'OT' 'TE' 'CB' 'K' 'P' 'FS' 'OG' 'ILB' 'DE' 'SS' 'DT' 'QB'\n",
      " 'WR' 'C' 'FB' 'LS' 'NT' 'EDGE' 'S' 'G' 'LB' 'DB' 'OL']\n"
     ]
    }
   ],
   "source": [
    "print(table0['Year'].unique())\n",
    "print(table0['Pos'].unique())"
   ]
  },
  {
   "cell_type": "code",
   "execution_count": 5,
   "metadata": {},
   "outputs": [],
   "source": [
    "#slice dataframe and export\n",
    "table1 = table0[(table0['Pos']=='WR') & (table0['Year'] < 2012) & (table0['Year']>=2000)].reset_index(drop=True)\n",
    "table1.to_csv(r'data_sets/wr_combine.csv',index=False)"
   ]
  }
 ],
 "metadata": {
  "kernelspec": {
   "display_name": "Python 3",
   "language": "python",
   "name": "python3"
  },
  "language_info": {
   "codemirror_mode": {
    "name": "ipython",
    "version": 3
   },
   "file_extension": ".py",
   "mimetype": "text/x-python",
   "name": "python",
   "nbconvert_exporter": "python",
   "pygments_lexer": "ipython3",
   "version": "3.7.3"
  }
 },
 "nbformat": 4,
 "nbformat_minor": 2
}
