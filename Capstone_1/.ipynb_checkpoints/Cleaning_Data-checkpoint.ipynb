{
 "cells": [
  {
   "cell_type": "markdown",
   "metadata": {},
   "source": [
    "# Cleaning Data:\n",
    "The objective of this notebook is to \"clean\" the data, catch left over errors and convert all number data to floats."
   ]
  },
  {
   "cell_type": "code",
   "execution_count": 2,
   "metadata": {},
   "outputs": [],
   "source": [
    "import pandas as pd\n",
    "import numpy as np\n",
    "\n",
    "pd.set_option('display.max_rows', 100)\n",
    "pd.set_option('display.max_columns', 100)"
   ]
  },
  {
   "cell_type": "code",
   "execution_count": 3,
   "metadata": {},
   "outputs": [],
   "source": [
    "tdc = pd.read_csv('data_sets/wr_draft_combine.csv')"
   ]
  },
  {
   "cell_type": "markdown",
   "metadata": {},
   "source": [
    "### Re-organizing the columns in proper order"
   ]
  },
  {
   "cell_type": "code",
   "execution_count": 4,
   "metadata": {},
   "outputs": [],
   "source": [
    "tdc = tdc[['year', 'round', 'pick', 'player', 'pos', 'draft age',\n",
    "       'team', 'entry year', 'last year', '1st team pro select', 'pro select',\n",
    "       'weighted career av', 'years as primary starter', 'games',\n",
    "       'games started', 'rushing attempts', 'rushing yards', 'rushing td',\n",
    "       'receiving attemps', 'receiving yards', 'receiving td',\n",
    "        'nfl url','nfl age', 'nfl team', 'nfl pos', 'nfl no', 'nfl game',\n",
    "       'nfl game started', 'nfl target', 'nfl receptions', 'nfl yards',\n",
    "       'nfl y/r', 'nfl td', 'nfl first downs', 'nfl longest rec',\n",
    "       'nfl rec per game', 'nfl yards per game', 'nfl catch ratio',\n",
    "       'nfl yards per target', 'nfl rushes', 'nfl rush yards', 'nfl rush td',\n",
    "       'nfl first downs rush', 'nfl longest rush',\n",
    "       'nfl rush yards per attempt', 'nfl rush yards per game',\n",
    "       'nfl rush attempt per games', 'nfl total touches',\n",
    "       'nfl yards per touch', 'nfl yards from scrimmage', 'nfl total td',\n",
    "       'nfl fumbles', 'nfl av', 'nfl table type',\n",
    "        'college', 'cfb url', 'cfb school', 'cfb conference', 'cfb class', 'cfb pos',\n",
    "       'cfb games', 'cfb receptions', 'cfb yards', 'cfb average', 'cfb td',\n",
    "       'cfb attemps rushing', 'cfb yards rushing', 'cfb avg rushing',\n",
    "       'cfb td rushing', 'cfb scrimmages', 'cfb yards total', 'cfb avg total',\n",
    "       'cfb td total',\n",
    "       'combine player', 'combine pos', 'combine ht', 'combine wt',\n",
    "       'combine forty', 'combine vertical', 'combine benchreps',\n",
    "       'combine broadjump', 'combine cone', 'combine shuttle', 'combine year',\n",
    "       'combine pfr_id', 'combine av', 'combine team', 'combine round',\n",
    "       'combine pick',\n",
    "        'nfl method','cfb method', 'combine method']]"
   ]
  },
  {
   "cell_type": "markdown",
   "metadata": {},
   "source": [
    "### Cleaning some of the obvious columns:\n",
    "Converting obvious missing data to np.nan, such as rows with no cfb stats (eg broken cfb link), or rows with no nfl stats (eg broken nfl link) "
   ]
  },
  {
   "cell_type": "code",
   "execution_count": 5,
   "metadata": {},
   "outputs": [],
   "source": [
    "cond = [str.split(x)[0] == 'fail' for x in tdc['cfb method']]\n",
    "tdc.loc[cond,'cfb school':'cfb td total'] = [np.nan]*17"
   ]
  },
  {
   "cell_type": "code",
   "execution_count": 6,
   "metadata": {},
   "outputs": [],
   "source": [
    "cond = [str.split(x)[0] == 'fail' for x in tdc['combine method']]"
   ]
  },
  {
   "cell_type": "code",
   "execution_count": 7,
   "metadata": {},
   "outputs": [],
   "source": [
    "cond= [str.split(row['nfl method'])[0] == 'fail' and str.split(row['nfl team'])[0] == 'fail' for i,row in tdc.iterrows()]\n",
    "tdc.loc[cond,'nfl age':'nfl table type'] = [np.nan]*32"
   ]
  },
  {
   "cell_type": "markdown",
   "metadata": {},
   "source": [
    "### Catching an error \n",
    "Some tables have rushing and receiving still switched up. We find those if the value of 'nfl catch ratio' doesn't end with '%'"
   ]
  },
  {
   "cell_type": "code",
   "execution_count": 9,
   "metadata": {},
   "outputs": [],
   "source": [
    "error_list = []\n",
    "col = 'nfl catch ratio'\n",
    "for i in tdc[col].index:\n",
    "    if isinstance(tdc.loc[i,col], str):\n",
    "        if tdc.loc[i,col][-1] != '%':\n",
    "            error_list.append(i)\n",
    "            \n",
    "#display(tdc.loc[[0]+error_list])\n",
    "#[print(x) for x in tdc.loc[[0]+error_list]['nfl url']]"
   ]
  },
  {
   "cell_type": "code",
   "execution_count": 67,
   "metadata": {},
   "outputs": [],
   "source": [
    "i_col = tdc.columns.get_loc('nfl target')\n",
    "lr = 8\n",
    "lw = 11\n",
    "\n",
    "def switch_rushing_receiving (table, error_list): #switch rush data and receiving data if needed\n",
    "    for i in error_list:\n",
    "        rush = table.iloc[i,i_col:i_col+lr].tolist()\n",
    "        receiving = table.iloc[i,i_col+lr:i_col+lr+lw].tolist()\n",
    "        table.iloc[i,i_col:i_col+lw] = receiving\n",
    "        table.iloc[i,i_col+lw:i_col+lw+lr] = rush\n",
    "    return table\n",
    "\n",
    "#tdc = switch_rushing_receiving(tdc,error_list)\n",
    "#tdc.loc[error_list]"
   ]
  },
  {
   "cell_type": "markdown",
   "metadata": {},
   "source": [
    "### Converting str to floats carefully\n",
    "Starting with the column of nfl catch ratio, which is a string with '%' at the end"
   ]
  },
  {
   "cell_type": "code",
   "execution_count": 11,
   "metadata": {},
   "outputs": [],
   "source": [
    "col = 'nfl catch ratio'\n",
    "for i in tdc[col].index:\n",
    "    if isinstance(tdc.loc[i,col], str):\n",
    "        s = tdc.loc[i,col][:-1]\n",
    "        tdc.loc[i,col] = float(s)/100"
   ]
  },
  {
   "cell_type": "markdown",
   "metadata": {},
   "source": [
    "Let's take care of number columns, from 'nfl age' to the end"
   ]
  },
  {
   "cell_type": "code",
   "execution_count": 20,
   "metadata": {
    "scrolled": false
   },
   "outputs": [
    {
     "name": "stdout",
     "output_type": "stream",
     "text": [
      "60 cfb games\n",
      "61 cfb receptions\n",
      "62 cfb yards\n",
      "63 cfb average\n",
      "64 cfb td\n",
      "65 cfb attemps rushing\n",
      "66 cfb yards rushing\n",
      "67 cfb avg rushing\n",
      "68 cfb td rushing\n",
      "69 cfb scrimmages\n",
      "70 cfb yards total\n",
      "71 cfb avg total\n",
      "72 cfb td total\n"
     ]
    }
   ],
   "source": [
    "i_s = 60\n",
    "i_f = 73\n",
    "for i in range(i_s, i_f):\n",
    "    print(i, tdc.columns[i])\n",
    "    tdc.iloc[:,i] = tdc.iloc[:,i].astype(float)"
   ]
  },
  {
   "cell_type": "code",
   "execution_count": 21,
   "metadata": {},
   "outputs": [
    {
     "name": "stdout",
     "output_type": "stream",
     "text": [
      "0 year int64\n",
      "1 round int64\n",
      "2 pick int64\n",
      "3 player object\n",
      "4 pos object\n",
      "5 draft age float64\n",
      "6 team object\n",
      "7 entry year float64\n",
      "8 last year float64\n",
      "9 1st team pro select int64\n",
      "10 pro select int64\n",
      "11 weighted career av int64\n",
      "12 years as primary starter float64\n",
      "13 games float64\n",
      "14 games started float64\n",
      "15 rushing attempts float64\n",
      "16 rushing yards float64\n",
      "17 rushing td float64\n",
      "18 receiving attemps float64\n",
      "19 receiving yards float64\n",
      "20 receiving td float64\n",
      "21 nfl url object\n",
      "22 nfl age float64\n",
      "23 nfl team object\n",
      "24 nfl pos object\n",
      "25 nfl no object\n",
      "26 nfl game float64\n",
      "27 nfl game started float64\n",
      "28 nfl target float64\n",
      "29 nfl receptions float64\n",
      "30 nfl yards float64\n",
      "31 nfl y/r float64\n",
      "32 nfl td float64\n",
      "33 nfl first downs float64\n",
      "34 nfl longest rec float64\n",
      "35 nfl rec per game float64\n",
      "36 nfl yards per game float64\n",
      "37 nfl catch ratio float64\n",
      "38 nfl yards per target float64\n",
      "39 nfl rushes float64\n",
      "40 nfl rush yards float64\n",
      "41 nfl rush td float64\n",
      "42 nfl first downs rush float64\n",
      "43 nfl longest rush float64\n",
      "44 nfl rush yards per attempt float64\n",
      "45 nfl rush yards per game float64\n",
      "46 nfl rush attempt per games float64\n",
      "47 nfl total touches float64\n",
      "48 nfl yards per touch float64\n",
      "49 nfl yards from scrimmage float64\n",
      "50 nfl total td float64\n",
      "51 nfl fumbles float64\n",
      "52 nfl av float64\n",
      "53 nfl table type object\n",
      "54 college object\n",
      "55 cfb url object\n",
      "56 cfb school object\n",
      "57 cfb conference object\n",
      "58 cfb class object\n",
      "59 cfb pos object\n",
      "60 cfb games float64\n",
      "61 cfb receptions float64\n",
      "62 cfb yards float64\n",
      "63 cfb average float64\n",
      "64 cfb td float64\n",
      "65 cfb attemps rushing float64\n",
      "66 cfb yards rushing float64\n",
      "67 cfb avg rushing float64\n",
      "68 cfb td rushing float64\n",
      "69 cfb scrimmages float64\n",
      "70 cfb yards total float64\n",
      "71 cfb avg total float64\n",
      "72 cfb td total float64\n",
      "73 combine player object\n",
      "74 combine pos object\n",
      "75 combine ht float64\n",
      "76 combine wt float64\n",
      "77 combine forty float64\n",
      "78 combine vertical float64\n",
      "79 combine benchreps float64\n",
      "80 combine broadjump float64\n",
      "81 combine cone float64\n",
      "82 combine shuttle float64\n",
      "83 combine year float64\n",
      "84 combine pfr_id object\n",
      "85 combine av float64\n",
      "86 combine team object\n",
      "87 combine round float64\n",
      "88 combine pick float64\n",
      "89 nfl method object\n",
      "90 cfb method object\n",
      "91 combine method object\n"
     ]
    }
   ],
   "source": [
    "for i in range(len(tdc.columns)):\n",
    "    print(i, tdc.columns[i], tdc.iloc[:,i].dtypes)"
   ]
  },
  {
   "cell_type": "code",
   "execution_count": 22,
   "metadata": {},
   "outputs": [],
   "source": [
    "tdc.to_csv('data_sets/wr_tdc_clean.csv', index=False)"
   ]
  },
  {
   "cell_type": "markdown",
   "metadata": {},
   "source": [
    "### Sets of manual rectifications\n",
    "Let's see if we can catch some left over errors and edit them manually. For example, some players had numbers in the column 'nfl team', revealing the data wasn't properly treated. We take of it here"
   ]
  },
  {
   "cell_type": "code",
   "execution_count": 50,
   "metadata": {},
   "outputs": [],
   "source": [
    "tdc = pd.read_csv('data_sets/wr_tdc_clean.csv')"
   ]
  },
  {
   "cell_type": "code",
   "execution_count": 54,
   "metadata": {},
   "outputs": [],
   "source": [
    "#tdc['nfl team'].value_counts()\n",
    "rectif_1 = tdc.index[(tdc['nfl team']=='24') | (tdc['nfl team']=='27')].tolist()\n",
    "#tdc.loc[rectif_1]\n",
    "#[print(x) for x in tdc.loc[rectif_1]['nfl url']]"
   ]
  },
  {
   "cell_type": "code",
   "execution_count": 52,
   "metadata": {},
   "outputs": [],
   "source": [
    "for i in rectif_1:\n",
    "    tdc.loc[i,'nfl team':'nfl av'] =[tdc.loc[i,'nfl pos']]+[np.nan]+[tdc.loc[i,'nfl game']]+[np.nan]*27"
   ]
  },
  {
   "cell_type": "code",
   "execution_count": 60,
   "metadata": {
    "scrolled": true
   },
   "outputs": [
    {
     "data": {
      "text/plain": [
       "Receiving & Rushing Table    306\n",
       "Games Table                   13\n",
       "Kick & Punt Returns Table     10\n",
       "Defense & Fumbles Table       10\n",
       "Rushing & Receiving Table      5\n",
       "Name: nfl table type, dtype: int64"
      ]
     },
     "execution_count": 60,
     "metadata": {},
     "output_type": "execute_result"
    }
   ],
   "source": [
    "tdc['nfl table type'].value_counts()"
   ]
  },
  {
   "cell_type": "code",
   "execution_count": 66,
   "metadata": {},
   "outputs": [],
   "source": [
    "tdc.to_csv('data_sets/wr_tdc_clean.csv', index=False)"
   ]
  }
 ],
 "metadata": {
  "kernelspec": {
   "display_name": "Python 3",
   "language": "python",
   "name": "python3"
  },
  "language_info": {
   "codemirror_mode": {
    "name": "ipython",
    "version": 3
   },
   "file_extension": ".py",
   "mimetype": "text/x-python",
   "name": "python",
   "nbconvert_exporter": "python",
   "pygments_lexer": "ipython3",
   "version": "3.7.3"
  }
 },
 "nbformat": 4,
 "nbformat_minor": 2
}
