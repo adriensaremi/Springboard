{
 "cells": [
  {
   "cell_type": "markdown",
   "metadata": {},
   "source": [
    "# Cleaning Data:\n",
    "\n",
    "The objective of this notebook is to \"clean\" the data. The process goes in multiple steps:\n",
    "- re-organizing data in a more natural and explicit way\n",
    "- replacing error messages with np.nan entries for missing data\n",
    "- catch left over errors via an automated function or manually\n",
    "- convert all numerical data to floats, as well as fill in np.nan with 0 when we're certain this is the correct value (for all the basic nfl stats for example)\n",
    "- finally, rectifiy an issue with improper (not missing) cfb data\n",
    "\n",
    "Once done we export our clean table for usage in the Exploratory notebook"
   ]
  },
  {
   "cell_type": "code",
   "execution_count": 1,
   "metadata": {
    "init_cell": true
   },
   "outputs": [],
   "source": [
    "import pandas as pd\n",
    "import numpy as np\n",
    "from urllib.request import urlopen\n",
    "from bs4 import BeautifulSoup\n",
    "from collections import Counter\n",
    "from selenium import webdriver\n",
    "import time\n",
    "\n",
    "pd.set_option('display.max_rows', 100)\n",
    "pd.set_option('display.max_columns', 100)\n",
    "pd.options.display.max_colwidth = 100\n",
    "\n",
    "list_of_college = ['school','conference','class','pos','games','receptions',\n",
    "                   'yards', 'average','td','attemps rushing','yards rushing',\n",
    "                   'avg rushing','td rushing','scrimmages','yards total','avg total','td total']"
   ]
  },
  {
   "cell_type": "code",
   "execution_count": 2,
   "metadata": {},
   "outputs": [],
   "source": [
    "tdc = pd.read_csv('data_sets/wr_draft_combine.csv')"
   ]
  },
  {
   "cell_type": "markdown",
   "metadata": {},
   "source": [
    "### Re-organizing and re-naming the columns in proper order"
   ]
  },
  {
   "cell_type": "code",
   "execution_count": 11,
   "metadata": {},
   "outputs": [],
   "source": [
    "tdc = tdc[['year', 'round', 'pick', 'player', 'pos', 'draft age',\n",
    "       'team', 'entry year', 'last year', '1st team pro select', 'pro select',\n",
    "       'weighted career av', 'years as primary starter', 'games',\n",
    "       'games started', 'rushing attempts', 'rushing yards', 'rushing td',\n",
    "       'receiving attemps', 'receiving yards', 'receiving td',\n",
    "        'nfl url','nfl age', 'nfl team', 'nfl pos', 'nfl no', 'nfl game',\n",
    "       'nfl game started', 'nfl target', 'nfl receptions', 'nfl yards',\n",
    "       'nfl y/r', 'nfl td', 'nfl first downs', 'nfl longest rec',\n",
    "       'nfl rec per game', 'nfl yards per game', 'nfl catch ratio',\n",
    "       'nfl yards per target', 'nfl rushes', 'nfl rush yards', 'nfl rush td',\n",
    "       'nfl first downs rush', 'nfl longest rush',\n",
    "       'nfl rush yards per attempt', 'nfl rush yards per game',\n",
    "       'nfl rush attempt per games', 'nfl total touches',\n",
    "       'nfl yards per touch', 'nfl yards from scrimmage', 'nfl total td',\n",
    "       'nfl fumbles', 'nfl av', 'nfl table type',\n",
    "        'college', 'cfb url', 'cfb school', 'cfb conference', 'cfb class', 'cfb pos',\n",
    "       'cfb games', 'cfb receptions', 'cfb yards', 'cfb average', 'cfb td',\n",
    "       'cfb attemps rushing', 'cfb yards rushing', 'cfb avg rushing',\n",
    "       'cfb td rushing', 'cfb scrimmages', 'cfb yards total', 'cfb avg total',\n",
    "       'cfb td total',\n",
    "       'combine player', 'combine pos', 'combine ht', 'combine wt',\n",
    "       'combine forty', 'combine vertical', 'combine benchreps',\n",
    "       'combine broadjump', 'combine cone', 'combine shuttle', 'combine year',\n",
    "       'combine pfr_id', 'combine av', 'combine team', 'combine round',\n",
    "       'combine pick',\n",
    "        'nfl method','cfb method', 'combine method']]\n",
    "\n",
    "\n",
    "tdc = tdc.rename(columns={'weighted career av':'years as primary starter',\n",
    "                    'years as primary starter':'weighted career average grade',\n",
    "                    'rushing attempts':'rush attempts',\n",
    "                    'rushing yards':'rush yards',\n",
    "                    'rushing td':'rush td',\n",
    "                    'receiving attemps':'rec attempts',\n",
    "                    'receiving yards':'rec yards',\n",
    "                    'receiving td':'rec td',\n",
    "                    'nfl target':'nfl pass targets',\n",
    "                    'nfl yards':'nfl rec yards',\n",
    "                    'nfl y/r':'nfl rec yards per reception',\n",
    "                    'nfl yards per target':'nfl rec yards per target',\n",
    "                    'nfl td':'nfl rec td',\n",
    "                    'nfl first downs':'nfl 1st downs from reception',\n",
    "                    'nfl longest rec':'nfl longest reception',\n",
    "                    'nfl rec per game':'nfl receptions per game',\n",
    "                    'nfl yards per game':'nfl rec yards per game',\n",
    "                   'nfl rushes':'nfl rush attempts',\n",
    "                    'nfl first downs rush':'nfl 1st downs from rush',\n",
    "                   'nfl rush attempt per games':'nfl rush attempts per game',\n",
    "                    'nfl total touches':'nfl touches',\n",
    "                    'nfl total td':'nfl td',\n",
    "                   'nfl av': 'nfl average grade',\n",
    "                   'cfb yards':'cfb rec yards',\n",
    "                   'cfb average':'cfb rec yards per reception',\n",
    "                   'cfb td':'cfb rec td',\n",
    "                   'cfb attemps rushing':'cfb rush attempts',\n",
    "                   'cfb yards rushing':'cfb rush yards',\n",
    "                   'cfb avg rushing':'cfb rush yards per attempt',\n",
    "                   'cfb td rushing':'cfb rush td',\n",
    "                   'cfb yards total':'cfb yards',\n",
    "                   'cfb avg total':'cfb yards from scrimmage',\n",
    "                   'cfb td total':'cfb td'})"
   ]
  },
  {
   "cell_type": "markdown",
   "metadata": {},
   "source": [
    "### Cleaning some of the obvious columns:\n",
    "Converting obvious missing data to np.nan, such as rows with no cfb stats (eg broken cfb link), or rows with no nfl stats (eg broken nfl link) "
   ]
  },
  {
   "cell_type": "code",
   "execution_count": 12,
   "metadata": {},
   "outputs": [],
   "source": [
    "cond = [str.split(x)[0] == 'fail' for x in tdc['cfb method']]\n",
    "tdc.loc[cond,'cfb school':'cfb td'] = [np.nan]*17"
   ]
  },
  {
   "cell_type": "code",
   "execution_count": 13,
   "metadata": {},
   "outputs": [],
   "source": [
    "cond = [str.split(x)[0] == 'fail' for x in tdc['combine method']]"
   ]
  },
  {
   "cell_type": "code",
   "execution_count": 14,
   "metadata": {},
   "outputs": [],
   "source": [
    "cond= [str.split(row['nfl method'])[0] == 'fail' and str.split(row['nfl team'])[0] == 'fail' for i,row in tdc.iterrows()]\n",
    "tdc.loc[cond,'nfl age':'nfl table type'] = [np.nan]*32"
   ]
  },
  {
   "cell_type": "markdown",
   "metadata": {},
   "source": [
    "### Catching some NFL errors\n",
    "Some tables have rushing and receiving still switched up. We find those if the value of 'nfl catch ratio' doesn't end with '%'"
   ]
  },
  {
   "cell_type": "code",
   "execution_count": 15,
   "metadata": {},
   "outputs": [],
   "source": [
    "error_list = []\n",
    "col = 'nfl catch ratio'\n",
    "for i in tdc[col].index:\n",
    "    if isinstance(tdc.loc[i,col], str):\n",
    "        if tdc.loc[i,col][-1] != '%':\n",
    "            error_list.append(i)\n",
    "            \n",
    "#display(tdc.loc[[0]+error_list])\n",
    "#[print(x) for x in tdc.loc[[0]+error_list]['nfl url']]"
   ]
  },
  {
   "cell_type": "code",
   "execution_count": 16,
   "metadata": {},
   "outputs": [],
   "source": [
    "i_col = tdc.columns.get_loc('nfl pass targets')\n",
    "lr = 8\n",
    "lw = 11\n",
    "\n",
    "def switch_rushing_receiving (table, error_list): #switch rush data and receiving data if needed\n",
    "    for i in error_list:\n",
    "        rush = table.iloc[i,i_col:i_col+lr].tolist()\n",
    "        receiving = table.iloc[i,i_col+lr:i_col+lr+lw].tolist()\n",
    "        table.iloc[i,i_col:i_col+lw] = receiving\n",
    "        table.iloc[i,i_col+lw:i_col+lw+lr] = rush\n",
    "    return table\n",
    "\n",
    "tdc = switch_rushing_receiving(tdc,error_list)\n",
    "#tdc.loc[error_list]"
   ]
  },
  {
   "cell_type": "markdown",
   "metadata": {},
   "source": [
    "### Sets of manual NFL rectifications\n",
    "Let's see if we can catch some left over errors and edit them manually. For example, some players had numbers in the column 'nfl team', revealing the data wasn't properly treated. We take of it here"
   ]
  },
  {
   "cell_type": "code",
   "execution_count": 17,
   "metadata": {},
   "outputs": [],
   "source": [
    "#tdc['nfl team'].value_counts()\n",
    "rectif_1 = tdc.index[(tdc['nfl team']=='24') | (tdc['nfl team']=='27')].tolist()\n",
    "#tdc.loc[rectif_1]\n",
    "#[print(x) for x in tdc.loc[rectif_1]['nfl url']]\n",
    "\n",
    "for i in rectif_1:\n",
    "    tdc.loc[i,'nfl team':'nfl average grade'] =[tdc.loc[i,'nfl pos']]+[np.nan]+[tdc.loc[i,'nfl game']]+[np.nan]*27"
   ]
  },
  {
   "cell_type": "code",
   "execution_count": 18,
   "metadata": {},
   "outputs": [],
   "source": [
    "tdc.to_csv('data_sets/wr_tdc_clean.csv', index=False)"
   ]
  },
  {
   "cell_type": "markdown",
   "metadata": {},
   "source": [
    "### Converting str to floats carefully\n",
    "Starting with the column of nfl catch ratio, which is a string with '%' at the end"
   ]
  },
  {
   "cell_type": "code",
   "execution_count": 21,
   "metadata": {},
   "outputs": [],
   "source": [
    "tdc = pd.read_csv('data_sets/wr_tdc_clean.csv')"
   ]
  },
  {
   "cell_type": "code",
   "execution_count": 31,
   "metadata": {},
   "outputs": [],
   "source": [
    "col = 'nfl catch ratio'\n",
    "for i in tdc[col].index:\n",
    "    if isinstance(tdc.loc[i,col], str):\n",
    "        s = tdc.loc[i,col][:-1]\n",
    "        tdc.loc[i,col] = float(s)/100\n",
    "        \n",
    "tdc[col] = tdc[col].astype(float)"
   ]
  },
  {
   "cell_type": "markdown",
   "metadata": {},
   "source": [
    "Let's now display the type of all columns"
   ]
  },
  {
   "cell_type": "code",
   "execution_count": 32,
   "metadata": {},
   "outputs": [
    {
     "name": "stdout",
     "output_type": "stream",
     "text": [
      "0 year int64\n",
      "1 round int64\n",
      "2 pick int64\n",
      "3 player object\n",
      "4 pos object\n",
      "5 draft age float64\n",
      "6 team object\n",
      "7 entry year float64\n",
      "8 last year float64\n",
      "9 1st team pro select int64\n",
      "10 pro select int64\n",
      "11 years as primary starter int64\n",
      "12 weighted career average grade float64\n",
      "13 games float64\n",
      "14 games started float64\n",
      "15 rush attempts float64\n",
      "16 rush yards float64\n",
      "17 rush td float64\n",
      "18 rec attempts float64\n",
      "19 rec yards float64\n",
      "20 rec td float64\n",
      "21 nfl url object\n",
      "22 nfl age float64\n",
      "23 nfl team object\n",
      "24 nfl pos object\n",
      "25 nfl no float64\n",
      "26 nfl game float64\n",
      "27 nfl game started float64\n",
      "28 nfl pass targets float64\n",
      "29 nfl receptions float64\n",
      "30 nfl rec yards float64\n",
      "31 nfl rec yards per reception float64\n",
      "32 nfl rec td float64\n",
      "33 nfl 1st downs from reception float64\n",
      "34 nfl longest reception float64\n",
      "35 nfl receptions per game float64\n",
      "36 nfl rec yards per game float64\n",
      "37 nfl catch ratio float64\n",
      "38 nfl rec yards per target float64\n",
      "39 nfl rush attempts float64\n",
      "40 nfl rush yards float64\n",
      "41 nfl rush td float64\n",
      "42 nfl 1st downs from rush float64\n",
      "43 nfl longest rush float64\n",
      "44 nfl rush yards per attempt float64\n",
      "45 nfl rush yards per game float64\n",
      "46 nfl rush attempts per game float64\n",
      "47 nfl touches float64\n",
      "48 nfl yards per touch float64\n",
      "49 nfl yards from scrimmage float64\n",
      "50 nfl td float64\n",
      "51 nfl fumbles float64\n",
      "52 nfl average grade float64\n",
      "53 nfl table type object\n",
      "54 college object\n",
      "55 cfb url object\n",
      "56 cfb school object\n",
      "57 cfb conference object\n",
      "58 cfb class object\n",
      "59 cfb pos object\n",
      "60 cfb games float64\n",
      "61 cfb receptions float64\n",
      "62 cfb rec yards float64\n",
      "63 cfb rec yards per reception float64\n",
      "64 cfb rec td float64\n",
      "65 cfb rush attempts float64\n",
      "66 cfb rush yards float64\n",
      "67 cfb rush yards per attempt float64\n",
      "68 cfb rush td float64\n",
      "69 cfb scrimmages float64\n",
      "70 cfb yards float64\n",
      "71 cfb yards from scrimmage float64\n",
      "72 cfb td float64\n",
      "73 combine player object\n",
      "74 combine pos object\n",
      "75 combine ht float64\n",
      "76 combine wt float64\n",
      "77 combine forty float64\n",
      "78 combine vertical float64\n",
      "79 combine benchreps float64\n",
      "80 combine broadjump float64\n",
      "81 combine cone float64\n",
      "82 combine shuttle float64\n",
      "83 combine year float64\n",
      "84 combine pfr_id object\n",
      "85 combine av float64\n",
      "86 combine team object\n",
      "87 combine round float64\n",
      "88 combine pick float64\n",
      "89 nfl method object\n",
      "90 cfb method object\n",
      "91 combine method object\n"
     ]
    }
   ],
   "source": [
    "for i, col in enumerate(tdc.columns.tolist()):\n",
    "    print(i, col, tdc[col].dtype)"
   ]
  },
  {
   "cell_type": "code",
   "execution_count": 33,
   "metadata": {},
   "outputs": [],
   "source": [
    "tdc.to_csv('data_sets/wr_tdc_clean.csv', index=False)"
   ]
  },
  {
   "cell_type": "markdown",
   "metadata": {},
   "source": [
    "### Adding zero's\n",
    "\n",
    "Let's replace the np.nan or '' entries with zero's as long as we're sure of"
   ]
  },
  {
   "cell_type": "code",
   "execution_count": 34,
   "metadata": {},
   "outputs": [],
   "source": [
    "tdc.iloc[:,13:21] = tdc.iloc[:,13:21].fillna(0)"
   ]
  },
  {
   "cell_type": "markdown",
   "metadata": {},
   "source": [
    "### Issues with cfb data\n",
    "\n",
    "It seems like some of the cfb rows have not been properly scrapped. For example, some of the players have outrageous rec td in cfb"
   ]
  },
  {
   "cell_type": "code",
   "execution_count": 102,
   "metadata": {},
   "outputs": [],
   "source": [
    "tdc = pd.read_csv('data_sets/wr_tdc_clean.csv')"
   ]
  },
  {
   "cell_type": "markdown",
   "metadata": {},
   "source": [
    "Let's look at all the cfb table captions we scraped and hope to find an error"
   ]
  },
  {
   "cell_type": "code",
   "execution_count": 5,
   "metadata": {},
   "outputs": [],
   "source": [
    "def find_caption_from_url(url):\n",
    "    soup = BeautifulSoup(urlopen(url),'html.parser')\n",
    "    table_0 = soup.find_all('table')[0]\n",
    "    try:\n",
    "        x=table_0.find_all('caption')[0].get_text()\n",
    "    except:\n",
    "        x='no caption'\n",
    "    return x\n",
    "\n",
    "caption_list=[]\n",
    "for i, row in tdc.iterrows():\n",
    "    url = row['cfb url']\n",
    "    try:\n",
    "        caption_list.append(find_caption_from_url(url))\n",
    "    except:\n",
    "        caption_list.append(np.nan)\n",
    "        \n",
    "caption_df = pd.DataFrame({'captions':caption_list})"
   ]
  },
  {
   "cell_type": "code",
   "execution_count": 6,
   "metadata": {},
   "outputs": [],
   "source": [
    "caption_df = pd.read_csv('dfcap.csv')"
   ]
  },
  {
   "cell_type": "code",
   "execution_count": 8,
   "metadata": {
    "scrolled": false
   },
   "outputs": [
    {
     "data": {
      "text/plain": [
       "Receiving & Rushing Table    312\n",
       "Rushing & Receiving Table     15\n",
       "Passing Table                 10\n",
       "Defense & Fumbles Table        4\n",
       "Punt & Kick Returns Table      2\n",
       "Kick & Punt Returns Table      1\n",
       "Name: captions, dtype: int64"
      ]
     },
     "execution_count": 8,
     "metadata": {},
     "output_type": "execute_result"
    }
   ],
   "source": [
    "caption_df['captions'].value_counts()"
   ]
  },
  {
   "cell_type": "markdown",
   "metadata": {},
   "source": [
    "There is in fact multiple tables with different captions that expected:\n",
    "\n",
    "- For those with \"Rushing ...\" we simply have to switch the order of the receiving and rushing stats\n",
    "- For the others, we need to do our advanced \"web scrapping\" which allows us to find all the tables within one page. As we find the proper caption, we can extract the data, without forgetting to convert to floats when possible\n",
    "- Finally, for this last category, there is a chance that we find the table 'Rushing & Receiving Table' rather than its proper counterpart, so we need to do the inverting of those as well"
   ]
  },
  {
   "cell_type": "code",
   "execution_count": 72,
   "metadata": {},
   "outputs": [],
   "source": [
    "ind = caption_df.index[caption_df['captions'] == 'Rushing & Receiving Table'].tolist()\n",
    "\n",
    "def switch_rushing_receiving1 (tdc,ind): #switch rush data and receiving data if needed\n",
    "    for i in ind:\n",
    "        rush = tdc.iloc[i,61:65]\n",
    "        receiving = tdc.iloc[i,65:69]\n",
    "\n",
    "        tdc.iloc[i,61:69] = receiving.tolist() +  rush.tolist()\n",
    "    return tdc\n",
    "\n",
    "tdc = switch_rushing_receiving1(tdc, ind)"
   ]
  },
  {
   "cell_type": "code",
   "execution_count": 88,
   "metadata": {},
   "outputs": [],
   "source": [
    "ind = caption_df.index[(caption_df['captions'] == 'Passing Table')|\n",
    "                      (caption_df['captions'] == 'Kick & Punt Returns Table')|\n",
    "                      (caption_df['captions'] == 'Defense & Fumbles Table')|\n",
    "                      (caption_df['captions'] == 'Punt & Kick Returns Table')].tolist()\n",
    "\n",
    "\n",
    "def generate_all_nfl_tables(url): #use web.driver chrome to find hidden tables\n",
    "    driver = webdriver.Chrome('/Users/adriensaremi/Documents/School and Employment/SpringBoard Course/Springboard/Capstone_1/data_sets/chromedriver')\n",
    "    driver.get(url)\n",
    "    soup = BeautifulSoup(driver.page_source,'lxml')\n",
    "    driver.quit()\n",
    "    return soup.find_all('table')\n",
    "\n",
    "\n",
    "def generate_proper_cfb_row(table_list): #return the proper row from the table list\n",
    "    cl = []\n",
    "    row = [0]\n",
    "    for x in table_list:\n",
    "        try:\n",
    "            caption = x.find_all('caption')[0].get_text()\n",
    "        except:\n",
    "            caption = 'no'           \n",
    "        if caption == 'Receiving & Rushing Table':\n",
    "            table_cfb = collegestats(x)\n",
    "            row = row_cfb(table_cfb)\n",
    "            break\n",
    "        elif caption == 'Rushing & Receiving Table':\n",
    "            table_cfb = collegestats(x)\n",
    "            row = row_cfb(table_cfb)\n",
    "            row = switch_rushing_receiving2(row)\n",
    "            break\n",
    "        else:\n",
    "            pass\n",
    "\n",
    "    return row\n",
    "\n",
    "\n",
    "def collegestats(table_0): #provide cfb stats from table\n",
    "    table = pd.DataFrame(columns=list_of_college,\n",
    "                         index=range(0,15)) #create a new blank table\n",
    "    \n",
    "    row_marker = 0\n",
    "    for row in table_0.find_all('tr'):\n",
    "        column_marker = 0\n",
    "        columns = row.find_all('td')\n",
    "        for column in columns:\n",
    "            table.iat[row_marker,column_marker] = column.get_text()\n",
    "            column_marker += 1\n",
    "        row_marker += 1\n",
    "    \n",
    "    table.dropna(subset=['school'],inplace=True)  \n",
    "\n",
    "    return table.reset_index(drop = True)  \n",
    "\n",
    "def overall_cfb_index(t): #which row is the overall stats. Needed for players with multiple teams\n",
    "    try: \n",
    "        list = [x.lower() for x in t['school'].tolist()]\n",
    "        i = list.index('overall')\n",
    "    except:\n",
    "        i = len(t)-1\n",
    "    return i\n",
    "\n",
    "def row_cfb(t):#picks the overall row of the college tabler and adds data from the year right before (team, age, pos)\n",
    "    i = overall_cfb_index(t)\n",
    "    return t.loc[i-1][0:4].tolist() + [str(t['games'].apply(pd.to_numeric).iloc[:i].sum())] + t.iloc[i][5:].tolist()\n",
    "\n",
    "def switch_rushing_receiving2 (l1): #switch rush data and receiving data if needed\n",
    "    l2 = l1\n",
    "    rush = l1[5:9]\n",
    "    receiving = l1[9:13]\n",
    "    l2[5:13] = receiving + rush\n",
    "    return l2"
   ]
  },
  {
   "cell_type": "code",
   "execution_count": 98,
   "metadata": {},
   "outputs": [],
   "source": [
    "def main(tdc, ind): #use a for loop to do it all\n",
    "    row_list = []\n",
    "    for i in ind:\n",
    "        table_list = generate_all_nfl_tables(tdc.loc[i,'cfb url'])\n",
    "        time.sleep(5)\n",
    "        row = generate_proper_cfb_row(table_list)\n",
    "        row_list.append(row)                  \n",
    "    \n",
    "    return row_list\n",
    "\n",
    "#rows = main(tdc, ind)\n",
    "#pd.DataFrame(rows).to_csv('rows_of_search.csv', index = False)\n",
    "\n",
    "def mainp (tdc,ind,rows):\n",
    "    r = 0\n",
    "    for i in ind:\n",
    "        try:\n",
    "            tdc.loc[i,'cfb school':'cfb td'] = rows[r][0:4] + [float(x) for x in rows[r][4:]]\n",
    "        except:\n",
    "            tdc.loc[i,'cfb school':'cfb td'] = tdc.loc[i,'cfb school':'cfb pos'].tolist() + [np.nan]*13\n",
    "        r = r +1\n",
    "        \n",
    "    return tdc\n",
    "\n",
    "#tdcc = tdc.copy()\n",
    "#tdcp = mainp(tdcc,ind, rows)\n",
    "tdc = mainp(tdc,ind,rows)"
   ]
  },
  {
   "cell_type": "code",
   "execution_count": 101,
   "metadata": {},
   "outputs": [],
   "source": [
    "tdc.to_csv('data_sets/wr_tdc_clean.csv', index=False)"
   ]
  }
 ],
 "metadata": {
  "kernelspec": {
   "display_name": "Python 3",
   "language": "python",
   "name": "python3"
  },
  "language_info": {
   "codemirror_mode": {
    "name": "ipython",
    "version": 3
   },
   "file_extension": ".py",
   "mimetype": "text/x-python",
   "name": "python",
   "nbconvert_exporter": "python",
   "pygments_lexer": "ipython3",
   "version": "3.7.3"
  }
 },
 "nbformat": 4,
 "nbformat_minor": 2
}
