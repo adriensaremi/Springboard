{
 "cells": [
  {
   "cell_type": "code",
   "execution_count": 3,
   "metadata": {
    "init_cell": true
   },
   "outputs": [],
   "source": [
    "import pandas as pd\n",
    "import numpy as np\n",
    "import seaborn as sns\n",
    "import matplotlib.pyplot as plt\n",
    "\n",
    "pd.set_option('display.max_rows', 100)\n",
    "pd.set_option('display.max_columns', 100)"
   ]
  },
  {
   "cell_type": "code",
   "execution_count": 362,
   "metadata": {},
   "outputs": [],
   "source": [
    "import statsmodels.api as sm\n",
    "from statsmodels.formula.api import ols\n",
    "\n",
    "from sklearn import preprocessing\n",
    "\n",
    "from sklearn.metrics import mean_squared_error\n",
    "from sklearn.metrics import classification_report, confusion_matrix\n",
    "from sklearn.metrics import roc_curve, roc_auc_score, log_loss, precision_recall_curve\n",
    "\n",
    "from sklearn.model_selection import train_test_split, cross_val_score, cross_validate, GridSearchCV\n",
    "from sklearn.neighbors import KNeighborsClassifier\n",
    "#from sklearn.svm import SVC\n",
    "from sklearn.linear_model import LinearRegression, Ridge, ElasticNet\n",
    "from sklearn.linear_model import LogisticRegression\n",
    "\n",
    "from sklearn.ensemble import RandomForestClassifier\n",
    "\n",
    "from sklearn.impute import SimpleImputer as Imputer\n",
    "\n",
    "from sklearn.pipeline import Pipeline"
   ]
  },
  {
   "cell_type": "code",
   "execution_count": 81,
   "metadata": {},
   "outputs": [],
   "source": [
    "def dropthenan(table):\n",
    "    cond1 = table[table.cfbconference == 'Other'].index.tolist()\n",
    "    cond2 = table[table.cfbtd.isna()].index.tolist()\n",
    "    cond3 = table[table.combineforty.isna()].index.tolist()\n",
    "#    cond = np.unique(cond1+cond2+cond3)\n",
    "    cond = np.intersect1d(np.intersect1d(cond1,cond2),cond3)\n",
    "    return table.drop(cond, axis = 0).reset_index(drop = True)\n",
    "\n",
    "def confclass(table):\n",
    "    table.loc[table.cfbconference == 'Other','cfbconference'] = np.nan\n",
    "    table.loc[table.cfbclass == 'Non Declared','cfbclass'] = np.nan\n",
    "    table = pd.get_dummies(table, prefix=['cfbconference','cfbclass'])\n",
    "    return table\n",
    "\n",
    "# def splitter(table, col, thresh):\n",
    "#     table['target'] = table[col].apply(lambda x: 1 if x > thresh else 0)\n",
    "#     return table.drop(col, axis = 1)\n",
    "\n",
    "def splitter(arr, thresh):\n",
    "    return arr.apply(lambda x: 1 if x > thresh else 0)\n",
    "\n",
    "def normalizeX(X, cols_list):\n",
    "    x = X[cols_list]\n",
    "    X_others = X.drop(cols_list, axis = 1)\n",
    "    trans = preprocessing.MinMaxScaler()\n",
    "    #trans = preprocessing.StandardScaler()\n",
    "    x_scaled = trans.fit_transform(x)\n",
    "    X_new = pd.DataFrame(x_scaled , columns = X[cols_list].columns.tolist())\n",
    "    return pd.concat([X_new, X_others], axis = 1) #pd.concat([X_new + X_others], axis = 1)"
   ]
  },
  {
   "cell_type": "code",
   "execution_count": 6,
   "metadata": {
    "init_cell": true
   },
   "outputs": [],
   "source": [
    "colsnum = ['cfbgames','cfbreceptions','cfbrecyards','cfbrecyardsperreception','cfbrectd',\n",
    "           'cfbrushattempts','cfbrushyards','cfbrushyardsperattempt','cfbrushtd','cfbscrimmages',\n",
    "           'cfbyards','cfbyardsfromscrimmage','cfbtd','combineht','combinewt','combineforty',\n",
    "           'combinevertical','combinebroadjump','combinecone','combineshuttle']\n",
    "\n",
    "wr = pd.read_csv('data_sets/wr.csv')\n",
    "wr = wr.rename(columns = {'yardsfirst5seasons': 'yffs'})\n",
    "wr = wr.drop('combinebenchreps', axis = 1)"
   ]
  },
  {
   "cell_type": "code",
   "execution_count": 225,
   "metadata": {},
   "outputs": [
    {
     "data": {
      "image/png": "[encoded data removed]",
      "text/plain": [
       "<Figure size 432x288 with 1 Axes>"
      ]
     },
     "metadata": {
      "needs_background": "light"
     },
     "output_type": "display_data"
    }
   ],
   "source": [
    "plt.hist(wrp.yffs, bins = 30)\n",
    "plt.show()"
   ]
  },
  {
   "cell_type": "markdown",
   "metadata": {},
   "source": [
    "# At a fixed threshold y < or > 50"
   ]
  },
  {
   "cell_type": "code",
   "execution_count": 183,
   "metadata": {},
   "outputs": [],
   "source": [
    "wr1 = dropthenan(wr)\n",
    "wr1 = confclass(wr1)"
   ]
  },
  {
   "cell_type": "code",
   "execution_count": 408,
   "metadata": {
    "scrolled": false
   },
   "outputs": [],
   "source": [
    "X = wr1.drop('yffs', axis = 1)\n",
    "y = wr1.yffs\n",
    "\n",
    "imp = Imputer(missing_values= np.nan, strategy = 'mean')\n",
    "imp.fit(X)\n",
    "X = imp.transform(X)\n",
    "X = pd.DataFrame(X, columns = wr1.drop('yffs', axis = 1).columns.tolist())\n",
    "\n",
    "X = normalizeX(X, colsnum)\n",
    "y = splitter(y, 50)"
   ]
  },
  {
   "cell_type": "markdown",
   "metadata": {},
   "source": [
    "### KNeighbors Classifier on a random train/test split data"
   ]
  },
  {
   "cell_type": "code",
   "execution_count": 409,
   "metadata": {
    "scrolled": true
   },
   "outputs": [
    {
     "name": "stdout",
     "output_type": "stream",
     "text": [
      "score 0.6964285714285714\n",
      "              precision    recall  f1-score   support\n",
      "\n",
      "           0       0.29      0.06      0.11        31\n",
      "           1       0.72      0.94      0.82        81\n",
      "\n",
      "    accuracy                           0.70       112\n",
      "   macro avg       0.50      0.50      0.46       112\n",
      "weighted avg       0.60      0.70      0.62       112\n",
      "\n"
     ]
    }
   ],
   "source": [
    "knn = KNeighborsClassifier(n_neighbors = 18)\n",
    "X_train, X_test, y_train, y_test = train_test_split(X, y, test_size = .30)\n",
    "\n",
    "knn.fit(X_train,y_train)\n",
    "y_pred = knn.predict(X_test)\n",
    "\n",
    "print('score',knn.score(X_test, y_test))\n",
    "# print(confusion_matrix(y_test, y_pred))\n",
    "print(classification_report(y_test, y_pred))"
   ]
  },
  {
   "cell_type": "markdown",
   "metadata": {},
   "source": [
    "### Logistic Regression on a random train/test split data"
   ]
  },
  {
   "cell_type": "code",
   "execution_count": 85,
   "metadata": {},
   "outputs": [
    {
     "name": "stdout",
     "output_type": "stream",
     "text": [
      "[[ 5 26]\n",
      " [ 5 76]]\n",
      "              precision    recall  f1-score   support\n",
      "\n",
      "           0       0.50      0.16      0.24        31\n",
      "           1       0.75      0.94      0.83        81\n",
      "\n",
      "    accuracy                           0.72       112\n",
      "   macro avg       0.62      0.55      0.54       112\n",
      "weighted avg       0.68      0.72      0.67       112\n",
      "\n"
     ]
    }
   ],
   "source": [
    "logreg = LogisticRegression()\n",
    "X_train, X_test, y_train, y_test = train_test_split(X, y, test_size = .30, stratify = y)\n",
    "\n",
    "logreg.fit(X_train,y_train)\n",
    "\n",
    "y_pred = logreg.predict(X_test)\n",
    "print(confusion_matrix(y_test, y_pred))\n",
    "print(classification_report(y_test, y_pred))"
   ]
  },
  {
   "cell_type": "markdown",
   "metadata": {},
   "source": [
    "### ROC Curve (varying threshold p) on a random train/test split data: TPR and FPR"
   ]
  },
  {
   "cell_type": "code",
   "execution_count": 364,
   "metadata": {},
   "outputs": [
    {
     "data": {
      "image/png": "[encoded data removed]",
      "text/plain": [
       "<Figure size 432x288 with 1 Axes>"
      ]
     },
     "metadata": {
      "needs_background": "light"
     },
     "output_type": "display_data"
    },
    {
     "name": "stdout",
     "output_type": "stream",
     "text": [
      "0.6644029428409733\n",
      "0.48720707579041733\n"
     ]
    }
   ],
   "source": [
    "logreg = LogisticRegression()\n",
    "X_train, X_test, y_train, y_test = train_test_split(X, y, test_size = .30)\n",
    "\n",
    "logreg.fit(X_train,y_train)\n",
    "\n",
    "y_pred_prob = logreg.predict_proba(X_test)[:,1]\n",
    "\n",
    "fpr, tpr, thresholds = roc_curve(y_test, y_pred_prob)\n",
    "plt.plot([0, 1], [0, 1], 'k--')\n",
    "plt.plot(fpr, tpr)\n",
    "plt.xlabel('False Positive Rate')\n",
    "plt.ylabel('True Positive Rate')\n",
    "plt.title('ROC Curve')\n",
    "plt.show()\n",
    "\n",
    "print(roc_auc_score(y_test, y_pred_prob))\n",
    "print(log_loss(y_test, y_pred_prob))"
   ]
  },
  {
   "cell_type": "markdown",
   "metadata": {},
   "source": [
    "For each value predicted, we return the tpr and fpr depending on the threshold. Those are defined in the two cells below."
   ]
  },
  {
   "cell_type": "code",
   "execution_count": 360,
   "metadata": {},
   "outputs": [
    {
     "data": {
      "text/plain": [
       "(0.02531645569620253, 0.030303030303030304, 0.9090571442909853)"
      ]
     },
     "execution_count": 360,
     "metadata": {},
     "output_type": "execute_result"
    }
   ],
   "source": [
    "j = 3 \n",
    "tpr[j], fpr[j], thresholds[j]"
   ]
  },
  {
   "cell_type": "code",
   "execution_count": 359,
   "metadata": {
    "scrolled": false
   },
   "outputs": [
    {
     "data": {
      "text/plain": [
       "(0.02531645569620253, 0.030303030303030304)"
      ]
     },
     "execution_count": 359,
     "metadata": {},
     "output_type": "execute_result"
    }
   ],
   "source": [
    "mat = np.transpose([y_pred_prob,y_pred,y_test])\n",
    "\n",
    "tp = [1 for i in range(len(mat)) if mat[i,0] >= thresholds[j] and mat[i,2] == 1]\n",
    "tn = [1 for i in range(len(mat)) if mat[i,0] < thresholds[j] and mat[i,2] == 0]\n",
    "fp = [1 for i in range(len(mat)) if mat[i,0] >= thresholds[j] and mat[i,2] == 0]\n",
    "fn = [1 for i in range(len(mat)) if mat[i,0] < thresholds[j] and mat[i,2] == 1]\n",
    "\n",
    "len(tp) / (len(tp) + len(fn)), len(fp) / (len(fp) + len(tn))"
   ]
  },
  {
   "cell_type": "markdown",
   "metadata": {},
   "source": [
    "### ROC Curve (varying threshold p) on a random train/test split data: Recall vs Precision\n",
    "\n",
    "We're actually interested in precision and recall with respect to the 'flops' , those that are below the threshold. Particuarly the recall, since we want our model to produce as least as possible as false negatives, those that are flops but that the model fails to capture."
   ]
  },
  {
   "cell_type": "code",
   "execution_count": 403,
   "metadata": {},
   "outputs": [
    {
     "data": {
      "image/png": "[encoded data removed]",
      "text/plain": [
       "<Figure size 432x288 with 1 Axes>"
      ]
     },
     "metadata": {
      "needs_background": "light"
     },
     "output_type": "display_data"
    }
   ],
   "source": [
    "logreg = LogisticRegression()\n",
    "X_train, X_test, y_train, y_test = train_test_split(X, y, test_size = .30)\n",
    "\n",
    "logreg.fit(X_train,y_train)\n",
    "y_pred_prob = logreg.predict_proba(X_test)[:,0]\n",
    "\n",
    "precision, recall, thresholds = precision_recall_curve(y_test, y_pred_prob)\n",
    "plt.xlim(0, 1)\n",
    "plt.ylim(0, 1)\n",
    "plt.plot(precision, recall)\n",
    "plt.xlabel('Precision')\n",
    "plt.ylabel('Recall')\n",
    "plt.title('Precision Recall Curve')\n",
    "plt.show()"
   ]
  },
  {
   "cell_type": "markdown",
   "metadata": {},
   "source": [
    "### Using a Pipeline to for Hyperparameter tuning on\n",
    "- a Logisitic Regressor\n",
    "- a K-Neighbors Classifier\n",
    "- a Random Forest Classifier"
   ]
  },
  {
   "cell_type": "code",
   "execution_count": 458,
   "metadata": {},
   "outputs": [],
   "source": [
    "y_new = [(lambda u: 0 if u > 0 else 1)(u) for u in y]\n",
    "\n",
    "pipeline = Pipeline([ ('classifier' , RandomForestClassifier())\n",
    "                    ])\n",
    "\n",
    "param_grid = [\n",
    "    {'classifier': [LogisticRegression()],\n",
    "     'classifier__penalty' : ['l1', 'l2'],\n",
    "    'classifier__C' : np.logspace(-5, 8, 15),\n",
    "    'classifier__solver' : ['liblinear']},\n",
    "    {'classifier': [KNeighborsClassifier()],\n",
    "     'classifier__n_neighbors': np.arange(1,50)},\n",
    "    {'classifier' : [RandomForestClassifier()],\n",
    "    'classifier__n_estimators' : list(range(10,101,10)),\n",
    "    'classifier__max_features' : list(range(6,32,5))}\n",
    "    ]\n",
    "\n",
    "# param_grid =  {'classifier' : [RandomForestClassifier()],\n",
    "#     'classifier__class_weight': ['balanced'],\n",
    "#     'classifier__n_estimators' : list(range(10,101,10)),\n",
    "#     'classifier__max_features' : list(range(6,32,5))}\n",
    "\n",
    "clf = GridSearchCV(pipeline, param_grid = param_grid, scoring = 'recall', cv = 5)#, verbose=True, n_jobs=-1)\n",
    "\n",
    "best_clf = clf.fit(X, y_new)"
   ]
  },
  {
   "cell_type": "code",
   "execution_count": 459,
   "metadata": {},
   "outputs": [
    {
     "name": "stdout",
     "output_type": "stream",
     "text": [
      "Best params {'classifier': KNeighborsClassifier(algorithm='auto', leaf_size=30, metric='minkowski',\n",
      "                     metric_params=None, n_jobs=None, n_neighbors=1, p=2,\n",
      "                     weights='uniform'), 'classifier__n_neighbors': 1}\n",
      "Best score 0.439047619047619\n"
     ]
    }
   ],
   "source": [
    "#print(best_clf)\n",
    "print(\"Best params\", best_clf.best_params_)\n",
    "print(\"Best score\", best_clf.best_score_)\n",
    "#for param_name in sorted(param_grid[1].keys()):\n",
    "#    print(\"%s: %s\" %(param_name, best_clf.best_params_[param_name]))"
   ]
  },
  {
   "cell_type": "code",
   "execution_count": 460,
   "metadata": {},
   "outputs": [],
   "source": [
    "#clf = RandomForestClassifier( max_features= 6, n_estimators= 100, class_weight= 'balanced', random_state= 32)\n",
    "#clf = LogisticRegression(C = 1e-05, penalty= 'l2', solver ='liblinear')\n",
    "clf = KNeighborsClassifier(n_neighbors=1)"
   ]
  },
  {
   "cell_type": "code",
   "execution_count": 468,
   "metadata": {},
   "outputs": [
    {
     "name": "stdout",
     "output_type": "stream",
     "text": [
      "[[14 18]\n",
      " [25 55]]\n",
      "              precision    recall  f1-score   support\n",
      "\n",
      "           0       0.36      0.44      0.39        32\n",
      "           1       0.75      0.69      0.72        80\n",
      "\n",
      "    accuracy                           0.62       112\n",
      "   macro avg       0.56      0.56      0.56       112\n",
      "weighted avg       0.64      0.62      0.63       112\n",
      "\n",
      "1    80\n",
      "0    32\n",
      "Name: yffs, dtype: int64 \n",
      " 1    73\n",
      "0    39\n",
      "Name: 0, dtype: int64\n"
     ]
    }
   ],
   "source": [
    "X_train, X_test, y_train, y_test = train_test_split(X, y, test_size = .30)\n",
    "\n",
    "clf.fit(X_train, y_train)\n",
    "y_pred = clf.predict(X_test)\n",
    "print(confusion_matrix(y_test, y_pred))\n",
    "print(classification_report(y_test, y_pred))\n",
    "\n",
    "print(y_test.value_counts(),'\\n', pd.DataFrame(y_pred)[0].value_counts())"
   ]
  },
  {
   "cell_type": "code",
   "execution_count": 410,
   "metadata": {},
   "outputs": [],
   "source": [
    "# param_grid = {'C': np.logspace(-5, 8, 15),'penalty': ['l1', 'l2']}\n",
    "# logreg = LogisticRegression()\n",
    "# logreg_cv = GridSearchCV(logreg, param_grid, cv=5, verbose=0)\n",
    "# logreg_cv.fit(X, y)\n",
    "# print(\"Tuned Logistic Regression Parameters: {}\".format(logreg_cv.best_params_)) \n",
    "# print(\"Best score is {}\".format(logreg_cv.best_score_))\n",
    "# print('Best Penalty:', best_model.best_estimator_.get_params()['penalty'])\n",
    "# print('Best C:', best_model.best_estimator_.get_params()['C'])\n",
    "\n",
    "# param_grid = {'n_neighbors':np.arange(1, 50)}\n",
    "# knn = KNeighborsClassifier()\n",
    "# knn_cv = GridSearchCV(knn, param_grid, cv = 10)\n",
    "# knn_cv.fit(X, y)\n",
    "# print(knn_cv.best_params_)\n",
    "# print(knn_cv.best_score_)"
   ]
  },
  {
   "cell_type": "markdown",
   "metadata": {},
   "source": [
    "# Varying Threshold of Acceptance"
   ]
  },
  {
   "cell_type": "code",
   "execution_count": 30,
   "metadata": {},
   "outputs": [],
   "source": [
    "wr2 = dropthenan(wr)\n",
    "wr2 = confclass(wr2)\n",
    "X = wr2.drop('yffs', axis = 1)\n",
    "\n",
    "imp = Imputer(missing_values= np.nan, strategy = 'mean')\n",
    "imp.fit(X)\n",
    "X = imp.transform(X)\n",
    "X = pd.DataFrame(X, columns = wr1.drop('yffs', axis = 1).columns.tolist())\n",
    "\n",
    "X = normalizeX(X, colsnum)\n",
    "#y = wr2.yffs\n",
    "#y = splitter(y, 50)"
   ]
  },
  {
   "cell_type": "markdown",
   "metadata": {},
   "source": [
    "# Building the two models"
   ]
  },
  {
   "cell_type": "code",
   "execution_count": 496,
   "metadata": {},
   "outputs": [],
   "source": [
    "param_grid = {'alpha': np.logspace(-4, 0, 50)}\n",
    "ridge = Ridge(normalize = True)\n",
    "\n",
    "def ridgefit(wrtf, threshf, option):\n",
    "    if option == 'low':\n",
    "        wrtf = wrtf[wrtf.yffs<threshf]\n",
    "    elif option == 'high':\n",
    "        wrtf = wrtf[wrtf.yffs>threshf]\n",
    "    \n",
    "    X = wrtf.drop('yffs', axis = 1)\n",
    "    y = wrtf.yffs\n",
    "    \n",
    "    imp = Imputer(missing_values= np.nan, strategy = 'mean')\n",
    "    imp.fit(X)\n",
    "    X = imp.transform(X)\n",
    "    X = pd.DataFrame(X, columns = wrtf.drop('yffs', axis = 1).columns.tolist())\n",
    "    X = normalizeX(X, colsnum)\n",
    "\n",
    "    reg_cv = GridSearchCV(ridge, param_grid, cv=10, scoring= 'neg_root_mean_squared_error')\n",
    "    reg_cv = GridSearchCV(ridge, param_grid, cv=10)\n",
    "    reg_cv.fit(X, y)\n",
    "    \n",
    "    return reg_cv.best_params_, reg_cv.best_score_"
   ]
  },
  {
   "cell_type": "code",
   "execution_count": 546,
   "metadata": {
    "scrolled": true
   },
   "outputs": [
    {
     "data": {
      "text/plain": [
       "0      8.727616\n",
       "1      8.732466\n",
       "2      6.408529\n",
       "3      6.897705\n",
       "4      8.355615\n",
       "         ...   \n",
       "364    6.511745\n",
       "365    4.262680\n",
       "367    6.016157\n",
       "370    2.397895\n",
       "371    6.690842\n",
       "Name: yffs, Length: 301, dtype: float64"
      ]
     },
     "execution_count": 546,
     "metadata": {},
     "output_type": "execute_result"
    }
   ],
   "source": [
    "np.log(wrt[wrt.yffs>1].yffs)"
   ]
  },
  {
   "cell_type": "code",
   "execution_count": 549,
   "metadata": {},
   "outputs": [
    {
     "data": {
      "text/plain": [
       "8.987196820661973"
      ]
     },
     "execution_count": 549,
     "metadata": {},
     "output_type": "execute_result"
    }
   ],
   "source": [
    "np.log(8000)"
   ]
  },
  {
   "cell_type": "code",
   "execution_count": 543,
   "metadata": {},
   "outputs": [
    {
     "data": {
      "image/png": "[encoded data removed]",
      "text/plain": [
       "<Figure size 432x288 with 1 Axes>"
      ]
     },
     "metadata": {
      "needs_background": "light"
     },
     "output_type": "display_data"
    }
   ],
   "source": [
    "plt.hist(np.log(wrt[wrt.yffs>1].yffs), bins = 20)\n",
    "plt.xscale('log')"
   ]
  },
  {
   "cell_type": "code",
   "execution_count": 545,
   "metadata": {},
   "outputs": [
    {
     "data": {
      "image/png": "[encoded data removed]",
      "text/plain": [
       "<Figure size 432x288 with 1 Axes>"
      ]
     },
     "metadata": {
      "needs_background": "light"
     },
     "output_type": "display_data"
    }
   ],
   "source": [
    "plt.hist(wrt[wrt.yffs>1].yffs, bins = 20)\n",
    "plt.show()"
   ]
  },
  {
   "cell_type": "code",
   "execution_count": 503,
   "metadata": {},
   "outputs": [],
   "source": [
    "wrt = dropthenan(wr)\n",
    "wrt = confclass(wrt)\n",
    "low_list = []\n",
    "high_list = []\n",
    "thresh_space = np.arange(1, 200, 10) \n",
    "\n",
    "for thresh in thresh_space:\n",
    "    low_list.append(ridgefit(wrt, thresh, 'low'))\n",
    "    high_list.append(ridgefit(wrt, thresh, 'high'))"
   ]
  },
  {
   "cell_type": "code",
   "execution_count": 526,
   "metadata": {},
   "outputs": [
    {
     "data": {
      "text/html": [
       "<div>\n",
       "<style scoped>\n",
       "    .dataframe tbody tr th:only-of-type {\n",
       "        vertical-align: middle;\n",
       "    }\n",
       "\n",
       "    .dataframe tbody tr th {\n",
       "        vertical-align: top;\n",
       "    }\n",
       "\n",
       "    .dataframe thead th {\n",
       "        text-align: right;\n",
       "    }\n",
       "</style>\n",
       "<table border=\"1\" class=\"dataframe\">\n",
       "  <thead>\n",
       "    <tr style=\"text-align: right;\">\n",
       "      <th></th>\n",
       "      <th>thresh</th>\n",
       "      <th>alpha_low</th>\n",
       "      <th>cv_score_low</th>\n",
       "      <th>alpha_high</th>\n",
       "      <th>cv_score_high</th>\n",
       "    </tr>\n",
       "  </thead>\n",
       "  <tbody>\n",
       "    <tr>\n",
       "      <td>0</td>\n",
       "      <td>1</td>\n",
       "      <td>0.0001</td>\n",
       "      <td>-0.016667</td>\n",
       "      <td>0.828643</td>\n",
       "      <td>0.125969</td>\n",
       "    </tr>\n",
       "    <tr>\n",
       "      <td>1</td>\n",
       "      <td>11</td>\n",
       "      <td>1.0000</td>\n",
       "      <td>-0.182560</td>\n",
       "      <td>0.828643</td>\n",
       "      <td>0.116178</td>\n",
       "    </tr>\n",
       "    <tr>\n",
       "      <td>2</td>\n",
       "      <td>21</td>\n",
       "      <td>1.0000</td>\n",
       "      <td>-0.164092</td>\n",
       "      <td>0.828643</td>\n",
       "      <td>0.112290</td>\n",
       "    </tr>\n",
       "    <tr>\n",
       "      <td>3</td>\n",
       "      <td>31</td>\n",
       "      <td>1.0000</td>\n",
       "      <td>-0.916822</td>\n",
       "      <td>1.000000</td>\n",
       "      <td>0.113091</td>\n",
       "    </tr>\n",
       "    <tr>\n",
       "      <td>4</td>\n",
       "      <td>41</td>\n",
       "      <td>1.0000</td>\n",
       "      <td>-0.190631</td>\n",
       "      <td>1.000000</td>\n",
       "      <td>0.094551</td>\n",
       "    </tr>\n",
       "    <tr>\n",
       "      <td>5</td>\n",
       "      <td>51</td>\n",
       "      <td>1.0000</td>\n",
       "      <td>-0.182715</td>\n",
       "      <td>1.000000</td>\n",
       "      <td>0.096321</td>\n",
       "    </tr>\n",
       "    <tr>\n",
       "      <td>6</td>\n",
       "      <td>61</td>\n",
       "      <td>1.0000</td>\n",
       "      <td>-0.403156</td>\n",
       "      <td>1.000000</td>\n",
       "      <td>0.072376</td>\n",
       "    </tr>\n",
       "    <tr>\n",
       "      <td>7</td>\n",
       "      <td>71</td>\n",
       "      <td>1.0000</td>\n",
       "      <td>-0.384613</td>\n",
       "      <td>1.000000</td>\n",
       "      <td>0.074265</td>\n",
       "    </tr>\n",
       "    <tr>\n",
       "      <td>8</td>\n",
       "      <td>81</td>\n",
       "      <td>1.0000</td>\n",
       "      <td>-0.285651</td>\n",
       "      <td>1.000000</td>\n",
       "      <td>0.073223</td>\n",
       "    </tr>\n",
       "    <tr>\n",
       "      <td>9</td>\n",
       "      <td>91</td>\n",
       "      <td>1.0000</td>\n",
       "      <td>-0.355385</td>\n",
       "      <td>0.828643</td>\n",
       "      <td>0.063739</td>\n",
       "    </tr>\n",
       "    <tr>\n",
       "      <td>10</td>\n",
       "      <td>101</td>\n",
       "      <td>1.0000</td>\n",
       "      <td>-0.273263</td>\n",
       "      <td>0.686649</td>\n",
       "      <td>0.070286</td>\n",
       "    </tr>\n",
       "    <tr>\n",
       "      <td>11</td>\n",
       "      <td>111</td>\n",
       "      <td>1.0000</td>\n",
       "      <td>-0.299704</td>\n",
       "      <td>0.686649</td>\n",
       "      <td>0.067867</td>\n",
       "    </tr>\n",
       "    <tr>\n",
       "      <td>12</td>\n",
       "      <td>121</td>\n",
       "      <td>1.0000</td>\n",
       "      <td>-0.364287</td>\n",
       "      <td>1.000000</td>\n",
       "      <td>0.033180</td>\n",
       "    </tr>\n",
       "    <tr>\n",
       "      <td>13</td>\n",
       "      <td>131</td>\n",
       "      <td>1.0000</td>\n",
       "      <td>-0.207591</td>\n",
       "      <td>1.000000</td>\n",
       "      <td>0.019207</td>\n",
       "    </tr>\n",
       "    <tr>\n",
       "      <td>14</td>\n",
       "      <td>141</td>\n",
       "      <td>1.0000</td>\n",
       "      <td>-0.221404</td>\n",
       "      <td>1.000000</td>\n",
       "      <td>0.012845</td>\n",
       "    </tr>\n",
       "    <tr>\n",
       "      <td>15</td>\n",
       "      <td>151</td>\n",
       "      <td>1.0000</td>\n",
       "      <td>-0.180243</td>\n",
       "      <td>1.000000</td>\n",
       "      <td>0.018578</td>\n",
       "    </tr>\n",
       "    <tr>\n",
       "      <td>16</td>\n",
       "      <td>161</td>\n",
       "      <td>1.0000</td>\n",
       "      <td>-0.165565</td>\n",
       "      <td>1.000000</td>\n",
       "      <td>0.013979</td>\n",
       "    </tr>\n",
       "    <tr>\n",
       "      <td>17</td>\n",
       "      <td>171</td>\n",
       "      <td>1.0000</td>\n",
       "      <td>-0.169444</td>\n",
       "      <td>1.000000</td>\n",
       "      <td>0.018544</td>\n",
       "    </tr>\n",
       "    <tr>\n",
       "      <td>18</td>\n",
       "      <td>181</td>\n",
       "      <td>1.0000</td>\n",
       "      <td>-0.169444</td>\n",
       "      <td>1.000000</td>\n",
       "      <td>0.022387</td>\n",
       "    </tr>\n",
       "    <tr>\n",
       "      <td>19</td>\n",
       "      <td>191</td>\n",
       "      <td>1.0000</td>\n",
       "      <td>-0.175836</td>\n",
       "      <td>1.000000</td>\n",
       "      <td>0.007554</td>\n",
       "    </tr>\n",
       "  </tbody>\n",
       "</table>\n",
       "</div>"
      ],
      "text/plain": [
       "    thresh  alpha_low  cv_score_low  alpha_high  cv_score_high\n",
       "0        1     0.0001     -0.016667    0.828643       0.125969\n",
       "1       11     1.0000     -0.182560    0.828643       0.116178\n",
       "2       21     1.0000     -0.164092    0.828643       0.112290\n",
       "3       31     1.0000     -0.916822    1.000000       0.113091\n",
       "4       41     1.0000     -0.190631    1.000000       0.094551\n",
       "5       51     1.0000     -0.182715    1.000000       0.096321\n",
       "6       61     1.0000     -0.403156    1.000000       0.072376\n",
       "7       71     1.0000     -0.384613    1.000000       0.074265\n",
       "8       81     1.0000     -0.285651    1.000000       0.073223\n",
       "9       91     1.0000     -0.355385    0.828643       0.063739\n",
       "10     101     1.0000     -0.273263    0.686649       0.070286\n",
       "11     111     1.0000     -0.299704    0.686649       0.067867\n",
       "12     121     1.0000     -0.364287    1.000000       0.033180\n",
       "13     131     1.0000     -0.207591    1.000000       0.019207\n",
       "14     141     1.0000     -0.221404    1.000000       0.012845\n",
       "15     151     1.0000     -0.180243    1.000000       0.018578\n",
       "16     161     1.0000     -0.165565    1.000000       0.013979\n",
       "17     171     1.0000     -0.169444    1.000000       0.018544\n",
       "18     181     1.0000     -0.169444    1.000000       0.022387\n",
       "19     191     1.0000     -0.175836    1.000000       0.007554"
      ]
     },
     "execution_count": 526,
     "metadata": {},
     "output_type": "execute_result"
    }
   ],
   "source": [
    "#rmse = np.sqrt(mean_squared_error(y_test, y_pred))\n",
    "\n",
    "pd.DataFrame({'thresh':thresh_space, \n",
    "              'alpha_low': [ low_list[i][0]['alpha'] for i in range(len(low_list)) ], \n",
    "              'cv_score_low': [ low_list[i][1] for i in range(len(low_list)) ],\n",
    "              'alpha_high': [ high_list[i][0]['alpha'] for i in range(len(high_list)) ], \n",
    "              'cv_score_high': [high_list[i][1] for i in range(len(high_list)) ]              \n",
    "             })"
   ]
  },
  {
   "cell_type": "code",
   "execution_count": null,
   "metadata": {},
   "outputs": [],
   "source": [
    "#ridge_rmse = []\n",
    "# for alpha in alpha_space:\n",
    "#     ridge.alpha = alpha   \n",
    "#     ridge_cv_scores = cross_validate(ridge, X, y, cv = 10, scoring=('r2', 'neg_root_mean_squared_error'))   \n",
    "#     ridge_rmse.append(-np.mean(ridge_cv_scores['test_neg_root_mean_squared_error']))\n",
    "    \n",
    "# plt.plot(alpha_space, ridge_rmse)\n",
    "# plt.xscale(\"log\")\n",
    "# plt.xlabel(\"Alpha\")\n",
    "# plt.ylabel('Root Mean Square Error')\n",
    "# plt.axvline(alpha_best, linestyle = '--')\n",
    "# plt.axhline(-reg_cv.best_score_, linestyle = '--')\n",
    "# plt.show()"
   ]
  },
  {
   "cell_type": "markdown",
   "metadata": {},
   "source": [
    "### With a KNeighbors Classifier"
   ]
  },
  {
   "cell_type": "code",
   "execution_count": 31,
   "metadata": {},
   "outputs": [],
   "source": [
    "param_grid = {'n_neighbors':np.arange(1,30)}\n",
    "knn = KNeighborsClassifier()\n",
    "knn_cv = GridSearchCV(knn, param_grid, cv = 10)\n",
    "\n",
    "bp_list=[]\n",
    "bs_list=[]\n",
    "\n",
    "for thresh in np.arange(1,100,5):\n",
    "    y = wr2.yffs\n",
    "    y = splitter(y, thresh)\n",
    "    knn_cv.fit(X, y)\n",
    "    bp_list.append(knn_cv.best_params_)\n",
    "    bs_list.append(knn_cv.best_score_)"
   ]
  }
 ],
 "metadata": {
  "kernelspec": {
   "display_name": "Python 3",
   "language": "python",
   "name": "python3"
  },
  "language_info": {
   "codemirror_mode": {
    "name": "ipython",
    "version": 3
   },
   "file_extension": ".py",
   "mimetype": "text/x-python",
   "name": "python",
   "nbconvert_exporter": "python",
   "pygments_lexer": "ipython3",
   "version": "3.7.3"
  }
 },
 "nbformat": 4,
 "nbformat_minor": 2
}
