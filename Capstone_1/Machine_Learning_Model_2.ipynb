{
 "cells": [
  {
   "cell_type": "code",
   "execution_count": 1,
   "metadata": {},
   "outputs": [],
   "source": [
    "import pandas as pd\n",
    "import numpy as np\n",
    "import seaborn as sns\n",
    "import matplotlib.pyplot as plt\n",
    "\n",
    "pd.set_option('display.max_rows', 100)\n",
    "pd.set_option('display.max_columns', 100)"
   ]
  },
  {
   "cell_type": "code",
   "execution_count": 296,
   "metadata": {},
   "outputs": [],
   "source": [
    "import statsmodels.api as sm\n",
    "from statsmodels.formula.api import ols\n",
    "\n",
    "from sklearn import preprocessing\n",
    "\n",
    "from sklearn.metrics import mean_squared_error\n",
    "from sklearn.metrics import classification_report, confusion_matrix, roc_curve, roc_auc_score\n",
    "\n",
    "from sklearn.model_selection import train_test_split, cross_val_score, cross_validate, GridSearchCV\n",
    "from sklearn.neighbors import KNeighborsClassifier\n",
    "#from sklearn.svm import SVC\n",
    "from sklearn.linear_model import LinearRegression, Ridge, ElasticNet\n",
    "from sklearn.linear_model import LogisticRegression\n",
    "\n",
    "from sklearn.impute import SimpleImputer as Imputer\n",
    "\n",
    "from sklearn.pipeline import Pipeline"
   ]
  },
  {
   "cell_type": "code",
   "execution_count": 323,
   "metadata": {},
   "outputs": [],
   "source": [
    "def dropthenan(table):\n",
    "    cond1 = table[table.cfbconference == 'Other'].index.tolist()\n",
    "    cond2 = table[table.cfbtd.isna()].index.tolist()\n",
    "    cond3 = table[table.combineforty.isna()].index.tolist()\n",
    "#    cond = np.unique(cond1+cond2+cond3)\n",
    "    cond = np.intersect1d(np.intersect1d(cond1,cond2),cond3)\n",
    "    return table.drop(cond, axis = 0).reset_index(drop = True)\n",
    "\n",
    "def confclass(table):\n",
    "    table.loc[table.cfbconference == 'Other','cfbconference'] = np.nan\n",
    "    table.loc[table.cfbclass == 'Non Declared','cfbclass'] = np.nan\n",
    "    table = pd.get_dummies(table, prefix=['cfbconference','cfbclass'])\n",
    "    return table\n",
    "\n",
    "def splitter(table, col, thresh):\n",
    "    table['target'] = table[col].apply(lambda x: 1 if x > thresh else 0)\n",
    "    return table.drop(col, axis = 1)\n",
    "\n",
    "def splitter(arr, thresh):\n",
    "    return arr.apply(lambda x: 1 if x > thresh else 0)\n",
    "\n",
    "def normalizeX(X):\n",
    "    x = X #returns a numpy array\n",
    "    #trans = preprocessing.MinMaxScaler()\n",
    "    trans = preprocessing.StandardScaler()\n",
    "    x_scaled = trans.fit_transform(x)\n",
    "    X_new = pd.DataFrame(x_scaled, columns = X.columns.tolist())\n",
    "    return X_new"
   ]
  },
  {
   "cell_type": "code",
   "execution_count": 293,
   "metadata": {
    "init_cell": true
   },
   "outputs": [],
   "source": [
    "wr = pd.read_csv('data_sets/wr.csv')\n",
    "wr = wr.rename(columns = {'yardsfirst5seasons': 'yffs'})\n",
    "wr = wr.drop('combinebenchreps', axis = 1)"
   ]
  },
  {
   "cell_type": "code",
   "execution_count": 225,
   "metadata": {},
   "outputs": [
    {
     "data": {
      "image/png": "[encoded data removed]",
      "text/plain": [
       "<Figure size 432x288 with 1 Axes>"
      ]
     },
     "metadata": {
      "needs_background": "light"
     },
     "output_type": "display_data"
    }
   ],
   "source": [
    "plt.hist(wrp.yffs, bins = 30)\n",
    "plt.show()"
   ]
  },
  {
   "cell_type": "markdown",
   "metadata": {},
   "source": [
    "### Threshold fixed"
   ]
  },
  {
   "cell_type": "code",
   "execution_count": 280,
   "metadata": {},
   "outputs": [],
   "source": [
    "wr1 = dropthenan(wr)\n",
    "wr1 = confclass(wr1)\n",
    "wr1 = splitter(wr1, 'yffs', 5)"
   ]
  },
  {
   "cell_type": "code",
   "execution_count": 307,
   "metadata": {
    "scrolled": false
   },
   "outputs": [],
   "source": [
    "X = wr1.drop('target', axis = 1)\n",
    "y = wr1.target\n",
    "\n",
    "imp = Imputer(missing_values= np.nan, strategy = 'mean')\n",
    "imp.fit(X)\n",
    "X = imp.transform(X)\n",
    "X = pd.DataFrame(X, columns = wr1.drop('target', axis = 1).columns.tolist())\n",
    "\n",
    "X = normalizeX(X)"
   ]
  },
  {
   "cell_type": "code",
   "execution_count": 311,
   "metadata": {
    "scrolled": true
   },
   "outputs": [
    {
     "name": "stdout",
     "output_type": "stream",
     "text": [
      "score 0.7946428571428571\n",
      "              precision    recall  f1-score   support\n",
      "\n",
      "           0       0.00      0.00      0.00        23\n",
      "           1       0.79      1.00      0.89        89\n",
      "\n",
      "    accuracy                           0.79       112\n",
      "   macro avg       0.40      0.50      0.44       112\n",
      "weighted avg       0.63      0.79      0.70       112\n",
      "\n"
     ]
    },
    {
     "name": "stderr",
     "output_type": "stream",
     "text": [
      "/Users/adriensaremi/anaconda3/lib/python3.7/site-packages/sklearn/metrics/_classification.py:1272: UndefinedMetricWarning: Precision and F-score are ill-defined and being set to 0.0 in labels with no predicted samples. Use `zero_division` parameter to control this behavior.\n",
      "  _warn_prf(average, modifier, msg_start, len(result))\n"
     ]
    }
   ],
   "source": [
    "X_train, X_test, y_train, y_test = train_test_split(X, y, test_size = .30, stratify = y)\n",
    "knn = KNeighborsClassifier(n_neighbors = 18)\n",
    "\n",
    "knn.fit(X_train,y_train)\n",
    "y_pred = knn.predict(X_test)\n",
    "\n",
    "print('score',knn.score(X_test, y_test))\n",
    "# print(confusion_matrix(y_test, y_pred))\n",
    "print(classification_report(y_test, y_pred))"
   ]
  },
  {
   "cell_type": "code",
   "execution_count": 312,
   "metadata": {},
   "outputs": [
    {
     "name": "stdout",
     "output_type": "stream",
     "text": [
      "[[ 2 21]\n",
      " [12 77]]\n",
      "              precision    recall  f1-score   support\n",
      "\n",
      "           0       0.14      0.09      0.11        23\n",
      "           1       0.79      0.87      0.82        89\n",
      "\n",
      "    accuracy                           0.71       112\n",
      "   macro avg       0.46      0.48      0.47       112\n",
      "weighted avg       0.65      0.71      0.68       112\n",
      "\n"
     ]
    },
    {
     "data": {
      "image/png": "[encoded data removed]",
      "text/plain": [
       "<Figure size 432x288 with 1 Axes>"
      ]
     },
     "metadata": {
      "needs_background": "light"
     },
     "output_type": "display_data"
    },
    {
     "name": "stdout",
     "output_type": "stream",
     "text": [
      "0.5544699560332194\n"
     ]
    }
   ],
   "source": [
    "logreg = LogisticRegression()\n",
    "X_train, X_test, y_train, y_test = train_test_split(X, y, test_size = .30, stratify = y)\n",
    "\n",
    "logreg.fit(X_train,y_train)\n",
    "\n",
    "y_pred = logreg.predict(X_test)\n",
    "print(confusion_matrix(y_test, y_pred))\n",
    "print(classification_report(y_test, y_pred))\n",
    "\n",
    "y_pred_prob = logreg.predict_proba(X_test)[:,1]\n",
    "fpr, tpr, thresholds = roc_curve(y_test, y_pred_prob)\n",
    "plt.plot([0, 1], [0, 1], 'k--')\n",
    "plt.plot(fpr, tpr)\n",
    "plt.xlabel('False Positive Rate')\n",
    "plt.ylabel('True Positive Rate')\n",
    "plt.title('ROC Curve')\n",
    "plt.show()\n",
    "\n",
    "print(roc_auc_score(y_test, y_pred_prob))"
   ]
  },
  {
   "cell_type": "code",
   "execution_count": 315,
   "metadata": {
    "scrolled": true
   },
   "outputs": [
    {
     "name": "stdout",
     "output_type": "stream",
     "text": [
      "{'n_neighbors': 18}\n",
      "0.8016358463726887\n"
     ]
    }
   ],
   "source": [
    "param_grid = {'n_neighbors':np.arange(1, 50)}\n",
    "knn = KNeighborsClassifier()\n",
    "knn_cv = GridSearchCV(knn, param_grid, cv = 10)\n",
    "\n",
    "knn_cv.fit(X, y)\n",
    "\n",
    "print(knn_cv.best_params_)\n",
    "print(knn_cv.best_score_)"
   ]
  },
  {
   "cell_type": "code",
   "execution_count": 292,
   "metadata": {},
   "outputs": [],
   "source": [
    "# param_grid = {'C': np.logspace(-5, 8, 15)}\n",
    "# logreg = LogisticRegression()\n",
    "# logreg_cv = GridSearchCV(logreg, param_grid, cv=5)\n",
    "\n",
    "# logreg_cv.fit(X, y)\n",
    "\n",
    "# print(\"Tuned Logistic Regression Parameters: {}\".format(logreg_cv.best_params_)) \n",
    "# print(\"Best score is {}\".format(logreg_cv.best_score_))"
   ]
  },
  {
   "cell_type": "markdown",
   "metadata": {},
   "source": [
    "### Varying Threshold"
   ]
  },
  {
   "cell_type": "code",
   "execution_count": 324,
   "metadata": {},
   "outputs": [],
   "source": [
    "wr2 = dropthenan(wr)\n",
    "wr2 = confclass(wr2)\n",
    "X = wr2.drop('yffs', axis = 1)\n",
    "y = wr2.yffs\n",
    "\n",
    "imp = Imputer(missing_values= np.nan, strategy = 'mean')\n",
    "imp.fit(X)\n",
    "X = imp.transform(X)\n",
    "X = pd.DataFrame(X, columns = wr1.drop('target', axis = 1).columns.tolist())\n",
    "X = normalizeX(X)\n",
    "\n",
    "param_grid = {'n_neighbors':np.arange(1,30)}\n",
    "knn = KNeighborsClassifier()\n",
    "knn_cv = GridSearchCV(knn, param_grid, cv = 10)\n",
    "\n",
    "# bp_list=[]\n",
    "# bs_list=[]\n",
    "\n",
    "# for thresh in np.arange(1,10):\n",
    "#     y = splitter(y, thresh)\n",
    "#     knn_cv.fit(X, y)\n",
    "#     bp_list.append(knn_cv.best_params_)\n",
    "#     bs_list.append(knn_cv.best_score_)"
   ]
  },
  {
   "cell_type": "code",
   "execution_count": 328,
   "metadata": {},
   "outputs": [
    {
     "data": {
      "text/plain": [
       "(0      6171.0\n",
       " 1      6201.0\n",
       " 2       607.0\n",
       " 3       990.0\n",
       " 4      4254.0\n",
       "         ...  \n",
       " 368       0.0\n",
       " 369       0.0\n",
       " 370      11.0\n",
       " 371     805.0\n",
       " 372       0.0\n",
       " Name: yffs, Length: 373, dtype: float64, 0      1\n",
       " 1      1\n",
       " 2      1\n",
       " 3      1\n",
       " 4      1\n",
       "       ..\n",
       " 368    0\n",
       " 369    0\n",
       " 370    0\n",
       " 371    1\n",
       " 372    0\n",
       " Name: yffs, Length: 373, dtype: int64)"
      ]
     },
     "execution_count": 328,
     "metadata": {},
     "output_type": "execute_result"
    }
   ],
   "source": [
    "y, splitter(y, 100)"
   ]
  }
 ],
 "metadata": {
  "kernelspec": {
   "display_name": "Python 3",
   "language": "python",
   "name": "python3"
  },
  "language_info": {
   "codemirror_mode": {
    "name": "ipython",
    "version": 3
   },
   "file_extension": ".py",
   "mimetype": "text/x-python",
   "name": "python",
   "nbconvert_exporter": "python",
   "pygments_lexer": "ipython3",
   "version": "3.7.3"
  }
 },
 "nbformat": 4,
 "nbformat_minor": 2
}
