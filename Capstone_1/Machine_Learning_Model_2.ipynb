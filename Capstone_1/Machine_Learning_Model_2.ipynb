{
 "cells": [
  {
   "cell_type": "code",
   "execution_count": 3,
   "metadata": {
    "init_cell": true
   },
   "outputs": [],
   "source": [
    "import pandas as pd\n",
    "import numpy as np\n",
    "import seaborn as sns\n",
    "import matplotlib.pyplot as plt\n",
    "\n",
    "pd.set_option('display.max_rows', 100)\n",
    "pd.set_option('display.max_columns', 100)"
   ]
  },
  {
   "cell_type": "code",
   "execution_count": 90,
   "metadata": {},
   "outputs": [],
   "source": [
    "import statsmodels.api as sm\n",
    "from statsmodels.formula.api import ols\n",
    "\n",
    "from sklearn import preprocessing\n",
    "\n",
    "from sklearn.metrics import mean_squared_error\n",
    "from sklearn.metrics import classification_report, confusion_matrix, roc_curve, roc_auc_score\n",
    "\n",
    "from sklearn.model_selection import train_test_split, cross_val_score, cross_validate, GridSearchCV\n",
    "from sklearn.neighbors import KNeighborsClassifier\n",
    "#from sklearn.svm import SVC\n",
    "from sklearn.linear_model import LinearRegression, Ridge, ElasticNet\n",
    "from sklearn.linear_model import LogisticRegression\n",
    "\n",
    "from sklearn.ensemble import RandomForestClassifier\n",
    "\n",
    "from sklearn.impute import SimpleImputer as Imputer\n",
    "\n",
    "from sklearn.pipeline import Pipeline"
   ]
  },
  {
   "cell_type": "code",
   "execution_count": 81,
   "metadata": {},
   "outputs": [],
   "source": [
    "def dropthenan(table):\n",
    "    cond1 = table[table.cfbconference == 'Other'].index.tolist()\n",
    "    cond2 = table[table.cfbtd.isna()].index.tolist()\n",
    "    cond3 = table[table.combineforty.isna()].index.tolist()\n",
    "#    cond = np.unique(cond1+cond2+cond3)\n",
    "    cond = np.intersect1d(np.intersect1d(cond1,cond2),cond3)\n",
    "    return table.drop(cond, axis = 0).reset_index(drop = True)\n",
    "\n",
    "def confclass(table):\n",
    "    table.loc[table.cfbconference == 'Other','cfbconference'] = np.nan\n",
    "    table.loc[table.cfbclass == 'Non Declared','cfbclass'] = np.nan\n",
    "    table = pd.get_dummies(table, prefix=['cfbconference','cfbclass'])\n",
    "    return table\n",
    "\n",
    "# def splitter(table, col, thresh):\n",
    "#     table['target'] = table[col].apply(lambda x: 1 if x > thresh else 0)\n",
    "#     return table.drop(col, axis = 1)\n",
    "\n",
    "def splitter(arr, thresh):\n",
    "    return arr.apply(lambda x: 1 if x > thresh else 0)\n",
    "\n",
    "def normalizeX(X, cols_list):\n",
    "    x = X[cols_list]\n",
    "    X_others = X.drop(cols_list, axis = 1)\n",
    "    trans = preprocessing.MinMaxScaler()\n",
    "    #trans = preprocessing.StandardScaler()\n",
    "    x_scaled = trans.fit_transform(x)\n",
    "    X_new = pd.DataFrame(x_scaled , columns = X[cols_list].columns.tolist())\n",
    "    return pd.concat([X_new, X_others], axis = 1) #pd.concat([X_new + X_others], axis = 1)"
   ]
  },
  {
   "cell_type": "code",
   "execution_count": 6,
   "metadata": {
    "init_cell": true
   },
   "outputs": [],
   "source": [
    "colsnum = ['cfbgames','cfbreceptions','cfbrecyards','cfbrecyardsperreception','cfbrectd',\n",
    "           'cfbrushattempts','cfbrushyards','cfbrushyardsperattempt','cfbrushtd','cfbscrimmages',\n",
    "           'cfbyards','cfbyardsfromscrimmage','cfbtd','combineht','combinewt','combineforty',\n",
    "           'combinevertical','combinebroadjump','combinecone','combineshuttle']\n",
    "\n",
    "wr = pd.read_csv('data_sets/wr.csv')\n",
    "wr = wr.rename(columns = {'yardsfirst5seasons': 'yffs'})\n",
    "wr = wr.drop('combinebenchreps', axis = 1)"
   ]
  },
  {
   "cell_type": "code",
   "execution_count": 225,
   "metadata": {},
   "outputs": [
    {
     "data": {
      "image/png": "[encoded data removed]",
      "text/plain": [
       "<Figure size 432x288 with 1 Axes>"
      ]
     },
     "metadata": {
      "needs_background": "light"
     },
     "output_type": "display_data"
    }
   ],
   "source": [
    "plt.hist(wrp.yffs, bins = 30)\n",
    "plt.show()"
   ]
  },
  {
   "cell_type": "markdown",
   "metadata": {},
   "source": [
    "# At a fixed threshold y < or > 50"
   ]
  },
  {
   "cell_type": "code",
   "execution_count": 82,
   "metadata": {},
   "outputs": [],
   "source": [
    "wr1 = dropthenan(wr)\n",
    "wr1 = confclass(wr1)"
   ]
  },
  {
   "cell_type": "code",
   "execution_count": 83,
   "metadata": {
    "scrolled": false
   },
   "outputs": [],
   "source": [
    "X = wr1.drop('yffs', axis = 1)\n",
    "y = wr1.yffs\n",
    "\n",
    "imp = Imputer(missing_values= np.nan, strategy = 'mean')\n",
    "imp.fit(X)\n",
    "X = imp.transform(X)\n",
    "X = pd.DataFrame(X, columns = wr1.drop('yffs', axis = 1).columns.tolist())\n",
    "\n",
    "X = normalizeX(X, colsnum)\n",
    "y = splitter(y, 50)"
   ]
  },
  {
   "cell_type": "markdown",
   "metadata": {},
   "source": [
    "### KNeighbors Classifier on a random train/test split data"
   ]
  },
  {
   "cell_type": "code",
   "execution_count": 84,
   "metadata": {
    "scrolled": true
   },
   "outputs": [
    {
     "name": "stdout",
     "output_type": "stream",
     "text": [
      "score 0.6964285714285714\n",
      "              precision    recall  f1-score   support\n",
      "\n",
      "           0       0.40      0.19      0.26        31\n",
      "           1       0.74      0.89      0.81        81\n",
      "\n",
      "    accuracy                           0.70       112\n",
      "   macro avg       0.57      0.54      0.53       112\n",
      "weighted avg       0.65      0.70      0.66       112\n",
      "\n"
     ]
    }
   ],
   "source": [
    "knn = KNeighborsClassifier(n_neighbors = 18)\n",
    "X_train, X_test, y_train, y_test = train_test_split(X, y, test_size = .30, stratify = y)\n",
    "\n",
    "knn.fit(X_train,y_train)\n",
    "y_pred = knn.predict(X_test)\n",
    "\n",
    "print('score',knn.score(X_test, y_test))\n",
    "# print(confusion_matrix(y_test, y_pred))\n",
    "print(classification_report(y_test, y_pred))"
   ]
  },
  {
   "cell_type": "markdown",
   "metadata": {},
   "source": [
    "### Logistic Regression on a random train/test split data"
   ]
  },
  {
   "cell_type": "code",
   "execution_count": 85,
   "metadata": {},
   "outputs": [
    {
     "name": "stdout",
     "output_type": "stream",
     "text": [
      "[[ 5 26]\n",
      " [ 5 76]]\n",
      "              precision    recall  f1-score   support\n",
      "\n",
      "           0       0.50      0.16      0.24        31\n",
      "           1       0.75      0.94      0.83        81\n",
      "\n",
      "    accuracy                           0.72       112\n",
      "   macro avg       0.62      0.55      0.54       112\n",
      "weighted avg       0.68      0.72      0.67       112\n",
      "\n"
     ]
    }
   ],
   "source": [
    "logreg = LogisticRegression()\n",
    "X_train, X_test, y_train, y_test = train_test_split(X, y, test_size = .30, stratify = y)\n",
    "\n",
    "logreg.fit(X_train,y_train)\n",
    "\n",
    "y_pred = logreg.predict(X_test)\n",
    "print(confusion_matrix(y_test, y_pred))\n",
    "print(classification_report(y_test, y_pred))"
   ]
  },
  {
   "cell_type": "markdown",
   "metadata": {},
   "source": [
    "### ROC Curve (varying threshold p) on a random train/test split data"
   ]
  },
  {
   "cell_type": "code",
   "execution_count": 86,
   "metadata": {},
   "outputs": [
    {
     "data": {
      "image/png": "[encoded data removed]",
      "text/plain": [
       "<Figure size 432x288 with 1 Axes>"
      ]
     },
     "metadata": {
      "needs_background": "light"
     },
     "output_type": "display_data"
    },
    {
     "name": "stdout",
     "output_type": "stream",
     "text": [
      "0.6284348864994026\n"
     ]
    }
   ],
   "source": [
    "logreg = LogisticRegression()\n",
    "X_train, X_test, y_train, y_test = train_test_split(X, y, test_size = .30, stratify = y)\n",
    "\n",
    "logreg.fit(X_train,y_train)\n",
    "\n",
    "y_pred_prob = logreg.predict_proba(X_test)[:,1]\n",
    "fpr, tpr, thresholds = roc_curve(y_test, y_pred_prob)\n",
    "plt.plot([0, 1], [0, 1], 'k--')\n",
    "plt.plot(fpr, tpr)\n",
    "plt.xlabel('False Positive Rate')\n",
    "plt.ylabel('True Positive Rate')\n",
    "plt.title('ROC Curve')\n",
    "plt.show()\n",
    "\n",
    "print(roc_auc_score(y_test, y_pred_prob))"
   ]
  },
  {
   "cell_type": "markdown",
   "metadata": {},
   "source": [
    "### Hyperparameter tuning the KNeighbors Classifier using the GridSearchCV"
   ]
  },
  {
   "cell_type": "code",
   "execution_count": 87,
   "metadata": {
    "scrolled": true
   },
   "outputs": [
    {
     "name": "stdout",
     "output_type": "stream",
     "text": [
      "{'n_neighbors': 43}\n",
      "0.7239687055476529\n"
     ]
    }
   ],
   "source": [
    "param_grid = {'n_neighbors':np.arange(1, 50)}\n",
    "knn = KNeighborsClassifier()\n",
    "knn_cv = GridSearchCV(knn, param_grid, cv = 10)\n",
    "\n",
    "knn_cv.fit(X, y)\n",
    "\n",
    "print(knn_cv.best_params_)\n",
    "print(knn_cv.best_score_)"
   ]
  },
  {
   "cell_type": "markdown",
   "metadata": {},
   "source": [
    "### Using a Pipeline to for Hyperparameter tuning on  a Logisitic Regressor and a Random Forest Classifier"
   ]
  },
  {
   "cell_type": "code",
   "execution_count": 138,
   "metadata": {},
   "outputs": [
    {
     "name": "stdout",
     "output_type": "stream",
     "text": [
      "Fitting 5 folds for each of 60 candidates, totalling 300 fits\n"
     ]
    },
    {
     "name": "stderr",
     "output_type": "stream",
     "text": [
      "[Parallel(n_jobs=-1)]: Using backend LokyBackend with 4 concurrent workers.\n",
      "[Parallel(n_jobs=-1)]: Done  76 tasks      | elapsed:    4.5s\n",
      "[Parallel(n_jobs=-1)]: Done 300 out of 300 | elapsed:   26.8s finished\n"
     ]
    }
   ],
   "source": [
    "# X_train, X_test, y_train, y_test = train_test_split(X, y, test_size = .30, stratify = y)\n",
    "pipeline = Pipeline([('classifier' , RandomForestClassifier())])\n",
    "\n",
    "# param_grid = [\n",
    "#     {'classifier' : [LogisticRegression()],\n",
    "#      'classifier__penalty' : ['l1', 'l2'],\n",
    "#     'classifier__C' : np.logspace(-5, 8, 15),\n",
    "#     'classifier__solver' : ['liblinear']},\n",
    "#     {'classifier' : [RandomForestClassifier()],\n",
    "#     'classifier__n_estimators' : list(range(10,101,10)),\n",
    "#     'classifier__max_features' : list(range(6,32,5))}\n",
    "# ]\n",
    "\n",
    "\n",
    "param_grid =  {'classifier' : [RandomForestClassifier()],\n",
    "    'classifier__n_estimators' : list(range(10,101,10)),\n",
    "    'classifier__max_features' : list(range(6,32,5))}\n",
    "\n",
    "clf = GridSearchCV(pipeline, param_grid = param_grid, cv = 5, verbose=True, n_jobs=-1)\n",
    "\n",
    "best_clf = clf.fit(X, y)"
   ]
  },
  {
   "cell_type": "code",
   "execution_count": 140,
   "metadata": {},
   "outputs": [
    {
     "name": "stdout",
     "output_type": "stream",
     "text": [
      "Best score 0.7346306306306307\n",
      "classifier: RandomForestClassifier(bootstrap=True, ccp_alpha=0.0, class_weight=None,\n",
      "                       criterion='gini', max_depth=None, max_features=6,\n",
      "                       max_leaf_nodes=None, max_samples=None,\n",
      "                       min_impurity_decrease=0.0, min_impurity_split=None,\n",
      "                       min_samples_leaf=1, min_samples_split=2,\n",
      "                       min_weight_fraction_leaf=0.0, n_estimators=70,\n",
      "                       n_jobs=None, oob_score=False, random_state=None,\n",
      "                       verbose=0, warm_start=False)\n",
      "classifier__max_features: 6\n",
      "classifier__n_estimators: 70\n"
     ]
    }
   ],
   "source": [
    "#print(best_clf)\n",
    "#print(\"Best params\", best_clf.best_params_)\n",
    "print(\"Best score\", best_clf.best_score_)\n",
    "for param_name in sorted(param_grid.keys()):\n",
    "    print(\"%s: %s\" %(param_name, best_clf.best_params_[param_name]))"
   ]
  },
  {
   "cell_type": "code",
   "execution_count": 141,
   "metadata": {},
   "outputs": [
    {
     "name": "stdout",
     "output_type": "stream",
     "text": [
      "[[31  0]\n",
      " [ 0 81]]\n",
      "              precision    recall  f1-score   support\n",
      "\n",
      "           0       1.00      1.00      1.00        31\n",
      "           1       1.00      1.00      1.00        81\n",
      "\n",
      "    accuracy                           1.00       112\n",
      "   macro avg       1.00      1.00      1.00       112\n",
      "weighted avg       1.00      1.00      1.00       112\n",
      "\n"
     ]
    }
   ],
   "source": [
    "X_train, X_test, y_train, y_test = train_test_split(X, y, test_size = .30, stratify = y)\n",
    "\n",
    "y_pred = best_clf.predict(X_test)\n",
    "print(confusion_matrix(y_test, y_pred))\n",
    "print(classification_report(y_test, y_pred))"
   ]
  },
  {
   "cell_type": "code",
   "execution_count": 110,
   "metadata": {},
   "outputs": [],
   "source": [
    "# param_grid = {'C': np.logspace(-5, 8, 15),'penalty': ['l1', 'l2']}\n",
    "# logreg = LogisticRegression()\n",
    "# logreg_cv = GridSearchCV(logreg, param_grid, cv=5, verbose=0)\n",
    "\n",
    "# logreg_cv.fit(X, y)\n",
    "\n",
    "# print(\"Tuned Logistic Regression Parameters: {}\".format(logreg_cv.best_params_)) \n",
    "# print(\"Best score is {}\".format(logreg_cv.best_score_))\n",
    "\n",
    "# # print('Best Penalty:', best_model.best_estimator_.get_params()['penalty'])\n",
    "# # print('Best C:', best_model.best_estimator_.get_params()['C'])"
   ]
  },
  {
   "cell_type": "markdown",
   "metadata": {},
   "source": [
    "# Varying Threshold of Acceptance"
   ]
  },
  {
   "cell_type": "code",
   "execution_count": 30,
   "metadata": {},
   "outputs": [],
   "source": [
    "wr2 = dropthenan(wr)\n",
    "wr2 = confclass(wr2)\n",
    "X = wr2.drop('yffs', axis = 1)\n",
    "\n",
    "imp = Imputer(missing_values= np.nan, strategy = 'mean')\n",
    "imp.fit(X)\n",
    "X = imp.transform(X)\n",
    "X = pd.DataFrame(X, columns = wr1.drop('yffs', axis = 1).columns.tolist())\n",
    "\n",
    "X = normalizeX(X, colsnum)\n",
    "#y = wr2.yffs\n",
    "#y = splitter(y, 50)"
   ]
  },
  {
   "cell_type": "markdown",
   "metadata": {},
   "source": [
    "### With a KNeighbors Classifier"
   ]
  },
  {
   "cell_type": "code",
   "execution_count": 31,
   "metadata": {},
   "outputs": [],
   "source": [
    "param_grid = {'n_neighbors':np.arange(1,30)}\n",
    "knn = KNeighborsClassifier()\n",
    "knn_cv = GridSearchCV(knn, param_grid, cv = 10)\n",
    "\n",
    "bp_list=[]\n",
    "bs_list=[]\n",
    "\n",
    "for thresh in np.arange(1,100,5):\n",
    "    y = wr2.yffs\n",
    "    y = splitter(y, thresh)\n",
    "    knn_cv.fit(X, y)\n",
    "    bp_list.append(knn_cv.best_params_)\n",
    "    bs_list.append(knn_cv.best_score_)"
   ]
  },
  {
   "cell_type": "markdown",
   "metadata": {},
   "source": [
    "### With a Random Forest Classifier (using a Pipeline)"
   ]
  },
  {
   "cell_type": "code",
   "execution_count": null,
   "metadata": {},
   "outputs": [],
   "source": [
    "X_train, X_test, y_train, y_test = train_test_split(X, y, test_size = .30, stratify = y)\n",
    "\n",
    "pipeline = Pipeline([('classifier' , RandomForestClassifier())])\n",
    "param_grid =  {'classifier' : [RandomForestClassifier()],\n",
    "    'classifier__n_estimators' : list(range(10,101,10)),\n",
    "    'classifier__max_features' : list(range(6,32,5))}\n",
    "clf = GridSearchCV(pipeline, param_grid = param_grid, cv = 5, verbose=True, n_jobs=-1)\n",
    "\n",
    "best_clf = clf.fit(X_train, y_train)\n",
    "\n",
    "y_pred = best_clf.predict(X_test)\n",
    "\n",
    "\n"
   ]
  },
  {
   "cell_type": "code",
   "execution_count": null,
   "metadata": {},
   "outputs": [],
   "source": [
    "# First Model: X, y < 10\n",
    "alpha_space = np.logspace(-4, 0, 50)\n",
    "param_grid = {'alpha': alpha_space}\n",
    "\n",
    "ridge = Ridge(normalize = True)\n",
    "reg_cv = GridSearchCV(ridge, param_grid, cv=10, scoring= 'neg_root_mean_squared_error', refit = False)\n",
    "reg_cv.fit(X, y)\n",
    "\n",
    "print(\"Tuned Linear Regression Parameters: {}\".format(reg_cv.best_params_)) \n",
    "print(\"Best score is {}\".format(-reg_cv.best_score_))\n",
    "alpha_best = reg_cv.best_params_['alpha']\n",
    "\n",
    "ridge_rmse = []\n",
    "for alpha in alpha_space:\n",
    "    ridge.alpha = alpha   \n",
    "    ridge_cv_scores = cross_validate(ridge, X, y, cv = 10, scoring=('r2', 'neg_root_mean_squared_error'))   \n",
    "    ridge_rmse.append(-np.mean(ridge_cv_scores['test_neg_root_mean_squared_error']))\n",
    "    \n",
    "plt.plot(alpha_space, ridge_rmse)\n",
    "plt.xscale(\"log\")\n",
    "plt.xlabel(\"Alpha\")\n",
    "plt.ylabel('Root Mean Square Error')\n",
    "plt.axvline(alpha_best, linestyle = '--')\n",
    "plt.axhline(-reg_cv.best_score_, linestyle = '--')\n",
    "plt.show()"
   ]
  }
 ],
 "metadata": {
  "kernelspec": {
   "display_name": "Python 3",
   "language": "python",
   "name": "python3"
  },
  "language_info": {
   "codemirror_mode": {
    "name": "ipython",
    "version": 3
   },
   "file_extension": ".py",
   "mimetype": "text/x-python",
   "name": "python",
   "nbconvert_exporter": "python",
   "pygments_lexer": "ipython3",
   "version": "3.7.3"
  }
 },
 "nbformat": 4,
 "nbformat_minor": 2
}
