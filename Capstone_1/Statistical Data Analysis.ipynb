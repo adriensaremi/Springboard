{
 "cells": [
  {
   "cell_type": "code",
   "execution_count": 2,
   "metadata": {
    "init_cell": true
   },
   "outputs": [],
   "source": [
    "import pandas as pd\n",
    "import numpy as np\n",
    "import seaborn as sns\n",
    "import matplotlib.pyplot as plt\n",
    "\n",
    "import scipy.stats\n",
    "\n",
    "pd.set_option('display.max_rows', 100)\n",
    "pd.set_option('display.max_columns', 100)"
   ]
  },
  {
   "cell_type": "code",
   "execution_count": 36,
   "metadata": {},
   "outputs": [],
   "source": [
    "tdc = pd.read_csv('data_sets/wr_tdc_new.csv')\n",
    "\n",
    "tdc['cfb conference'] = tdc['cfb conference'].fillna('Other')\n",
    "tdc['cfb class'] = tdc['cfb class'].fillna('Non Declared')\n",
    "\n",
    "#tdc = tdc.fillna(0)"
   ]
  },
  {
   "cell_type": "code",
   "execution_count": 37,
   "metadata": {},
   "outputs": [],
   "source": [
    "columns_floats = list(range(13,21)) +list(range(26,53)) +list(range(60,73)) +list(range(75,83)) + [85,92,93]\n",
    "tdc_floats = tdc.iloc[:,columns_floats]\n",
    "tdcf = tdc_floats.corr(method='pearson')\n",
    "\n",
    "columns_nonnum = ['cfb conference','cfb class']"
   ]
  },
  {
   "cell_type": "markdown",
   "metadata": {},
   "source": [
    "### Warning:\n",
    "\n",
    "Considering our table, we realize that:\n",
    "- 300 out of 393 rows have complete data,\n",
    "- 31+10+30 = 71 rows with either cfb or combine stats,\n",
    "- and 22 have neither of those."
   ]
  },
  {
   "cell_type": "code",
   "execution_count": 38,
   "metadata": {
    "scrolled": true
   },
   "outputs": [
    {
     "data": {
      "text/html": [
       "<div>\n",
       "<style scoped>\n",
       "    .dataframe tbody tr th:only-of-type {\n",
       "        vertical-align: middle;\n",
       "    }\n",
       "\n",
       "    .dataframe tbody tr th {\n",
       "        vertical-align: top;\n",
       "    }\n",
       "\n",
       "    .dataframe thead th {\n",
       "        text-align: right;\n",
       "    }\n",
       "</style>\n",
       "<table border=\"1\" class=\"dataframe\">\n",
       "  <thead>\n",
       "    <tr style=\"text-align: right;\">\n",
       "      <th>combine method</th>\n",
       "      <th>fail after search (missing link)</th>\n",
       "      <th>fail after search (missing table)</th>\n",
       "      <th>success from merge</th>\n",
       "    </tr>\n",
       "    <tr>\n",
       "      <th>cfb method</th>\n",
       "      <th></th>\n",
       "      <th></th>\n",
       "      <th></th>\n",
       "    </tr>\n",
       "  </thead>\n",
       "  <tbody>\n",
       "    <tr>\n",
       "      <td>fail (eg link broken)</td>\n",
       "      <td>8</td>\n",
       "      <td>14</td>\n",
       "      <td>31</td>\n",
       "    </tr>\n",
       "    <tr>\n",
       "      <td>success</td>\n",
       "      <td>10</td>\n",
       "      <td>30</td>\n",
       "      <td>300</td>\n",
       "    </tr>\n",
       "  </tbody>\n",
       "</table>\n",
       "</div>"
      ],
      "text/plain": [
       "combine method         fail after search (missing link)  \\\n",
       "cfb method                                                \n",
       "fail (eg link broken)                                 8   \n",
       "success                                              10   \n",
       "\n",
       "combine method         fail after search (missing table)  success from merge  \n",
       "cfb method                                                                    \n",
       "fail (eg link broken)                                 14                  31  \n",
       "success                                               30                 300  "
      ]
     },
     "execution_count": 38,
     "metadata": {},
     "output_type": "execute_result"
    }
   ],
   "source": [
    "pd.crosstab(tdc['cfb method'], tdc['combine method'])"
   ]
  },
  {
   "cell_type": "markdown",
   "metadata": {},
   "source": [
    "# Metrics of Interest"
   ]
  },
  {
   "cell_type": "code",
   "execution_count": 39,
   "metadata": {},
   "outputs": [
    {
     "data": {
      "text/plain": [
       "nfl receptions per game    3.302019\n",
       "nfl rec yards per game     3.235976\n",
       "seasons above thresh       2.989721\n",
       "yards first 5 seasons      2.931439\n",
       "nfl game started           2.895857\n",
       "dtype: float64"
      ]
     },
     "execution_count": 39,
     "metadata": {},
     "output_type": "execute_result"
    }
   ],
   "source": [
    "tdcf.iloc[ list(range(0,35))+[57,58] , list(range(35,57)) ].sum(axis = 1).sort_values(ascending = False)[:5]"
   ]
  },
  {
   "cell_type": "markdown",
   "metadata": {},
   "source": [
    "From simply looking at the correlation matrix, we search for targets that have the most (on average) correlation with the rest of the cfb and combine data. The result is 3 potential targets. We plot the correlation matrix as a heatmap, similarly that we did in the Exploratory_data notebook. We also look at the impact the nonnumerical factors have on our metrics"
   ]
  },
  {
   "cell_type": "code",
   "execution_count": 33,
   "metadata": {},
   "outputs": [],
   "source": [
    "possible_targets = ['nfl receptions per game', 'nfl rec yards per game', 'yards first 5 seasons']"
   ]
  },
  {
   "cell_type": "code",
   "execution_count": 99,
   "metadata": {
    "scrolled": false
   },
   "outputs": [
    {
     "data": {
      "image/png": "[encoded data removed]",
      "text/plain": [
       "<Figure size 432x288 with 2 Axes>"
      ]
     },
     "metadata": {
      "needs_background": "light"
     },
     "output_type": "display_data"
    }
   ],
   "source": [
    "f = sns.heatmap(tdcf.loc[possible_targets ,'cfb games':'combine shuttle'], annot=False)"
   ]
  },
  {
   "cell_type": "code",
   "execution_count": 101,
   "metadata": {},
   "outputs": [],
   "source": [
    "fig = f.get_figure()\n",
    "fig.savefig('corr.png',dpi = 800)"
   ]
  },
  {
   "cell_type": "code",
   "execution_count": 35,
   "metadata": {},
   "outputs": [
    {
     "data": {
      "text/plain": [
       "cfb games                     -0.383669\n",
       "combine forty                 -0.170747\n",
       "combine cone                  -0.056463\n",
       "cfb rush attempts             -0.019556\n",
       "combine shuttle                0.004048\n",
       "cfb rush td                    0.059197\n",
       "cfb rush yards                 0.059225\n",
       "combine broadjump              0.158227\n",
       "combine ht                     0.252443\n",
       "cfb rush yards per attempt     0.259819\n",
       "combine vertical               0.269236\n",
       "cfb scrimmages                 0.355447\n",
       "combine benchreps              0.356856\n",
       "combine wt                     0.453550\n",
       "cfb receptions                 0.560132\n",
       "cfb yards from scrimmage       0.568272\n",
       "cfb rec yards per reception    0.604517\n",
       "cfb rec yards                  0.753171\n",
       "cfb yards                      0.813314\n",
       "cfb rec td                     0.918385\n",
       "cfb td                         0.950322\n",
       "dtype: float64"
      ]
     },
     "execution_count": 35,
     "metadata": {},
     "output_type": "execute_result"
    }
   ],
   "source": [
    "tdcf.loc[ possible_targets ,'cfb games':'combine shuttle' ].sum(axis = 0).sort_values(ascending = True)"
   ]
  },
  {
   "cell_type": "markdown",
   "metadata": {},
   "source": [
    "It seems like cfb rush attemps have the least impact on our 3 targets, while cfb rec td has the most. We'll be using these two metrics and test them out to see if they truly influence any of our targets.\n",
    "- cfb rush attempts\n",
    "- cfb rec td"
   ]
  },
  {
   "cell_type": "code",
   "execution_count": 102,
   "metadata": {},
   "outputs": [
    {
     "data": {
      "image/png": "[encoded data removed]",
      "text/plain": [
       "<Figure size 720x720 with 3 Axes>"
      ]
     },
     "metadata": {
      "needs_background": "light"
     },
     "output_type": "display_data"
    }
   ],
   "source": [
    "fig, axs = plt.subplots(3,1,figsize = (10,10), sharex=True, sharey=False)\n",
    "\n",
    "k = 0\n",
    "axs[k].plot(tdc.groupby(['cfb conference']).mean()[possible_targets[k]], marker = 'o', linestyle = '')\n",
    "axs[k].set_ylabel(possible_targets[k])\n",
    "axs[k].axhline(tdc[possible_targets[k]].mean(), linestyle = '--')\n",
    "\n",
    "k = 1\n",
    "axs[k].plot(tdc.groupby(['cfb conference']).mean()[possible_targets[k]], marker = 'o', linestyle = '')\n",
    "axs[k].set(ylabel=possible_targets[k])\n",
    "axs[k].axhline(tdc[possible_targets[k]].mean(), linestyle = '--')\n",
    "\n",
    "k = 2\n",
    "axs[k].plot(tdc.groupby(['cfb conference']).mean()[possible_targets[k]], marker = 'o', linestyle = '')\n",
    "axs[k].set(ylabel=possible_targets[k])\n",
    "axs[k].axhline(tdc[possible_targets[k]].mean(), linestyle = '--')\n",
    "\n",
    "plt.setp(axs[2].get_xticklabels(), rotation=45)\n",
    "plt.show()"
   ]
  },
  {
   "cell_type": "code",
   "execution_count": 105,
   "metadata": {},
   "outputs": [],
   "source": [
    "fig.savefig('conf.png')"
   ]
  },
  {
   "cell_type": "code",
   "execution_count": 154,
   "metadata": {},
   "outputs": [
    {
     "name": "stdout",
     "output_type": "stream",
     "text": [
      "The means of our metrics are:\n",
      " nfl receptions per game       1.489313\n",
      "nfl rec yards per game       19.660051\n",
      "yards first 5 seasons      1184.254453\n",
      "dtype: float64\n"
     ]
    },
    {
     "data": {
      "text/html": [
       "<div>\n",
       "<style scoped>\n",
       "    .dataframe tbody tr th:only-of-type {\n",
       "        vertical-align: middle;\n",
       "    }\n",
       "\n",
       "    .dataframe tbody tr th {\n",
       "        vertical-align: top;\n",
       "    }\n",
       "\n",
       "    .dataframe thead tr th {\n",
       "        text-align: left;\n",
       "    }\n",
       "\n",
       "    .dataframe thead tr:last-of-type th {\n",
       "        text-align: right;\n",
       "    }\n",
       "</style>\n",
       "<table border=\"1\" class=\"dataframe\">\n",
       "  <thead>\n",
       "    <tr>\n",
       "      <th></th>\n",
       "      <th colspan=\"2\" halign=\"left\">nfl receptions per game</th>\n",
       "      <th colspan=\"2\" halign=\"left\">nfl rec yards per game</th>\n",
       "      <th colspan=\"2\" halign=\"left\">yards first 5 seasons</th>\n",
       "    </tr>\n",
       "    <tr>\n",
       "      <th></th>\n",
       "      <th>count</th>\n",
       "      <th>mean</th>\n",
       "      <th>count</th>\n",
       "      <th>mean</th>\n",
       "      <th>count</th>\n",
       "      <th>mean</th>\n",
       "    </tr>\n",
       "    <tr>\n",
       "      <th>cfb class</th>\n",
       "      <th></th>\n",
       "      <th></th>\n",
       "      <th></th>\n",
       "      <th></th>\n",
       "      <th></th>\n",
       "      <th></th>\n",
       "    </tr>\n",
       "  </thead>\n",
       "  <tbody>\n",
       "    <tr>\n",
       "      <td>SO</td>\n",
       "      <td>8</td>\n",
       "      <td>3.375000</td>\n",
       "      <td>8</td>\n",
       "      <td>43.625000</td>\n",
       "      <td>8</td>\n",
       "      <td>3021.875000</td>\n",
       "    </tr>\n",
       "    <tr>\n",
       "      <td>JR</td>\n",
       "      <td>56</td>\n",
       "      <td>2.446429</td>\n",
       "      <td>56</td>\n",
       "      <td>33.530357</td>\n",
       "      <td>56</td>\n",
       "      <td>2200.017857</td>\n",
       "    </tr>\n",
       "    <tr>\n",
       "      <td>SR</td>\n",
       "      <td>244</td>\n",
       "      <td>1.327459</td>\n",
       "      <td>244</td>\n",
       "      <td>17.195492</td>\n",
       "      <td>244</td>\n",
       "      <td>1013.405738</td>\n",
       "    </tr>\n",
       "    <tr>\n",
       "      <td>Non Declared</td>\n",
       "      <td>84</td>\n",
       "      <td>1.159524</td>\n",
       "      <td>84</td>\n",
       "      <td>15.523810</td>\n",
       "      <td>84</td>\n",
       "      <td>842.440476</td>\n",
       "    </tr>\n",
       "    <tr>\n",
       "      <td>FR</td>\n",
       "      <td>1</td>\n",
       "      <td>0.000000</td>\n",
       "      <td>1</td>\n",
       "      <td>0.000000</td>\n",
       "      <td>1</td>\n",
       "      <td>0.000000</td>\n",
       "    </tr>\n",
       "  </tbody>\n",
       "</table>\n",
       "</div>"
      ],
      "text/plain": [
       "             nfl receptions per game           nfl rec yards per game  \\\n",
       "                               count      mean                  count   \n",
       "cfb class                                                               \n",
       "SO                                 8  3.375000                      8   \n",
       "JR                                56  2.446429                     56   \n",
       "SR                               244  1.327459                    244   \n",
       "Non Declared                      84  1.159524                     84   \n",
       "FR                                 1  0.000000                      1   \n",
       "\n",
       "                        yards first 5 seasons               \n",
       "                   mean                 count         mean  \n",
       "cfb class                                                   \n",
       "SO            43.625000                     8  3021.875000  \n",
       "JR            33.530357                    56  2200.017857  \n",
       "SR            17.195492                   244  1013.405738  \n",
       "Non Declared  15.523810                    84   842.440476  \n",
       "FR             0.000000                     1     0.000000  "
      ]
     },
     "metadata": {},
     "output_type": "display_data"
    }
   ],
   "source": [
    "print('The means of our metrics are:\\n',tdc[possible_targets].mean())\n",
    "\n",
    "display(tdc.groupby(['cfb class'])[possible_targets].agg(['count','mean']).sort_values(by = (possible_targets[0],'mean'), ascending = False))\n"
   ]
  },
  {
   "cell_type": "markdown",
   "metadata": {},
   "source": [
    "# Running stat tests on target vs input"
   ]
  },
  {
   "cell_type": "markdown",
   "metadata": {},
   "source": [
    "After narrowing down our study to a few targets, we will run statistical tests on our key inputs which we believe have an impact (positive or negative) on the target:\n",
    "- 1) SEC vs Big 12 (via bootsrap)\n",
    "- 2) cfb rush attempts (via scipytests ttest_ind)\n",
    "- 3) cfb rec td (via scipy test, ttest_ind with equal_var = False)"
   ]
  },
  {
   "cell_type": "markdown",
   "metadata": {},
   "source": [
    "### Test1: SEC vs Big 12 - Bootstrap"
   ]
  },
  {
   "cell_type": "code",
   "execution_count": 68,
   "metadata": {},
   "outputs": [],
   "source": [
    "def bs_replicate_1d(array, func):\n",
    "    return func(np.random.choice(array, len(array)))\n",
    "\n",
    "def bootstraps(array, func, size):\n",
    "    bs_replicates = np.empty(size)\n",
    "    for i in range(size):\n",
    "        bs_replicates[i] = bs_replicate_1d(array, func)\n",
    "        \n",
    "    return bs_replicates\n",
    "\n",
    "def main(target, N_rep):\n",
    "    sec = tdc[tdc['cfb conference'] == 'SEC'][target].dropna()\n",
    "    big12 = tdc[tdc['cfb conference'] == 'Big 12'][target].dropna()\n",
    "\n",
    "    mean_diff = np.mean(sec) - np.mean(big12)\n",
    "    conc = np.concatenate((sec,big12))\n",
    "    mean_conc = np.mean(conc)\n",
    "    sec_shifted = sec - np.mean(sec) + mean_conc\n",
    "    big12_shift = big12 - np.mean(big12) + mean_conc\n",
    "\n",
    "    bs_rep_sec = bootstraps(sec_shifted, np.mean, N_rep)\n",
    "    bs_rep_big12 = bootstraps(big12_shift, np.mean, N_rep)\n",
    "    bs_rep_diff = bs_rep_sec - bs_rep_big12\n",
    "\n",
    "    p = np.sum(bs_rep_diff > mean_diff)/len(bs_rep_diff)\n",
    "    return p, np.mean(sec), np.mean(big12)"
   ]
  },
  {
   "cell_type": "code",
   "execution_count": 69,
   "metadata": {},
   "outputs": [
    {
     "name": "stdout",
     "output_type": "stream",
     "text": [
      "The p value for the hypothesis SEC and Big12 are from the same distribution w.r.t \n",
      "to nfl receptions per game is: \n",
      "p = 0.062900\n",
      "given that the means for each sample is: SEC - 2.1938 and Big12 - 1.7156\n"
     ]
    }
   ],
   "source": [
    "i = 0\n",
    "X = main(possible_targets[i], 10000)\n",
    "print('The p value for the hypothesis SEC and Big12 are from the same distribution w.r.t \\nto %s is: \\np = %f' \n",
    "      %(possible_targets[i], X[0]))\n",
    "print('given that the means for each sample is: SEC - %.4f and Big12 - %.4f' %(X[1],X[2]) )"
   ]
  },
  {
   "cell_type": "code",
   "execution_count": 70,
   "metadata": {},
   "outputs": [
    {
     "name": "stdout",
     "output_type": "stream",
     "text": [
      "The p value for the hypothesis SEC and Big12 are from the same distribution w.r.t \n",
      "to nfl rec yards per game is: \n",
      "p = 0.063700\n",
      "given that the means for each sample is: SEC - 29.2792 and Big12 - 22.5750\n"
     ]
    }
   ],
   "source": [
    "i = 1\n",
    "X = main(possible_targets[i], 10000)\n",
    "print('The p value for the hypothesis SEC and Big12 are from the same distribution w.r.t \\nto %s is: \\np = %f' \n",
    "      %(possible_targets[i], X[0]))\n",
    "print('given that the means for each sample is: SEC - %.4f and Big12 - %.4f' %(X[1],X[2]) )"
   ]
  },
  {
   "cell_type": "code",
   "execution_count": 71,
   "metadata": {},
   "outputs": [
    {
     "name": "stdout",
     "output_type": "stream",
     "text": [
      "The p value for the hypothesis SEC and Big12 are from the same distribution w.r.t \n",
      "to yards first 5 seasons is: \n",
      "p = 0.021300\n",
      "given that the means for each sample is: SEC - 1573.8305 and Big12 - 961.3023\n"
     ]
    }
   ],
   "source": [
    "i = 2\n",
    "X = main(possible_targets[i], 10000)\n",
    "print('The p value for the hypothesis SEC and Big12 are from the same distribution w.r.t \\nto %s is: \\np = %f' \n",
    "      %(possible_targets[i], X[0]))\n",
    "print('given that the means for each sample is: SEC - %.4f and Big12 - %.4f' %(X[1],X[2]) )"
   ]
  },
  {
   "cell_type": "markdown",
   "metadata": {},
   "source": [
    "### Test2: CFB Rush Attempts - Scipytest\n",
    "\n",
    "Let's consider the set of players below and above the mean."
   ]
  },
  {
   "cell_type": "code",
   "execution_count": 64,
   "metadata": {},
   "outputs": [
    {
     "data": {
      "image/png": "[encoded data removed]",
      "text/plain": [
       "<Figure size 432x288 with 1 Axes>"
      ]
     },
     "metadata": {
      "needs_background": "light"
     },
     "output_type": "display_data"
    }
   ],
   "source": [
    "_ = plt.hist(tdc['cfb rush attempts'], bins = 20)\n",
    "_ = plt.axvline(tdc['cfb rush attempts'].median(), color = 'r')"
   ]
  },
  {
   "cell_type": "code",
   "execution_count": 63,
   "metadata": {
    "scrolled": true
   },
   "outputs": [
    {
     "name": "stdout",
     "output_type": "stream",
     "text": [
      "Null hypothesis: the samples of players with cfb rush attempts\n",
      "below and above the mean are from the same distribution\n",
      "w.r.t. nfl receptions per game\n",
      "The p-test for such hypothesis is p = 0.2450 \n",
      "\n",
      "Null hypothesis: the samples of players with cfb rush attempts\n",
      "below and above the mean are from the same distribution\n",
      "w.r.t. nfl rec yards per game\n",
      "The p-test for such hypothesis is p = 0.3312 \n",
      "\n",
      "Null hypothesis: the samples of players with cfb rush attempts\n",
      "below and above the mean are from the same distribution\n",
      "w.r.t. yards first 5 seasons\n",
      "The p-test for such hypothesis is p = 0.3569 \n",
      "\n"
     ]
    }
   ],
   "source": [
    "i = 0\n",
    "cfbra_low = tdc[tdc['cfb rush attempts'] < tdc['cfb rush attempts'].median()][possible_targets[i]].dropna()\n",
    "cfbra_high = tdc[tdc['cfb rush attempts'] >= tdc['cfb rush attempts'].median()][possible_targets[i]].dropna()\n",
    "X = scipy.stats.ttest_ind(cfbra_low, cfbra_high, equal_var = False)\n",
    "print('Null hypothesis: the samples of players with cfb rush attempts'+\n",
    "      '\\nbelow and above the mean are from the same distribution'+\n",
    "      '\\nw.r.t. %s' %possible_targets[i]+\n",
    "      '\\nThe p-test for such hypothesis is p = %.4f \\n' %X[1])\n",
    "\n",
    "\n",
    "i = 1\n",
    "cfbra_low = tdc[tdc['cfb rush attempts'] < tdc['cfb rush attempts'].median()][possible_targets[i]].dropna()\n",
    "cfbra_high = tdc[tdc['cfb rush attempts'] >= tdc['cfb rush attempts'].median()][possible_targets[i]].dropna()\n",
    "X = scipy.stats.ttest_ind(cfbra_low, cfbra_high, equal_var = False)\n",
    "print('Null hypothesis: the samples of players with cfb rush attempts'+\n",
    "      '\\nbelow and above the mean are from the same distribution'+\n",
    "      '\\nw.r.t. %s' %possible_targets[i]+\n",
    "      '\\nThe p-test for such hypothesis is p = %.4f \\n' %X[1])\n",
    "\n",
    "i = 2\n",
    "cfbra_low = tdc[tdc['cfb rush attempts'] < tdc['cfb rush attempts'].median()][possible_targets[i]]\n",
    "cfbra_high = tdc[tdc['cfb rush attempts'] >= tdc['cfb rush attempts'].median()][possible_targets[i]]\n",
    "X = scipy.stats.ttest_ind(cfbra_low, cfbra_high, equal_var = False)\n",
    "print('Null hypothesis: the samples of players with cfb rush attempts'+\n",
    "      '\\nbelow and above the mean are from the same distribution'+\n",
    "      '\\nw.r.t. %s' %possible_targets[i]+\n",
    "      '\\nThe p-test for such hypothesis is p = %.4f \\n' %X[1])"
   ]
  },
  {
   "cell_type": "markdown",
   "metadata": {},
   "source": [
    "### Test3: CFB Rec Td\n",
    "Let's consider the set of players below and above the mean."
   ]
  },
  {
   "cell_type": "code",
   "execution_count": 65,
   "metadata": {},
   "outputs": [
    {
     "data": {
      "image/png": "[encoded data removed]",
      "text/plain": [
       "<Figure size 432x288 with 1 Axes>"
      ]
     },
     "metadata": {
      "needs_background": "light"
     },
     "output_type": "display_data"
    }
   ],
   "source": [
    "_ = plt.hist(tdc['cfb rec td'], bins = 20)\n",
    "_ = plt.axvline(tdc['cfb rec td'].median(), color = 'r')"
   ]
  },
  {
   "cell_type": "code",
   "execution_count": 67,
   "metadata": {
    "scrolled": true
   },
   "outputs": [
    {
     "name": "stdout",
     "output_type": "stream",
     "text": [
      "Null hypothesis: the samples of players with cfb receiving tds\n",
      "below and above the mean are from the same distribution\n",
      "w.r.t. nfl receptions per game\n",
      "The p-test for such hypothesis is p = 0.00000127 \n",
      "\n",
      "Null hypothesis: the samples of players with cfb receiving tds\n",
      "below and above the mean are from the same distribution\n",
      "w.r.t. nfl rec yards per game\n",
      "The p-test for such hypothesis is p = 0.00000012 \n",
      "\n",
      "Null hypothesis: the samples of players with cfb receiving tds\n",
      "below and above the mean are from the same distribution\n",
      "w.r.t. yards first 5 seasons\n",
      "The p-test for such hypothesis is p = 0.00000060 \n",
      "\n"
     ]
    }
   ],
   "source": [
    "i = 0\n",
    "cfbrtd_low = tdc[tdc['cfb rec td'] < tdc['cfb rec td'].median()][possible_targets[i]].dropna()\n",
    "cfbrtd_high = tdc[tdc['cfb rec td'] >= tdc['cfb rec td'].median()][possible_targets[i]].dropna()\n",
    "X = scipy.stats.ttest_ind(cfbrtd_low, cfbrtd_high, equal_var = False)\n",
    "print('Null hypothesis: the samples of players with cfb receiving tds'+\n",
    "      '\\nbelow and above the mean are from the same distribution'+\n",
    "      '\\nw.r.t. %s' %possible_targets[i]+\n",
    "      '\\nThe p-test for such hypothesis is p = %.8f \\n' %X[1])\n",
    "\n",
    "i = 1\n",
    "cfbrtd_low = tdc[tdc['cfb rec td'] < tdc['cfb rec td'].median()][possible_targets[i]].dropna()\n",
    "cfbrtd_high = tdc[tdc['cfb rec td'] >= tdc['cfb rec td'].median()][possible_targets[i]].dropna()\n",
    "X = scipy.stats.ttest_ind(cfbrtd_low, cfbrtd_high, equal_var = False)\n",
    "print('Null hypothesis: the samples of players with cfb receiving tds'+\n",
    "      '\\nbelow and above the mean are from the same distribution'+\n",
    "      '\\nw.r.t. %s' %possible_targets[i]+\n",
    "      '\\nThe p-test for such hypothesis is p = %.8f \\n' %X[1])\n",
    "\n",
    "i = 2\n",
    "cfbrtd_low = tdc[tdc['cfb rec td'] < tdc['cfb rec td'].median()][possible_targets[i]].dropna()\n",
    "cfbrtd_high = tdc[tdc['cfb rec td'] >= tdc['cfb rec td'].median()][possible_targets[i]].dropna()\n",
    "X = scipy.stats.ttest_ind(cfbrtd_low, cfbrtd_high, equal_var = False)\n",
    "print('Null hypothesis: the samples of players with cfb receiving tds'+\n",
    "      '\\nbelow and above the mean are from the same distribution'+\n",
    "      '\\nw.r.t. %s' %possible_targets[i]+\n",
    "      '\\nThe p-test for such hypothesis is p = %.8f \\n' %X[1])"
   ]
  }
 ],
 "metadata": {
  "kernelspec": {
   "display_name": "Python 3",
   "language": "python",
   "name": "python3"
  },
  "language_info": {
   "codemirror_mode": {
    "name": "ipython",
    "version": 3
   },
   "file_extension": ".py",
   "mimetype": "text/x-python",
   "name": "python",
   "nbconvert_exporter": "python",
   "pygments_lexer": "ipython3",
   "version": "3.7.3"
  }
 },
 "nbformat": 4,
 "nbformat_minor": 2
}
