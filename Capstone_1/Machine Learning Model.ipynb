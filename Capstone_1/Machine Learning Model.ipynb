{
 "cells": [
  {
   "cell_type": "markdown",
   "metadata": {},
   "source": [
    "### Initialization Cells (ignore)"
   ]
  },
  {
   "cell_type": "code",
   "execution_count": 276,
   "metadata": {},
   "outputs": [],
   "source": [
    "import pandas as pd\n",
    "import numpy as np\n",
    "import seaborn as sns\n",
    "import matplotlib.pyplot as plt\n",
    "\n",
    "pd.set_option('display.max_rows', 100)\n",
    "pd.set_option('display.max_columns', 100)"
   ]
  },
  {
   "cell_type": "code",
   "execution_count": 778,
   "metadata": {},
   "outputs": [],
   "source": [
    "import statsmodels.api as sm\n",
    "from statsmodels.formula.api import ols\n",
    "\n",
    "from sklearn import preprocessing\n",
    "from sklearn.metrics import mean_squared_error\n",
    "from sklearn.model_selection import train_test_split, cross_val_score, cross_validate, GridSearchCV\n",
    "\n",
    "from sklearn.impute import SimpleImputer as Imputer\n",
    "from sklearn.pipeline import Pipeline\n",
    "#from sklearn.svm import SVC\n",
    "\n",
    "from sklearn.linear_model import LinearRegression, Ridge, ElasticNet"
   ]
  },
  {
   "cell_type": "code",
   "execution_count": 157,
   "metadata": {},
   "outputs": [],
   "source": [
    "tdc = pd.read_csv('data_sets/wr_tdc_new.csv')\n",
    "\n",
    "columns_floats = list(range(13,21)) +list(range(26,53)) +list(range(60,73)) +list(range(75,83)) + [85,92,93]\n",
    "columns_nonnum = ['cfb conference','cfb class']"
   ]
  },
  {
   "cell_type": "code",
   "execution_count": 159,
   "metadata": {},
   "outputs": [],
   "source": [
    "target = ['yards first 5 seasons']\n",
    "inputs = ['cfb conference','cfb class','cfb games','cfb receptions',\n",
    "          'cfb rec yards','cfb rec yards per reception','cfb rec td','cfb rush attempts',\n",
    "          'cfb rush yards','cfb rush yards per attempt','cfb rush td','cfb scrimmages',\n",
    "          'cfb yards','cfb yards from scrimmage','cfb td','combine ht','combine wt','combine forty',\n",
    "          'combine vertical','combine benchreps','combine broadjump','combine cone','combine shuttle']\n",
    "\n",
    "new_tdc = tdc[inputs+target]\n",
    "ntdc = new_tdc.rename(columns={\n",
    "    'cfb conference':'cfbconference',\n",
    "    'cfb class':'cfbclass',\n",
    "    'cfb games':'cfbgames',\n",
    "    'cfb receptions':'cfbreceptions',\n",
    "    'cfb rec yards':'cfbrecyards',\n",
    "    'cfb rec yards per reception':'cfbrecyardsperreception',\n",
    "    'cfb rec td':'cfbrectd',\n",
    "    'cfb rush attempts':'cfbrushattempts',\n",
    "    'cfb rush yards':'cfbrushyards',\n",
    "    'cfb rush yards per attempt':'cfbrushyardsperattempt',\n",
    "    'cfb rush td':'cfbrushtd',\n",
    "    'cfb scrimmages':'cfbscrimmages',\n",
    "    'cfb yards': 'cfbyards',\n",
    "    'cfb yards from scrimmage':'cfbyardsfromscrimmage',\n",
    "    'cfb td':'cfbtd',\n",
    "    'combine ht':'combineht',\n",
    "    'combine wt':'combinewt',\n",
    "    'combine forty':'combineforty',\n",
    "    'combine vertical':'combinevertical',\n",
    "    'combine benchreps':'combinebenchreps',\n",
    "    'combine broadjump':'combinebroadjump',\n",
    "    'combine cone':'combinecone',\n",
    "    'combine shuttle':'combineshuttle',\n",
    "    'yards first 5 seasons':'yardsfirst5seasons'})"
   ]
  },
  {
   "cell_type": "code",
   "execution_count": 437,
   "metadata": {},
   "outputs": [],
   "source": [
    "def display_plot(cv_scores, cv_scores_std):\n",
    "    fig = plt.figure()\n",
    "    ax = fig.add_subplot(1,1,1)\n",
    "    ax.plot(alpha_space, cv_scores)\n",
    "\n",
    "    std_error = cv_scores_std / np.sqrt(10)\n",
    "\n",
    "    ax.fill_between(alpha_space, cv_scores + std_error, cv_scores - std_error, alpha=0.2)\n",
    "    ax.set_ylabel('CV Score +/- Std Error')\n",
    "    ax.set_xlabel('Alpha')\n",
    "    ax.axhline(np.max(cv_scores), linestyle='--', color='.5')\n",
    "    ax.set_xlim([alpha_space[0], alpha_space[-1]])\n",
    "    ax.set_xscale('log')\n",
    "    plt.show()"
   ]
  },
  {
   "cell_type": "markdown",
   "metadata": {},
   "source": [
    "## Summary\n",
    "\n",
    "This data set is pretty difficult and most importantly... limited. For recall, our target is **y = yards first 5 seasons** and we have a total of **23 input variables**, 2 of them are non-numerical. But unfortunately, we only have a total of **393 data points** and only roughly 75% of it is complete - 300/ 393 to be exact. If you account for non specified for the discrete datam this number even drops to 273/393...\n",
    "\n",
    "Also, very noticebly, our data is very spread out. A lot of players end up having 0 play time in the NFL, sometimes because of lack of competitiveness or because of injuries, despite very satisfying performances in college football. For example, as indicated by the very first figure in this notebook, the total number of TD in college (the variable which correlates the most with **y**) has an impact on most of player's NFL performances, but for a substantial number of them, it doesn't. This observation is mostly the reason for the difficulty of building a predictable model. Hence, most of this notebook will consist in studying how keeping or removing certain sets of data improve or worsen the model. We will also explore how different parameters can affect the performance of our algorithm.\n",
    "\n",
    "As we attempt multiple supervised machine learning models on our data set, for each attempt, we will compute the coefficient of determination $R^2$ and very importantly, the root-mean-square deviation $RMSE$ which we'll look to minimize. We will do using a cross validation with 10 folds and pick out the average values returned for each of those metrics."
   ]
  },
  {
   "cell_type": "markdown",
   "metadata": {},
   "source": [
    "# 1st attempt - All the data - Remove 'Nan' entries\n",
    "We first remove the non-crucial combine data such as vertical, benchreps, broadjump, cone and shuttle stats. Those have very little importance in a player's overall combine performance, and a lot of them have null entries, suggesting the players do not attempt those tests:\n",
    "\n",
    "- We start with running a simple linear regression model between our target **y** and the number of TD in college **X =  cfb td**\n",
    "- We then run the same on all input numerical variables **X**\n",
    "- Finally we run a simple Train/Test split on our data and do a cross validation test which returns the coefficient of fitness $R^2$ and the root mean square error $RMSE$"
   ]
  },
  {
   "cell_type": "code",
   "execution_count": 279,
   "metadata": {
    "scrolled": true
   },
   "outputs": [
    {
     "name": "stdout",
     "output_type": "stream",
     "text": [
      "<class 'pandas.core.frame.DataFrame'>\n",
      "RangeIndex: 393 entries, 0 to 392\n",
      "Data columns (total 5 columns):\n",
      "combinevertical     245 non-null float64\n",
      "combinebenchreps    85 non-null float64\n",
      "combinebroadjump    234 non-null float64\n",
      "combinecone         194 non-null float64\n",
      "combineshuttle      198 non-null float64\n",
      "dtypes: float64(5)\n",
      "memory usage: 15.5 KB\n"
     ]
    }
   ],
   "source": [
    "ntdc[['combinevertical','combinebenchreps','combinebroadjump','combinecone','combineshuttle']].info()"
   ]
  },
  {
   "cell_type": "markdown",
   "metadata": {},
   "source": [
    "As we can see above, there are far too many null entries for those variables, hence we remove them."
   ]
  },
  {
   "cell_type": "code",
   "execution_count": 665,
   "metadata": {},
   "outputs": [],
   "source": [
    "wr1=ntdc.drop(['combinevertical','combinebenchreps','combinebroadjump','combinecone','combineshuttle'],axis = 1)\n",
    "wr1d = wr1.dropna()"
   ]
  },
  {
   "cell_type": "markdown",
   "metadata": {},
   "source": [
    "### Linear regression model with one imput: CFB TD (using statsmodel)"
   ]
  },
  {
   "cell_type": "code",
   "execution_count": 478,
   "metadata": {
    "scrolled": true
   },
   "outputs": [
    {
     "data": {
      "image/png": "[encoded data removed]",
      "text/plain": [
       "<Figure size 432x288 with 1 Axes>"
      ]
     },
     "metadata": {
      "needs_background": "light"
     },
     "output_type": "display_data"
    }
   ],
   "source": [
    "_ = sns.regplot(y=\"yardsfirst5seasons\", x=\"cfbtd\", data=wr1d, fit_reg = True)"
   ]
  },
  {
   "cell_type": "markdown",
   "metadata": {},
   "source": [
    "The existence of all these data points, narroweed to the x-axis indicate that a substantial amount of players end up with no playing time in the NFL, despite scoring a relatively high number of TDs in college."
   ]
  },
  {
   "cell_type": "code",
   "execution_count": 666,
   "metadata": {
    "scrolled": true
   },
   "outputs": [
    {
     "data": {
      "image/png": "[encoded data removed]",
      "text/plain": [
       "<Figure size 432x288 with 1 Axes>"
      ]
     },
     "metadata": {
      "needs_background": "light"
     },
     "output_type": "display_data"
    }
   ],
   "source": [
    "m = ols('yardsfirst5seasons ~ cfbtd',wr1d).fit()\n",
    "#print(m.summary())\n",
    "plt.scatter(wr1d.yardsfirst5seasons, m.fittedvalues)\n",
    "plt.xlabel('Fitted Values')\n",
    "plt.ylabel('Original Values')\n",
    "plt.title('X =  CFB TD')\n",
    "plt.show()"
   ]
  },
  {
   "cell_type": "markdown",
   "metadata": {},
   "source": [
    "### Linear Regression: all variables (using sklearn)"
   ]
  },
  {
   "cell_type": "code",
   "execution_count": 671,
   "metadata": {},
   "outputs": [
    {
     "data": {
      "text/plain": [
       "LinearRegression(copy_X=True, fit_intercept=True, n_jobs=None, normalize=False)"
      ]
     },
     "execution_count": 671,
     "metadata": {},
     "output_type": "execute_result"
    }
   ],
   "source": [
    "# We pick all numerical variables (except our target) as our feature data: X\n",
    "X = wr1d.drop(['cfbconference','cfbclass','yardsfirst5seasons'], axis = 1)\n",
    "y = wr1d['yardsfirst5seasons']\n",
    "\n",
    "# Instiantate the regressor\n",
    "reg = LinearRegression()\n",
    "\n",
    "# Fit to the data\n",
    "reg.fit(X, y)"
   ]
  },
  {
   "cell_type": "code",
   "execution_count": 672,
   "metadata": {
    "scrolled": true
   },
   "outputs": [
    {
     "data": {
      "image/png": "[encoded data removed]",
      "text/plain": [
       "<Figure size 432x288 with 1 Axes>"
      ]
     },
     "metadata": {
      "needs_background": "light"
     },
     "output_type": "display_data"
    },
    {
     "name": "stdout",
     "output_type": "stream",
     "text": [
      "R^2: 0.15049769386941025\n",
      "Root Mean Squared Error: 1463.5172332057991\n"
     ]
    }
   ],
   "source": [
    "# print('Number of coefficients: {}'.format(len(lm.coef_)))\n",
    "# pd.DataFrame({'features': X.columns, 'estimatedCoefficients': lm.coef_})[['features', 'estimatedCoefficients']]\n",
    "\n",
    "# Predict the data\n",
    "y_pred = reg.predict(X)\n",
    "\n",
    "plt.scatter(y, y_pred)\n",
    "plt.xlabel('Original Values')\n",
    "plt.ylabel('Predicted Values')\n",
    "plt.title('Scatter plot')\n",
    "plt.show()\n",
    "\n",
    "print(\"R^2: {}\".format(reg.score(X, y)))\n",
    "rmse = np.sqrt(mean_squared_error(y, y_pred))\n",
    "print(\"Root Mean Squared Error: {}\".format(rmse))"
   ]
  },
  {
   "cell_type": "markdown",
   "metadata": {},
   "source": [
    "### Linear Regression and Train/Test Split (using sklearn)"
   ]
  },
  {
   "cell_type": "code",
   "execution_count": 675,
   "metadata": {},
   "outputs": [
    {
     "name": "stdout",
     "output_type": "stream",
     "text": [
      "R^2: 0.20282879204310245\n",
      "Root Mean Squared Error: 1468.2585411594468\n",
      "Average R^2 after 10 CV tests: -0.012390839850721657\n",
      "Average RMSE after 10 CV tests: 1515.6908625638291\n"
     ]
    }
   ],
   "source": [
    "# Split the data into training and test sets\n",
    "X_train, X_test, y_train, y_test = train_test_split(X, y, test_size = .30)\n",
    "reg = LinearRegression()\n",
    "reg.fit(X_train, y_train)\n",
    "y_pred = reg.predict(X_test)\n",
    "\n",
    "# Compute and print R^2 and RMSE\n",
    "print(\"R^2: {}\".format(reg.score(X_test, y_test)))\n",
    "rmse = np.sqrt(mean_squared_error(y_test, y_pred))\n",
    "print(\"Root Mean Squared Error: {}\".format(rmse))\n",
    "\n",
    "# Returning those quantities with a CV test\n",
    "cv_scores = cross_validate(reg, X, y, cv = 10, scoring=('r2', 'neg_root_mean_squared_error'))\n",
    "\n",
    "print('Average R^2 after 10 CV tests:', np.mean(cv_scores['test_r2']))\n",
    "print('Average RMSE after 10 CV tests:', -np.mean(cv_scores['test_neg_root_mean_squared_error']))"
   ]
  },
  {
   "cell_type": "markdown",
   "metadata": {},
   "source": [
    "# 2nd attempt - Data that correlates the most\n",
    "\n",
    "Here, we first decide to pick those input variables that correlate the most with our target, which we deem critical to our study. The idea in doing so is to potentially get rid of useless features. From there, we can also:\n",
    "\n",
    "- remove outrageous outliers using statsmodels\n",
    "- then, run a train/test split model using the updated data set"
   ]
  },
  {
   "cell_type": "code",
   "execution_count": 545,
   "metadata": {},
   "outputs": [],
   "source": [
    "wr2 = ntdc[['cfbrectd', 'cfbtd', 'cfbyards', 'cfbrecyards','cfbyardsfromscrimmage','cfbgames','yardsfirst5seasons']]\n",
    "wr2d = wr2.dropna().reset_index(drop = True)"
   ]
  },
  {
   "cell_type": "markdown",
   "metadata": {},
   "source": [
    "### Statsmodels: Remove outrageous outliers"
   ]
  },
  {
   "cell_type": "code",
   "execution_count": 554,
   "metadata": {},
   "outputs": [
    {
     "data": {
      "image/png": "[encoded data removed]",
      "text/plain": [
       "<Figure size 432x288 with 1 Axes>"
      ]
     },
     "metadata": {
      "needs_background": "light"
     },
     "output_type": "display_data"
    },
    {
     "name": "stdout",
     "output_type": "stream",
     "text": [
      "R^2: 0.1677280098276569\n",
      "Root Mean Squared Error: 1410.657872434383\n"
     ]
    }
   ],
   "source": [
    "m = ols('yardsfirst5seasons ~ cfbrectd + cfbtd + cfbyards + cfbrecyards + cfbyardsfromscrimmage + cfbgames',wr2d).fit()\n",
    "#print(m.summary())\n",
    "\n",
    "y_pred = m.fittedvalues\n",
    "y = wr2d.yardsfirst5seasons\n",
    "\n",
    "plt.scatter(y_pred, y - y_pred)\n",
    "plt.xlabel('Predicted values')\n",
    "plt.ylabel('Residual')\n",
    "plt.show()\n",
    "\n",
    "print(\"R^2:\",m.rsquared)\n",
    "rmse = np.sqrt(mean_squared_error(y, y_pred))\n",
    "print(\"Root Mean Squared Error: {}\".format(rmse))"
   ]
  },
  {
   "cell_type": "code",
   "execution_count": 678,
   "metadata": {},
   "outputs": [
    {
     "data": {
      "image/png": "[encoded data removed]",
      "text/plain": [
       "<Figure size 1080x360 with 2 Axes>"
      ]
     },
     "metadata": {
      "needs_background": "light"
     },
     "output_type": "display_data"
    },
    {
     "name": "stdout",
     "output_type": "stream",
     "text": [
      "R^2: 0.16519081420046544\n",
      "Root Mean Squared Error: 1371.8622967101012\n"
     ]
    }
   ],
   "source": [
    "high_resid = np.where(abs(m.resid) > 2500)\n",
    "#high_studentized_resid = np.where(abs(m.get_influence().resid_studentized_external > 2.5))\n",
    "wr2d_new = wr2d.drop(high_resid[0], axis = 0)\n",
    "m_new = ols('yardsfirst5seasons ~ cfbrectd + cfbtd + cfbyards + cfbrecyards + cfbyardsfromscrimmage + cfbgames',wr2d_new).fit()\n",
    "\n",
    "_ = plt.subplots(1,2,figsize=(15,5))\n",
    "\n",
    "plt.subplot(1,2,1)\n",
    "plt.hist(m.resid)\n",
    "plt.xlabel('Residual')\n",
    "plt.ylabel('Frequency')\n",
    "plt.title('Before removing')\n",
    "\n",
    "plt.subplot(1,2,2)\n",
    "plt.hist(m_new.resid)\n",
    "plt.xlabel('Residual')\n",
    "plt.ylabel('Frequency')\n",
    "plt.title('After removing outliers')\n",
    "plt.show()\n",
    "\n",
    "y_pred = m_new.fittedvalues\n",
    "y = wr2d_new.yardsfirst5seasons\n",
    "print(\"R^2:\",m_new.rsquared)\n",
    "rmse = np.sqrt(mean_squared_error(y, y_pred))\n",
    "print(\"Root Mean Squared Error: {}\".format(rmse))"
   ]
  },
  {
   "cell_type": "markdown",
   "metadata": {},
   "source": [
    "### Sklearn: Linear Regression on Train/Test split of the new data set"
   ]
  },
  {
   "cell_type": "markdown",
   "metadata": {},
   "source": [
    "Before removing the outrageous outliers"
   ]
  },
  {
   "cell_type": "code",
   "execution_count": 566,
   "metadata": {},
   "outputs": [
    {
     "name": "stdout",
     "output_type": "stream",
     "text": [
      "Average R^2 after 10 CV tests: 0.08351104051281576\n",
      "Average RMSE after 10 CV tests: 1437.9412262761098\n"
     ]
    }
   ],
   "source": [
    "X = wr2d[['cfbrectd', 'cfbtd', 'cfbyards', 'cfbrecyards','cfbyardsfromscrimmage','cfbgames']]\n",
    "y = wr2d['yardsfirst5seasons']\n",
    "\n",
    "X_train, X_test, y_train, y_test = train_test_split(X, y, test_size = .30, random_state=42)\n",
    "reg = LinearRegression()\n",
    "reg.fit(X_train, y_train)\n",
    "y_pred = reg.predict(X_test)\n",
    "\n",
    "cv_scores = cross_validate(reg, X, y, cv = 10, scoring=('r2', 'neg_root_mean_squared_error'))\n",
    "print('Average R^2 after 10 CV tests:', np.mean(cv_scores['test_r2']))\n",
    "print('Average RMSE after 10 CV tests:', -np.mean(cv_scores['test_neg_root_mean_squared_error']))"
   ]
  },
  {
   "cell_type": "markdown",
   "metadata": {},
   "source": [
    "Now, removing the outrageous outliers"
   ]
  },
  {
   "cell_type": "code",
   "execution_count": 568,
   "metadata": {},
   "outputs": [
    {
     "name": "stdout",
     "output_type": "stream",
     "text": [
      "Average R^2 after 10 CV tests: 0.10362786640559651\n",
      "Average RMSE after 10 CV tests: 1363.658541637911\n"
     ]
    }
   ],
   "source": [
    "wr2_new = wr2.drop(high_resid[0], axis = 0)\n",
    "wr2d_new = wr3.dropna().reset_index(drop = True)\n",
    "X = wr2d_new[['cfbrectd', 'cfbtd', 'cfbyards', 'cfbrecyards','cfbyardsfromscrimmage','cfbgames']]\n",
    "y = wr2d_new['yardsfirst5seasons']\n",
    "X_train, X_test, y_train, y_test = train_test_split(X, y, test_size = .30, random_state=42)\n",
    "\n",
    "reg = LinearRegression()\n",
    "reg.fit(X_train, y_train)\n",
    "y_pred = reg.predict(X_test)\n",
    "\n",
    "cv_scores = cross_validate(reg, X, y, cv = 10, scoring=('r2', 'neg_root_mean_squared_error'))\n",
    "print('Average R^2 after 10 CV tests:', np.mean(cv_scores['test_r2']))\n",
    "print('Average RMSE after 10 CV tests:', -np.mean(cv_scores['test_neg_root_mean_squared_error']))"
   ]
  },
  {
   "cell_type": "markdown",
   "metadata": {},
   "source": [
    "# 3rd Attempt: Non-numerical Data\n",
    "\n",
    "We will now look to include the conference and class data to our data set of the 2nd attempt and see if we notice any improvement in the residue or the $RMSE$.\n",
    "\n",
    "To do so, we use the pandas function *get_dummies* which each non-numerical value into a set of multiple binary-valued columns. As we've done up until now, we remove all rows that do not have a specific value for those variables: they are set as *'Other'* for the conference and *'Non Declared'* for the CFB class."
   ]
  },
  {
   "cell_type": "code",
   "execution_count": 681,
   "metadata": {},
   "outputs": [],
   "source": [
    "wr3 = ntdc[['cfbconference','cfbclass','cfbrectd', 'cfbtd','cfbyards', \n",
    "            'cfbrecyards','cfbyardsfromscrimmage','cfbgames','yardsfirst5seasons']].drop(high_resid[0], axis = 0)\n",
    "wr3d = wr3.dropna().reset_index(drop = True)\n",
    "\n",
    "# Remove rows that contain either 'Other' or 'Non Declared'\n",
    "cond = wr3d[wr3d.cfbconference == 'Other'] | wr3d[wr3d['cfbclass'] == 'Non Declared']\n",
    "wr3d = wr3d.drop(cond.index, axis = 0)\n",
    "\n",
    "wr3d_new = pd.get_dummies(wr3d, prefix=['cfbconference','cfbclass'])"
   ]
  },
  {
   "cell_type": "code",
   "execution_count": 682,
   "metadata": {},
   "outputs": [
    {
     "name": "stdout",
     "output_type": "stream",
     "text": [
      "Average R^2 after 10 CV tests: 0.04229859291797984\n",
      "Average RMSE after 10 CV tests: 1421.2641814875112\n"
     ]
    }
   ],
   "source": [
    "X = wr3d_new.drop('yardsfirst5seasons', axis = 1)\n",
    "y = wr3d_new['yardsfirst5seasons']\n",
    "X_train, X_test, y_train, y_test = train_test_split(X, y, test_size = .30, random_state=42)\n",
    "\n",
    "reg = LinearRegression()\n",
    "reg.fit(X_train, y_train)\n",
    "y_pred = reg.predict(X_test)\n",
    "\n",
    "cv_scores = cross_validate(reg, X, y, cv = 10, scoring=('r2', 'neg_root_mean_squared_error'))\n",
    "print('Average R^2 after 10 CV tests:', np.mean(cv_scores['test_r2']))\n",
    "print('Average RMSE after 10 CV tests:', -np.mean(cv_scores['test_neg_root_mean_squared_error']))"
   ]
  },
  {
   "cell_type": "markdown",
   "metadata": {},
   "source": [
    "Unfortunately, we do not see a neat improvement in the minimization of the error of our model by accounting for the conference or the class of the player upon entry in the draft."
   ]
  },
  {
   "cell_type": "markdown",
   "metadata": {},
   "source": [
    "# 4th Attempt: Handling Missing values\n",
    "\n",
    "Let's now consider models that will handle missing values. Up until now, we've simply removed all rows that contained a single np.nan entry in the feature variable (93/393 rows total).\n",
    "\n",
    "Now, let's instead we consider our first data set (all data, except useless combine stats) and let's attempt to repeat the process of our 3rd attempt. We set the missing cfbconference and cfbclass data as np.nan as well, so that the **imputer**, whose strategy is based off the **mean value** of the existing data, handles those too. \n",
    "\n",
    "At first, we do not consider the columns of cfbconference / cfbclass, but we do so in the later part."
   ]
  },
  {
   "cell_type": "markdown",
   "metadata": {},
   "source": [
    "### Remove cfbconference and cfbclass from our feature data X"
   ]
  },
  {
   "cell_type": "code",
   "execution_count": 684,
   "metadata": {},
   "outputs": [
    {
     "name": "stdout",
     "output_type": "stream",
     "text": [
      "Average R^2 after 10 CV tests: 0.08034193903762929\n",
      "Average RMSE after 10 CV tests: 1394.910146346188\n"
     ]
    }
   ],
   "source": [
    "wr4=ntdc.drop(['combinevertical','combinebenchreps','combinebroadjump','combinecone','combineshuttle'],axis = 1)\n",
    "X = wr4.drop(['yardsfirst5seasons','cfbconference','cfbclass'],axis = 1)\n",
    "y = wr4['yardsfirst5seasons']\n",
    "\n",
    "# Instantiate an instance of the imputer based on a 'mean' strategy\n",
    "imp = Imputer(missing_values= np.nan, strategy = 'mean')\n",
    "imp.fit(X)\n",
    "X = imp.transform(X)\n",
    "\n",
    "X_train, X_test, y_train, y_test = train_test_split(X, y, test_size = .30, random_state=0)\n",
    "\n",
    "reg = LinearRegression()\n",
    "reg.fit(X_train, y_train)\n",
    "y_pred = reg.predict(X_test)\n",
    "\n",
    "cv_scores = cross_validate(reg, X, y, cv = 10, scoring=('r2', 'neg_root_mean_squared_error'))\n",
    "print('Average R^2 after 10 CV tests:', np.mean(cv_scores['test_r2']))\n",
    "print('Average RMSE after 10 CV tests:', -np.mean(cv_scores['test_neg_root_mean_squared_error']))"
   ]
  },
  {
   "cell_type": "markdown",
   "metadata": {},
   "source": [
    "### Include cfbconference and cfbclass to our feature data X using Pandas get_dummies"
   ]
  },
  {
   "cell_type": "code",
   "execution_count": 614,
   "metadata": {},
   "outputs": [],
   "source": [
    "wr4=ntdc.drop(['combinevertical','combinebenchreps','combinebroadjump','combinecone','combineshuttle'],axis = 1)\n",
    "#wr4 = wr4.dropna().reset_index(drop = True)\n",
    "wr4.loc[wr4.cfbconference == 'Other','cfbconference'] = np.nan\n",
    "wr4.loc[wr4.cfbclass == 'Non Declared','cfbclass'] = np.nan\n",
    "\n",
    "wr4_new = pd.get_dummies(wr4, prefix=['cfbconference','cfbclass'])"
   ]
  },
  {
   "cell_type": "code",
   "execution_count": 688,
   "metadata": {},
   "outputs": [
    {
     "name": "stdout",
     "output_type": "stream",
     "text": [
      "Average R^2 after 10 CV tests: 0.0946038934301788\n",
      "Average RMSE after 10 CV tests: 1383.1872617298595\n"
     ]
    }
   ],
   "source": [
    "X = wr4_new.drop('yardsfirst5seasons',axis = 1)\n",
    "y = wr4_new['yardsfirst5seasons']\n",
    "\n",
    "imp = Imputer(missing_values= np.nan, strategy = 'mean')\n",
    "imp.fit(X)\n",
    "X = imp.transform(X)\n",
    "\n",
    "X_train, X_test, y_train, y_test = train_test_split(X, y, test_size = .30, random_state=0)\n",
    "\n",
    "reg = LinearRegression()\n",
    "reg.fit(X_train, y_train)\n",
    "y_pred = reg.predict(X_test)\n",
    "\n",
    "cv_scores = cross_validate(reg, X, y, cv = 10, scoring=('r2', 'neg_root_mean_squared_error'))\n",
    "print('Average R^2 after 10 CV tests:', np.mean(cv_scores['test_r2']))\n",
    "print('Average RMSE after 10 CV tests:', -np.mean(cv_scores['test_neg_root_mean_squared_error']))"
   ]
  },
  {
   "cell_type": "markdown",
   "metadata": {},
   "source": [
    "# 5th Attempt: Regularization with Ridge"
   ]
  },
  {
   "cell_type": "markdown",
   "metadata": {},
   "source": [
    "We attempt to do regularization with **Ridge** manually and through a CV grid. The CV grid is advantageous in that it can easily fit the **$\\alpha$** parameter in our model and return best fit solution with respect to the **cv score**. Nevertheless, our model tuning up until now has been based on the $R^2$ and most importantly, on the **RSME**.\n",
    "\n",
    "- Therefore, at first, we will simply run the cross validation scores over a range of $\\alpha$ parameters (spanned over a log scale) and return the minimum value (along with a plot of those scores)\n",
    "- Then, we will repeat the process but this time over the $RSME$ metric instead"
   ]
  },
  {
   "cell_type": "code",
   "execution_count": 842,
   "metadata": {},
   "outputs": [],
   "source": [
    "wr5=ntdc.drop(['combinevertical','combinebenchreps','combinebroadjump','combinecone','combineshuttle'],axis = 1)\n",
    "\n",
    "wr5.loc[wr5.cfbconference == 'Other','cfbconference'] = np.nan\n",
    "wr5.loc[wr5.cfbclass == 'Non Declared','cfbclass'] = np.nan\n",
    "wr5d = wr5.dropna().reset_index(drop = True)\n",
    "wr5d = pd.get_dummies(wr5d, prefix=['cfbconference','cfbclass'])\n",
    "\n",
    "# wr5 = wr5.drop(['cfbconference','cfbclass'], axis = 1)\n",
    "# wr5d = wr5.dropna().reset_index(drop = True)\n",
    "\n",
    "X = wr5d.drop('yardsfirst5seasons',axis = 1)\n",
    "y = wr5d['yardsfirst5seasons']"
   ]
  },
  {
   "cell_type": "code",
   "execution_count": 844,
   "metadata": {},
   "outputs": [
    {
     "name": "stdout",
     "output_type": "stream",
     "text": [
      "Tuned Linear Regression Parameters: {'alpha': 0.8286427728546842}\n",
      "Best score is 0.11858098159703248\n"
     ]
    },
    {
     "data": {
      "image/png": "[encoded data removed]",
      "text/plain": [
       "<Figure size 432x288 with 1 Axes>"
      ]
     },
     "metadata": {
      "needs_background": "light"
     },
     "output_type": "display_data"
    }
   ],
   "source": [
    "# Setup the hyperparameter grid\n",
    "alpha_space = np.logspace(-4, 0, 50)\n",
    "param_grid = {'alpha': alpha_space}\n",
    "\n",
    "# Instantiate the GridSearchCV object\n",
    "ridge = Ridge(normalize = True)\n",
    "reg_cv = GridSearchCV(ridge, param_grid, cv=5)\n",
    "reg_cv.fit(X, y)\n",
    "\n",
    "print(\"Tuned Linear Regression Parameters: {}\".format(reg_cv.best_params_)) \n",
    "print(\"Best score is {}\".format(reg_cv.best_score_))\n",
    "alpha_best = reg_cv.best_params_['alpha']\n",
    "\n",
    "ridge_scores = []\n",
    "ridge_scores_std = []\n",
    "\n",
    "for alpha in alpha_space:\n",
    "    ridge.alpha = alpha\n",
    "    ridge_cv_scores = cross_val_score(ridge, X, y, cv = 5)\n",
    "    ridge_scores.append(np.mean(ridge_cv_scores))    \n",
    "    ridge_scores_std.append(np.std(ridge_cv_scores))\n",
    "\n",
    "plt.plot(alpha_space, ridge_scores)\n",
    "plt.xscale(\"log\")\n",
    "plt.xlabel(\"Alpha\")\n",
    "plt.ylabel(\"CV score\")\n",
    "plt.axvline(alpha_best, linestyle = '--')\n",
    "plt.axhline(reg_cv.best_score_, linestyle = '--')\n",
    "plt.show()"
   ]
  },
  {
   "cell_type": "code",
   "execution_count": 850,
   "metadata": {},
   "outputs": [
    {
     "name": "stdout",
     "output_type": "stream",
     "text": [
      "Tuned Linear Regression Parameters: {'alpha': 0.8286427728546842}\n",
      "Best score is -1449.158698872408\n"
     ]
    }
   ],
   "source": [
    "alpha_space = np.logspace(-4, 0, 50)\n",
    "param_grid = {'alpha': alpha_space}\n",
    "ridge_rmse = []\n",
    "\n",
    "ridge = Ridge(normalize = True)\n",
    "reg_cv = GridSearchCV(ridge, param_grid, cv=10, scoring= 'neg_root_mean_squared_error', refit = False)\n",
    "reg_cv.fit(X, y)\n",
    "\n",
    "print(\"Tuned Linear Regression Parameters: {}\".format(reg_cv.best_params_)) \n",
    "print(\"Best score is {}\".format(reg_cv.best_score_))\n",
    "alpha_best = reg_cv.best_params_['alpha']\n",
    "\n",
    "for alpha in alpha_space:\n",
    "    ridge.alpha = alpha\n",
    "    \n",
    "    ridge_cv_scores = cross_validate(ridge, X, y, cv = 10, scoring=('r2', 'neg_root_mean_squared_error'))   \n",
    "    ridge_rmse.append(-np.mean(ridge_cv_scores['test_neg_root_mean_squared_error']))"
   ]
  },
  {
   "cell_type": "code",
   "execution_count": 851,
   "metadata": {
    "scrolled": true
   },
   "outputs": [
    {
     "data": {
      "image/png": "[encoded data removed]",
      "text/plain": [
       "<Figure size 432x288 with 1 Axes>"
      ]
     },
     "metadata": {
      "needs_background": "light"
     },
     "output_type": "display_data"
    }
   ],
   "source": [
    "plt.plot(alpha_space, ridge_rmse)\n",
    "plt.xscale(\"log\")\n",
    "plt.xlabel(\"Alpha\")\n",
    "plt.ylabel('Root Mean Square Error')\n",
    "plt.axvline(alpha_best, linestyle = '--')\n",
    "plt.axhline(-reg_cv.best_score_, linestyle = '--')\n",
    "\n",
    "plt.show()"
   ]
  },
  {
   "cell_type": "code",
   "execution_count": null,
   "metadata": {},
   "outputs": [],
   "source": [
    "# And then with a pipeline\n",
    "\n",
    "#steps = [('imputation', Imputer(missing_values=np.nan, strategy='most_frequent')),\n",
    "        # ('scaler', StandardScaler()),\n",
    "        # ('linear_regression', LinearRegression())] or          ('elasticnet', ElasticNet())]\n",
    "#pipeline = Pipeline(steps)\n",
    "\n",
    "#X_train, X_test, y_train, y_test = train_test_split(X,y,test_size = .3)\n",
    "#pipeline.fit(X_train, y_train)\n",
    "#y_pred = pipeline.predict(X_test)\n",
    "\n",
    "# Parameter Space\n",
    "# parameters = {'elasticnet__l1_ratio':np.linspace(0,1,30)}\n",
    "\n",
    "# Compute metrics\n",
    "\n",
    "#gm_cv = GridSearchCV(pipeline, parameters, cv = 3)\n",
    "#gm_cv.fit(X_train, y_train)\n",
    "\n",
    "#r2 = gm_cv.score(X_test, y_test)\n",
    "#print(\"Tuned ElasticNet Alpha: {}\".format(gm_cv.best_params_))\n",
    "#print(\"Tuned ElasticNet R squared: {}\".format(r2))"
   ]
  },
  {
   "cell_type": "markdown",
   "metadata": {},
   "source": [
    "# 6th Attempt: Normalization, QuantileTransformer, Squaring of $Y_i$'s\n",
    "\n",
    "In a last attempt to tune our model even more, we suggest two additional methods:\n",
    "- normalization of all data both **X** and **y**\n",
    "- search for a potential nonlinear behavior between our metric **y** and the feature variable that correlates the most **X = cfbtd**. For this, we also operate under normalization\n",
    "\n",
    "Since both methods change the scaling of our residue, it becomes quite hard to compare the effectiveness of our model on our *transformed* data based on the $RMSE$ for example. Instead, we will compute the cv score, as we did in the first step on the 5th attempt and compare it respectively"
   ]
  },
  {
   "cell_type": "code",
   "execution_count": 852,
   "metadata": {},
   "outputs": [],
   "source": [
    "wr6=ntdc.drop(['combinevertical','combinebenchreps','combinebroadjump','combinecone','combineshuttle'],axis = 1)\n",
    "\n",
    "wr6.loc[wr6.cfbconference == 'Other','cfbconference'] = np.nan\n",
    "wr6.loc[wr6.cfbclass == 'Non Declared','cfbclass'] = np.nan\n",
    "wr6d = wr6.dropna().reset_index(drop = True)\n",
    "wr6d = pd.get_dummies(wr6d, prefix=['cfbconference','cfbclass'])"
   ]
  },
  {
   "cell_type": "markdown",
   "metadata": {},
   "source": [
    "### Normalization using StandardScaler"
   ]
  },
  {
   "cell_type": "code",
   "execution_count": 855,
   "metadata": {},
   "outputs": [],
   "source": [
    "x = wr6d.values #returns a numpy array\n",
    "#min_max_scaler = preprocessing.MinMaxScaler()\n",
    "min_max_scaler = preprocessing.StandardScaler()\n",
    "x_scaled = min_max_scaler.fit_transform(x)\n",
    "wr6d_new = pd.DataFrame(x_scaled)\n",
    "wr6d_new.columns = wr6d.columns.tolist()\n",
    "\n",
    "X = wr6d_new.drop('yardsfirst5seasons',axis = 1)\n",
    "y = wr6d_new['yardsfirst5seasons']"
   ]
  },
  {
   "cell_type": "code",
   "execution_count": 856,
   "metadata": {},
   "outputs": [
    {
     "name": "stdout",
     "output_type": "stream",
     "text": [
      "Tuned Linear Regression Parameters: {'alpha': 0.8286427728546842}\n",
      "Best score is 0.11858098159703259\n"
     ]
    },
    {
     "data": {
      "image/png": "[encoded data removed]",
      "text/plain": [
       "<Figure size 432x288 with 1 Axes>"
      ]
     },
     "metadata": {
      "needs_background": "light"
     },
     "output_type": "display_data"
    }
   ],
   "source": [
    "alpha_space = np.logspace(-4, 0, 50)\n",
    "param_grid = {'alpha': alpha_space}\n",
    "\n",
    "ridge = Ridge(normalize = True)\n",
    "reg_cv = GridSearchCV(ridge, param_grid, cv=5)\n",
    "reg_cv.fit(X, y)\n",
    "\n",
    "print(\"Tuned Linear Regression Parameters: {}\".format(reg_cv.best_params_)) \n",
    "print(\"Best score is {}\".format(reg_cv.best_score_))\n",
    "alpha_best = reg_cv.best_params_['alpha']\n",
    "\n",
    "ridge_scores = []\n",
    "\n",
    "for alpha in alpha_space:\n",
    "    ridge.alpha = alpha\n",
    "    ridge_cv_scores = cross_val_score(ridge, X, y, cv = 5)\n",
    "    ridge_scores.append(np.mean(ridge_cv_scores))    \n",
    "\n",
    "plt.plot(alpha_space, ridge_scores)\n",
    "plt.xscale(\"log\")\n",
    "plt.xlabel(\"Alpha\")\n",
    "plt.ylabel(\"CV score\")\n",
    "plt.axvline(alpha_best, linestyle = '--')\n",
    "plt.axhline(reg_cv.best_score_, linestyle = '--')\n",
    "plt.show()"
   ]
  },
  {
   "cell_type": "markdown",
   "metadata": {},
   "source": [
    "### Squaring cfbtd and Normalization using StandardScaler"
   ]
  },
  {
   "cell_type": "code",
   "execution_count": 857,
   "metadata": {},
   "outputs": [],
   "source": [
    "wr6d.cfbtd = np.square(wr6d.cfbtd)\n",
    "x = wr6d.values\n",
    "min_max_scaler = preprocessing.StandardScaler()\n",
    "x_scaled = min_max_scaler.fit_transform(x)\n",
    "wr6d_new = pd.DataFrame(x_scaled)\n",
    "\n",
    "wr6d_new.columns = wr6d.columns.tolist()\n",
    "\n",
    "X = wr6d_new.drop('yardsfirst5seasons',axis = 1)\n",
    "y = wr6d_new['yardsfirst5seasons']"
   ]
  },
  {
   "cell_type": "code",
   "execution_count": 858,
   "metadata": {},
   "outputs": [
    {
     "name": "stdout",
     "output_type": "stream",
     "text": [
      "Tuned Linear Regression Parameters: {'alpha': 0.6866488450042998}\n",
      "Best score is 0.1119597443275104\n"
     ]
    },
    {
     "data": {
      "image/png": "[encoded data removed]",
      "text/plain": [
       "<Figure size 432x288 with 1 Axes>"
      ]
     },
     "metadata": {
      "needs_background": "light"
     },
     "output_type": "display_data"
    }
   ],
   "source": [
    "alpha_space = np.logspace(-4, 0, 50)\n",
    "param_grid = {'alpha': alpha_space}\n",
    "\n",
    "ridge = Ridge(normalize = True)\n",
    "reg_cv = GridSearchCV(ridge, param_grid, cv=5)\n",
    "reg_cv.fit(X, y)\n",
    "\n",
    "print(\"Tuned Linear Regression Parameters: {}\".format(reg_cv.best_params_)) \n",
    "print(\"Best score is {}\".format(reg_cv.best_score_))\n",
    "alpha_best = reg_cv.best_params_['alpha']\n",
    "\n",
    "ridge_scores = []\n",
    "\n",
    "for alpha in alpha_space:\n",
    "    ridge.alpha = alpha\n",
    "    ridge_cv_scores = cross_val_score(ridge, X, y, cv = 5)\n",
    "    ridge_scores.append(np.mean(ridge_cv_scores))    \n",
    "\n",
    "plt.plot(alpha_space, ridge_scores)\n",
    "plt.xscale(\"log\")\n",
    "plt.xlabel(\"Alpha\")\n",
    "plt.ylabel(\"CV score\")\n",
    "plt.axvline(alpha_best, linestyle = '--')\n",
    "plt.axhline(reg_cv.best_score_, linestyle = '--')\n",
    "plt.show()"
   ]
  },
  {
   "cell_type": "markdown",
   "metadata": {},
   "source": [
    "# OUR FINAL CHOICE FOR DATA AND MODEL"
   ]
  }
 ],
 "metadata": {
  "kernelspec": {
   "display_name": "Python 3",
   "language": "python",
   "name": "python3"
  },
  "language_info": {
   "codemirror_mode": {
    "name": "ipython",
    "version": 3
   },
   "file_extension": ".py",
   "mimetype": "text/x-python",
   "name": "python",
   "nbconvert_exporter": "python",
   "pygments_lexer": "ipython3",
   "version": "3.7.3"
  }
 },
 "nbformat": 4,
 "nbformat_minor": 2
}
