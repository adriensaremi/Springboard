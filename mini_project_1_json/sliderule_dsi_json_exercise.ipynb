{
 "cells": [
  {
   "cell_type": "markdown",
   "metadata": {},
   "source": [
    "# JSON examples and exercise\n",
    "****\n",
    "+ get familiar with packages for dealing with JSON\n",
    "+ study examples with JSON strings and files \n",
    "+ work on exercise to be completed and submitted \n",
    "****\n",
    "+ reference: http://pandas.pydata.org/pandas-docs/stable/io.html#io-json-reader\n",
    "****"
   ]
  },
  {
   "cell_type": "code",
   "execution_count": 2,
   "metadata": {},
   "outputs": [],
   "source": [
    "import pandas as pd"
   ]
  },
  {
   "cell_type": "markdown",
   "metadata": {},
   "source": [
    "## imports for Python, Pandas"
   ]
  },
  {
   "cell_type": "code",
   "execution_count": 3,
   "metadata": {},
   "outputs": [],
   "source": [
    "import json\n",
    "from pandas.io.json import json_normalize"
   ]
  },
  {
   "cell_type": "markdown",
   "metadata": {},
   "source": [
    "## JSON example, with string\n",
    "\n",
    "+ demonstrates creation of normalized dataframes (tables) from nested json string\n",
    "+ source: http://pandas.pydata.org/pandas-docs/stable/io.html#normalization"
   ]
  },
  {
   "cell_type": "code",
   "execution_count": 19,
   "metadata": {},
   "outputs": [],
   "source": [
    "# define json string\n",
    "data = [{'state': 'Florida', \n",
    "         'shortname': 'FL',\n",
    "         'info': {'governor': 'Rick Scott'},\n",
    "         'counties': [{'name': 'Dade', 'population': 12345},\n",
    "                      {'name': 'Broward', 'population': 40000},\n",
    "                      {'name': 'Palm Beach', 'population': 60000}]},\n",
    "        {'state': 'Ohio',\n",
    "         'shortname': 'OH',\n",
    "         'info': {'governor': 'John Kasich'},\n",
    "         'counties': [{'name': 'Summit', 'population': 1234},\n",
    "                      {'name': 'Cuyahoga', 'population': 1337}]}]"
   ]
  },
  {
   "cell_type": "code",
   "execution_count": 23,
   "metadata": {},
   "outputs": [
    {
     "data": {
      "text/html": [
       "<div>\n",
       "<style scoped>\n",
       "    .dataframe tbody tr th:only-of-type {\n",
       "        vertical-align: middle;\n",
       "    }\n",
       "\n",
       "    .dataframe tbody tr th {\n",
       "        vertical-align: top;\n",
       "    }\n",
       "\n",
       "    .dataframe thead th {\n",
       "        text-align: right;\n",
       "    }\n",
       "</style>\n",
       "<table border=\"1\" class=\"dataframe\">\n",
       "  <thead>\n",
       "    <tr style=\"text-align: right;\">\n",
       "      <th></th>\n",
       "      <th>name</th>\n",
       "      <th>population</th>\n",
       "    </tr>\n",
       "  </thead>\n",
       "  <tbody>\n",
       "    <tr>\n",
       "      <td>0</td>\n",
       "      <td>Dade</td>\n",
       "      <td>12345</td>\n",
       "    </tr>\n",
       "    <tr>\n",
       "      <td>1</td>\n",
       "      <td>Broward</td>\n",
       "      <td>40000</td>\n",
       "    </tr>\n",
       "    <tr>\n",
       "      <td>2</td>\n",
       "      <td>Palm Beach</td>\n",
       "      <td>60000</td>\n",
       "    </tr>\n",
       "    <tr>\n",
       "      <td>3</td>\n",
       "      <td>Summit</td>\n",
       "      <td>1234</td>\n",
       "    </tr>\n",
       "    <tr>\n",
       "      <td>4</td>\n",
       "      <td>Cuyahoga</td>\n",
       "      <td>1337</td>\n",
       "    </tr>\n",
       "  </tbody>\n",
       "</table>\n",
       "</div>"
      ],
      "text/plain": [
       "         name  population\n",
       "0        Dade       12345\n",
       "1     Broward       40000\n",
       "2  Palm Beach       60000\n",
       "3      Summit        1234\n",
       "4    Cuyahoga        1337"
      ]
     },
     "execution_count": 23,
     "metadata": {},
     "output_type": "execute_result"
    }
   ],
   "source": [
    "# use normalization to create tables from nested element\n",
    "json_normalize(data, 'counties')"
   ]
  },
  {
   "cell_type": "code",
   "execution_count": 6,
   "metadata": {},
   "outputs": [
    {
     "data": {
      "text/html": [
       "<div>\n",
       "<style scoped>\n",
       "    .dataframe tbody tr th:only-of-type {\n",
       "        vertical-align: middle;\n",
       "    }\n",
       "\n",
       "    .dataframe tbody tr th {\n",
       "        vertical-align: top;\n",
       "    }\n",
       "\n",
       "    .dataframe thead th {\n",
       "        text-align: right;\n",
       "    }\n",
       "</style>\n",
       "<table border=\"1\" class=\"dataframe\">\n",
       "  <thead>\n",
       "    <tr style=\"text-align: right;\">\n",
       "      <th></th>\n",
       "      <th>name</th>\n",
       "      <th>population</th>\n",
       "      <th>state</th>\n",
       "      <th>shortname</th>\n",
       "      <th>info.governor</th>\n",
       "    </tr>\n",
       "  </thead>\n",
       "  <tbody>\n",
       "    <tr>\n",
       "      <td>0</td>\n",
       "      <td>Dade</td>\n",
       "      <td>12345</td>\n",
       "      <td>Florida</td>\n",
       "      <td>FL</td>\n",
       "      <td>Rick Scott</td>\n",
       "    </tr>\n",
       "    <tr>\n",
       "      <td>1</td>\n",
       "      <td>Broward</td>\n",
       "      <td>40000</td>\n",
       "      <td>Florida</td>\n",
       "      <td>FL</td>\n",
       "      <td>Rick Scott</td>\n",
       "    </tr>\n",
       "    <tr>\n",
       "      <td>2</td>\n",
       "      <td>Palm Beach</td>\n",
       "      <td>60000</td>\n",
       "      <td>Florida</td>\n",
       "      <td>FL</td>\n",
       "      <td>Rick Scott</td>\n",
       "    </tr>\n",
       "    <tr>\n",
       "      <td>3</td>\n",
       "      <td>Summit</td>\n",
       "      <td>1234</td>\n",
       "      <td>Ohio</td>\n",
       "      <td>OH</td>\n",
       "      <td>John Kasich</td>\n",
       "    </tr>\n",
       "    <tr>\n",
       "      <td>4</td>\n",
       "      <td>Cuyahoga</td>\n",
       "      <td>1337</td>\n",
       "      <td>Ohio</td>\n",
       "      <td>OH</td>\n",
       "      <td>John Kasich</td>\n",
       "    </tr>\n",
       "  </tbody>\n",
       "</table>\n",
       "</div>"
      ],
      "text/plain": [
       "         name  population    state shortname info.governor\n",
       "0        Dade       12345  Florida        FL    Rick Scott\n",
       "1     Broward       40000  Florida        FL    Rick Scott\n",
       "2  Palm Beach       60000  Florida        FL    Rick Scott\n",
       "3      Summit        1234     Ohio        OH   John Kasich\n",
       "4    Cuyahoga        1337     Ohio        OH   John Kasich"
      ]
     },
     "execution_count": 6,
     "metadata": {},
     "output_type": "execute_result"
    }
   ],
   "source": [
    "# further populate tables created from nested element\n",
    "json_normalize(data, 'counties', ['state', 'shortname', ['info', 'governor']])"
   ]
  },
  {
   "cell_type": "markdown",
   "metadata": {},
   "source": [
    "****\n",
    "## JSON example, with file\n",
    "\n",
    "+ demonstrates reading in a json file as a string and as a table\n",
    "+ uses small sample file containing data about projects funded by the World Bank "
   ]
  },
  {
   "cell_type": "code",
   "execution_count": 27,
   "metadata": {
    "scrolled": false
   },
   "outputs": [],
   "source": [
    "# load json as string\n",
    "json.load((open('data/world_bank_projects_less.json')))"
   ]
  },
  {
   "cell_type": "code",
   "execution_count": 59,
   "metadata": {},
   "outputs": [],
   "source": [
    "# load as Pandas dataframe\n",
    "sample_json_df = pd.read_json('data/world_bank_projects_less.json')\n",
    "sample_json_df['country_namecode']"
   ]
  }
 ],
 "metadata": {
  "kernelspec": {
   "display_name": "Python 3",
   "language": "python",
   "name": "python3"
  },
  "language_info": {
   "codemirror_mode": {
    "name": "ipython",
    "version": 3
   },
   "file_extension": ".py",
   "mimetype": "text/x-python",
   "name": "python",
   "nbconvert_exporter": "python",
   "pygments_lexer": "ipython3",
   "version": "3.7.3"
  }
 },
 "nbformat": 4,
 "nbformat_minor": 1
}
