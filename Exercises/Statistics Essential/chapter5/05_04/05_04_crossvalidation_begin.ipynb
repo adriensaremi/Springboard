{
 "cells": [
  {
   "cell_type": "markdown",
   "metadata": {},
   "source": [
    "## Python statistics essential training - 05_04_crossvalidation"
   ]
  },
  {
   "cell_type": "markdown",
   "metadata": {},
   "source": [
    "Standard imports"
   ]
  },
  {
   "cell_type": "code",
   "execution_count": 8,
   "metadata": {},
   "outputs": [],
   "source": [
    "import math"
   ]
  },
  {
   "cell_type": "code",
   "execution_count": 9,
   "metadata": {},
   "outputs": [],
   "source": [
    "import numpy as np\n",
    "import pandas as pd"
   ]
  },
  {
   "cell_type": "code",
   "execution_count": 10,
   "metadata": {},
   "outputs": [],
   "source": [
    "import matplotlib\n",
    "import matplotlib.pyplot as pp"
   ]
  },
  {
   "cell_type": "code",
   "execution_count": 11,
   "metadata": {},
   "outputs": [],
   "source": [
    "%matplotlib inline"
   ]
  },
  {
   "cell_type": "code",
   "execution_count": 12,
   "metadata": {},
   "outputs": [],
   "source": [
    "import statsmodels\n",
    "import statsmodels.api as sm\n",
    "import statsmodels.formula.api as smf"
   ]
  },
  {
   "cell_type": "markdown",
   "metadata": {},
   "source": [
    "Loading gapminder data for year 1985 (Live Aid!)."
   ]
  },
  {
   "cell_type": "code",
   "execution_count": 13,
   "metadata": {},
   "outputs": [],
   "source": [
    "gapminder = pd.read_csv('gapminder.csv')"
   ]
  },
  {
   "cell_type": "code",
   "execution_count": 14,
   "metadata": {},
   "outputs": [],
   "source": [
    "gdata = gapminder.query('year == 1985')"
   ]
  },
  {
   "cell_type": "markdown",
   "metadata": {},
   "source": [
    "Refactored plotting so that it works on arbitrary datasets."
   ]
  },
  {
   "cell_type": "code",
   "execution_count": 15,
   "metadata": {},
   "outputs": [],
   "source": [
    "def sc(data):\n",
    "    return 1e-6 * data.population, data.region.map({'Africa': 'skyblue', 'Europe': 'gold',\n",
    "                                                   'America': 'palegreen', 'Asia': 'coral'})\n",
    "\n",
    "def plotdata(data=gdata):\n",
    "    size, colors = sc(data)\n",
    "    data.plot.scatter('age5_surviving','babies_per_woman',\n",
    "                      c=colors,s=size,linewidths=0.5,edgecolor='k',alpha=0.5)\n",
    "                      \n",
    "def plotfit(fit,data=gdata):\n",
    "    plotdata(data)\n",
    "\n",
    "    size, colors = sc(data)\n",
    "    pp.scatter(data.age5_surviving,fit.predict(data),\n",
    "               c=colors,s=30,linewidths=0.5,edgecolor='k',marker='D')"
   ]
  },
  {
   "cell_type": "markdown",
   "metadata": {},
   "source": [
    "Model formulas from the last two videos"
   ]
  },
  {
   "cell_type": "code",
   "execution_count": 23,
   "metadata": {},
   "outputs": [],
   "source": [
    "f_groupmeans = 'babies_per_woman ~ -1 + region'\n",
    "f_surviving = 'babies_per_woman ~ -1 + region + age5_surviving'\n",
    "f_srp = ('babies_per_woman ~ -1 + region + age5_surviving'\n",
    "         '+ age5_surviving:region - age5_surviving + population')"
   ]
  }
 ],
 "metadata": {
  "kernelspec": {
   "display_name": "Python 3",
   "language": "python",
   "name": "python3"
  },
  "language_info": {
   "codemirror_mode": {
    "name": "ipython",
    "version": 3
   },
   "file_extension": ".py",
   "mimetype": "text/x-python",
   "name": "python",
   "nbconvert_exporter": "python",
   "pygments_lexer": "ipython3",
   "version": "3.6.4"
  },
  "toc": {
   "base_numbering": 1,
   "nav_menu": {},
   "number_sections": true,
   "sideBar": true,
   "skip_h1_title": false,
   "title_cell": "Table of Contents",
   "title_sidebar": "Contents",
   "toc_cell": false,
   "toc_position": {},
   "toc_section_display": true,
   "toc_window_display": false
  }
 },
 "nbformat": 4,
 "nbformat_minor": 2
}
