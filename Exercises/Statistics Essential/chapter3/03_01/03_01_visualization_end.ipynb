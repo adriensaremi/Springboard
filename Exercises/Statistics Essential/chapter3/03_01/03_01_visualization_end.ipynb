{
 "cells": [
  {
   "cell_type": "markdown",
   "metadata": {},
   "source": [
    "## Python statistics essential training - 03_01_visualization"
   ]
  },
  {
   "cell_type": "markdown",
   "metadata": {},
   "source": [
    "Standard imports"
   ]
  },
  {
   "cell_type": "code",
   "execution_count": 1,
   "metadata": {},
   "outputs": [],
   "source": [
    "import numpy as np\n",
    "import scipy.stats\n",
    "import pandas as pd"
   ]
  },
  {
   "cell_type": "code",
   "execution_count": 2,
   "metadata": {},
   "outputs": [],
   "source": [
    "import matplotlib\n",
    "import matplotlib.pyplot as pp\n",
    "\n",
    "from IPython import display\n",
    "from ipywidgets import interact, widgets\n",
    "\n",
    "%matplotlib inline"
   ]
  },
  {
   "cell_type": "code",
   "execution_count": 3,
   "metadata": {},
   "outputs": [],
   "source": [
    "import re\n",
    "import mailbox\n",
    "import csv"
   ]
  },
  {
   "cell_type": "code",
   "execution_count": 4,
   "metadata": {},
   "outputs": [],
   "source": [
    "gapminder = pd.read_csv('gapminder.csv')"
   ]
  },
  {
   "cell_type": "code",
   "execution_count": 5,
   "metadata": {},
   "outputs": [
    {
     "name": "stdout",
     "output_type": "stream",
     "text": [
      "<class 'pandas.core.frame.DataFrame'>\n",
      "RangeIndex: 14740 entries, 0 to 14739\n",
      "Data columns (total 9 columns):\n",
      "country             14740 non-null object\n",
      "year                14740 non-null int64\n",
      "region              14740 non-null object\n",
      "population          14740 non-null float64\n",
      "life_expectancy     14740 non-null float64\n",
      "age5_surviving      14740 non-null float64\n",
      "babies_per_woman    14740 non-null float64\n",
      "gdp_per_capita      14740 non-null float64\n",
      "gdp_per_day         14740 non-null float64\n",
      "dtypes: float64(6), int64(1), object(2)\n",
      "memory usage: 1.0+ MB\n"
     ]
    }
   ],
   "source": [
    "gapminder.info()"
   ]
  },
  {
   "cell_type": "code",
   "execution_count": 6,
   "metadata": {},
   "outputs": [
    {
     "data": {
      "text/html": [
       "<div>\n",
       "<style scoped>\n",
       "    .dataframe tbody tr th:only-of-type {\n",
       "        vertical-align: middle;\n",
       "    }\n",
       "\n",
       "    .dataframe tbody tr th {\n",
       "        vertical-align: top;\n",
       "    }\n",
       "\n",
       "    .dataframe thead th {\n",
       "        text-align: right;\n",
       "    }\n",
       "</style>\n",
       "<table border=\"1\" class=\"dataframe\">\n",
       "  <thead>\n",
       "    <tr style=\"text-align: right;\">\n",
       "      <th></th>\n",
       "      <th>country</th>\n",
       "      <th>year</th>\n",
       "      <th>region</th>\n",
       "      <th>population</th>\n",
       "      <th>life_expectancy</th>\n",
       "      <th>age5_surviving</th>\n",
       "      <th>babies_per_woman</th>\n",
       "      <th>gdp_per_capita</th>\n",
       "      <th>gdp_per_day</th>\n",
       "    </tr>\n",
       "  </thead>\n",
       "  <tbody>\n",
       "    <tr>\n",
       "      <th>0</th>\n",
       "      <td>Afghanistan</td>\n",
       "      <td>1800</td>\n",
       "      <td>Asia</td>\n",
       "      <td>3280000.0</td>\n",
       "      <td>28.21</td>\n",
       "      <td>53.142</td>\n",
       "      <td>7.00</td>\n",
       "      <td>603.0</td>\n",
       "      <td>1.650924</td>\n",
       "    </tr>\n",
       "    <tr>\n",
       "      <th>20</th>\n",
       "      <td>Afghanistan</td>\n",
       "      <td>1955</td>\n",
       "      <td>Asia</td>\n",
       "      <td>8270024.0</td>\n",
       "      <td>29.27</td>\n",
       "      <td>60.193</td>\n",
       "      <td>7.67</td>\n",
       "      <td>1125.0</td>\n",
       "      <td>3.080082</td>\n",
       "    </tr>\n",
       "    <tr>\n",
       "      <th>40</th>\n",
       "      <td>Afghanistan</td>\n",
       "      <td>1975</td>\n",
       "      <td>Asia</td>\n",
       "      <td>12582954.0</td>\n",
       "      <td>39.61</td>\n",
       "      <td>72.060</td>\n",
       "      <td>7.67</td>\n",
       "      <td>1201.0</td>\n",
       "      <td>3.288159</td>\n",
       "    </tr>\n",
       "    <tr>\n",
       "      <th>60</th>\n",
       "      <td>Afghanistan</td>\n",
       "      <td>1995</td>\n",
       "      <td>Asia</td>\n",
       "      <td>16772522.0</td>\n",
       "      <td>49.40</td>\n",
       "      <td>84.770</td>\n",
       "      <td>7.83</td>\n",
       "      <td>872.0</td>\n",
       "      <td>2.387406</td>\n",
       "    </tr>\n",
       "    <tr>\n",
       "      <th>80</th>\n",
       "      <td>Afghanistan</td>\n",
       "      <td>2015</td>\n",
       "      <td>Asia</td>\n",
       "      <td>32526562.0</td>\n",
       "      <td>53.80</td>\n",
       "      <td>90.890</td>\n",
       "      <td>4.47</td>\n",
       "      <td>1925.0</td>\n",
       "      <td>5.270363</td>\n",
       "    </tr>\n",
       "    <tr>\n",
       "      <th>100</th>\n",
       "      <td>Albania</td>\n",
       "      <td>1954</td>\n",
       "      <td>Europe</td>\n",
       "      <td>1382881.0</td>\n",
       "      <td>56.59</td>\n",
       "      <td>84.829</td>\n",
       "      <td>6.31</td>\n",
       "      <td>2108.0</td>\n",
       "      <td>5.771389</td>\n",
       "    </tr>\n",
       "    <tr>\n",
       "      <th>120</th>\n",
       "      <td>Albania</td>\n",
       "      <td>1974</td>\n",
       "      <td>Europe</td>\n",
       "      <td>2358467.0</td>\n",
       "      <td>69.35</td>\n",
       "      <td>90.082</td>\n",
       "      <td>4.54</td>\n",
       "      <td>4177.0</td>\n",
       "      <td>11.436003</td>\n",
       "    </tr>\n",
       "    <tr>\n",
       "      <th>140</th>\n",
       "      <td>Albania</td>\n",
       "      <td>1994</td>\n",
       "      <td>Europe</td>\n",
       "      <td>3140634.0</td>\n",
       "      <td>73.60</td>\n",
       "      <td>96.540</td>\n",
       "      <td>2.77</td>\n",
       "      <td>3457.0</td>\n",
       "      <td>9.464750</td>\n",
       "    </tr>\n",
       "    <tr>\n",
       "      <th>160</th>\n",
       "      <td>Albania</td>\n",
       "      <td>2014</td>\n",
       "      <td>Europe</td>\n",
       "      <td>2889676.0</td>\n",
       "      <td>77.90</td>\n",
       "      <td>98.560</td>\n",
       "      <td>1.78</td>\n",
       "      <td>10160.0</td>\n",
       "      <td>27.816564</td>\n",
       "    </tr>\n",
       "    <tr>\n",
       "      <th>180</th>\n",
       "      <td>Algeria</td>\n",
       "      <td>1953</td>\n",
       "      <td>Africa</td>\n",
       "      <td>9405445.0</td>\n",
       "      <td>43.96</td>\n",
       "      <td>73.758</td>\n",
       "      <td>7.65</td>\n",
       "      <td>4077.0</td>\n",
       "      <td>11.162218</td>\n",
       "    </tr>\n",
       "    <tr>\n",
       "      <th>200</th>\n",
       "      <td>Algeria</td>\n",
       "      <td>1973</td>\n",
       "      <td>Africa</td>\n",
       "      <td>15804428.0</td>\n",
       "      <td>53.91</td>\n",
       "      <td>77.660</td>\n",
       "      <td>7.55</td>\n",
       "      <td>7581.0</td>\n",
       "      <td>20.755647</td>\n",
       "    </tr>\n",
       "  </tbody>\n",
       "</table>\n",
       "</div>"
      ],
      "text/plain": [
       "         country  year  region  population  life_expectancy  age5_surviving  \\\n",
       "0    Afghanistan  1800    Asia   3280000.0            28.21          53.142   \n",
       "20   Afghanistan  1955    Asia   8270024.0            29.27          60.193   \n",
       "40   Afghanistan  1975    Asia  12582954.0            39.61          72.060   \n",
       "60   Afghanistan  1995    Asia  16772522.0            49.40          84.770   \n",
       "80   Afghanistan  2015    Asia  32526562.0            53.80          90.890   \n",
       "100      Albania  1954  Europe   1382881.0            56.59          84.829   \n",
       "120      Albania  1974  Europe   2358467.0            69.35          90.082   \n",
       "140      Albania  1994  Europe   3140634.0            73.60          96.540   \n",
       "160      Albania  2014  Europe   2889676.0            77.90          98.560   \n",
       "180      Algeria  1953  Africa   9405445.0            43.96          73.758   \n",
       "200      Algeria  1973  Africa  15804428.0            53.91          77.660   \n",
       "\n",
       "     babies_per_woman  gdp_per_capita  gdp_per_day  \n",
       "0                7.00           603.0     1.650924  \n",
       "20               7.67          1125.0     3.080082  \n",
       "40               7.67          1201.0     3.288159  \n",
       "60               7.83           872.0     2.387406  \n",
       "80               4.47          1925.0     5.270363  \n",
       "100              6.31          2108.0     5.771389  \n",
       "120              4.54          4177.0    11.436003  \n",
       "140              2.77          3457.0     9.464750  \n",
       "160              1.78         10160.0    27.816564  \n",
       "180              7.65          4077.0    11.162218  \n",
       "200              7.55          7581.0    20.755647  "
      ]
     },
     "execution_count": 6,
     "metadata": {},
     "output_type": "execute_result"
    }
   ],
   "source": [
    "gapminder.loc[0:200:20]"
   ]
  },
  {
   "cell_type": "code",
   "execution_count": 7,
   "metadata": {},
   "outputs": [
    {
     "data": {
      "text/plain": [
       "<matplotlib.axes._subplots.AxesSubplot at 0x10f47ab38>"
      ]
     },
     "execution_count": 7,
     "metadata": {},
     "output_type": "execute_result"
    },
    {
     "data": {
      "image/png": "[encoded data removed]",
      "text/plain": [
       "<matplotlib.figure.Figure at 0x10f47a668>"
      ]
     },
     "metadata": {},
     "output_type": "display_data"
    }
   ],
   "source": [
    "gapminder[gapminder.year == 1965].plot.scatter('babies_per_woman','age5_surviving')"
   ]
  },
  {
   "cell_type": "code",
   "execution_count": 10,
   "metadata": {},
   "outputs": [],
   "source": [
    "def plotyear(year):\n",
    "    data = gapminder[gapminder.year == year]\n",
    "    area = 5e-6 * data.population\n",
    "    colors = data.region.map({'Africa': 'skyblue', 'Europe': 'gold', 'America': 'palegreen', 'Asia': 'coral'})\n",
    "    \n",
    "    data.plot.scatter('babies_per_woman','age5_surviving',\n",
    "                      s=area,c=colors,\n",
    "                      linewidths=1,edgecolors='k',\n",
    "                      figsize=(12,9))\n",
    "    \n",
    "    pp.axis(ymin=50,ymax=105,xmin=0,xmax=8)\n",
    "    pp.xlabel('babies per woman')\n",
    "    pp.ylabel('% children alive at 5')"
   ]
  },
  {
   "cell_type": "code",
   "execution_count": 12,
   "metadata": {},
   "outputs": [
    {
     "data": {
      "application/vnd.jupyter.widget-view+json": {
       "model_id": "a8cfaef8f8ad4dc69ca8d97dcd19810f",
       "version_major": 2,
       "version_minor": 0
      },
      "text/html": [
       "<p>Failed to display Jupyter Widget of type <code>interactive</code>.</p>\n",
       "<p>\n",
       "  If you're reading this message in the Jupyter Notebook or JupyterLab Notebook, it may mean\n",
       "  that the widgets JavaScript is still loading. If this message persists, it\n",
       "  likely means that the widgets JavaScript library is either not installed or\n",
       "  not enabled. See the <a href=\"https://ipywidgets.readthedocs.io/en/stable/user_install.html\">Jupyter\n",
       "  Widgets Documentation</a> for setup instructions.\n",
       "</p>\n",
       "<p>\n",
       "  If you're reading this message in another frontend (for example, a static\n",
       "  rendering on GitHub or <a href=\"https://nbviewer.jupyter.org/\">NBViewer</a>),\n",
       "  it may mean that your frontend doesn't currently support widgets.\n",
       "</p>\n"
      ],
      "text/plain": [
       "interactive(children=(IntSlider(value=1965, description='year', max=2015, min=1950), Output()), _dom_classes=('widget-interact',))"
      ]
     },
     "metadata": {},
     "output_type": "display_data"
    },
    {
     "data": {
      "text/plain": [
       "<function __main__.plotyear>"
      ]
     },
     "execution_count": 12,
     "metadata": {},
     "output_type": "execute_result"
    }
   ],
   "source": [
    "interact(plotyear,year=widgets.IntSlider(min=1950,max=2015,step=1,value=1965))"
   ]
  },
  {
   "cell_type": "code",
   "execution_count": null,
   "metadata": {},
   "outputs": [],
   "source": []
  }
 ],
 "metadata": {
  "kernelspec": {
   "display_name": "Python 3",
   "language": "python",
   "name": "python3"
  },
  "language_info": {
   "codemirror_mode": {
    "name": "ipython",
    "version": 3
   },
   "file_extension": ".py",
   "mimetype": "text/x-python",
   "name": "python",
   "nbconvert_exporter": "python",
   "pygments_lexer": "ipython3",
   "version": "3.6.4"
  },
  "toc": {
   "base_numbering": 1,
   "nav_menu": {},
   "number_sections": true,
   "sideBar": true,
   "skip_h1_title": false,
   "title_cell": "Table of Contents",
   "title_sidebar": "Contents",
   "toc_cell": false,
   "toc_position": {},
   "toc_section_display": true,
   "toc_window_display": false
  }
 },
 "nbformat": 4,
 "nbformat_minor": 2
}
