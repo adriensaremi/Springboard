{
 "cells": [
  {
   "cell_type": "markdown",
   "metadata": {},
   "source": [
    "# Experiment and Metrics Design"
   ]
  },
  {
   "cell_type": "markdown",
   "metadata": {},
   "source": [
    "### Sets of tools to be used:\n",
    "For each customer, we must record the location and the date/time of both pickup and dropoff. Since we're only interested in whether the trip is within Gotham or Metropolis, we can set the this feature to be binary. \n",
    "\n",
    "Maybe less importantly, since the daily trends for each city seems to be based on cricadian rhythm, we can also feature the time of the trip to be binary: either during the day or during the night."
   ]
  },
  {
   "cell_type": "markdown",
   "metadata": {},
   "source": [
    "### Key measure of success:\n",
    "The point of the experiment is to test whether a driver partner will make multiple trips between the two cities each day, and by extension each week. Therefore, even though we should still account for the total number of trips made in either cities and at a given time of the day, we should be more focused on the ratio of two consecutive trips that are operated in the different cities. Let's call $N_c$ the number of instances where the pickup of a client is one city and the next pickup is in the other. Let's define $N_t$ the total number of trips operated within that same time frame (again, possibly a week). For example, the two extremes of such experiment are:\n",
    "- if a partner drives entirely in one city, $N_c = 0$ and the ratio is then $r = 0$.\n",
    "- if a partner continuously change cities after each drop off $N_c = N_t - 1$ and $r = 100 \\%$.\n",
    "\n",
    "Of course, each of these scenari is absurde in apparence, but they indicate what range of values should we expect for our target metric. \n",
    "\n",
    "Also, the reason why we should focus on that metric rather than, for example, the frequency of trips in each city is because of the following scenario: suppose over a whole week a driver only changed cities once, we may obtain a trip per city ratio of $50\\%-50\\%$ at best and yet, we wouldn't meet the expectations of the experiment (which is to have the driver change cities as often as possible)."
   ]
  },
  {
   "cell_type": "markdown",
   "metadata": {},
   "source": [
    "### Experiment and Statistical Tests\n",
    "Consider the target metric defined above $r = \\frac{N_c}{N_t - 1}$, let's say for a week, in order to equally account for hourly and daily trends. If we were to compute r only through the day for example, the experiment would be faulty since we expect drivers to stay within Metropolis by then.\n",
    "\n",
    "As a test, we can offer the toll-free offer only to a sample of target drivers and run basic statistical inferences between the two samples:\n",
    "- plot the historigram of $r$\n",
    "- compare the mean and standard deviation of $r$ for each sample\n",
    "- we can investigate a little further as well, by picking a level of confidence $\\alpha$ and compute the p-value against the null hypothesis: \\\n",
    "H$_0$:**the two samples are from the same distribution**\n",
    "\n",
    "To make the experiment more trustworthy, we could extend it to longer periods of time. We could also use bootstrap inference if we do not have enough of a large sample as well. "
   ]
  },
  {
   "cell_type": "markdown",
   "metadata": {},
   "source": [
    "### Interpretation of Results\n",
    "Depending if the results of the experiment are conclusive, for example if the mean for $r$ is dramatically different between the two samples, we can recommend to the city operations to go with the toll-free option for all drivers. Watch as this experiment isn't target to account for a change in the total number of trips $N_t$ which should be primordial Ultimate Inc."
   ]
  }
 ],
 "metadata": {
  "kernelspec": {
   "display_name": "Python 3",
   "language": "python",
   "name": "python3"
  },
  "language_info": {
   "codemirror_mode": {
    "name": "ipython",
    "version": 3
   },
   "file_extension": ".py",
   "mimetype": "text/x-python",
   "name": "python",
   "nbconvert_exporter": "python",
   "pygments_lexer": "ipython3",
   "version": "3.7.9"
  }
 },
 "nbformat": 4,
 "nbformat_minor": 2
}
