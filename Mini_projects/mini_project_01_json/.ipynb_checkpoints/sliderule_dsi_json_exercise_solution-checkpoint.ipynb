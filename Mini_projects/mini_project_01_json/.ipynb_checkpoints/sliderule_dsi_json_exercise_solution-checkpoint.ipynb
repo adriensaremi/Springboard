{
 "cells": [
  {
   "cell_type": "markdown",
   "metadata": {},
   "source": [
    "## imports for Python, Pandas, JSON"
   ]
  },
  {
   "cell_type": "code",
   "execution_count": 5,
   "metadata": {},
   "outputs": [],
   "source": [
    "import pandas as pd"
   ]
  },
  {
   "cell_type": "code",
   "execution_count": 2,
   "metadata": {},
   "outputs": [],
   "source": [
    "import json\n",
    "from pandas.io.json import json_normalize"
   ]
  },
  {
   "cell_type": "markdown",
   "metadata": {},
   "source": [
    "****\n",
    "## JSON exercise\n",
    "\n",
    "Using data in file 'data/world_bank_projects.json' and the techniques demonstrated above,\n",
    "1. Find the 10 countries with most projects\n",
    "2. Find the top 10 major project themes (using column 'mjtheme_namecode')\n",
    "3. In 2. above you will notice that some entries have only the code and the name is missing. Create a dataframe with the missing names filled in."
   ]
  },
  {
   "cell_type": "code",
   "execution_count": 119,
   "metadata": {
    "scrolled": true
   },
   "outputs": [],
   "source": [
    "# load json as string\n",
    "json_list = json.load((open('data/world_bank_projects.json')))\n",
    "#json_list"
   ]
  },
  {
   "cell_type": "code",
   "execution_count": 120,
   "metadata": {},
   "outputs": [],
   "source": [
    "# load as Pandas dataframe\n",
    "json_df = pd.read_json('data/world_bank_projects.json')\n",
    "#json_df"
   ]
  },
  {
   "cell_type": "markdown",
   "metadata": {},
   "source": [
    "# Question 1"
   ]
  },
  {
   "cell_type": "code",
   "execution_count": 9,
   "metadata": {},
   "outputs": [
    {
     "data": {
      "text/plain": [
       "0      Federal Democratic Republic of Ethiopia\n",
       "1                          Republic of Tunisia\n",
       "2                                       Tuvalu\n",
       "3                            Republic of Yemen\n",
       "4                           Kingdom of Lesotho\n",
       "                        ...                   \n",
       "495                                    Jamaica\n",
       "496           Lao People's Democratic Republic\n",
       "497                         Republic of Guinea\n",
       "498                      Republic of Indonesia\n",
       "499                          Republic of Kenya\n",
       "Name: countryname, Length: 500, dtype: object"
      ]
     },
     "execution_count": 9,
     "metadata": {},
     "output_type": "execute_result"
    }
   ],
   "source": [
    "json_df['countryname']"
   ]
  },
  {
   "cell_type": "code",
   "execution_count": 11,
   "metadata": {},
   "outputs": [
    {
     "data": {
      "text/html": [
       "<div>\n",
       "<style scoped>\n",
       "    .dataframe tbody tr th:only-of-type {\n",
       "        vertical-align: middle;\n",
       "    }\n",
       "\n",
       "    .dataframe tbody tr th {\n",
       "        vertical-align: top;\n",
       "    }\n",
       "\n",
       "    .dataframe thead th {\n",
       "        text-align: right;\n",
       "    }\n",
       "</style>\n",
       "<table border=\"1\" class=\"dataframe\">\n",
       "  <thead>\n",
       "    <tr style=\"text-align: right;\">\n",
       "      <th></th>\n",
       "      <th>Count</th>\n",
       "    </tr>\n",
       "    <tr>\n",
       "      <th>Country Name</th>\n",
       "      <th></th>\n",
       "    </tr>\n",
       "  </thead>\n",
       "  <tbody>\n",
       "    <tr>\n",
       "      <td>People's Republic of China</td>\n",
       "      <td>19</td>\n",
       "    </tr>\n",
       "    <tr>\n",
       "      <td>Republic of Indonesia</td>\n",
       "      <td>19</td>\n",
       "    </tr>\n",
       "    <tr>\n",
       "      <td>Socialist Republic of Vietnam</td>\n",
       "      <td>17</td>\n",
       "    </tr>\n",
       "    <tr>\n",
       "      <td>Republic of India</td>\n",
       "      <td>16</td>\n",
       "    </tr>\n",
       "    <tr>\n",
       "      <td>Republic of Yemen</td>\n",
       "      <td>13</td>\n",
       "    </tr>\n",
       "    <tr>\n",
       "      <td>Nepal</td>\n",
       "      <td>12</td>\n",
       "    </tr>\n",
       "    <tr>\n",
       "      <td>Kingdom of Morocco</td>\n",
       "      <td>12</td>\n",
       "    </tr>\n",
       "    <tr>\n",
       "      <td>People's Republic of Bangladesh</td>\n",
       "      <td>12</td>\n",
       "    </tr>\n",
       "    <tr>\n",
       "      <td>Africa</td>\n",
       "      <td>11</td>\n",
       "    </tr>\n",
       "    <tr>\n",
       "      <td>Republic of Mozambique</td>\n",
       "      <td>11</td>\n",
       "    </tr>\n",
       "  </tbody>\n",
       "</table>\n",
       "</div>"
      ],
      "text/plain": [
       "                                 Count\n",
       "Country Name                          \n",
       "People's Republic of China          19\n",
       "Republic of Indonesia               19\n",
       "Socialist Republic of Vietnam       17\n",
       "Republic of India                   16\n",
       "Republic of Yemen                   13\n",
       "Nepal                               12\n",
       "Kingdom of Morocco                  12\n",
       "People's Republic of Bangladesh     12\n",
       "Africa                              11\n",
       "Republic of Mozambique              11"
      ]
     },
     "execution_count": 11,
     "metadata": {},
     "output_type": "execute_result"
    }
   ],
   "source": [
    "series = json_df['countryname'].value_counts().head(10)\n",
    "\n",
    "country_top10 = pd.DataFrame(series)\n",
    "country_top10.reset_index()\n",
    "\n",
    "country_top10.index.name = 'Country Name'\n",
    "country_top10.rename(columns = {'countryname':'Count'}, inplace = True)\n",
    "\n",
    "country_top10"
   ]
  },
  {
   "cell_type": "markdown",
   "metadata": {},
   "source": [
    "# Question 2"
   ]
  },
  {
   "cell_type": "code",
   "execution_count": 12,
   "metadata": {},
   "outputs": [
    {
     "data": {
      "text/html": [
       "<div>\n",
       "<style scoped>\n",
       "    .dataframe tbody tr th:only-of-type {\n",
       "        vertical-align: middle;\n",
       "    }\n",
       "\n",
       "    .dataframe tbody tr th {\n",
       "        vertical-align: top;\n",
       "    }\n",
       "\n",
       "    .dataframe thead th {\n",
       "        text-align: right;\n",
       "    }\n",
       "</style>\n",
       "<table border=\"1\" class=\"dataframe\">\n",
       "  <thead>\n",
       "    <tr style=\"text-align: right;\">\n",
       "      <th></th>\n",
       "      <th>code</th>\n",
       "      <th>name</th>\n",
       "    </tr>\n",
       "  </thead>\n",
       "  <tbody>\n",
       "    <tr>\n",
       "      <td>0</td>\n",
       "      <td>8</td>\n",
       "      <td>Human development</td>\n",
       "    </tr>\n",
       "    <tr>\n",
       "      <td>1</td>\n",
       "      <td>11</td>\n",
       "      <td></td>\n",
       "    </tr>\n",
       "    <tr>\n",
       "      <td>2</td>\n",
       "      <td>1</td>\n",
       "      <td>Economic management</td>\n",
       "    </tr>\n",
       "    <tr>\n",
       "      <td>3</td>\n",
       "      <td>6</td>\n",
       "      <td>Social protection and risk management</td>\n",
       "    </tr>\n",
       "    <tr>\n",
       "      <td>4</td>\n",
       "      <td>5</td>\n",
       "      <td>Trade and integration</td>\n",
       "    </tr>\n",
       "    <tr>\n",
       "      <td>...</td>\n",
       "      <td>...</td>\n",
       "      <td>...</td>\n",
       "    </tr>\n",
       "    <tr>\n",
       "      <td>1494</td>\n",
       "      <td>10</td>\n",
       "      <td>Rural development</td>\n",
       "    </tr>\n",
       "    <tr>\n",
       "      <td>1495</td>\n",
       "      <td>9</td>\n",
       "      <td>Urban development</td>\n",
       "    </tr>\n",
       "    <tr>\n",
       "      <td>1496</td>\n",
       "      <td>8</td>\n",
       "      <td>Human development</td>\n",
       "    </tr>\n",
       "    <tr>\n",
       "      <td>1497</td>\n",
       "      <td>5</td>\n",
       "      <td>Trade and integration</td>\n",
       "    </tr>\n",
       "    <tr>\n",
       "      <td>1498</td>\n",
       "      <td>4</td>\n",
       "      <td>Financial and private sector development</td>\n",
       "    </tr>\n",
       "  </tbody>\n",
       "</table>\n",
       "<p>1499 rows × 2 columns</p>\n",
       "</div>"
      ],
      "text/plain": [
       "     code                                      name\n",
       "0       8                         Human development\n",
       "1      11                                          \n",
       "2       1                       Economic management\n",
       "3       6     Social protection and risk management\n",
       "4       5                     Trade and integration\n",
       "...   ...                                       ...\n",
       "1494   10                         Rural development\n",
       "1495    9                         Urban development\n",
       "1496    8                         Human development\n",
       "1497    5                     Trade and integration\n",
       "1498    4  Financial and private sector development\n",
       "\n",
       "[1499 rows x 2 columns]"
      ]
     },
     "execution_count": 12,
     "metadata": {},
     "output_type": "execute_result"
    }
   ],
   "source": [
    "json_normalize(json_list, 'mjtheme_namecode')"
   ]
  },
  {
   "cell_type": "code",
   "execution_count": 13,
   "metadata": {
    "scrolled": true
   },
   "outputs": [
    {
     "data": {
      "text/html": [
       "<div>\n",
       "<style scoped>\n",
       "    .dataframe tbody tr th:only-of-type {\n",
       "        vertical-align: middle;\n",
       "    }\n",
       "\n",
       "    .dataframe tbody tr th {\n",
       "        vertical-align: top;\n",
       "    }\n",
       "\n",
       "    .dataframe thead th {\n",
       "        text-align: right;\n",
       "    }\n",
       "</style>\n",
       "<table border=\"1\" class=\"dataframe\">\n",
       "  <thead>\n",
       "    <tr style=\"text-align: right;\">\n",
       "      <th></th>\n",
       "      <th>Count</th>\n",
       "    </tr>\n",
       "    <tr>\n",
       "      <th>Code Name</th>\n",
       "      <th></th>\n",
       "    </tr>\n",
       "  </thead>\n",
       "  <tbody>\n",
       "    <tr>\n",
       "      <td>11</td>\n",
       "      <td>250</td>\n",
       "    </tr>\n",
       "    <tr>\n",
       "      <td>10</td>\n",
       "      <td>216</td>\n",
       "    </tr>\n",
       "    <tr>\n",
       "      <td>8</td>\n",
       "      <td>210</td>\n",
       "    </tr>\n",
       "    <tr>\n",
       "      <td>2</td>\n",
       "      <td>199</td>\n",
       "    </tr>\n",
       "    <tr>\n",
       "      <td>6</td>\n",
       "      <td>168</td>\n",
       "    </tr>\n",
       "    <tr>\n",
       "      <td>4</td>\n",
       "      <td>146</td>\n",
       "    </tr>\n",
       "    <tr>\n",
       "      <td>7</td>\n",
       "      <td>130</td>\n",
       "    </tr>\n",
       "    <tr>\n",
       "      <td>5</td>\n",
       "      <td>77</td>\n",
       "    </tr>\n",
       "    <tr>\n",
       "      <td>9</td>\n",
       "      <td>50</td>\n",
       "    </tr>\n",
       "    <tr>\n",
       "      <td>1</td>\n",
       "      <td>38</td>\n",
       "    </tr>\n",
       "  </tbody>\n",
       "</table>\n",
       "</div>"
      ],
      "text/plain": [
       "           Count\n",
       "Code Name       \n",
       "11           250\n",
       "10           216\n",
       "8            210\n",
       "2            199\n",
       "6            168\n",
       "4            146\n",
       "7            130\n",
       "5             77\n",
       "9             50\n",
       "1             38"
      ]
     },
     "execution_count": 13,
     "metadata": {},
     "output_type": "execute_result"
    }
   ],
   "source": [
    "df = json_normalize(json_list, 'mjtheme_namecode')\n",
    "\n",
    "series = df['code'].value_counts().head(10)\n",
    "\n",
    "namecode_top10 = pd.DataFrame(series)\n",
    "namecode_top10.reset_index()\n",
    "\n",
    "namecode_top10.index.name = 'Code Name'\n",
    "namecode_top10.rename(columns = {'code':'Count'}, inplace = True)\n",
    "\n",
    "namecode_top10"
   ]
  },
  {
   "cell_type": "markdown",
   "metadata": {},
   "source": [
    "# Question 3"
   ]
  },
  {
   "cell_type": "code",
   "execution_count": 55,
   "metadata": {},
   "outputs": [],
   "source": [
    "dict_basis = {'1':'Economic management',\n",
    "              '2':'Public sector governance',\n",
    "              '3':'Social protection and risk management',\n",
    "              '4':'Rule of Law',\n",
    "              '5':'Trade and integration',\n",
    "              '6':'Social protection and risk management',\n",
    "              '7':'Social dev/gender/inclusion',\n",
    "              '8':'Human development',\n",
    "              '9':'Urban development',\n",
    "              '10':'Rural development',\n",
    "              '11':'Environment and natural resources management'}"
   ]
  },
  {
   "cell_type": "code",
   "execution_count": 126,
   "metadata": {},
   "outputs": [],
   "source": [
    "json_df_copy = json_df\n",
    "\n",
    "for x in json_df_copy.mjtheme_namecode:\n",
    "    for y in x:\n",
    "        y['name'] = dict_basis[y['code']]"
   ]
  },
  {
   "cell_type": "code",
   "execution_count": 127,
   "metadata": {},
   "outputs": [
    {
     "name": "stdout",
     "output_type": "stream",
     "text": [
      "<class 'pandas.core.frame.DataFrame'>\n",
      "0      [{'code': '8', 'name': 'Human development'}, {...\n",
      "1      [{'code': '1', 'name': 'Economic management'},...\n",
      "2      [{'code': '5', 'name': 'Trade and integration'...\n",
      "3      [{'code': '7', 'name': 'Social dev/gender/incl...\n",
      "4      [{'code': '5', 'name': 'Trade and integration'...\n",
      "                             ...                        \n",
      "495    [{'code': '4', 'name': 'Rule of Law'}, {'code'...\n",
      "496    [{'code': '8', 'name': 'Human development'}, {...\n",
      "497    [{'code': '10', 'name': 'Rural development'}, ...\n",
      "498    [{'code': '10', 'name': 'Rural development'}, ...\n",
      "499    [{'code': '9', 'name': 'Urban development'}, {...\n",
      "Name: mjtheme_namecode, Length: 500, dtype: object\n"
     ]
    }
   ],
   "source": [
    "print(type(json_df_copy))\n",
    "\n",
    "print(json_df_copy.mjtheme_namecode)"
   ]
  }
 ],
 "metadata": {
  "kernelspec": {
   "display_name": "Python 3",
   "language": "python",
   "name": "python3"
  },
  "language_info": {
   "codemirror_mode": {
    "name": "ipython",
    "version": 3
   },
   "file_extension": ".py",
   "mimetype": "text/x-python",
   "name": "python",
   "nbconvert_exporter": "python",
   "pygments_lexer": "ipython3",
   "version": "3.7.3"
  }
 },
 "nbformat": 4,
 "nbformat_minor": 2
}
