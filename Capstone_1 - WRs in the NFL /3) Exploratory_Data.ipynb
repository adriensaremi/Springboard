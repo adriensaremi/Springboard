{
 "cells": [
  {
   "cell_type": "markdown",
   "metadata": {},
   "source": [
    "# Explore the Data and run Statistical Tests\n",
    "\n",
    "This notebook runs a few exploratory tests in the first part and then some more advanced statistical tests. It displays a few plots to highlights trends in our nfl/cfb/combine data. Before doing so, we set the dataframe to only include the feature variables and our target: **the total number of receiving yards during the first 5 seasons in the NFL**"
   ]
  },
  {
   "cell_type": "markdown",
   "metadata": {},
   "source": [
    "### Importing packages"
   ]
  },
  {
   "cell_type": "code",
   "execution_count": 1,
   "metadata": {
    "init_cell": true
   },
   "outputs": [],
   "source": [
    "import pandas as pd\n",
    "import numpy as np\n",
    "import seaborn as sns\n",
    "import matplotlib.pyplot as plt\n",
    "import requests"
   ]
  },
  {
   "cell_type": "code",
   "execution_count": 5,
   "metadata": {},
   "outputs": [],
   "source": [
    "tdc = pd.read_csv('data_sets/tdc_ready_for_export.csv')"
   ]
  },
  {
   "cell_type": "markdown",
   "metadata": {},
   "source": [
    "### Keep only features and target of interest\n",
    "\n",
    "This include getting the total number of yards during first 5 seasons from each list of nfl_yards_per_year"
   ]
  },
  {
   "cell_type": "code",
   "execution_count": 40,
   "metadata": {},
   "outputs": [],
   "source": [
    "# columns of interest\n",
    "tdcf = tdc[['cfb_school', 'cfb_conference', 'cfb_class', 'cfb_pos', 'cfb_games','cfb_receptions', \n",
    "            'cfb_rec_yards', 'cfb_rec_yards_per_reception','cfb_rec_td', 'cfb_rushes', \n",
    "            'cfb_rushing_yards','cfb_rushing_yards_per_rush', 'cfb_rushing_td', 'cfb_plays',\n",
    "            'cfb_yards', 'cfb_yards_per_play', 'cfb_td',\n",
    "            'combine_draft_age', 'combine_ht', 'combine_wt', 'combine_forty','combine_vertical', \n",
    "            'combine_benchreps', 'combine_broadjump','combine_cone', 'nfl_yards_per_year']]"
   ]
  },
  {
   "cell_type": "code",
   "execution_count": 31,
   "metadata": {},
   "outputs": [],
   "source": [
    "# keep only first five years and drop the nfl_yards_per_year\n",
    "def get_first_five_seasons_yards(series):\n",
    "    # the lists in nfl_yards_per_year are stored as '[year1, year2, ...]'\n",
    "    # create a list of strings and remove the outside apostrophes\n",
    "    lstring = series[1:-1].split(\",\")\n",
    "    # convert each string to float\n",
    "    lfloat = [float(j) for j in lstring]\n",
    "    # sum first five elements\n",
    "    return np.sum(lfloat[:5])\n",
    "\n",
    "tdcf.loc[:,'rec_yards_ffs'] = tdcf.nfl_yards_per_year.apply(get_first_five_seasons_yards).tolist()\n",
    "tdcf = tdcf.drop('nfl_yards_per_year', axis = 1)"
   ]
  },
  {
   "cell_type": "code",
   "execution_count": 56,
   "metadata": {},
   "outputs": [],
   "source": [
    "# tdcf.to_csv(r'data_sets/tdcf.csv', index = False)\n",
    "tdcf = pd.read_csv('data_sets/tdcf.csv')"
   ]
  },
  {
   "cell_type": "code",
   "execution_count": 58,
   "metadata": {
    "scrolled": true
   },
   "outputs": [
    {
     "data": {
      "text/html": [
       "<div>\n",
       "<style scoped>\n",
       "    .dataframe tbody tr th:only-of-type {\n",
       "        vertical-align: middle;\n",
       "    }\n",
       "\n",
       "    .dataframe tbody tr th {\n",
       "        vertical-align: top;\n",
       "    }\n",
       "\n",
       "    .dataframe thead th {\n",
       "        text-align: right;\n",
       "    }\n",
       "</style>\n",
       "<table border=\"1\" class=\"dataframe\">\n",
       "  <thead>\n",
       "    <tr style=\"text-align: right;\">\n",
       "      <th></th>\n",
       "      <th>cfb_school</th>\n",
       "      <th>cfb_conference</th>\n",
       "      <th>cfb_class</th>\n",
       "      <th>cfb_pos</th>\n",
       "      <th>cfb_games</th>\n",
       "      <th>cfb_receptions</th>\n",
       "      <th>cfb_rec_yards</th>\n",
       "      <th>cfb_rec_yards_per_reception</th>\n",
       "      <th>cfb_rec_td</th>\n",
       "      <th>cfb_rushes</th>\n",
       "      <th>...</th>\n",
       "      <th>cfb_td</th>\n",
       "      <th>combine_draft_age</th>\n",
       "      <th>combine_ht</th>\n",
       "      <th>combine_wt</th>\n",
       "      <th>combine_forty</th>\n",
       "      <th>combine_vertical</th>\n",
       "      <th>combine_benchreps</th>\n",
       "      <th>combine_broadjump</th>\n",
       "      <th>combine_cone</th>\n",
       "      <th>rec_yards_ffs</th>\n",
       "    </tr>\n",
       "  </thead>\n",
       "  <tbody>\n",
       "    <tr>\n",
       "      <td>0</td>\n",
       "      <td>Clemson</td>\n",
       "      <td>ACC</td>\n",
       "      <td>JR</td>\n",
       "      <td>WR</td>\n",
       "      <td>36.0</td>\n",
       "      <td>240.0</td>\n",
       "      <td>3391.0</td>\n",
       "      <td>14.1</td>\n",
       "      <td>27.0</td>\n",
       "      <td>52.0</td>\n",
       "      <td>...</td>\n",
       "      <td>28.0</td>\n",
       "      <td>21</td>\n",
       "      <td>73.0</td>\n",
       "      <td>211.0</td>\n",
       "      <td>4.43</td>\n",
       "      <td>34.0</td>\n",
       "      <td>16.0</td>\n",
       "      <td>126.0</td>\n",
       "      <td>6.95</td>\n",
       "      <td>3571.0</td>\n",
       "    </tr>\n",
       "    <tr>\n",
       "      <td>1</td>\n",
       "      <td>Texas A&amp;M</td>\n",
       "      <td>SEC</td>\n",
       "      <td>SO</td>\n",
       "      <td>WR</td>\n",
       "      <td>26.0</td>\n",
       "      <td>151.0</td>\n",
       "      <td>2499.0</td>\n",
       "      <td>16.5</td>\n",
       "      <td>17.0</td>\n",
       "      <td>0.0</td>\n",
       "      <td>...</td>\n",
       "      <td>17.0</td>\n",
       "      <td>21</td>\n",
       "      <td>77.0</td>\n",
       "      <td>231.0</td>\n",
       "      <td>4.53</td>\n",
       "      <td>37.0</td>\n",
       "      <td>12.0</td>\n",
       "      <td>NaN</td>\n",
       "      <td>7.08</td>\n",
       "      <td>6103.0</td>\n",
       "    </tr>\n",
       "    <tr>\n",
       "      <td>2</td>\n",
       "      <td>LSU</td>\n",
       "      <td>SEC</td>\n",
       "      <td>NaN</td>\n",
       "      <td>WR</td>\n",
       "      <td>40.0</td>\n",
       "      <td>143.0</td>\n",
       "      <td>2340.0</td>\n",
       "      <td>16.4</td>\n",
       "      <td>12.0</td>\n",
       "      <td>7.0</td>\n",
       "      <td>...</td>\n",
       "      <td>12.0</td>\n",
       "      <td>21</td>\n",
       "      <td>71.0</td>\n",
       "      <td>198.0</td>\n",
       "      <td>4.38</td>\n",
       "      <td>38.5</td>\n",
       "      <td>7.0</td>\n",
       "      <td>122.0</td>\n",
       "      <td>6.69</td>\n",
       "      <td>5476.0</td>\n",
       "    </tr>\n",
       "  </tbody>\n",
       "</table>\n",
       "<p>3 rows × 26 columns</p>\n",
       "</div>"
      ],
      "text/plain": [
       "  cfb_school cfb_conference cfb_class cfb_pos  cfb_games  cfb_receptions  \\\n",
       "0    Clemson            ACC        JR      WR       36.0           240.0   \n",
       "1  Texas A&M            SEC        SO      WR       26.0           151.0   \n",
       "2        LSU            SEC       NaN      WR       40.0           143.0   \n",
       "\n",
       "   cfb_rec_yards  cfb_rec_yards_per_reception  cfb_rec_td  cfb_rushes  ...  \\\n",
       "0         3391.0                         14.1        27.0        52.0  ...   \n",
       "1         2499.0                         16.5        17.0         0.0  ...   \n",
       "2         2340.0                         16.4        12.0         7.0  ...   \n",
       "\n",
       "   cfb_td  combine_draft_age  combine_ht  combine_wt  combine_forty  \\\n",
       "0    28.0                 21        73.0       211.0           4.43   \n",
       "1    17.0                 21        77.0       231.0           4.53   \n",
       "2    12.0                 21        71.0       198.0           4.38   \n",
       "\n",
       "   combine_vertical  combine_benchreps  combine_broadjump  combine_cone  \\\n",
       "0              34.0               16.0              126.0          6.95   \n",
       "1              37.0               12.0                NaN          7.08   \n",
       "2              38.5                7.0              122.0          6.69   \n",
       "\n",
       "   rec_yards_ffs  \n",
       "0         3571.0  \n",
       "1         6103.0  \n",
       "2         5476.0  \n",
       "\n",
       "[3 rows x 26 columns]"
      ]
     },
     "execution_count": 58,
     "metadata": {},
     "output_type": "execute_result"
    }
   ],
   "source": [
    "tdcf.head(3)"
   ]
  },
  {
   "cell_type": "markdown",
   "metadata": {},
   "source": [
    "### How complete is our data?\n",
    "\n",
    "Create a separate dataframe which only includes if the cfb data and combine data was scrapped. To that end end, we check the value of cfb_table_name and combine_method from our draft table."
   ]
  },
  {
   "cell_type": "code",
   "execution_count": 93,
   "metadata": {
    "scrolled": true
   },
   "outputs": [
    {
     "data": {
      "text/html": [
       "<div>\n",
       "<style scoped>\n",
       "    .dataframe tbody tr th:only-of-type {\n",
       "        vertical-align: middle;\n",
       "    }\n",
       "\n",
       "    .dataframe tbody tr th {\n",
       "        vertical-align: top;\n",
       "    }\n",
       "\n",
       "    .dataframe thead th {\n",
       "        text-align: right;\n",
       "    }\n",
       "</style>\n",
       "<table border=\"1\" class=\"dataframe\">\n",
       "  <thead>\n",
       "    <tr style=\"text-align: right;\">\n",
       "      <th>combine_data</th>\n",
       "      <th>incomplete</th>\n",
       "      <th>scrapped</th>\n",
       "    </tr>\n",
       "    <tr>\n",
       "      <th>cfb_data</th>\n",
       "      <th></th>\n",
       "      <th></th>\n",
       "    </tr>\n",
       "  </thead>\n",
       "  <tbody>\n",
       "    <tr>\n",
       "      <td>incomplete</td>\n",
       "      <td>25</td>\n",
       "      <td>42</td>\n",
       "    </tr>\n",
       "    <tr>\n",
       "      <td>scrapped</td>\n",
       "      <td>45</td>\n",
       "      <td>376</td>\n",
       "    </tr>\n",
       "  </tbody>\n",
       "</table>\n",
       "</div>"
      ],
      "text/plain": [
       "combine_data  incomplete  scrapped\n",
       "cfb_data                          \n",
       "incomplete            25        42\n",
       "scrapped              45       376"
      ]
     },
     "metadata": {},
     "output_type": "display_data"
    },
    {
     "name": "stdout",
     "output_type": "stream",
     "text": [
      "For a dataframe of size: (488, 26)\n"
     ]
    }
   ],
   "source": [
    "info_complete_df = pd.DataFrame.from_dict({\n",
    "    'cfb_data': tdc.cfb_table_name.apply(lambda x: 'scrapped' if x.split()[0] == 'receiving' else 'incomplete'),\n",
    "    'combine_data': tdc.combine_method.apply(lambda x: 'scrapped' if x.split()[0] == 'success' else 'incomplete')\n",
    "})\n",
    "\n",
    "display(pd.crosstab(info_complete_df.cfb_data, info_complete_df.combine_data))\n",
    "\n",
    "print('For a dataframe of size:', tdcf.shape)"
   ]
  },
  {
   "cell_type": "markdown",
   "metadata": {},
   "source": [
    "# 1) Exploring the Data\n",
    "\n",
    "Let's first look at a few simple inferences that will tell us about the nature of our data set. We start with the distribution of our target - the cumulative receiving yards first 5 seasons - and then check how it correlates with the features, whether they're numerical or categorical."
   ]
  },
  {
   "cell_type": "markdown",
   "metadata": {},
   "source": [
    "### Distribution of our target"
   ]
  },
  {
   "cell_type": "code",
   "execution_count": 61,
   "metadata": {
    "scrolled": true
   },
   "outputs": [
    {
     "data": {
      "image/png": "[encoded data removed]",
      "text/plain": [
       "<Figure size 432x288 with 1 Axes>"
      ]
     },
     "metadata": {
      "needs_background": "light"
     },
     "output_type": "display_data"
    }
   ],
   "source": [
    "plt.hist(tdcf.rec_yards_ffs)\n",
    "plt.xlabel('Cumulative receiving yards first 5 seasons')\n",
    "plt.ylabel('Distribution')\n",
    "plt.show()"
   ]
  },
  {
   "cell_type": "code",
   "execution_count": 84,
   "metadata": {},
   "outputs": [
    {
     "data": {
      "image/png": "[encoded data removed]",
      "text/plain": [
       "<Figure size 432x288 with 1 Axes>"
      ]
     },
     "metadata": {
      "needs_background": "light"
     },
     "output_type": "display_data"
    }
   ],
   "source": [
    "plt.scatter(tdcf.rec_yards_ffs, tdcf.cfb_rec_yards)\n",
    "plt.xlabel('CFB receiving yards')\n",
    "plt.ylabel('Cumulative receiving yards first 5 seasons')\n",
    "plt.title('Scattering between target and cfb receiving yards')\n",
    "plt.show()"
   ]
  },
  {
   "cell_type": "markdown",
   "metadata": {},
   "source": [
    "### Correlation with Numerical Features"
   ]
  },
  {
   "cell_type": "code",
   "execution_count": 72,
   "metadata": {},
   "outputs": [
    {
     "data": {
      "image/png": "[encoded data removed]",
      "text/plain": [
       "<Figure size 432x288 with 2 Axes>"
      ]
     },
     "metadata": {
      "needs_background": "light"
     },
     "output_type": "display_data"
    }
   ],
   "source": [
    "sns.heatmap(tdcf.corr(method='pearson').iloc[[-1],:-1], annot=False)\n",
    "plt.title('Correlation target with numerical features')\n",
    "plt.show()"
   ]
  },
  {
   "cell_type": "markdown",
   "metadata": {},
   "source": [
    "### Impact of categorical features: cfb conference and cfb class"
   ]
  },
  {
   "cell_type": "code",
   "execution_count": 91,
   "metadata": {},
   "outputs": [
    {
     "data": {
      "image/png": "[encoded data removed]",
      "text/plain": [
       "<Figure size 1080x720 with 2 Axes>"
      ]
     },
     "metadata": {
      "needs_background": "light"
     },
     "output_type": "display_data"
    }
   ],
   "source": [
    "fig, axs = plt.subplots(2,1,figsize = (15,10))\n",
    "\n",
    "k = 0\n",
    "# group by cfb_conference and plot the mean\n",
    "axs[k].plot( tdcf.groupby(['cfb_conference']).mean()['rec_yards_ffs'], marker = 'o', linestyle = '' )\n",
    "axs[k].set(ylabel='Target\\'s mean')\n",
    "axs[k].axhline(tdcf.rec_yards_ffs.mean(), linestyle = '--')\n",
    "#axs[k].title('Cumulative receiving yards first 5 seasons vs Categorical Data')\n",
    "\n",
    "k = 1\n",
    "# group by cfb_class and plot the mean\n",
    "axs[k].plot(tdcf.groupby(['cfb_class']).mean()['rec_yards_ffs'], marker = 'o', linestyle = '')\n",
    "axs[k].set(ylabel='Target\\'s mean')\n",
    "axs[k].axhline(tdcf.rec_yards_ffs.mean(), linestyle = '--')\n",
    "\n",
    "\n",
    "plt.show()"
   ]
  },
  {
   "cell_type": "markdown",
   "metadata": {},
   "source": [
    "### Observations and Trends\n",
    "\n",
    "It is clear that a few of the cfb stats have a positive impact on how well the player performs in the nfl, for example: cfb_td, cfb_rec_yards, or cfb_yards. Others though, like the number of games, correlate negatively with the target. This is confirmed by the correlation matrix, whose color coding also indicates that the combine data matter a little less than the cfb one.\n",
    "\n",
    "On the categorical front, we notice that both the conference of origin and the class status of the player has an impact on the mean observed for our target:\n",
    "- for example, the SEC and the Pac-12 both perform better than average, unlike MWC and WAC\n",
    "- also, juniors and sophomores do better than their freshmen and senior counterparts. Watch as the NFL won't allow FR or SO to enter the draft anymore, so those data points most likely correspond to old players\n",
    "\n",
    "Finally, we must realize that our target is heavily skewed toward zero, i.e. it is zero inflated. This highlights the fact that a substantial number of NFL players, despite achieving great collegiate performances, get to play from very little to nothing in the big league. This poses a problem to build a linear regressor model (in addition to the data being partially incomplete and limited) which is why we will turn this into a classifier problem instead."
   ]
  },
  {
   "cell_type": "markdown",
   "metadata": {},
   "source": [
    "# 2) Statistical Analysis - Linear Analysis\n",
    "\n",
    "Let's now run more rigorous, quantitative tests to analyse our data and what features matter or not."
   ]
  },
  {
   "cell_type": "markdown",
   "metadata": {},
   "source": [
    "### Hypothesis Testing for Difference of Means of Two Populations (via Bootstrapping)\n",
    "\n",
    "We run a two-sample bootstrap hypothesis test for difference of means. We do so manually and on the samples of SEC vs Big12 drafted receivers."
   ]
  },
  {
   "cell_type": "code",
   "execution_count": 100,
   "metadata": {},
   "outputs": [
    {
     "name": "stdout",
     "output_type": "stream",
     "text": [
      "The mean of SEC players is 1702.32, while the Big 12 is 1038.04\n",
      "The difference in means of the two samples is 664.2787524366472\n",
      "The p-value for our hypothesis testing is 0.007\n"
     ]
    }
   ],
   "source": [
    "def bootstraps(array, func, size):\n",
    "    '''\n",
    "    User-defined bootstrap function. \n",
    "    Inputs: array, the function to use (test statistic) and the size of the bootstrap\n",
    "    '''\n",
    "    bs_replicates = np.empty(size)\n",
    "    for i in range(size):\n",
    "        bs_replicates[i] = func(np.random.choice(array, len(array)))      \n",
    "    return bs_replicates\n",
    "\n",
    "######################################\n",
    "\n",
    "# create the two populations\n",
    "sec = tdcf[tdcf['cfb_conference'] == 'SEC'].rec_yards_ffs.dropna()\n",
    "big12 = tdcf[tdcf['cfb_conference'] == 'Big 12'].rec_yards_ffs.dropna()\n",
    "print('The mean of SEC players is %.2f, while the Big 12 is %.2f' %(np.mean(sec), np.mean(big12)))\n",
    "\n",
    "# compute the difference\n",
    "mean_diff = np.mean(sec) - np.mean(big12)\n",
    "print('The difference in means of the two samples is', mean_diff)\n",
    "\n",
    "# concatenate and find mean\n",
    "conc = np.concatenate((sec,big12))\n",
    "mean_conc = np.mean(conc)\n",
    "\n",
    "# hypothesis: assume both samples have the same mean\n",
    "sec_shifted = sec - np.mean(sec) + mean_conc\n",
    "big12_shifted = big12 - np.mean(big12) + mean_conc\n",
    "print('Null hypothesis: the two samples have the same mean')\n",
    "print('Solution: ')\n",
    "\n",
    "# bootstrap 1000 samples separately and take difference of replicates\n",
    "bs_rep_sec = bootstraps(sec_shifted, np.mean, 1000)\n",
    "bs_rep_big12 = bootstraps(big12_shifted, np.mean, 1000)\n",
    "bs_rep_diff = bs_rep_sec - bs_rep_big12\n",
    "\n",
    "# p = number of replicates where difference is larger than mean difference\n",
    "p = np.sum(bs_rep_diff > mean_diff)/len(bs_rep_diff)\n",
    "print('The p-value for our hypothesis testing is', p)\n",
    "print('We can reject the reject the null hypothesis')"
   ]
  },
  {
   "cell_type": "markdown",
   "metadata": {},
   "source": [
    "### Hypothesis Testing for Difference of Means of Two Populations (via Scipy)\n",
    "\n",
    "We re-do the same experiment, except using the t-test of scipy and w.r.t to the two samples of players that have cfb_rushes either below and above its median."
   ]
  },
  {
   "cell_type": "code",
   "execution_count": 103,
   "metadata": {
    "scrolled": true
   },
   "outputs": [
    {
     "data": {
      "image/png": "[encoded data removed]",
      "text/plain": [
       "<Figure size 432x288 with 1 Axes>"
      ]
     },
     "metadata": {
      "needs_background": "light"
     },
     "output_type": "display_data"
    }
   ],
   "source": [
    "plt.hist(tdcf.cfb_rushes, bins = 20)\n",
    "plt.axvline(tdcf.cfb_rushes.median(), color = 'r')\n",
    "plt.xlabel('CFB rushes')\n",
    "plt.ylabel('Distribution')\n",
    "plt.show()"
   ]
  },
  {
   "cell_type": "code",
   "execution_count": 108,
   "metadata": {},
   "outputs": [
    {
     "name": "stdout",
     "output_type": "stream",
     "text": [
      "Null hypothesis: the samples of players with cfb rushes\n",
      "below and above the mean are from the same distribution\n",
      "The t-statistic and p-value returned for such hypothesis are p\n",
      "t = -0.62083510732993 p = 0.5350522491920733\n"
     ]
    }
   ],
   "source": [
    "import scipy\n",
    "# median of cfb_rushes\n",
    "median = tdcf.cfb_rushes.median()\n",
    "\n",
    "# populations below and above\n",
    "cfbr_low = tdcf[tdcf.cfb_rushes < median].rec_yards_ffs.dropna()\n",
    "cfbr_high = tdcf[tdcf.cfb_rushes >= median].rec_yards_ffs.dropna()\n",
    "\n",
    "t, p = scipy.stats.ttest_ind(cfbr_low, cfbr_high, equal_var = False)\n",
    "print('Null hypothesis: the samples of players with cfb rushes')\n",
    "print('below and above the mean are from the same distribution')\n",
    "print('The t-statistic and p-value returned for such hypothesis are p')\n",
    "print('t =', t, 'p =', p)"
   ]
  },
  {
   "cell_type": "markdown",
   "metadata": {},
   "source": [
    "# 3) Statistical Analysis - Logistic Analysis\n",
    "\n",
    "We anticipate that this project will become a logisitic / classifier problem: we classify players as successes vs busts depending if their cumulitative receiving yards during the first 5 NFL seasons are above or below a threshold. We set that threshold to 300 yards."
   ]
  },
  {
   "cell_type": "code",
   "execution_count": 117,
   "metadata": {},
   "outputs": [
    {
     "data": {
      "text/plain": [
       "1    278\n",
       "0    210\n",
       "Name: success, dtype: int64"
      ]
     },
     "execution_count": 117,
     "metadata": {},
     "output_type": "execute_result"
    }
   ],
   "source": [
    "threshold = 300\n",
    "tdcf['success'] = (tdcf.rec_yards_ffs >= threshold)*1\n",
    "tdcf.success.value_counts(dropna = False)"
   ]
  },
  {
   "cell_type": "markdown",
   "metadata": {},
   "source": [
    "### Chi-Square Independence Test via Scipy Stats\n",
    "\n",
    "Let's run such a test against the status of a drafted player (cfb_class). The hypothesis we test is that the two populations (juniors and seniors) are independant"
   ]
  },
  {
   "cell_type": "code",
   "execution_count": 141,
   "metadata": {},
   "outputs": [],
   "source": [
    "jr = tdcf[tdcf.cfb_class == 'JR'].success.value_counts().tolist()\n",
    "sr = tdcf[tdcf.cfb_class == 'SR'].success.value_counts().tolist()\n",
    "array = np.array([jr, sr])"
   ]
  },
  {
   "cell_type": "code",
   "execution_count": 146,
   "metadata": {},
   "outputs": [
    {
     "name": "stdout",
     "output_type": "stream",
     "text": [
      "The test statistic \\chi 34.75393475147727\n",
      "The p-value: 3.741217939584596e-09\n",
      "This means we can safely reject our hypothesis that the two populations are independant\n"
     ]
    }
   ],
   "source": [
    "chi2, p, dof, expected = scipy.stats.chi2_contingency(array)\n",
    "print('The test statistic \\chi', chi2)\n",
    "print('The p-value:', p)\n",
    "print('This means we can safely reject our hypothesis that the two populations are independant')"
   ]
  }
 ],
 "metadata": {
  "kernelspec": {
   "display_name": "Python 3",
   "language": "python",
   "name": "python3"
  },
  "language_info": {
   "codemirror_mode": {
    "name": "ipython",
    "version": 3
   },
   "file_extension": ".py",
   "mimetype": "text/x-python",
   "name": "python",
   "nbconvert_exporter": "python",
   "pygments_lexer": "ipython3",
   "version": "3.7.3"
  }
 },
 "nbformat": 4,
 "nbformat_minor": 2
}
