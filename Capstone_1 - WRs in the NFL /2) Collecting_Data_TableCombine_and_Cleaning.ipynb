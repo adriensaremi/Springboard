{
 "cells": [
  {
   "cell_type": "markdown",
   "metadata": {},
   "source": [
    "# Collecting Combine Data, Merging and Cleaning Notebook:\n",
    "\n",
    "This notebook is principaly using the combine_data csv file and merges the entries with draft table from 'Collecting_Data_TableDraft.ipynb'. Additionally, since the csv document has a lot of incomplete data, we use **Pro-Football-Reference** in order to generate additional combine stats. Since the combine data for each player is hidden from the *soup document*, we will get to use **Chrome's webdriver** to scrap the combine table and add it to the draft table.\n",
    "\n",
    "Finally, we clean and re-arrange the dataframe so that it is readable and contains only the data we care for."
   ]
  },
  {
   "cell_type": "code",
   "execution_count": 1,
   "metadata": {
    "init_cell": true
   },
   "outputs": [],
   "source": [
    "import Collecting_Data_TableCombine_and_Cleaning\n",
    "import importlib\n",
    "importlib.reload(Collecting_Data_TableCombine_and_Cleaning)\n",
    "from Collecting_Data_TableCombine_and_Cleaning import *"
   ]
  },
  {
   "cell_type": "code",
   "execution_count": 2,
   "metadata": {},
   "outputs": [],
   "source": [
    "# import tables\n",
    "combine_table = pd.read_csv('data_sets/combine_data_since_2000.csv')\n",
    "td = pd.read_csv('data_sets/td.csv')"
   ]
  },
  {
   "cell_type": "markdown",
   "metadata": {},
   "source": [
    "## 1) Collecting Combine Data\n",
    "\n",
    "We collect players that were drafted between the years 2000 and 2014. Since a lot of WR draftees have various positions coming from college (not just college WRs), we make sure to include all players."
   ]
  },
  {
   "cell_type": "code",
   "execution_count": 3,
   "metadata": {},
   "outputs": [
    {
     "name": "stdout",
     "output_type": "stream",
     "text": [
      "[2000 2001 2002 2003 2004 2005 2006 2007 2008 2009 2010 2011 2012 2013\n",
      " 2014 2015 2016 2017 2018]\n",
      "['OLB' 'RB' 'OT' 'TE' 'CB' 'K' 'P' 'FS' 'OG' 'ILB' 'DE' 'SS' 'DT' 'QB'\n",
      " 'WR' 'C' 'FB' 'LS' 'NT' 'EDGE' 'S' 'G' 'LB' 'DB' 'OL']\n"
     ]
    }
   ],
   "source": [
    "print(combine_table['Year'].unique())\n",
    "print(combine_table['Pos'].unique())"
   ]
  },
  {
   "cell_type": "code",
   "execution_count": 4,
   "metadata": {},
   "outputs": [],
   "source": [
    "# capture players between 2000 and 2014\n",
    "combine_table = combine_table[(combine_table['Year'] <= 2014) & (combine_table['Year']>=2000)].reset_index(drop=True)"
   ]
  },
  {
   "cell_type": "markdown",
   "metadata": {},
   "source": [
    "## 2) Merging Combine with Draft tables\n",
    "\n",
    "We merge the combine table and draft table by rows if (year, round, pick) match or if (year, name) match"
   ]
  },
  {
   "cell_type": "code",
   "execution_count": 5,
   "metadata": {
    "scrolled": true
   },
   "outputs": [],
   "source": [
    "tdc = merge_combine(td, combine_table)"
   ]
  },
  {
   "cell_type": "code",
   "execution_count": 6,
   "metadata": {},
   "outputs": [
    {
     "data": {
      "text/plain": [
       "success from merge    357\n",
       "fail from merge       131\n",
       "Name: combine_method, dtype: int64"
      ]
     },
     "execution_count": 6,
     "metadata": {},
     "output_type": "execute_result"
    }
   ],
   "source": [
    "tdc.combine_method.value_counts(dropna = False)"
   ]
  },
  {
   "cell_type": "markdown",
   "metadata": {},
   "source": [
    "This many tables couldn't be merged. Let's go back to our scrapping method to search for additional combine tables from the nfl page"
   ]
  },
  {
   "cell_type": "code",
   "execution_count": 7,
   "metadata": {},
   "outputs": [],
   "source": [
    "tdc.to_csv(r'data_sets/tdc_prior_to_merge.csv', index = False)"
   ]
  },
  {
   "cell_type": "code",
   "execution_count": 8,
   "metadata": {},
   "outputs": [],
   "source": [
    "tdc = pd.read_csv('data_sets/tdc_prior_to_merge.csv')"
   ]
  },
  {
   "cell_type": "markdown",
   "metadata": {},
   "source": [
    "## 3) Searching for more Combine Data\n",
    "\n",
    "For those rows that failed to merge combine data, we go back to the nfl page and scrape the tables with **webdriver**. We hope to find the appropriate table 'Combine Measurements Table' "
   ]
  },
  {
   "cell_type": "code",
   "execution_count": 10,
   "metadata": {},
   "outputs": [],
   "source": [
    "tdc = search_combine(tdc)"
   ]
  },
  {
   "cell_type": "code",
   "execution_count": 11,
   "metadata": {
    "scrolled": true
   },
   "outputs": [
    {
     "data": {
      "text/plain": [
       "success from merge                 357\n",
       "success from search                 61\n",
       "fail from merge and from search     52\n",
       "fail from merge and no nfl link     18\n",
       "Name: combine_method, dtype: int64"
      ]
     },
     "execution_count": 11,
     "metadata": {},
     "output_type": "execute_result"
    }
   ],
   "source": [
    "tdc.combine_method.value_counts(dropna = False)"
   ]
  },
  {
   "cell_type": "markdown",
   "metadata": {},
   "source": [
    "We were able to salvage a few entries and generate more combine data. Let's now verify we have no mismatches w.r.t the draft year between the entry from the draft table and the entry from the combine data "
   ]
  },
  {
   "cell_type": "code",
   "execution_count": 12,
   "metadata": {
    "scrolled": true
   },
   "outputs": [
    {
     "data": {
      "text/plain": [
       "[]"
      ]
     },
     "execution_count": 12,
     "metadata": {},
     "output_type": "execute_result"
    }
   ],
   "source": [
    "mismatch_combine(tdc)"
   ]
  },
  {
   "cell_type": "code",
   "execution_count": 13,
   "metadata": {},
   "outputs": [],
   "source": [
    "tdc.to_csv(r'data_sets/tdc_after_merge.csv', index = False)"
   ]
  },
  {
   "cell_type": "markdown",
   "metadata": {},
   "source": [
    "## 4) Cleaning Data\n",
    "\n",
    "Now, we proceed to clean and re-organize our dataframe to be more readable. This means:\n",
    "- re-organizing data in a more natural and explicit way and deleting useless columns (like draft year or some useless combine stats)\n",
    "- print out the type of each column\n",
    "- count how we got our data and how complete is it using nfl_table_type, cfb_table_type and combine_method\n"
   ]
  },
  {
   "cell_type": "code",
   "execution_count": 14,
   "metadata": {
    "scrolled": true
   },
   "outputs": [],
   "source": [
    "tdc = tdc[list_of_columns_selected]\n",
    "tdc = tdc.rename(columns=rename_column)"
   ]
  },
  {
   "cell_type": "code",
   "execution_count": 15,
   "metadata": {},
   "outputs": [
    {
     "data": {
      "text/plain": [
       "year                             int64\n",
       "round                            int64\n",
       "pick                             int64\n",
       "player                          object\n",
       "cfb_url                         object\n",
       "cfb_table_name                  object\n",
       "cfb_school                      object\n",
       "cfb_conference                  object\n",
       "cfb_class                       object\n",
       "cfb_pos                         object\n",
       "cfb_games                      float64\n",
       "cfb_receptions                 float64\n",
       "cfb_rec_yards                  float64\n",
       "cfb_rec_yards_per_reception    float64\n",
       "cfb_rec_td                     float64\n",
       "cfb_rushes                     float64\n",
       "cfb_rushing_yards              float64\n",
       "cfb_rushing_yards_per_rush     float64\n",
       "cfb_rushing_td                 float64\n",
       "cfb_plays                      float64\n",
       "cfb_yards                      float64\n",
       "cfb_yards_per_play             float64\n",
       "cfb_td                         float64\n",
       "combine_method                  object\n",
       "combine_draft_age                int64\n",
       "combine_ht                     float64\n",
       "combine_wt                     float64\n",
       "combine_forty                  float64\n",
       "combine_vertical               float64\n",
       "combine_benchreps              float64\n",
       "combine_broadjump              float64\n",
       "combine_cone                   float64\n",
       "nfl_url                         object\n",
       "nfl_table_name                  object\n",
       "nfl_yards_per_year              object\n",
       "dtype: object"
      ]
     },
     "execution_count": 15,
     "metadata": {},
     "output_type": "execute_result"
    }
   ],
   "source": [
    "tdc.dtypes"
   ]
  },
  {
   "cell_type": "code",
   "execution_count": 21,
   "metadata": {
    "scrolled": true
   },
   "outputs": [
    {
     "data": {
      "text/html": [
       "<div>\n",
       "<style scoped>\n",
       "    .dataframe tbody tr th:only-of-type {\n",
       "        vertical-align: middle;\n",
       "    }\n",
       "\n",
       "    .dataframe tbody tr th {\n",
       "        vertical-align: top;\n",
       "    }\n",
       "\n",
       "    .dataframe thead th {\n",
       "        text-align: right;\n",
       "    }\n",
       "</style>\n",
       "<table border=\"1\" class=\"dataframe\">\n",
       "  <thead>\n",
       "    <tr style=\"text-align: right;\">\n",
       "      <th>cfb_table_name</th>\n",
       "      <th>cfb link is missing</th>\n",
       "      <th>receiving &amp; rushing table</th>\n",
       "      <th>receiving &amp; rushing table inverted</th>\n",
       "      <th>receiving &amp; rushing table webdriver</th>\n",
       "      <th>receiving &amp; rushing table webdriver inverted</th>\n",
       "    </tr>\n",
       "    <tr>\n",
       "      <th>nfl_table_name</th>\n",
       "      <th></th>\n",
       "      <th></th>\n",
       "      <th></th>\n",
       "      <th></th>\n",
       "      <th></th>\n",
       "    </tr>\n",
       "  </thead>\n",
       "  <tbody>\n",
       "    <tr>\n",
       "      <td>receiving &amp; rushing table</td>\n",
       "      <td>52</td>\n",
       "      <td>358</td>\n",
       "      <td>6</td>\n",
       "      <td>2</td>\n",
       "      <td>7</td>\n",
       "    </tr>\n",
       "    <tr>\n",
       "      <td>receiving &amp; rushing table inverted</td>\n",
       "      <td>0</td>\n",
       "      <td>0</td>\n",
       "      <td>1</td>\n",
       "      <td>0</td>\n",
       "      <td>2</td>\n",
       "    </tr>\n",
       "    <tr>\n",
       "      <td>receiving &amp; rushing table manually</td>\n",
       "      <td>0</td>\n",
       "      <td>1</td>\n",
       "      <td>0</td>\n",
       "      <td>0</td>\n",
       "      <td>2</td>\n",
       "    </tr>\n",
       "    <tr>\n",
       "      <td>receiving &amp; rushing table webdriver</td>\n",
       "      <td>14</td>\n",
       "      <td>32</td>\n",
       "      <td>4</td>\n",
       "      <td>3</td>\n",
       "      <td>1</td>\n",
       "    </tr>\n",
       "    <tr>\n",
       "      <td>receiving &amp; rushing table webdriver inverted</td>\n",
       "      <td>1</td>\n",
       "      <td>1</td>\n",
       "      <td>1</td>\n",
       "      <td>0</td>\n",
       "      <td>0</td>\n",
       "    </tr>\n",
       "  </tbody>\n",
       "</table>\n",
       "</div>"
      ],
      "text/plain": [
       "cfb_table_name                                cfb link is missing  \\\n",
       "nfl_table_name                                                      \n",
       "receiving & rushing table                                      52   \n",
       "receiving & rushing table inverted                              0   \n",
       "receiving & rushing table manually                              0   \n",
       "receiving & rushing table webdriver                            14   \n",
       "receiving & rushing table webdriver inverted                    1   \n",
       "\n",
       "cfb_table_name                                receiving & rushing table  \\\n",
       "nfl_table_name                                                            \n",
       "receiving & rushing table                                           358   \n",
       "receiving & rushing table inverted                                    0   \n",
       "receiving & rushing table manually                                    1   \n",
       "receiving & rushing table webdriver                                  32   \n",
       "receiving & rushing table webdriver inverted                          1   \n",
       "\n",
       "cfb_table_name                                receiving & rushing table inverted  \\\n",
       "nfl_table_name                                                                     \n",
       "receiving & rushing table                                                      6   \n",
       "receiving & rushing table inverted                                             1   \n",
       "receiving & rushing table manually                                             0   \n",
       "receiving & rushing table webdriver                                            4   \n",
       "receiving & rushing table webdriver inverted                                   1   \n",
       "\n",
       "cfb_table_name                                receiving & rushing table webdriver  \\\n",
       "nfl_table_name                                                                      \n",
       "receiving & rushing table                                                       2   \n",
       "receiving & rushing table inverted                                              0   \n",
       "receiving & rushing table manually                                              0   \n",
       "receiving & rushing table webdriver                                             3   \n",
       "receiving & rushing table webdriver inverted                                    0   \n",
       "\n",
       "cfb_table_name                                receiving & rushing table webdriver inverted  \n",
       "nfl_table_name                                                                              \n",
       "receiving & rushing table                                                                7  \n",
       "receiving & rushing table inverted                                                       2  \n",
       "receiving & rushing table manually                                                       2  \n",
       "receiving & rushing table webdriver                                                      1  \n",
       "receiving & rushing table webdriver inverted                                             0  "
      ]
     },
     "execution_count": 21,
     "metadata": {},
     "output_type": "execute_result"
    }
   ],
   "source": [
    "pd.crosstab(tdc.nfl_table_name, tdc.cfb_table_name)"
   ]
  },
  {
   "cell_type": "code",
   "execution_count": 22,
   "metadata": {},
   "outputs": [
    {
     "data": {
      "text/html": [
       "<div>\n",
       "<style scoped>\n",
       "    .dataframe tbody tr th:only-of-type {\n",
       "        vertical-align: middle;\n",
       "    }\n",
       "\n",
       "    .dataframe tbody tr th {\n",
       "        vertical-align: top;\n",
       "    }\n",
       "\n",
       "    .dataframe thead th {\n",
       "        text-align: right;\n",
       "    }\n",
       "</style>\n",
       "<table border=\"1\" class=\"dataframe\">\n",
       "  <thead>\n",
       "    <tr style=\"text-align: right;\">\n",
       "      <th>combine_method</th>\n",
       "      <th>fail from merge and from search</th>\n",
       "      <th>fail from merge and no nfl link</th>\n",
       "      <th>success from merge</th>\n",
       "      <th>success from search</th>\n",
       "    </tr>\n",
       "    <tr>\n",
       "      <th>nfl_table_name</th>\n",
       "      <th></th>\n",
       "      <th></th>\n",
       "      <th></th>\n",
       "      <th></th>\n",
       "    </tr>\n",
       "  </thead>\n",
       "  <tbody>\n",
       "    <tr>\n",
       "      <td>receiving &amp; rushing table</td>\n",
       "      <td>38</td>\n",
       "      <td>18</td>\n",
       "      <td>313</td>\n",
       "      <td>56</td>\n",
       "    </tr>\n",
       "    <tr>\n",
       "      <td>receiving &amp; rushing table inverted</td>\n",
       "      <td>0</td>\n",
       "      <td>0</td>\n",
       "      <td>3</td>\n",
       "      <td>0</td>\n",
       "    </tr>\n",
       "    <tr>\n",
       "      <td>receiving &amp; rushing table manually</td>\n",
       "      <td>2</td>\n",
       "      <td>0</td>\n",
       "      <td>1</td>\n",
       "      <td>0</td>\n",
       "    </tr>\n",
       "    <tr>\n",
       "      <td>receiving &amp; rushing table webdriver</td>\n",
       "      <td>12</td>\n",
       "      <td>0</td>\n",
       "      <td>37</td>\n",
       "      <td>5</td>\n",
       "    </tr>\n",
       "    <tr>\n",
       "      <td>receiving &amp; rushing table webdriver inverted</td>\n",
       "      <td>0</td>\n",
       "      <td>0</td>\n",
       "      <td>3</td>\n",
       "      <td>0</td>\n",
       "    </tr>\n",
       "  </tbody>\n",
       "</table>\n",
       "</div>"
      ],
      "text/plain": [
       "combine_method                                fail from merge and from search  \\\n",
       "nfl_table_name                                                                  \n",
       "receiving & rushing table                                                  38   \n",
       "receiving & rushing table inverted                                          0   \n",
       "receiving & rushing table manually                                          2   \n",
       "receiving & rushing table webdriver                                        12   \n",
       "receiving & rushing table webdriver inverted                                0   \n",
       "\n",
       "combine_method                                fail from merge and no nfl link  \\\n",
       "nfl_table_name                                                                  \n",
       "receiving & rushing table                                                  18   \n",
       "receiving & rushing table inverted                                          0   \n",
       "receiving & rushing table manually                                          0   \n",
       "receiving & rushing table webdriver                                         0   \n",
       "receiving & rushing table webdriver inverted                                0   \n",
       "\n",
       "combine_method                                success from merge  \\\n",
       "nfl_table_name                                                     \n",
       "receiving & rushing table                                    313   \n",
       "receiving & rushing table inverted                             3   \n",
       "receiving & rushing table manually                             1   \n",
       "receiving & rushing table webdriver                           37   \n",
       "receiving & rushing table webdriver inverted                   3   \n",
       "\n",
       "combine_method                                success from search  \n",
       "nfl_table_name                                                     \n",
       "receiving & rushing table                                      56  \n",
       "receiving & rushing table inverted                              0  \n",
       "receiving & rushing table manually                              0  \n",
       "receiving & rushing table webdriver                             5  \n",
       "receiving & rushing table webdriver inverted                    0  "
      ]
     },
     "execution_count": 22,
     "metadata": {},
     "output_type": "execute_result"
    }
   ],
   "source": [
    "pd.crosstab(tdc.nfl_table_name, tdc.combine_method)"
   ]
  },
  {
   "cell_type": "code",
   "execution_count": 25,
   "metadata": {},
   "outputs": [],
   "source": [
    "no_cfb_combine = tdc.loc[(tdc.cfb_table_name == 'cfb link is missing') & ( (tdc.combine_method == 'fail from merge and from search') | (tdc.combine_method == 'fail from merge and no nfl link') )]\n",
    "no_combine = tdc.loc[( (tdc.combine_method == 'fail from merge and from search') | (tdc.combine_method == 'fail from merge and no nfl link') )]\n",
    "no_cfb = tdc.loc[tdc.cfb_table_name == 'cfb link is missing']"
   ]
  },
  {
   "cell_type": "code",
   "execution_count": 27,
   "metadata": {
    "scrolled": true
   },
   "outputs": [
    {
     "name": "stdout",
     "output_type": "stream",
     "text": [
      "Total number of rows 488\n",
      "Data with neither cfb nor combine 25\n",
      "Data with no cfb  67\n",
      "Data with no combine  70\n"
     ]
    }
   ],
   "source": [
    "print('Total number of rows', len(tdc))\n",
    "print('Data with neither cfb nor combine', len(no_cfb_combine) )\n",
    "print('Data with no cfb ', len(no_cfb))\n",
    "print('Data with no combine ', len(no_combine))"
   ]
  },
  {
   "cell_type": "code",
   "execution_count": 28,
   "metadata": {},
   "outputs": [],
   "source": [
    "tdc.to_csv(r'data_sets/tdc_ready_for_export.csv', index = False)"
   ]
  },
  {
   "cell_type": "markdown",
   "metadata": {},
   "source": [
    "## Others - Testing for combine data from search\n",
    "\n",
    "Testing with a particular player what is the combine data from the search function"
   ]
  },
  {
   "cell_type": "code",
   "execution_count": 263,
   "metadata": {},
   "outputs": [],
   "source": [
    "url_nfl = 'https://www.pro-football-reference.com/players/M/MartKe01.htm'\n",
    "all_tables = generate_all_tables(url_nfl)\n",
    "captions_nfl = find_captions_from_list_of_tables(all_tables)"
   ]
  },
  {
   "cell_type": "code",
   "execution_count": 258,
   "metadata": {},
   "outputs": [
    {
     "data": {
      "text/html": [
       "<div>\n",
       "<style scoped>\n",
       "    .dataframe tbody tr th:only-of-type {\n",
       "        vertical-align: middle;\n",
       "    }\n",
       "\n",
       "    .dataframe tbody tr th {\n",
       "        vertical-align: top;\n",
       "    }\n",
       "\n",
       "    .dataframe thead th {\n",
       "        text-align: right;\n",
       "    }\n",
       "</style>\n",
       "<table border=\"1\" class=\"dataframe\">\n",
       "  <thead>\n",
       "    <tr style=\"text-align: right;\">\n",
       "      <th></th>\n",
       "      <th>year</th>\n",
       "      <th>pos</th>\n",
       "      <th>height</th>\n",
       "      <th>weight</th>\n",
       "      <th>40yd</th>\n",
       "      <th>bench</th>\n",
       "      <th>broad jump</th>\n",
       "      <th>shuttle</th>\n",
       "      <th>3 cone</th>\n",
       "      <th>vertical</th>\n",
       "    </tr>\n",
       "  </thead>\n",
       "  <tbody>\n",
       "    <tr>\n",
       "      <td>0</td>\n",
       "      <td>Year</td>\n",
       "      <td>Pos</td>\n",
       "      <td>Ht</td>\n",
       "      <td>Wt</td>\n",
       "      <td>40yd</td>\n",
       "      <td>Bench</td>\n",
       "      <td>Broad Jump</td>\n",
       "      <td>Shuttle</td>\n",
       "      <td>3Cone</td>\n",
       "      <td>Vertical</td>\n",
       "    </tr>\n",
       "    <tr>\n",
       "      <td>1</td>\n",
       "      <td>2012</td>\n",
       "      <td>WR</td>\n",
       "      <td>71</td>\n",
       "      <td>188</td>\n",
       "      <td>4.42</td>\n",
       "      <td>13</td>\n",
       "      <td>122</td>\n",
       "      <td>4.13</td>\n",
       "      <td>6.85</td>\n",
       "      <td>39.5</td>\n",
       "    </tr>\n",
       "  </tbody>\n",
       "</table>\n",
       "</div>"
      ],
      "text/plain": [
       "   year  pos height weight  40yd  bench  broad jump  shuttle 3 cone  vertical\n",
       "0  Year  Pos     Ht     Wt  40yd  Bench  Broad Jump  Shuttle  3Cone  Vertical\n",
       "1  2012   WR     71    188  4.42     13         122     4.13   6.85      39.5"
      ]
     },
     "metadata": {},
     "output_type": "display_data"
    },
    {
     "name": "stdout",
     "output_type": "stream",
     "text": [
      "And the combine row exported:\n",
      "['WR', 71.0, 188.0, 4.42, 39.5, 13.0, 122.0, 6.85, 4.13, 2012.0] success from search\n"
     ]
    },
    {
     "data": {
      "text/plain": [
       "['WR', 71.0, 188.0, 4.42, 39.5, 13.0, 122.0, 6.85, 4.13, 2012.0]"
      ]
     },
     "execution_count": 258,
     "metadata": {},
     "output_type": "execute_result"
    }
   ],
   "source": [
    "table_combine = combinestats(all_tables[-1])\n",
    "display(table_combine)\n",
    "print('And the combine row exported:')\n",
    "x, y = row_combine(table_combine)\n",
    "print(x, y)\n",
    "[x[0]] + list(map( lambda i: 0 if i == '' else float(i) , x[1:] ))"
   ]
  }
 ],
 "metadata": {
  "kernelspec": {
   "display_name": "Python 3",
   "language": "python",
   "name": "python3"
  },
  "language_info": {
   "codemirror_mode": {
    "name": "ipython",
    "version": 3
   },
   "file_extension": ".py",
   "mimetype": "text/x-python",
   "name": "python",
   "nbconvert_exporter": "python",
   "pygments_lexer": "ipython3",
   "version": "3.7.3"
  }
 },
 "nbformat": 4,
 "nbformat_minor": 2
}
