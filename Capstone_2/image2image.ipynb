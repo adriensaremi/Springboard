{
  "nbformat": 4,
  "nbformat_minor": 0,
  "metadata": {
    "colab": {
      "name": "image2image.ipynb",
      "provenance": [],
      "toc_visible": true
    },
    "kernelspec": {
      "name": "python3",
      "display_name": "Python 3"
    }
  },
  "cells": [
    {
      "cell_type": "markdown",
      "metadata": {
        "id": "MDFodeOQhZZq",
        "colab_type": "text"
      },
      "source": [
        "# Testing the mount and display figure"
      ]
    },
    {
      "cell_type": "code",
      "metadata": {
        "id": "z8iRauxoMCOV",
        "colab_type": "code",
        "colab": {}
      },
      "source": [
        "# old way to mount drive\n",
        "# from google.colab import drive \n",
        "# drive.mount('/content/gdrive')\n",
        "# %cd /content/gdrive/My\\ Drive/Colab\\ Notebooks/Capstone\\ 2/images"
      ],
      "execution_count": null,
      "outputs": []
    },
    {
      "cell_type": "code",
      "metadata": {
        "id": "UoOgPXbhViQh",
        "colab_type": "code",
        "colab": {
          "base_uri": "https://localhost:8080/",
          "height": 358
        },
        "outputId": "f07b739b-54ef-433a-e999-497c3caa53ca"
      },
      "source": [
        "import os\n",
        "path = '/content/drive/My Drive/Colab Notebooks/Capstone 2/images/'\n",
        "for filename in os.listdir(path):\n",
        "  print(filename)\n",
        "\n",
        "from keras.preprocessing.image import *\n",
        "import numpy as np \n",
        "figure = load_img(path + '0wb.jpg')\n",
        "pixels = img_to_array(figure)\n",
        "\n",
        "display(figure)\n",
        "figure.size"
      ],
      "execution_count": null,
      "outputs": [
        {
          "output_type": "stream",
          "text": [
            "1wo.jpg\n",
            "1wb.jpg\n",
            "0wo.jpg\n",
            "0wb.jpg\n"
          ],
          "name": "stdout"
        },
        {
          "output_type": "display_data",
          "data": {
            "image/png": "[encoded data removed]",
            "text/plain": [
              "<PIL.JpegImagePlugin.JpegImageFile image mode=RGB size=256x256 at 0x7FD45D141240>"
            ]
          },
          "metadata": {
            "tags": []
          }
        },
        {
          "output_type": "execute_result",
          "data": {
            "text/plain": [
              "(256, 256)"
            ]
          },
          "metadata": {
            "tags": []
          },
          "execution_count": 77
        }
      ]
    },
    {
      "cell_type": "markdown",
      "metadata": {
        "id": "JA5KKDQeiFg7",
        "colab_type": "text"
      },
      "source": [
        "# INITIALIZATION - LOAD AND UNLOAD FIGURES"
      ]
    },
    {
      "cell_type": "code",
      "metadata": {
        "id": "xXX3tL7NjCbx",
        "colab_type": "code",
        "colab": {}
      },
      "source": [
        "import os\n",
        "from keras.preprocessing.image import *\n",
        "import numpy as np \n",
        "import matplotlib.pyplot as plt"
      ],
      "execution_count": null,
      "outputs": []
    },
    {
      "cell_type": "markdown",
      "metadata": {
        "id": "rE0j3wEni4N_",
        "colab_type": "text"
      },
      "source": [
        "Load the images from Google Drive into numpy arrays:\n",
        "- iob_list is the list of images withOut Bonds (sources)\n",
        "- iwb_list is the list of images With Bonds (targets)"
      ]
    },
    {
      "cell_type": "code",
      "metadata": {
        "id": "6-yfqpFRKqUL",
        "colab_type": "code",
        "colab": {}
      },
      "source": [
        "path = '/content/drive/My Drive/Colab Notebooks/Capstone 2/images/'\n",
        "\n",
        "def load_images(path, size=(256,256)):\n",
        "  iwb_list, iob_list = list(), list()\n",
        "  for filename in os.listdir(path):\n",
        "\t  # load and resize the image and convert to numpy array\n",
        "    pixels = load_img(path + filename, target_size=size)\n",
        "    pixels = img_to_array(pixels)\n",
        "\t\t# append to list of images with/without bonds\n",
        "    if filename[1:3] == 'wb':\n",
        "      iwb_list.append(pixels)\n",
        "    elif filename[1:3] == 'wo':\n",
        "      iob_list.append(pixels)\n",
        "  return [np.asarray(iob_list), np.asarray(iwb_list)]"
      ],
      "execution_count": null,
      "outputs": []
    },
    {
      "cell_type": "markdown",
      "metadata": {
        "id": "4LNJBUbTUtGB",
        "colab_type": "text"
      },
      "source": [
        "Save those loaded images in a compress file called figs.npz"
      ]
    },
    {
      "cell_type": "code",
      "metadata": {
        "id": "uRZco8o5QG1S",
        "colab_type": "code",
        "colab": {
          "base_uri": "https://localhost:8080/",
          "height": 34
        },
        "outputId": "66a2ff2b-4452-4da2-dacb-2e2b70a82f1f"
      },
      "source": [
        "[ob_pixels, wb_pixels] = load_images(path)\n",
        "print('Loaded: ', ob_pixels.shape, wb_pixels.shape)\n",
        "np.savez_compressed('figs.npz', ob_pixels, wb_pixels)"
      ],
      "execution_count": null,
      "outputs": [
        {
          "output_type": "stream",
          "text": [
            "Loaded:  (2, 256, 256, 3) (2, 256, 256, 3)\n"
          ],
          "name": "stdout"
        }
      ]
    },
    {
      "cell_type": "markdown",
      "metadata": {
        "id": "8wa95UH3g03P",
        "colab_type": "text"
      },
      "source": [
        "Display the images as pairs by reloading the dataset"
      ]
    },
    {
      "cell_type": "code",
      "metadata": {
        "id": "Ehvm6A3QjZDF",
        "colab_type": "code",
        "colab": {
          "base_uri": "https://localhost:8080/",
          "height": 248
        },
        "outputId": "ae70b08a-7a73-4289-dddc-b71054c42813"
      },
      "source": [
        "data = np.load('figs.npz')\n",
        "iob_list, iwb_list = data['arr_0'], data['arr_1']\n",
        "# plot two pairs of images\n",
        "n_samples = 2\n",
        "for i in range(n_samples):\n",
        "\tplt.subplot(2, n_samples, 1 + i)\n",
        "\tplt.axis('off')\n",
        "\tplt.imshow(iob_list[i].astype('uint8'))\n",
        "for i in range(n_samples):\n",
        "\tplt.subplot(2, n_samples, 1 + n_samples + i)\n",
        "\tplt.axis('off')\n",
        "\tplt.imshow(iwb_list[i].astype('uint8'))\n",
        "plt.show()\n",
        "\n",
        "# plot only one image\n",
        "# plt.subplot(1,2,1)\n",
        "# plt.imshow(iob_list[0].astype('uint8'))\n",
        "# plt.subplot(1,2,2)\n",
        "# plt.imshow(iwb_list[0].astype('uint8'))\n",
        "# plt.show()"
      ],
      "execution_count": null,
      "outputs": [
        {
          "output_type": "display_data",
          "data": {
            "image/png": "[encoded data removed]",
            "text/plain": [
              "<Figure size 432x288 with 4 Axes>"
            ]
          },
          "metadata": {
            "tags": [],
            "needs_background": "light"
          }
        }
      ]
    },
    {
      "cell_type": "markdown",
      "metadata": {
        "id": "XIa6pGV9l7rQ",
        "colab_type": "text"
      },
      "source": [
        "# BUILDING THE DISCRIMINATOR"
      ]
    },
    {
      "cell_type": "code",
      "metadata": {
        "id": "vGthrdcknmLz",
        "colab_type": "code",
        "colab": {}
      },
      "source": [
        "from keras.initializers import RandomNormal\n",
        "from keras.models import Model, Input\n",
        "from keras.layers import Conv2D, Conv2DTranspose, LeakyReLU, Activation, BatchNormalization, Concatenate, Dropout\n",
        "from keras.optimizers import Adam"
      ],
      "execution_count": null,
      "outputs": []
    },
    {
      "cell_type": "markdown",
      "metadata": {
        "id": "B5upnsOSVKbm",
        "colab_type": "text"
      },
      "source": [
        "Let's start by building the discriminator. \n",
        "\n",
        "The discriminator is a model that will eventually take an image shape and performs **conditional-image** classification. In summary, it takes the source image (w/o bonds) and the target image (w bonds) and classify if the the target is the *real translation* of the source. In detail, it :\n",
        "- creates source/target inputs with same shape as image_shape\n",
        "- merges source/target by concatenation so that the input of the deep convulational neural network has dimensions 256*256 and 6 channels (3 for each source/target)\n",
        "- takes the merged input and makes it go through the CNN\n",
        "- compiles the output to create a model\n",
        "\n"
      ]
    },
    {
      "cell_type": "code",
      "metadata": {
        "id": "03JDwNmlmWyY",
        "colab_type": "code",
        "colab": {}
      },
      "source": [
        "def define_discriminator(image_shape):\n",
        "\t# weight initialization, source and target inputs and merge them\n",
        "\tinit = RandomNormal(stddev=0.02)\n",
        "\tin_source_image = Input(shape=image_shape)\n",
        "\tin_target_image = Input(shape=image_shape)\n",
        "\tmerged = Concatenate()([in_source_image, in_target_image])\n",
        "\t# C64\n",
        "\td = Conv2D(64, (4,4), strides=(2,2), padding='same', kernel_initializer=init)(merged)\n",
        "\td = LeakyReLU(alpha=0.2)(d)\n",
        "\t# C128\n",
        "\td = Conv2D(128, (4,4), strides=(2,2), padding='same', kernel_initializer=init)(d)\n",
        "\td = BatchNormalization()(d)\n",
        "\td = LeakyReLU(alpha=0.2)(d)\n",
        "\t# C256\n",
        "\td = Conv2D(256, (4,4), strides=(2,2), padding='same', kernel_initializer=init)(d)\n",
        "\td = BatchNormalization()(d)\n",
        "\td = LeakyReLU(alpha=0.2)(d)\n",
        "\t# C512\n",
        "\td = Conv2D(512, (4,4), strides=(2,2), padding='same', kernel_initializer=init)(d)\n",
        "\td = BatchNormalization()(d)\n",
        "\td = LeakyReLU(alpha=0.2)(d)\n",
        "\t# second last output layer\n",
        "\td = Conv2D(512, (4,4), padding='same', kernel_initializer=init)(d)\n",
        "\td = BatchNormalization()(d)\n",
        "\td = LeakyReLU(alpha=0.2)(d)\n",
        "\t# patch output\n",
        "\td = Conv2D(1, (4,4), padding='same', kernel_initializer=init)(d)\n",
        "\tpatch_out = Activation('sigmoid')(d)\n",
        "\t# define and compile model\n",
        "\tmodel = Model([in_source_image, in_target_image], patch_out)\n",
        "\topt = Adam(lr=0.0002, beta_1=0.5)\n",
        "\tmodel.compile(loss='binary_crossentropy', optimizer=opt, loss_weights=[0.5])\n",
        "\treturn model\n",
        "\n",
        "image_shape = data['arr_0'].shape[1:]\n",
        "m = define_discriminator(image_shape)\n",
        "# m.summary()"
      ],
      "execution_count": null,
      "outputs": []
    },
    {
      "cell_type": "markdown",
      "metadata": {
        "id": "kGluXbHxc-Mb",
        "colab_type": "text"
      },
      "source": [
        "The deep CNN consists of:\n",
        "- 1 layer with **64 filters** each of size (4,4) and strides (2,2). This means the input of the first layer is ?, 256,256,6 and the output is ?, 128, 128, 64 (where ? corresponds to the number of input images)\n",
        "- then, 1 layer with **128 filters**, same size and same stride. The output is then ?,64,64,128\n",
        "- then, 1  layer with **256 filters**, same size and same stride. The output is then ?,32,32,256\n",
        "- then, 1  layer with **512 filters**, same size and same stride. The output is then ?,16,16,512\n",
        "- then, another layer with **512 filters**, same size and same stride. The output is then ?,16,16,512\n",
        "- finally, 1 layer to reduce the output to ?, 16, 16 and **1 channel** which is then activated via *sigmoid*.\n",
        "\n",
        "The layers are connected by *Batch Normalization*, *ReLU function* in order to keep our channels **normalized**. \n",
        "\n",
        "Each layer of the CNN takes as arguments '*same padding*' in order to avoid any discrepency with the pixels on the borders. The weights of each layer are initially randomly distributed around 0. The key feature is that the weights update for the discriminator needs to be slow compared to the generator, hence the use of *binary cross entropy* with a weighting of *loss_weights=0.5* to be twice as slow. "
      ]
    },
    {
      "cell_type": "markdown",
      "metadata": {
        "id": "2nboTSxRow4v",
        "colab_type": "text"
      },
      "source": [
        "# BUILDING THE GENERATOR"
      ]
    },
    {
      "cell_type": "markdown",
      "metadata": {
        "id": "HlV49P5so0GE",
        "colab_type": "text"
      },
      "source": [
        "The generator consists of an **encoder section** and a **decoder section**. Each encoder is truly a CNN and is similar to the layers of the discriminator in that it reduces the input images but increases the number of channels. Meanwhile, the decoder expands the input images and takes as input both the output of the previous layer and the **output of corresponding contracting block**. This ensures the features learned during the encoding phase are re-used to reconstruct the image in the decoding one."
      ]
    },
    {
      "cell_type": "code",
      "metadata": {
        "id": "7YQjr9745V33",
        "colab_type": "code",
        "colab": {}
      },
      "source": [
        "def encoder_block(layer_in, n_filters, batchnorm=True):\n",
        "\tinit = RandomNormal(stddev=0.02)\n",
        "\tg = Conv2D(n_filters, (4,4), strides =(2,2), padding='same', kernel_initializer=init)(layer_in)\n",
        "\t# Batch normalization and ReLU functions\n",
        "\tif batchnorm:\n",
        "\t\tg = BatchNormalization()(g, training=True)\n",
        "\tg = LeakyReLU(alpha=0.2)(g)\n",
        "\treturn g\n",
        "\n",
        "def decoder_block(layer_in, skip_in, n_filters, dropout=True):\n",
        "\tinit = RandomNormal(stddev=0.02)\n",
        "\tg = Conv2DTranspose(n_filters, (4,4), strides=(2,2), padding='same', kernel_initializer=init)(layer_in)\n",
        "\t# add batch normalization\n",
        "\tg = BatchNormalization()(g, training=True)\n",
        "\t# conditionally add dropout\n",
        "\tif dropout:\n",
        "\t\tg = Dropout(0.5)(g, training=True)\n",
        "\t# merge with output of corresponding contracting block\n",
        "\tg = Concatenate()([g, skip_in])\n",
        "\t# relu activation\n",
        "\tg = Activation('relu')(g)\n",
        "\treturn g\n",
        "\n",
        "# in_image = Input(shape=image_shape)\n",
        "# out_image = encoder_block(in_image, 64, batchnorm=False)\n",
        "# out_image"
      ],
      "execution_count": null,
      "outputs": []
    },
    {
      "cell_type": "markdown",
      "metadata": {
        "id": "-j_zB9WIi7LF",
        "colab_type": "text"
      },
      "source": [
        "And we now build the **generator**. It consists of 7 encoding blocks, which reduces the image from (256,256,3) to (128,128,64) to (64,64,128) to (32,32,256) to (16,16,512) to (8,8,512) to (4,4,512) and finally to (2,2,512).\n",
        "\n",
        "The **bottle neck** section reduces the image to (1,1,512).\n",
        "\n",
        "The **decoder** then:\n",
        "- expands it back to (2,2,512) and concatenate with the corresponding encoder output image to produce a (2,2,1024) image. \n",
        "- The next decoder returns a (4,4,512) before concatenating with the corresponding encoder ouput image and to produce a (4,4,1024)\n",
        "- And so on to produce (8,8,512) and (8,8,1024),\n",
        "- then (16,16,512) and (16,16,1024),\n",
        "- then (32,32,256) and (32,32,512),\n",
        "- then (64,64,128) and (64,64,256),\n",
        "- and finally (128,128,64) and (128,128,64)\n",
        "\n",
        "The output layer consists of reducing the channels to 3 with images of size(256,256) identical to those that were fed to the generator.\n",
        "\n",
        "\n"
      ]
    },
    {
      "cell_type": "code",
      "metadata": {
        "id": "7Eftjj45EwLc",
        "colab_type": "code",
        "colab": {}
      },
      "source": [
        "def define_generator(image_shape=(256,256,3)):\n",
        "\tinit = RandomNormal(stddev=0.02)\n",
        "\tin_image = Input(shape=image_shape)\n",
        "\t# encoder model\n",
        "\te1 = encoder_block(in_image, 64, batchnorm=False)\n",
        "\te2 = encoder_block(e1, 128)\n",
        "\te3 = encoder_block(e2, 256)\n",
        "\te4 = encoder_block(e3, 512)\n",
        "\te5 = encoder_block(e4, 512)\n",
        "\te6 = encoder_block(e5, 512)\n",
        "\te7 = encoder_block(e6, 512)\n",
        "\t# bottleneck, no batch norm and relu\n",
        "\tb = Conv2D(512, (4,4), strides=(2,2), padding='same', kernel_initializer=init)(e7)\n",
        "\tb = Activation('relu')(b)\n",
        "\t# decoder model\n",
        "\td1 = decoder_block(b, e7, 512)\n",
        "\td2 = decoder_block(d1, e6, 512)\n",
        "\td3 = decoder_block(d2, e5, 512)\n",
        "\td4 = decoder_block(d3, e4, 512, dropout=False)\n",
        "\td5 = decoder_block(d4, e3, 256, dropout=False)\n",
        "\td6 = decoder_block(d5, e2, 128, dropout=False)\n",
        "\td7 = decoder_block(d6, e1, 64, dropout=False)\n",
        "\t# output and model\n",
        "\tg = Conv2DTranspose(3, (4,4), strides=(2,2), padding='same', kernel_initializer=init)(d7)\n",
        "\tout_image = Activation('tanh')(g)\n",
        "\tmodel = Model(in_image, out_image)\n",
        "\treturn model\n",
        "\n",
        "# m = define_generator(image_shape)\n",
        "# m.summary()"
      ],
      "execution_count": null,
      "outputs": []
    },
    {
      "cell_type": "markdown",
      "metadata": {
        "id": "WlXRMWoUv4Vo",
        "colab_type": "text"
      },
      "source": [
        "The **Generative Adverserial Network (GAN)** is a *composite model* which consists of both discriminator and generator at once. While the generator updates its weigths via the discriminator, the discriminator isn't trained and updates its weights \"*on its own*\". Note, the updates for the composite model are done with respect to two targets:\n",
        "- the output of the discriminator (to find if the generated images are real). This is done via cross entropy loss (*'binary_crossentropy'*) and forces large weight updates to the generator\n",
        "- the executed real translation of the image compared to the generated one (L1 Loss)\n"
      ]
    },
    {
      "cell_type": "code",
      "metadata": {
        "id": "amygcv15mCA-",
        "colab_type": "code",
        "colab": {}
      },
      "source": [
        "def define_gan(g_model, d_model, image_shape):\n",
        "\tin_source = Input(shape=image_shape)\n",
        "\t# discriminator not trainable\n",
        "\td_model.trainable = False\n",
        "\t# generate image from in_source\n",
        "\tgen_out = g_model(in_source)\n",
        "\t# pass both in_source and gen_out to discriminator\n",
        "\tdis_out = d_model([in_source, gen_out])\n",
        "\t# build and compile a model where source is input and classification and generated image are outputs\n",
        "\tmodel = Model(in_source, [dis_out, gen_out])\n",
        "\topt = Adam(lr=0.0002, beta_1=0.5)\n",
        "\tmodel.compile(loss=['binary_crossentropy', 'mae'], optimizer=opt, loss_weights=[1,100])\n",
        "\treturn model"
      ],
      "execution_count": null,
      "outputs": []
    },
    {
      "cell_type": "markdown",
      "metadata": {
        "id": "NSybTHQJpLu_",
        "colab_type": "text"
      },
      "source": [
        "# MORE FUNCTIONS"
      ]
    },
    {
      "cell_type": "markdown",
      "metadata": {
        "id": "AMeJGVap4scJ",
        "colab_type": "text"
      },
      "source": [
        "A function that load thes images from the compressed file (figs.npz) and that converts the RGB channel from [0 to 255] to [-1,1]"
      ]
    },
    {
      "cell_type": "code",
      "metadata": {
        "id": "AODn_qhPm7wg",
        "colab_type": "code",
        "colab": {}
      },
      "source": [
        "def load_real_samples(filename):\n",
        "\tdata = np.load(filename)\n",
        "\tX1, X2 = data['arr_0'], data['arr_1']\n",
        "\t# scale from [0,255] to [-1,1]\n",
        "\tX1 = (X1 - 127.5) / 127.5\n",
        "\tX2 = (X2 - 127.5) / 127.5\n",
        "\treturn [X1, X2]"
      ],
      "execution_count": null,
      "outputs": []
    },
    {
      "cell_type": "markdown",
      "metadata": {
        "id": "vB0483cd6bGl",
        "colab_type": "text"
      },
      "source": [
        "A function which generates real samples: a source image drawn at random and a target image drawn at random, both from the dataset. The function returns the two images mentioned and the prediction vector : a bunch 2D arrays of 1's where each array has size identical to the output of the discriminator, i.e. the size of the original images (256*256)"
      ]
    },
    {
      "cell_type": "code",
      "metadata": {
        "id": "6qbCFw5g6ab_",
        "colab_type": "code",
        "colab": {}
      },
      "source": [
        "def generate_real_samples(dataset, n_samples, patch_shape):\n",
        "\ttrainA, trainB = dataset\n",
        "\t# choose random images from dataset\n",
        "\tix = np.random.randint(0, trainA.shape[0], n_samples)\n",
        "\t# retrieve selected images\n",
        "\tX1, X2 = trainA[ix], trainB[ix]\n",
        "\t# generate 'real' class labels (1)\n",
        "\ty = np.ones((n_samples, patch_shape, patch_shape, 1))\n",
        "\treturn [X1,X2], y\n",
        "\n",
        "# dataset = load_real_samples('figs.npz')\n",
        "# g_model = define_generator(image_shape)\n",
        "# [X1real,X2real], y_real  = generate_real_samples(dataset, 2, g_model.output_shape[1])"
      ],
      "execution_count": null,
      "outputs": []
    },
    {
      "cell_type": "markdown",
      "metadata": {
        "id": "EUESwsiV9x7t",
        "colab_type": "text"
      },
      "source": [
        "A function which generates fake samples, where we pick the source output images from generate_real_samples and return the generated image and a 2D array of 0's"
      ]
    },
    {
      "cell_type": "code",
      "metadata": {
        "id": "yD5gMUgtoF8l",
        "colab_type": "code",
        "colab": {}
      },
      "source": [
        "def generate_fake_samples(g_model, samples, patch_shape):\n",
        "\tX = g_model.predict(samples)\n",
        "\t# create 'fake' class labels (0)\n",
        "\ty = np.zeros((len(X), patch_shape, patch_shape, 1))\n",
        "\treturn X, y\n",
        "\n",
        "# dataset = load_real_samples('figs.npz')\n",
        "# g_model = define_generator(image_shape)\n",
        "# [X1real,X2real], y_real  = generate_real_samples(dataset, 2, g_model.output_shape[1])\n",
        "# X1fake, y_fake = generate_fake_samples(define_generator(image_shape), X1real, g_model.output_shape[1])"
      ],
      "execution_count": null,
      "outputs": []
    },
    {
      "cell_type": "markdown",
      "metadata": {
        "id": "nnmM0ttlJvou",
        "colab_type": "text"
      },
      "source": [
        "A function that will allows us to evaluate the performance of the model through the iterations. In fact, at each step of the iterations:\n",
        "- the plot of some samples (the source, the generated and the target) is saved to the file name: 'plot_'+step+1 + '.png'. For example: \n",
        "- the model is saved to the file name: 'model_'+step+1'.h5'. For example:"
      ]
    },
    {
      "cell_type": "code",
      "metadata": {
        "id": "6nYTsNgw9Ppt",
        "colab_type": "code",
        "colab": {}
      },
      "source": [
        "def summarize_performance(step, g_model, dataset, n_samples=2):\n",
        "\t# select a sample of input images and its corresponding fake images\n",
        "\t[X_realA, X_realB], _ = generate_real_samples(dataset, n_samples, 1)\n",
        "\tX_fakeB, _ = generate_fake_samples(g_model, X_realA, 1)\n",
        "\t# scale all pixels from [-1,1] to [0,1]\n",
        "\tX_realA = (X_realA + 1) / 2.0\n",
        "\tX_realB = (X_realB + 1) / 2.0\n",
        "\tX_fakeB = (X_fakeB + 1) / 2.0\n",
        "\t# subplot real source, generated and target images\n",
        "\tfor i in range(n_samples):\n",
        "\t\tplt.subplot(3, n_samples, 1 + i)\n",
        "\t\tplt.axis('off')\n",
        "\t\tplt.imshow(X_realA[i])\n",
        "\tfor i in range(n_samples):\n",
        "\t\tplt.subplot(3, n_samples, 1 + n_samples + i)\n",
        "\t\tplt.axis('off')\n",
        "\t\tplt.imshow(X_fakeB[i])\n",
        "\tfor i in range(n_samples):\n",
        "\t\tplt.subplot(3, n_samples, 1 + n_samples*2 + i)\n",
        "\t\tplt.axis('off')\n",
        "\t\tplt.imshow(X_realB[i])\n",
        "\t# save plot to file\n",
        "\tfilename1 = 'plot_%06d.png' % (step+1)\n",
        "\tplt.savefig(filename1)\n",
        "\tplt.close()\n",
        "\t# save the generator model\n",
        "\tfilename2 = 'model_%06d.h5' % (step+1)\n",
        "\tg_model.save(filename2)\n",
        "\tprint('>Saved: %s and %s' % (filename1, filename2))"
      ],
      "execution_count": null,
      "outputs": []
    },
    {
      "cell_type": "markdown",
      "metadata": {
        "id": "vWFoD3XR9HT-",
        "colab_type": "text"
      },
      "source": [
        "# TRAINING THE DATA AND EXECUTING"
      ]
    },
    {
      "cell_type": "markdown",
      "metadata": {
        "id": "HYB2TMMzLLtI",
        "colab_type": "text"
      },
      "source": [
        "For the training set we choose a total of:\n",
        "- ... dataset of size\n",
        "- ... the number of patch (which is the size of each image and which should be equal to the output shape of the discriminator)\n",
        "- ... batches\n",
        "- ... epochs\n",
        "- and the number of batches per epoch\n",
        "\n",
        "We summarize the performances every ...\n"
      ]
    },
    {
      "cell_type": "code",
      "metadata": {
        "id": "BGGuEYynpTpL",
        "colab_type": "code",
        "colab": {}
      },
      "source": [
        "def train(d_model, g_model, gan_model, dataset, n_epochs=100, n_batch=1):\n",
        "\t# dataset\n",
        "\tn_patch = d_model.output_shape[1]\n",
        "\ttrainA, trainB = dataset\n",
        "\t# the epochs, the batch per epoch and the total number of training iterations\n",
        "\tbat_per_epo = int(len(trainA) / n_batch)\n",
        "\tn_steps = bat_per_epo * n_epochs\n",
        "\tfor i in range(n_steps):\n",
        "\t\t# select a batch of real samples\n",
        "\t\t[X_realA, X_realB], y_real = generate_real_samples(dataset, n_batch, n_patch)\n",
        "\t\t# generate a batch of fake samples\n",
        "\t\tX_fakeB, y_fake = generate_fake_samples(g_model, X_realA, n_patch)\n",
        "\t\t# update discriminator for real samples\n",
        "\t\td_loss1 = d_model.train_on_batch([X_realA, X_realB], y_real)\n",
        "\t\t# update discriminator for generated samples\n",
        "\t\td_loss2 = d_model.train_on_batch([X_realA, X_fakeB], y_fake)\n",
        "\t\t# update the generator\n",
        "\t\tg_loss, _, _ = gan_model.train_on_batch(X_realA, [y_real, X_realB])\n",
        "\t\t# summarize performance\n",
        "\t\t# print('>%d, d1[%.3f] d2[%.3f] g[%.3f]' % (i+1, d_loss1, d_loss2, g_loss))\n",
        "\t\tif (i+1) % (bat_per_epo * 10) == 0:\n",
        "\t\t\tsummarize_performance(i, g_model, dataset)"
      ],
      "execution_count": null,
      "outputs": []
    },
    {
      "cell_type": "code",
      "metadata": {
        "id": "D7AGAM_Wq3W8",
        "colab_type": "code",
        "colab": {
          "base_uri": "https://localhost:8080/",
          "height": 204
        },
        "outputId": "2e672cbe-9736-40c7-d3db-8f638f35a337"
      },
      "source": [
        "# the data\n",
        "dataset = load_real_samples('figs.npz')\n",
        "print('Loaded', dataset[0].shape, dataset[1].shape)\n",
        "image_shape = dataset[0].shape[1:]\n",
        "# the models\n",
        "d_model = define_discriminator(image_shape)\n",
        "g_model = define_generator(image_shape)\n",
        "gan_model = define_gan(g_model, d_model, image_shape)\n",
        "\n",
        "train(d_model, g_model, gan_model, dataset)"
      ],
      "execution_count": null,
      "outputs": [
        {
          "output_type": "stream",
          "text": [
            "Loaded (2, 256, 256, 3) (2, 256, 256, 3)\n",
            ">Saved: plot_000020.png and model_000020.h5\n",
            ">Saved: plot_000040.png and model_000040.h5\n",
            ">Saved: plot_000060.png and model_000060.h5\n",
            ">Saved: plot_000080.png and model_000080.h5\n",
            ">Saved: plot_000100.png and model_000100.h5\n",
            ">Saved: plot_000120.png and model_000120.h5\n",
            ">Saved: plot_000140.png and model_000140.h5\n",
            ">Saved: plot_000160.png and model_000160.h5\n",
            ">Saved: plot_000180.png and model_000180.h5\n",
            ">Saved: plot_000200.png and model_000200.h5\n"
          ],
          "name": "stdout"
        }
      ]
    },
    {
      "cell_type": "code",
      "metadata": {
        "id": "tjqyrmZ_Qx_S",
        "colab_type": "code",
        "colab": {
          "base_uri": "https://localhost:8080/",
          "height": 156
        },
        "outputId": "f9bc8d70-bdd8-4a58-f8a4-b3b76fa7ceba"
      },
      "source": [
        " model.save('/content/drive/My Drive/Colab Notebooks/Capstone 2/model1')"
      ],
      "execution_count": null,
      "outputs": [
        {
          "output_type": "stream",
          "text": [
            "WARNING:tensorflow:From /usr/local/lib/python3.6/dist-packages/tensorflow/python/training/tracking/tracking.py:111: Model.state_updates (from tensorflow.python.keras.engine.training) is deprecated and will be removed in a future version.\n",
            "Instructions for updating:\n",
            "This property should not be used in TensorFlow 2.0, as updates are applied automatically.\n",
            "WARNING:tensorflow:From /usr/local/lib/python3.6/dist-packages/tensorflow/python/training/tracking/tracking.py:111: Layer.updates (from tensorflow.python.keras.engine.base_layer) is deprecated and will be removed in a future version.\n",
            "Instructions for updating:\n",
            "This property should not be used in TensorFlow 2.0, as updates are applied automatically.\n",
            "INFO:tensorflow:Assets written to: /content/drive/My Drive/Colab Notebooks/Capstone 2/model1/assets\n"
          ],
          "name": "stdout"
        }
      ]
    },
    {
      "cell_type": "markdown",
      "metadata": {
        "id": "Yy5omgtbNGyA",
        "colab_type": "text"
      },
      "source": [
        "# VERIFICATION"
      ]
    },
    {
      "cell_type": "markdown",
      "metadata": {
        "id": "iAED7xdxQH_-",
        "colab_type": "text"
      },
      "source": [
        "Let's now load a model and check what a generated picture from the training set looks like\n"
      ]
    },
    {
      "cell_type": "code",
      "metadata": {
        "id": "XM3HQeHE9bk_",
        "colab_type": "code",
        "colab": {
          "base_uri": "https://localhost:8080/",
          "height": 485
        },
        "outputId": "6a9a8c73-406b-4186-8d22-e440008a5b84"
      },
      "source": [
        "from keras.models import load_model\n",
        "\n",
        "# plot source, generated and target images\n",
        "def plot_images(src_img, gen_img, tar_img):\n",
        "\timages = np.vstack((src_img, gen_img, tar_img))\n",
        "\t# scale from [-1,1] to [0,1]\n",
        "\timages = (images + 1) / 2.0\n",
        "\ttitles = ['Source', 'Generated', 'Expected']\n",
        "\tfor i in range(len(images)):\n",
        "\t\tplt.subplot(1, 3, 1 + i)\n",
        "\t\tplt.axis('off')\n",
        "\t\tplt.imshow(images[i])\n",
        "\t\tplt.title(titles[i])\n",
        "\tplt.show()\n",
        "\n",
        "# load images and model\n",
        "[X1, X2] = load_real_samples('figs.npz')\n",
        "print('Loaded', X1.shape, X2.shape)\n",
        "#model = load_model('model_000200.h5')\n",
        "model = load_model('/content/drive/My Drive/Colab Notebooks/Capstone 2/model1')\n",
        "\n",
        "# select a random image from the set\n",
        "ix = np.random.randint(0, len(X1), 1)\n",
        "src_image, tar_image = X1[ix], X2[ix]\n",
        "gen_image = model.predict(src_image)\n",
        "plot_images(src_image, gen_image, tar_image)\n",
        "\n",
        "plt.imshow(gen_image[0])#.astype('uint8'))\n",
        "plt.show()"
      ],
      "execution_count": null,
      "outputs": [
        {
          "output_type": "stream",
          "text": [
            "Loaded (2, 256, 256, 3) (2, 256, 256, 3)\n",
            "WARNING:tensorflow:No training configuration found in save file, so the model was *not* compiled. Compile it manually.\n",
            "WARNING:tensorflow:5 out of the last 11 calls to <function Model.make_predict_function.<locals>.predict_function at 0x7f6f2b7d2048> triggered tf.function retracing. Tracing is expensive and the excessive number of tracings could be due to (1) creating @tf.function repeatedly in a loop, (2) passing tensors with different shapes, (3) passing Python objects instead of tensors. For (1), please define your @tf.function outside of the loop. For (2), @tf.function has experimental_relax_shapes=True option that relaxes argument shapes that can avoid unnecessary retracing. For (3), please refer to https://www.tensorflow.org/tutorials/customization/performance#python_or_tensor_args and https://www.tensorflow.org/api_docs/python/tf/function for  more details.\n"
          ],
          "name": "stdout"
        },
        {
          "output_type": "display_data",
          "data": {
            "image/png": "[encoded data removed]",
            "text/plain": [
              "<Figure size 432x288 with 3 Axes>"
            ]
          },
          "metadata": {
            "tags": [],
            "needs_background": "light"
          }
        },
        {
          "output_type": "stream",
          "text": [
            "Clipping input data to the valid range for imshow with RGB data ([0..1] for floats or [0..255] for integers).\n"
          ],
          "name": "stderr"
        },
        {
          "output_type": "display_data",
          "data": {
            "image/png": "[encoded data removed]",
            "text/plain": [
              "<Figure size 432x288 with 1 Axes>"
            ]
          },
          "metadata": {
            "tags": [],
            "needs_background": "light"
          }
        }
      ]
    },
    {
      "cell_type": "markdown",
      "metadata": {
        "id": "NtvpkDnDWgLS",
        "colab_type": "text"
      },
      "source": [
        "Load it against an image from the testing data, one data is similar to the training data and one that is totally different"
      ]
    },
    {
      "cell_type": "code",
      "metadata": {
        "id": "kClpHh6ejCXn",
        "colab_type": "code",
        "colab": {
          "base_uri": "https://localhost:8080/",
          "height": 183
        },
        "outputId": "148a0988-4e9d-4cda-cbe5-484a0a70e462"
      },
      "source": [
        "def load_image(filename, size=(256,256)):\n",
        "\tpixels = load_img(filename, target_size=size)\n",
        "\tpixels = img_to_array(pixels)\n",
        "\tpixels = (pixels - 127.5) / 127.5\n",
        "\t# reshape to 1 sample\n",
        "\tpixels = np.expand_dims(pixels, 0)\n",
        "\treturn pixels\n",
        "\n",
        "def plot_verif_images(src_imgs):\n",
        "\tfor i in range(len(src_imgs)):\n",
        "\t\tgen_image = model.predict(src_imgs[i])\n",
        "\t\tgen_image = (gen_image + 1) / 2.0\n",
        "\t\tplt.subplot(1, 2, 1 + i)\n",
        "\t\tplt.axis('off')\n",
        "\t\tplt.imshow(gen_image[0])\n",
        "\tplt.show()\n",
        "\n",
        "# load images and model \n",
        "src_image_good = load_image(path+'testing_good.jpg')\n",
        "src_image_bad = load_image(path+'testing_bad.jpg')\n",
        "src_images = [src_image_good, src_image_bad]\n",
        "\n",
        "plot_verif_images(src_images)"
      ],
      "execution_count": null,
      "outputs": [
        {
          "output_type": "display_data",
          "data": {
            "image/png": "[encoded data removed]",
            "text/plain": [
              "<Figure size 432x288 with 2 Axes>"
            ]
          },
          "metadata": {
            "tags": [],
            "needs_background": "light"
          }
        }
      ]
    },
    {
      "cell_type": "code",
      "metadata": {
        "id": "2K7QL56OY2FZ",
        "colab_type": "code",
        "colab": {}
      },
      "source": [
        ""
      ],
      "execution_count": null,
      "outputs": []
    }
  ]
}